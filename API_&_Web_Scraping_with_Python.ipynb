{
  "nbformat": 4,
  "nbformat_minor": 0,
  "metadata": {
    "colab": {
      "provenance": [],
      "collapsed_sections": [
        "4pBO-QFFdtmN",
        "6-MrkpoLPyp0",
        "TUnz9Jg1dqc7",
        "KWXODUOddw54",
        "LrEvKr_pd4p8",
        "zwer_dC7d8uB"
      ],
      "toc_visible": true
    },
    "kernelspec": {
      "name": "python3",
      "display_name": "Python 3"
    },
    "language_info": {
      "name": "python"
    }
  },
  "cells": [
    {
      "cell_type": "markdown",
      "source": [
        "# Working with API's"
      ],
      "metadata": {
        "id": "4pBO-QFFdtmN"
      }
    },
    {
      "cell_type": "markdown",
      "source": [
        "An **API** (application programming interface) is a collection of tools that allows different applications to interact. Some of the biggest names on the web (like Reddit, Spotify, Twitter, and Facebook) offer free APIs to make the valuable data on their servers available.\n",
        "\n",
        "Organizations host their APIs on **web servers**. When you type `www.google.com` in your browser's address bar, your computer is actually asking the `www.google.com` server for a web page; the server returns the page to your browser.\n",
        "\n",
        "APIs work much the same way, except instead of your web browser asking for a web page, your **program asks for data**. The API usually **returns data in JavaScript Object Notation (JSON) format**.\n",
        "\n",
        "We make an API request to the web server with the data we want. The server then replies and sends it to us. In Python, we do this using the `requests` library."
      ],
      "metadata": {
        "id": "B-VPKxlQLCsj"
      }
    },
    {
      "cell_type": "markdown",
      "source": [
        "## GET Request"
      ],
      "metadata": {
        "id": "6-MrkpoLPyp0"
      }
    },
    {
      "cell_type": "markdown",
      "source": [
        "There are many different types of requests. The most common is a `GET` request, which we **use to retrieve data**.\n",
        "\n",
        "An **endpoint** is a server route for retrieving specific data from an API. For example, the `/comments` endpoint on the reddit API might retrieve information about comments, while the `/users` endpoint might retrieve data about users.\n",
        "\n",
        "The server will send a **status code indicating the success or failure of request**. You can get the status code of the response from `response.status_code`."
      ],
      "metadata": {
        "id": "LNffJI8cLIuC"
      }
    },
    {
      "cell_type": "code",
      "source": [
        "# Make a get request to get the latest position of the ISS from the OpenNotify API.\n",
        "response = requests.get(\"http://api.open-notify.org/iss-now.json\")\n",
        "status_code = response.status_code\n",
        "status_code"
      ],
      "metadata": {
        "id": "MGaNxa7dQwCa"
      },
      "execution_count": null,
      "outputs": []
    },
    {
      "cell_type": "markdown",
      "source": [
        "200"
      ],
      "metadata": {
        "id": "I3N1KyaYQx4X"
      }
    },
    {
      "cell_type": "markdown",
      "source": [
        "The request we just made returned a status code of `200`. Web servers return status codes every time they receive an API request. A status code reports what happened with a request. Here are some codes that are relevant to `GET` requests:\n",
        "\n",
        "1. `200` — Everything went okay, and the server returned a result (if any).\n",
        "2. `301` — The server is redirecting you to a different endpoint. This can happen when a company switches domain names, or when an endpoint's name has changed.\n",
        "3. `401` — The server thinks you're not authenticated. This happens when you don't send the right credentials to access an API.\n",
        "4. `400` — The server thinks you made a bad request. This can happen when you don't send the information that the API requires to process your request (among other things).\n",
        "5. `403` — The resource you're trying to access is forbidden, and you don't have the right permissions to see it.\n",
        "6. `404` — The server didn't find the resource you tried to access."
      ],
      "metadata": {
        "id": "E-PVNRDBLIwj"
      }
    },
    {
      "cell_type": "markdown",
      "source": [
        "Making a GET request to http://api.open-notify.org/iss-pass.json"
      ],
      "metadata": {
        "id": "-7g96tXRLIym"
      }
    },
    {
      "cell_type": "code",
      "source": [
        "request = requests.get('http://api.open-notify.org/iss-pass')\n",
        "status_code = request.status_code"
      ],
      "metadata": {
        "id": "DJ69Osq6Vgsz"
      },
      "execution_count": null,
      "outputs": []
    },
    {
      "cell_type": "markdown",
      "source": [
        "404\n",
        "\n",
        "`iss-pass` wasn't a valid endpoint, so the API's server sent us a 404 status code in response. We forgot to add .json at the end"
      ],
      "metadata": {
        "id": "ve81id7YVjXh"
      }
    },
    {
      "cell_type": "code",
      "source": [
        "request = requests.get('http://api.open-notify.org/iss-pass.json')\n",
        "status_code = request.status_code"
      ],
      "metadata": {
        "id": "ZYUpK0dpVsji"
      },
      "execution_count": null,
      "outputs": []
    },
    {
      "cell_type": "markdown",
      "source": [
        "400"
      ],
      "metadata": {
        "id": "szMICwrSdmBm"
      }
    },
    {
      "cell_type": "markdown",
      "source": [
        "## response.content"
      ],
      "metadata": {
        "id": "TUnz9Jg1dqc7"
      }
    },
    {
      "cell_type": "markdown",
      "source": [
        "In the last example, we got a 400 status code, which indicates a bad request. If we look at the documentation for the OpenNotify API, we see that the ISS Pass endpoint requires two parameters.\n",
        "\n",
        "The ISS Pass endpoint tells us when the ISS will pass over a given location on the Earth.\n",
        "\n",
        "To request this information, we need to pass the coordinates for a specific location to the API. We do this by passing two parameters: latitude and longitude.\n",
        "\n",
        "To do this, we can add an optional keyword argument, `params`, to our `request`. In this case, we need to pass in two parameters:\n",
        "\n",
        "1. `lat` — the latitude of the location\n",
        "2. `lon` — the longitude of the location\n",
        "\n",
        "We can make a dictionary that contains these parameters, and then pass them into the function.\n",
        "\n",
        "`response.content`: To retrieve the content of the response"
      ],
      "metadata": {
        "id": "s3FQAbDkLI1-"
      }
    },
    {
      "cell_type": "code",
      "source": [
        "import requests\n",
        "\n",
        "parameters = {\"lat\": 37.78 , \"lon\": -122.41}\n",
        "\n",
        "# Make a get request with the parameters.\n",
        "response = requests.get(\"http://api.open-notify.org/iss-pass.json\", params=parameters)\n",
        "\n",
        "content = response.content\n",
        "\n",
        "print(content)"
      ],
      "metadata": {
        "id": "snD5PQSSV_9N"
      },
      "execution_count": null,
      "outputs": []
    },
    {
      "cell_type": "markdown",
      "source": [
        "b'{\\n  \"message\": \"success\", \\n  \"request\": {\\n    \"altitude\": 100, \\n    \"datetime\": 1441417753, \\n    \"latitude\": 37.78, \\n    \"longitude\": -122.41, \\n    \"passes\": 5\\n  }, \\n  \"response\": [\\n    {\\n      \"duration\": 369, \\n      \"risetime\": 1441456672\\n    }, \\n    {\\n      \"duration\": 626, \\n      \"risetime\": 1441462284\\n    }, \\n    {\\n      \"duration\": 581, \\n      \"risetime\": 1441468104\\n    }, \\n    {\\n      \"duration\": 482, \\n      \"risetime\": 1441474000\\n    }, \\n    {\\n      \"duration\": 509, \\n      \"risetime\": 1441479853\\n    }\\n  ]\\n}'"
      ],
      "metadata": {
        "id": "Fb9r64slXDhc"
      }
    },
    {
      "cell_type": "markdown",
      "source": [
        "## json Library"
      ],
      "metadata": {
        "id": "KWXODUOddw54"
      }
    },
    {
      "cell_type": "markdown",
      "source": [
        "The above info is a `string`. Strings are how we pass information back and forth through APIs, but it's not easy to get the information we want out of them.\n",
        "\n",
        "JSON format encodes data structures like lists and dictionaries as strings to ensure that machines can read them easily. **JSON is the main format for sending and receiving data through APIs.**\n",
        "\n",
        "Python offers great support for JSON through its **`json` library**. We can **convert lists and dictionaries to JSON, and vice versa**. The above result is a dictionary encoded as a string in JSON format.\n",
        "\n",
        "The JSON library has two main methods:\n",
        "\n",
        "1. `dumps` — takes in a Python object and converts it to a string\n",
        "2. `loads` — takes in a JSON string and converts it to a Python object"
      ],
      "metadata": {
        "id": "cL_4ldyDXLs8"
      }
    },
    {
      "cell_type": "code",
      "source": [
        "# Make a list of fast food chains.\n",
        "best_food_chains = [\"Taco Bell\", \"Shake Shack\", \"Chipotle\"]\n",
        "print(type(best_food_chains))\n",
        "\n",
        "# Import the JSON library.\n",
        "import json\n",
        "\n",
        "# Use json.dumps to convert best_food_chains to a string.\n",
        "best_food_chains_string = json.dumps(best_food_chains)\n",
        "print(type(best_food_chains_string))\n",
        "\n",
        "# Convert best_food_chains_string back to a list.\n",
        "print(type(json.loads(best_food_chains_string)))"
      ],
      "metadata": {
        "colab": {
          "base_uri": "https://localhost:8080/"
        },
        "id": "fn8lE-cKX9Zh",
        "outputId": "e212b145-81a6-4eb3-ffcc-d56b2735dc45"
      },
      "execution_count": null,
      "outputs": [
        {
          "output_type": "stream",
          "name": "stdout",
          "text": [
            "<class 'list'>\n",
            "<class 'str'>\n",
            "<class 'list'>\n"
          ]
        }
      ]
    },
    {
      "cell_type": "code",
      "source": [
        "# Make a dictionary\n",
        "fast_food_franchise = {\n",
        "    \"Subway\": 24722,\n",
        "    \"McDonalds\": 14098,\n",
        "    \"Starbucks\": 10821,\n",
        "    \"Pizza Hut\": 7600\n",
        "}\n",
        "\n",
        "# We can also dump a dictionary to a string and load it.\n",
        "fast_food_franchise_string = json.dumps(fast_food_franchise)\n",
        "print(type(fast_food_franchise_string))\n",
        "\n",
        "fast_food_franchise_2 = json.loads(fast_food_franchise_string)\n",
        "print(type(fast_food_franchise_2))"
      ],
      "metadata": {
        "colab": {
          "base_uri": "https://localhost:8080/"
        },
        "id": "JI4oNvHeYAcJ",
        "outputId": "ec78eb55-6948-4c28-c684-07043a481dfe"
      },
      "execution_count": null,
      "outputs": [
        {
          "output_type": "stream",
          "name": "stdout",
          "text": [
            "<class 'str'>\n",
            "<class 'dict'>\n"
          ]
        }
      ]
    },
    {
      "cell_type": "markdown",
      "source": [
        "We can get the **content of a response as a Python object** by using the `.json()` method on the response; `dict` type response, otherwise returns as a string using `.content`"
      ],
      "metadata": {
        "id": "mE_J4x_aXLvc"
      }
    },
    {
      "cell_type": "code",
      "source": [
        "parameters = {\"lat\": 37.78, \"lon\": -122.41}\n",
        "response = requests.get(\"http://api.open-notify.org/iss-pass.json\", params=parameters)\n",
        "\n",
        "# Get the response data as a Python object.  Verify that it's a dictionary.\n",
        "json_data = response.json()\n",
        "print(type(json_data))\n",
        "print(json_data)"
      ],
      "metadata": {
        "id": "syoacsU6Yc_k"
      },
      "execution_count": null,
      "outputs": []
    },
    {
      "cell_type": "markdown",
      "source": [
        "<class 'dict'>\n",
        "\n",
        "{'request': {'altitude': 100, 'latitude': 37.78, 'passes': 5, 'datetime': 1441417753, 'longitude': -122.41},\n",
        "\n",
        "'message': 'success',\n",
        "\n",
        "'response': [{'risetime': 1441456672, 'duration': 369},\n",
        "{'risetime': 1441462284, 'duration': 626}, {'risetime': 1441468104, 'duration': 581}, {'risetime': 1441474000, 'duration': 482}, {'risetime': 1441479853, 'duration': 509}]}"
      ],
      "metadata": {
        "id": "Mbsr6cuHXLxg"
      }
    },
    {
      "cell_type": "markdown",
      "source": [
        "To get the duration value of the ISS's first pass over San Francisco:"
      ],
      "metadata": {
        "id": "A1yYNjz0XLzc"
      }
    },
    {
      "cell_type": "code",
      "source": [
        "json_data['response'][0]['duration']"
      ],
      "metadata": {
        "id": "A2W6ED30ZNLe"
      },
      "execution_count": null,
      "outputs": []
    },
    {
      "cell_type": "markdown",
      "source": [
        "## response.headers"
      ],
      "metadata": {
        "id": "LrEvKr_pd4p8"
      }
    },
    {
      "cell_type": "markdown",
      "source": [
        "The server sends more than a status code and the data when it generates a response. It also sends **metadata** with **information on how it generated the data and how to decode it**. This information appears in the *response headers*. We can access it using the `.headers` property.\n",
        "\n",
        "The headers will appear as a `dictionary`. For now, the `content-type` within the headers is the most important key. It **tells us the format of the response, and how to decode it**. For the OpenNotify API, the format is JSON, so we were able to decode it with JSON earlier."
      ],
      "metadata": {
        "id": "I96DUFueZxie"
      }
    },
    {
      "cell_type": "code",
      "source": [
        "# Headers is a dictionary\n",
        "print(response.headers)"
      ],
      "metadata": {
        "id": "80J8r_HQaZYJ"
      },
      "execution_count": null,
      "outputs": []
    },
    {
      "cell_type": "markdown",
      "source": [
        "{'connection': 'keep-alive', 'server': 'gunicorn/19.3.0', 'via': '1.1 vegur', 'date': 'Sat, 05 Sep 2015 01:49:13 GMT', 'content-length': '520', 'content-type': 'application/json'}"
      ],
      "metadata": {
        "id": "Xg6hZQIRacWL"
      }
    },
    {
      "cell_type": "code",
      "source": [
        "header = response.headers\n",
        "content_type = header['content-type']"
      ],
      "metadata": {
        "id": "zR2YPPC2aak4"
      },
      "execution_count": null,
      "outputs": []
    },
    {
      "cell_type": "markdown",
      "source": [
        "application/json"
      ],
      "metadata": {
        "id": "tVDe8GvlafXf"
      }
    },
    {
      "cell_type": "markdown",
      "source": [
        "## Example"
      ],
      "metadata": {
        "id": "zwer_dC7d8uB"
      }
    },
    {
      "cell_type": "markdown",
      "source": [
        "OpenNotify has one more API endpoint, `astros.json`. It tells us how many people are currently in space. To find the number of people currently in space:"
      ],
      "metadata": {
        "id": "2QwBD4eiapA-"
      }
    },
    {
      "cell_type": "code",
      "source": [
        "request = requests.get(\"http://api.open-notify.org/astros.json\")\n",
        "info = request.json()\n",
        "print(info)"
      ],
      "metadata": {
        "colab": {
          "base_uri": "https://localhost:8080/"
        },
        "id": "R_uWRst4cHkP",
        "outputId": "424602c8-4008-469e-ba42-4187f1a16984"
      },
      "execution_count": null,
      "outputs": [
        {
          "output_type": "stream",
          "name": "stdout",
          "text": [
            "{'number': 10, 'people': [{'name': 'Sergey Prokopyev', 'craft': 'ISS'}, {'name': 'Dmitry Petelin', 'craft': 'ISS'}, {'name': 'Frank Rubio', 'craft': 'ISS'}, {'name': 'Stephen Bowen', 'craft': 'ISS'}, {'name': 'Warren Hoburg', 'craft': 'ISS'}, {'name': 'Sultan Alneyadi', 'craft': 'ISS'}, {'name': 'Andrey Fedyaev', 'craft': 'ISS'}, {'name': 'Jing Haiping', 'craft': 'Tiangong'}, {'name': 'Gui Haichow', 'craft': 'Tiangong'}, {'name': 'Zhu Yangzhu', 'craft': 'Tiangong'}], 'message': 'success'}\n"
          ]
        }
      ]
    },
    {
      "cell_type": "code",
      "source": [
        "in_space_count = info['number']\n",
        "in_space_count"
      ],
      "metadata": {
        "colab": {
          "base_uri": "https://localhost:8080/"
        },
        "id": "IFmeLJCVcLKn",
        "outputId": "f25eaf29-f8b6-41c0-b77f-923399d0da95"
      },
      "execution_count": null,
      "outputs": [
        {
          "output_type": "execute_result",
          "data": {
            "text/plain": [
              "10"
            ]
          },
          "metadata": {},
          "execution_count": 8
        }
      ]
    },
    {
      "cell_type": "markdown",
      "source": [
        "# Intermediate API's"
      ],
      "metadata": {
        "id": "-v2D6mxccJgH"
      }
    },
    {
      "cell_type": "markdown",
      "source": [
        "Previously used API's didn't require authentication, but most do. Imagine that you're using the reddit API to pull a list of your private messages. It would be a huge privacy breach for reddit to give that information to anyone, so requiring authentication makes sense.\n",
        "\n",
        "APIs also use authentication for rate limiting. Developers typically use APIs to build interesting applications or services. To make sure an API is available and responsive for all users, it will prevent you from making too many requests too quickly. We call this restriction rate limiting."
      ],
      "metadata": {
        "id": "4SvelsOkdYWE"
      }
    },
    {
      "cell_type": "markdown",
      "source": [
        "# Web Scraping"
      ],
      "metadata": {
        "id": "9ld_6tLzcMlu"
      }
    },
    {
      "cell_type": "markdown",
      "source": [
        "One way to access the data without waiting for the provider to create an API on the internet is to use a technique called web scraping.\n",
        "\n",
        "Web scraping loads a web page into Python so we can extract the information we want. We can then work with the data using standard analysis tools like pandas and numpy.\n",
        "\n",
        "We'll use the `requests` library often as we learn about web scraping - library enables us to **download a web page**\n",
        "\n",
        "We'll also use the `beautifulsoup` library to **extract the relevant parts of the web page.**"
      ],
      "metadata": {
        "id": "lWONXjUhcUxT"
      }
    },
    {
      "cell_type": "markdown",
      "source": [
        "## Web Page Structure"
      ],
      "metadata": {
        "id": "M0ssgsygco-V"
      }
    },
    {
      "cell_type": "markdown",
      "source": [
        "Web pages use **HyperText Markup Language (HTML)**. HTML isn't a programming language like Python. It's a markup language with its own syntax and rules. When a web browser like Chrome or Firefox downloads a web page, it reads the HTML to determine how to render and display it.\n",
        "\n",
        "Example:  http://dataquestio.github.io/web-scraping-pages/simple.html"
      ],
      "metadata": {
        "id": "zzK74FsPcpmp"
      }
    },
    {
      "cell_type": "markdown",
      "source": [
        "![image.png](data:image/png;base64,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)"
      ],
      "metadata": {
        "id": "aeZ0Sbmc0xhm"
      }
    },
    {
      "cell_type": "markdown",
      "source": [
        "HTML documents contain a few major sections. The **head** section contains information that's useful to the web browser that's rendering the page. (The user doesn't see it.) The **body** section contains the bulk of the content you will see in your browser.\n",
        "\n",
        "Different tags have different purposes. For example, the `title` tag tells the browser what to display at the top of your tab. The `p` tag indicates that the content inside it is a single paragraph."
      ],
      "metadata": {
        "id": "JOlGKbS_1exd"
      }
    },
    {
      "cell_type": "markdown",
      "source": [
        "HTML consists of tags. We open a tag like this:\n",
        "\n",
        "`<p>`\n",
        "\n",
        "We close a tag like this:\n",
        "\n",
        "`</p>`\n",
        "\n",
        "**Anything in between the opening and closing of a tag is the content of that tag.**\n",
        "\n",
        "We can nest tags to create complex formatting rules. Here's an example:\n",
        "\n",
        "![image.png](data:image/png;base64,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)"
      ],
      "metadata": {
        "id": "Z1KUhu8i1ACG"
      }
    },
    {
      "cell_type": "code",
      "execution_count": null,
      "metadata": {
        "colab": {
          "base_uri": "https://localhost:8080/"
        },
        "id": "80an3i0G8h5V",
        "outputId": "63723963-91a4-4e53-cca5-5611027849ca"
      },
      "outputs": [
        {
          "output_type": "stream",
          "name": "stdout",
          "text": [
            "<class 'bytes'>\n",
            "b'<!DOCTYPE html>\\n<html>\\n    <head>\\n        <title>A simple example page</title>\\n    </head>\\n    <body>\\n        <p>Here is some simple content for this page.</p>\\n    </body>\\n</html>'\n"
          ]
        }
      ],
      "source": [
        "import requests\n",
        "\n",
        "response = requests.get('http://dataquestio.github.io/web-scraping-pages/simple.html')\n",
        "content = response.content\n",
        "print(type(content))\n",
        "print(content)"
      ]
    },
    {
      "cell_type": "markdown",
      "source": [
        "## BeautifulSoup"
      ],
      "metadata": {
        "id": "Z5tdtm1m2-yr"
      }
    },
    {
      "cell_type": "markdown",
      "source": [
        "We'll use the `BeautifulSoup` library to parse the web page with Python. This library **allows us to extract tags from an HTML document.**\n",
        "\n",
        "We can think of **HTML documents** as \"**trees**,\" and the **nested tags** as \"**branches**\" (similar to a family tree). **BeautifulSoup works the same way.**\n",
        "If we look at this page, for example, the root of the \"tree\" is the html tag:\n",
        "\n",
        "![image.png](data:image/png;base64,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)"
      ],
      "metadata": {
        "id": "ULmLY34O2iRa"
      }
    },
    {
      "cell_type": "markdown",
      "source": [
        "### Tag Property"
      ],
      "metadata": {
        "id": "4OFd6rpY4avi"
      }
    },
    {
      "cell_type": "markdown",
      "source": [
        "The html tag contains two \"branches,\" `head` and `body`. `head` contains one \"branch\", `title` and `body` contains one branch, `p`. Drilling down through these multiple branches is one way to parse a web page.\n",
        "\n",
        "To extract the text inside the `p` tag, we need to get the body element, then the `p` element, and then finally the text inside the `p` element."
      ],
      "metadata": {
        "id": "Zxw5HLWV2zDW"
      }
    },
    {
      "cell_type": "code",
      "source": [
        "from bs4 import BeautifulSoup\n",
        "\n",
        "# Initialize the parser, and pass in the content we grabbed earlier.\n",
        "parser = BeautifulSoup(content, 'html.parser')\n",
        "\n",
        "# Get the body tag from the document.\n",
        "# Since we passed in the top level of the document to the parser, we need to pick a branch off of the root.\n",
        "# With BeautifulSoup, we can access branches by using tag types as attributes.\n",
        "# parser has two branches: head & body\n",
        "body = parser.body\n",
        "\n",
        "# Get the p tag from the body.\n",
        "p = body.p\n",
        "\n",
        "# Print the text inside the p tag.\n",
        "# Text is a property that gets the inside text of a tag.\n",
        "print(p.text)"
      ],
      "metadata": {
        "colab": {
          "base_uri": "https://localhost:8080/"
        },
        "id": "kPggpZin2uue",
        "outputId": "941544e0-a10a-4732-bcd7-a384ae919458"
      },
      "execution_count": null,
      "outputs": [
        {
          "output_type": "stream",
          "name": "stdout",
          "text": [
            "Here is some simple content for this page.\n"
          ]
        }
      ]
    },
    {
      "cell_type": "code",
      "source": [
        "parser.body.p.text"
      ],
      "metadata": {
        "colab": {
          "base_uri": "https://localhost:8080/",
          "height": 36
        },
        "id": "qocwHvof39Yz",
        "outputId": "79c01d96-3b10-49be-e6ae-c113a95cc342"
      },
      "execution_count": null,
      "outputs": [
        {
          "output_type": "execute_result",
          "data": {
            "text/plain": [
              "'Here is some simple content for this page.'"
            ],
            "application/vnd.google.colaboratory.intrinsic+json": {
              "type": "string"
            }
          },
          "metadata": {},
          "execution_count": 14
        }
      ]
    },
    {
      "cell_type": "code",
      "source": [
        "parser.head"
      ],
      "metadata": {
        "colab": {
          "base_uri": "https://localhost:8080/"
        },
        "id": "AnnH0oF54DAa",
        "outputId": "e468e4d2-1aff-4e66-9c07-1ff1486448dc"
      },
      "execution_count": null,
      "outputs": [
        {
          "output_type": "execute_result",
          "data": {
            "text/plain": [
              "<head>\n",
              "<title>A simple example page</title>\n",
              "</head>"
            ]
          },
          "metadata": {},
          "execution_count": 18
        }
      ]
    },
    {
      "cell_type": "code",
      "source": [
        "parser.head.title.text"
      ],
      "metadata": {
        "colab": {
          "base_uri": "https://localhost:8080/",
          "height": 36
        },
        "id": "7q5Fb2_o4Lc-",
        "outputId": "29e20bed-4dd7-4e52-d302-54dc18a06e42"
      },
      "execution_count": null,
      "outputs": [
        {
          "output_type": "execute_result",
          "data": {
            "text/plain": [
              "'A simple example page'"
            ],
            "application/vnd.google.colaboratory.intrinsic+json": {
              "type": "string"
            }
          },
          "metadata": {},
          "execution_count": 19
        }
      ]
    },
    {
      "cell_type": "markdown",
      "source": [
        "### `find_all` method"
      ],
      "metadata": {
        "id": "XvsxCTnk4c0I"
      }
    },
    {
      "cell_type": "markdown",
      "source": [
        "Use the tag type as a property is not always the best way to parse a document. It's usually better to be more specific by using the `find_all` method. This method will find all occurrences of a tag in the current element, and return a list.\n",
        "\n",
        "If we only want the first occurrence of an item, we'll need to index the list to get it. Aside from this difference, the process is the same as passing in the tag type as an attribute."
      ],
      "metadata": {
        "id": "PXHkxCds4mA0"
      }
    },
    {
      "cell_type": "code",
      "source": [
        "parser = BeautifulSoup(content, 'html.parser')\n",
        "\n",
        "# Get a list of all occurrences of the body tag in the element.\n",
        "body = parser.find_all(\"body\")\n",
        "\n",
        "# Get the paragraph tag.\n",
        "p = body[0].find_all(\"p\")\n",
        "\n",
        "# Get the text.\n",
        "print(p[0].text)"
      ],
      "metadata": {
        "colab": {
          "base_uri": "https://localhost:8080/"
        },
        "id": "D5yghNqL4p4Z",
        "outputId": "dc2bb94d-7e9d-4bc4-a8f3-8bf4961808f4"
      },
      "execution_count": null,
      "outputs": [
        {
          "output_type": "stream",
          "name": "stdout",
          "text": [
            "Here is some simple content for this page.\n"
          ]
        }
      ]
    },
    {
      "cell_type": "code",
      "source": [
        "body"
      ],
      "metadata": {
        "colab": {
          "base_uri": "https://localhost:8080/"
        },
        "id": "sbGm9oBU4smt",
        "outputId": "0aeab1c5-013d-4922-d1b3-af988ba698bc"
      },
      "execution_count": null,
      "outputs": [
        {
          "output_type": "execute_result",
          "data": {
            "text/plain": [
              "[<body>\n",
              " <p>Here is some simple content for this page.</p>\n",
              " </body>]"
            ]
          },
          "metadata": {},
          "execution_count": 23
        }
      ]
    },
    {
      "cell_type": "code",
      "source": [
        "p"
      ],
      "metadata": {
        "colab": {
          "base_uri": "https://localhost:8080/"
        },
        "id": "Qtt3aGqx41qh",
        "outputId": "7236255c-b325-4083-9b0a-58e7e9c15f7f"
      },
      "execution_count": null,
      "outputs": [
        {
          "output_type": "execute_result",
          "data": {
            "text/plain": [
              "[<p>Here is some simple content for this page.</p>]"
            ]
          },
          "metadata": {},
          "execution_count": 24
        }
      ]
    },
    {
      "cell_type": "markdown",
      "source": [
        "### Element ID's"
      ],
      "metadata": {
        "id": "--PfyFdB7GvD"
      }
    },
    {
      "cell_type": "markdown",
      "source": [
        "HTML allows elements to have IDs. Because they are unique, we can use an ID to refer to a specific element.\n",
        "\n",
        "Here's an example page:\n",
        "\n",
        "![image.png](data:image/png;base64,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)"
      ],
      "metadata": {
        "id": "3u66hbEf7KKm"
      }
    },
    {
      "cell_type": "markdown",
      "source": [
        "HTML uses the `div` tag to create a divider that splits the page into logical units. We can think of a divider as a \"box\" that contains content. For example, different dividers hold a web page's footer, sidebar, and horizontal menu.\n",
        "\n",
        "There are two paragraphs on this page. The first is nested inside a `div`. Luckily, the paragraphs have IDs. This means we can access them easily, even though they're nested.\n",
        "\n",
        "Let's use the `find_all` method to access those paragraphs, and pass in the additional id attribute."
      ],
      "metadata": {
        "id": "dmD9vlrd7STN"
      }
    },
    {
      "cell_type": "code",
      "source": [
        "# Get the page content and set up a new parser.\n",
        "response = requests.get(\"http://dataquestio.github.io/web-scraping-pages/simple_ids.html\")\n",
        "content = response.content\n",
        "parser = BeautifulSoup(content, 'html.parser')\n",
        "\n",
        "# Pass in the ID attribute to only get the element with that specific ID.\n",
        "first_paragraph = parser.find_all(\"p\", id=\"first\")[0]\n",
        "print(first_paragraph.text)"
      ],
      "metadata": {
        "colab": {
          "base_uri": "https://localhost:8080/"
        },
        "id": "AW23lhm75zvB",
        "outputId": "5881b3c4-297a-4c96-a5ef-6c1566544686"
      },
      "execution_count": null,
      "outputs": [
        {
          "output_type": "stream",
          "name": "stdout",
          "text": [
            "\n",
            "                First paragraph.\n",
            "            \n"
          ]
        }
      ]
    },
    {
      "cell_type": "markdown",
      "source": [
        "### Element Classes"
      ],
      "metadata": {
        "id": "Bdh3TOQL8K00"
      }
    },
    {
      "cell_type": "markdown",
      "source": [
        "In HTML, elements can also have **classes**. Instances of classes aren't necessarily unique. **Many different elements can belong to the same class, usually because they share a common purpose or characteristic.**\n",
        "\n",
        "For example, you may want to create three dividers to display three of your photographs. You can create a common look and feel for these dividers, such as a border and caption style.\n",
        "\n",
        "This is when you use a class. You could create a class called \"gallery,\" define a style for it once using CSS , and then apply that class to all of the dividers you'll use to display photos. **One element can even have multiple classes.**\n",
        "\n",
        "\n",
        "![image.png](data:image/png;base64,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)"
      ],
      "metadata": {
        "id": "lBsVY0wF8L6E"
      }
    },
    {
      "cell_type": "markdown",
      "source": [
        "We can use find_all to select elements by class. We'll just need to pass in the `class_` parameter."
      ],
      "metadata": {
        "id": "D_tne95w8YRF"
      }
    },
    {
      "cell_type": "code",
      "source": [
        "# Get the website that contains classes.\n",
        "response = requests.get(\"http://dataquestio.github.io/web-scraping-pages/simple_classes.html\")\n",
        "content = response.content\n",
        "parser = BeautifulSoup(content, 'html.parser')\n",
        "\n",
        "# Get the first inner paragraph.\n",
        "# Find all the paragraph tags with the class inner-text.\n",
        "# Then, take the first element in that list.\n",
        "parser.find_all(\"p\", class_=\"inner-text\")"
      ],
      "metadata": {
        "colab": {
          "base_uri": "https://localhost:8080/"
        },
        "id": "8n3OBihW8WYp",
        "outputId": "606d683c-2a2c-43c2-a285-54ae4882fadb"
      },
      "execution_count": null,
      "outputs": [
        {
          "output_type": "execute_result",
          "data": {
            "text/plain": [
              "[<p class=\"inner-text\">\n",
              "                 First paragraph.\n",
              "             </p>,\n",
              " <p class=\"inner-text\">\n",
              "                 Second paragraph.\n",
              "             </p>]"
            ]
          },
          "metadata": {},
          "execution_count": 37
        }
      ]
    },
    {
      "cell_type": "code",
      "source": [
        "parser.find_all(\"p\", class_=\"inner-text\")[0]"
      ],
      "metadata": {
        "colab": {
          "base_uri": "https://localhost:8080/"
        },
        "id": "OvISRRI28jAl",
        "outputId": "3537cc43-e305-4cd6-d176-9c8b64bea4c5"
      },
      "execution_count": null,
      "outputs": [
        {
          "output_type": "execute_result",
          "data": {
            "text/plain": [
              "<p class=\"inner-text\">\n",
              "                First paragraph.\n",
              "            </p>"
            ]
          },
          "metadata": {},
          "execution_count": 38
        }
      ]
    },
    {
      "cell_type": "code",
      "source": [
        "parser.find_all(\"p\", class_=\"inner-text\")[0].text"
      ],
      "metadata": {
        "colab": {
          "base_uri": "https://localhost:8080/",
          "height": 36
        },
        "id": "7hzkkcMx8nR4",
        "outputId": "c137360b-8998-4f15-f783-4222478c9054"
      },
      "execution_count": null,
      "outputs": [
        {
          "output_type": "execute_result",
          "data": {
            "text/plain": [
              "'\\n                First paragraph.\\n            '"
            ],
            "application/vnd.google.colaboratory.intrinsic+json": {
              "type": "string"
            }
          },
          "metadata": {},
          "execution_count": 39
        }
      ]
    },
    {
      "cell_type": "code",
      "source": [
        "second_inner_paragraph_text = parser.find_all('p', class_='inner-text')[1].text\n",
        "\n",
        "first_outer_paragraph_text = parser.find_all('p', class_='outer-text')[0].text\n",
        "\n",
        "print(second_inner_paragraph_text, first_outer_paragraph_text)"
      ],
      "metadata": {
        "colab": {
          "base_uri": "https://localhost:8080/"
        },
        "id": "rv1wwQvM8Zef",
        "outputId": "7d7e0cdf-8b22-43c9-ac56-66a8ba691afb"
      },
      "execution_count": null,
      "outputs": [
        {
          "output_type": "stream",
          "name": "stdout",
          "text": [
            "\n",
            "                Second paragraph.\n",
            "             \n",
            "\n",
            "                First outer paragraph.\n",
            "            \n",
            "\n"
          ]
        }
      ]
    }
  ]
}