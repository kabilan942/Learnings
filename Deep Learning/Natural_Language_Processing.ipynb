{
  "nbformat": 4,
  "nbformat_minor": 0,
  "metadata": {
    "colab": {
      "provenance": [],
      "toc_visible": true
    },
    "kernelspec": {
      "name": "python3",
      "display_name": "Python 3"
    },
    "language_info": {
      "name": "python"
    }
  },
  "cells": [
    {
      "cell_type": "markdown",
      "source": [
        "# Natural Language Processing"
      ],
      "metadata": {
        "id": "NIKXXYXMNd9A"
      }
    },
    {
      "cell_type": "markdown",
      "source": [
        "## Intro to NLP"
      ],
      "metadata": {
        "id": "0xr0c5kxhsZr"
      }
    },
    {
      "cell_type": "code",
      "source": [
        "import tensorflow as tf\n",
        "import tensorflow_datasets as tfds"
      ],
      "metadata": {
        "id": "UpIob79aPaAd"
      },
      "execution_count": null,
      "outputs": []
    },
    {
      "cell_type": "code",
      "source": [
        "imdb_data = tfds.load(name='imdb_reviews', split='train')  # loading training split of imdb dataset\n",
        "imdb_df = tfds.as_dataframe(imdb_data)                     # converting tfds to pandas dataframe"
      ],
      "metadata": {
        "id": "L579HK_xPesY"
      },
      "execution_count": null,
      "outputs": []
    },
    {
      "cell_type": "code",
      "source": [
        "imdb_df.shape"
      ],
      "metadata": {
        "colab": {
          "base_uri": "https://localhost:8080/"
        },
        "id": "VPMlcY54PyCp",
        "outputId": "d3d7efda-347c-42a5-e087-c7c9dded2a40"
      },
      "execution_count": null,
      "outputs": [
        {
          "output_type": "execute_result",
          "data": {
            "text/plain": [
              "(25000, 2)"
            ]
          },
          "metadata": {},
          "execution_count": 39
        }
      ]
    },
    {
      "cell_type": "code",
      "source": [
        "imdb_df.head()"
      ],
      "metadata": {
        "colab": {
          "base_uri": "https://localhost:8080/",
          "height": 206
        },
        "id": "TuuMo3WkQSHj",
        "outputId": "0bf3b42a-e594-47f9-b300-7c09fd428185"
      },
      "execution_count": null,
      "outputs": [
        {
          "output_type": "execute_result",
          "data": {
            "text/plain": [
              "   label                                               text\n",
              "0      0  b\"This was an absolutely terrible movie. Don't...\n",
              "1      0  b'I have been known to fall asleep during film...\n",
              "2      0  b'Mann photographs the Alberta Rocky Mountains...\n",
              "3      1  b'This is the kind of film for a snowy Sunday ...\n",
              "4      1  b'As others have mentioned, all the women that..."
            ],
            "text/html": [
              "\n",
              "  <div id=\"df-554d4daf-22d1-4f8d-9bd1-3ae915451b4b\" class=\"colab-df-container\">\n",
              "    <div>\n",
              "<style scoped>\n",
              "    .dataframe tbody tr th:only-of-type {\n",
              "        vertical-align: middle;\n",
              "    }\n",
              "\n",
              "    .dataframe tbody tr th {\n",
              "        vertical-align: top;\n",
              "    }\n",
              "\n",
              "    .dataframe thead th {\n",
              "        text-align: right;\n",
              "    }\n",
              "</style>\n",
              "<table border=\"1\" class=\"dataframe\">\n",
              "  <thead>\n",
              "    <tr style=\"text-align: right;\">\n",
              "      <th></th>\n",
              "      <th>label</th>\n",
              "      <th>text</th>\n",
              "    </tr>\n",
              "  </thead>\n",
              "  <tbody>\n",
              "    <tr>\n",
              "      <th>0</th>\n",
              "      <td>0</td>\n",
              "      <td>b\"This was an absolutely terrible movie. Don't...</td>\n",
              "    </tr>\n",
              "    <tr>\n",
              "      <th>1</th>\n",
              "      <td>0</td>\n",
              "      <td>b'I have been known to fall asleep during film...</td>\n",
              "    </tr>\n",
              "    <tr>\n",
              "      <th>2</th>\n",
              "      <td>0</td>\n",
              "      <td>b'Mann photographs the Alberta Rocky Mountains...</td>\n",
              "    </tr>\n",
              "    <tr>\n",
              "      <th>3</th>\n",
              "      <td>1</td>\n",
              "      <td>b'This is the kind of film for a snowy Sunday ...</td>\n",
              "    </tr>\n",
              "    <tr>\n",
              "      <th>4</th>\n",
              "      <td>1</td>\n",
              "      <td>b'As others have mentioned, all the women that...</td>\n",
              "    </tr>\n",
              "  </tbody>\n",
              "</table>\n",
              "</div>\n",
              "    <div class=\"colab-df-buttons\">\n",
              "\n",
              "  <div class=\"colab-df-container\">\n",
              "    <button class=\"colab-df-convert\" onclick=\"convertToInteractive('df-554d4daf-22d1-4f8d-9bd1-3ae915451b4b')\"\n",
              "            title=\"Convert this dataframe to an interactive table.\"\n",
              "            style=\"display:none;\">\n",
              "\n",
              "  <svg xmlns=\"http://www.w3.org/2000/svg\" height=\"24px\" viewBox=\"0 -960 960 960\">\n",
              "    <path d=\"M120-120v-720h720v720H120Zm60-500h600v-160H180v160Zm220 220h160v-160H400v160Zm0 220h160v-160H400v160ZM180-400h160v-160H180v160Zm440 0h160v-160H620v160ZM180-180h160v-160H180v160Zm440 0h160v-160H620v160Z\"/>\n",
              "  </svg>\n",
              "    </button>\n",
              "\n",
              "  <style>\n",
              "    .colab-df-container {\n",
              "      display:flex;\n",
              "      gap: 12px;\n",
              "    }\n",
              "\n",
              "    .colab-df-convert {\n",
              "      background-color: #E8F0FE;\n",
              "      border: none;\n",
              "      border-radius: 50%;\n",
              "      cursor: pointer;\n",
              "      display: none;\n",
              "      fill: #1967D2;\n",
              "      height: 32px;\n",
              "      padding: 0 0 0 0;\n",
              "      width: 32px;\n",
              "    }\n",
              "\n",
              "    .colab-df-convert:hover {\n",
              "      background-color: #E2EBFA;\n",
              "      box-shadow: 0px 1px 2px rgba(60, 64, 67, 0.3), 0px 1px 3px 1px rgba(60, 64, 67, 0.15);\n",
              "      fill: #174EA6;\n",
              "    }\n",
              "\n",
              "    .colab-df-buttons div {\n",
              "      margin-bottom: 4px;\n",
              "    }\n",
              "\n",
              "    [theme=dark] .colab-df-convert {\n",
              "      background-color: #3B4455;\n",
              "      fill: #D2E3FC;\n",
              "    }\n",
              "\n",
              "    [theme=dark] .colab-df-convert:hover {\n",
              "      background-color: #434B5C;\n",
              "      box-shadow: 0px 1px 3px 1px rgba(0, 0, 0, 0.15);\n",
              "      filter: drop-shadow(0px 1px 2px rgba(0, 0, 0, 0.3));\n",
              "      fill: #FFFFFF;\n",
              "    }\n",
              "  </style>\n",
              "\n",
              "    <script>\n",
              "      const buttonEl =\n",
              "        document.querySelector('#df-554d4daf-22d1-4f8d-9bd1-3ae915451b4b button.colab-df-convert');\n",
              "      buttonEl.style.display =\n",
              "        google.colab.kernel.accessAllowed ? 'block' : 'none';\n",
              "\n",
              "      async function convertToInteractive(key) {\n",
              "        const element = document.querySelector('#df-554d4daf-22d1-4f8d-9bd1-3ae915451b4b');\n",
              "        const dataTable =\n",
              "          await google.colab.kernel.invokeFunction('convertToInteractive',\n",
              "                                                    [key], {});\n",
              "        if (!dataTable) return;\n",
              "\n",
              "        const docLinkHtml = 'Like what you see? Visit the ' +\n",
              "          '<a target=\"_blank\" href=https://colab.research.google.com/notebooks/data_table.ipynb>data table notebook</a>'\n",
              "          + ' to learn more about interactive tables.';\n",
              "        element.innerHTML = '';\n",
              "        dataTable['output_type'] = 'display_data';\n",
              "        await google.colab.output.renderOutput(dataTable, element);\n",
              "        const docLink = document.createElement('div');\n",
              "        docLink.innerHTML = docLinkHtml;\n",
              "        element.appendChild(docLink);\n",
              "      }\n",
              "    </script>\n",
              "  </div>\n",
              "\n",
              "\n",
              "<div id=\"df-e1a22de4-405e-439d-973e-562ff66daeb3\">\n",
              "  <button class=\"colab-df-quickchart\" onclick=\"quickchart('df-e1a22de4-405e-439d-973e-562ff66daeb3')\"\n",
              "            title=\"Suggest charts\"\n",
              "            style=\"display:none;\">\n",
              "\n",
              "<svg xmlns=\"http://www.w3.org/2000/svg\" height=\"24px\"viewBox=\"0 0 24 24\"\n",
              "     width=\"24px\">\n",
              "    <g>\n",
              "        <path d=\"M19 3H5c-1.1 0-2 .9-2 2v14c0 1.1.9 2 2 2h14c1.1 0 2-.9 2-2V5c0-1.1-.9-2-2-2zM9 17H7v-7h2v7zm4 0h-2V7h2v10zm4 0h-2v-4h2v4z\"/>\n",
              "    </g>\n",
              "</svg>\n",
              "  </button>\n",
              "\n",
              "<style>\n",
              "  .colab-df-quickchart {\n",
              "      --bg-color: #E8F0FE;\n",
              "      --fill-color: #1967D2;\n",
              "      --hover-bg-color: #E2EBFA;\n",
              "      --hover-fill-color: #174EA6;\n",
              "      --disabled-fill-color: #AAA;\n",
              "      --disabled-bg-color: #DDD;\n",
              "  }\n",
              "\n",
              "  [theme=dark] .colab-df-quickchart {\n",
              "      --bg-color: #3B4455;\n",
              "      --fill-color: #D2E3FC;\n",
              "      --hover-bg-color: #434B5C;\n",
              "      --hover-fill-color: #FFFFFF;\n",
              "      --disabled-bg-color: #3B4455;\n",
              "      --disabled-fill-color: #666;\n",
              "  }\n",
              "\n",
              "  .colab-df-quickchart {\n",
              "    background-color: var(--bg-color);\n",
              "    border: none;\n",
              "    border-radius: 50%;\n",
              "    cursor: pointer;\n",
              "    display: none;\n",
              "    fill: var(--fill-color);\n",
              "    height: 32px;\n",
              "    padding: 0;\n",
              "    width: 32px;\n",
              "  }\n",
              "\n",
              "  .colab-df-quickchart:hover {\n",
              "    background-color: var(--hover-bg-color);\n",
              "    box-shadow: 0 1px 2px rgba(60, 64, 67, 0.3), 0 1px 3px 1px rgba(60, 64, 67, 0.15);\n",
              "    fill: var(--button-hover-fill-color);\n",
              "  }\n",
              "\n",
              "  .colab-df-quickchart-complete:disabled,\n",
              "  .colab-df-quickchart-complete:disabled:hover {\n",
              "    background-color: var(--disabled-bg-color);\n",
              "    fill: var(--disabled-fill-color);\n",
              "    box-shadow: none;\n",
              "  }\n",
              "\n",
              "  .colab-df-spinner {\n",
              "    border: 2px solid var(--fill-color);\n",
              "    border-color: transparent;\n",
              "    border-bottom-color: var(--fill-color);\n",
              "    animation:\n",
              "      spin 1s steps(1) infinite;\n",
              "  }\n",
              "\n",
              "  @keyframes spin {\n",
              "    0% {\n",
              "      border-color: transparent;\n",
              "      border-bottom-color: var(--fill-color);\n",
              "      border-left-color: var(--fill-color);\n",
              "    }\n",
              "    20% {\n",
              "      border-color: transparent;\n",
              "      border-left-color: var(--fill-color);\n",
              "      border-top-color: var(--fill-color);\n",
              "    }\n",
              "    30% {\n",
              "      border-color: transparent;\n",
              "      border-left-color: var(--fill-color);\n",
              "      border-top-color: var(--fill-color);\n",
              "      border-right-color: var(--fill-color);\n",
              "    }\n",
              "    40% {\n",
              "      border-color: transparent;\n",
              "      border-right-color: var(--fill-color);\n",
              "      border-top-color: var(--fill-color);\n",
              "    }\n",
              "    60% {\n",
              "      border-color: transparent;\n",
              "      border-right-color: var(--fill-color);\n",
              "    }\n",
              "    80% {\n",
              "      border-color: transparent;\n",
              "      border-right-color: var(--fill-color);\n",
              "      border-bottom-color: var(--fill-color);\n",
              "    }\n",
              "    90% {\n",
              "      border-color: transparent;\n",
              "      border-bottom-color: var(--fill-color);\n",
              "    }\n",
              "  }\n",
              "</style>\n",
              "\n",
              "  <script>\n",
              "    async function quickchart(key) {\n",
              "      const quickchartButtonEl =\n",
              "        document.querySelector('#' + key + ' button');\n",
              "      quickchartButtonEl.disabled = true;  // To prevent multiple clicks.\n",
              "      quickchartButtonEl.classList.add('colab-df-spinner');\n",
              "      try {\n",
              "        const charts = await google.colab.kernel.invokeFunction(\n",
              "            'suggestCharts', [key], {});\n",
              "      } catch (error) {\n",
              "        console.error('Error during call to suggestCharts:', error);\n",
              "      }\n",
              "      quickchartButtonEl.classList.remove('colab-df-spinner');\n",
              "      quickchartButtonEl.classList.add('colab-df-quickchart-complete');\n",
              "    }\n",
              "    (() => {\n",
              "      let quickchartButtonEl =\n",
              "        document.querySelector('#df-e1a22de4-405e-439d-973e-562ff66daeb3 button');\n",
              "      quickchartButtonEl.style.display =\n",
              "        google.colab.kernel.accessAllowed ? 'block' : 'none';\n",
              "    })();\n",
              "  </script>\n",
              "</div>\n",
              "\n",
              "    </div>\n",
              "  </div>\n"
            ],
            "application/vnd.google.colaboratory.intrinsic+json": {
              "type": "dataframe",
              "variable_name": "imdb_df",
              "summary": "{\n  \"name\": \"imdb_df\",\n  \"rows\": 25000,\n  \"fields\": [\n    {\n      \"column\": \"label\",\n      \"properties\": {\n        \"dtype\": \"number\",\n        \"std\": 0,\n        \"min\": 0,\n        \"max\": 1,\n        \"num_unique_values\": 2,\n        \"samples\": [\n          1,\n          0\n        ],\n        \"semantic_type\": \"\",\n        \"description\": \"\"\n      }\n    },\n    {\n      \"column\": \"text\",\n      \"properties\": {\n        \"dtype\": \"string\",\n        \"num_unique_values\": 24904,\n        \"samples\": [\n          \"b'\\\"Written on the Wind\\\" is an irresistible, wonderfully kinky film, as only director Sirk could have done it. The movie is submerged in a bucket full of Freudian symbols, weird melodramatics and colorful contrasts. The connection between financial success and moral decay is the film\\\\'s main theme. Sirk seems to suggest that sexual dysfunction is one of the side effects of capitalism. However, I prefer to see the movie as a prime example of what Sirk could do with kitschy material. The palette of colors is particularly impressive. The acting in the film is great too. Rock Hudson and Lauren Bacall are terribly glamorous and give the film an aura of elegance, but the movie belongs to Robert Stack and Dorothy Malone (she deservedly won the Best Supporting Actress Oscar), who manage to keep the film at a boiling point. Kudos to Frank Skinner\\\\'s pulsating score, Russell Metty\\\\'s brilliant camera work (every single shot is a masterpiece in itself), and the production design department. Also, the title tune is a beauty. It\\\\'s an unforgettable movie.'\",\n          \"b\\\"I happened to catch this movie on cable one afternoon. I have to admit that I've never been a big baseball fan, but I can sometimes get into a good sports-related movie. What I found more interesting was the depiction of the foster family system. As a therapist who has seen both the good and the bad of the community mental health and foster system, I though it was rather refreshing to see a movie that showed both the ups and downs of this system: people jumping from family to family, biological parents not always taking an active involvement, and transitions that can be but heart-wrenching and heart-melting. Joseph Gordon-Levitt and Danny Glover are the anchor of this film, and both bring very believable performances. Maybe it was just my emotional state, but I did find myself shedding a tear at the end of the film.\\\"\"\n        ],\n        \"semantic_type\": \"\",\n        \"description\": \"\"\n      }\n    }\n  ]\n}"
            }
          },
          "metadata": {},
          "execution_count": 40
        }
      ]
    },
    {
      "cell_type": "markdown",
      "source": [
        "We can see that the text column contains the typed reviews, but we can also see a byte string b\" prefixed to that text. We'll decode the byte string using the pandas vectorized string method `str.decode()`:"
      ],
      "metadata": {
        "id": "r3DR_B6eQhZ4"
      }
    },
    {
      "cell_type": "code",
      "source": [
        "imdb_df['text'] = imdb_df['text'].str.decode('utf-8')"
      ],
      "metadata": {
        "id": "qQPuLhGUQUBX"
      },
      "execution_count": null,
      "outputs": []
    },
    {
      "cell_type": "code",
      "source": [
        "imdb_df.head()"
      ],
      "metadata": {
        "colab": {
          "base_uri": "https://localhost:8080/",
          "height": 206
        },
        "id": "b3_vPlYmQbSi",
        "outputId": "1958b8e2-b2bf-42cb-f5e3-27769088b0a6"
      },
      "execution_count": null,
      "outputs": [
        {
          "output_type": "execute_result",
          "data": {
            "text/plain": [
              "   label                                               text\n",
              "0      0  This was an absolutely terrible movie. Don't b...\n",
              "1      0  I have been known to fall asleep during films,...\n",
              "2      0  Mann photographs the Alberta Rocky Mountains i...\n",
              "3      1  This is the kind of film for a snowy Sunday af...\n",
              "4      1  As others have mentioned, all the women that g..."
            ],
            "text/html": [
              "\n",
              "  <div id=\"df-a2173449-ee70-4fce-b823-2d6a4836ce2b\" class=\"colab-df-container\">\n",
              "    <div>\n",
              "<style scoped>\n",
              "    .dataframe tbody tr th:only-of-type {\n",
              "        vertical-align: middle;\n",
              "    }\n",
              "\n",
              "    .dataframe tbody tr th {\n",
              "        vertical-align: top;\n",
              "    }\n",
              "\n",
              "    .dataframe thead th {\n",
              "        text-align: right;\n",
              "    }\n",
              "</style>\n",
              "<table border=\"1\" class=\"dataframe\">\n",
              "  <thead>\n",
              "    <tr style=\"text-align: right;\">\n",
              "      <th></th>\n",
              "      <th>label</th>\n",
              "      <th>text</th>\n",
              "    </tr>\n",
              "  </thead>\n",
              "  <tbody>\n",
              "    <tr>\n",
              "      <th>0</th>\n",
              "      <td>0</td>\n",
              "      <td>This was an absolutely terrible movie. Don't b...</td>\n",
              "    </tr>\n",
              "    <tr>\n",
              "      <th>1</th>\n",
              "      <td>0</td>\n",
              "      <td>I have been known to fall asleep during films,...</td>\n",
              "    </tr>\n",
              "    <tr>\n",
              "      <th>2</th>\n",
              "      <td>0</td>\n",
              "      <td>Mann photographs the Alberta Rocky Mountains i...</td>\n",
              "    </tr>\n",
              "    <tr>\n",
              "      <th>3</th>\n",
              "      <td>1</td>\n",
              "      <td>This is the kind of film for a snowy Sunday af...</td>\n",
              "    </tr>\n",
              "    <tr>\n",
              "      <th>4</th>\n",
              "      <td>1</td>\n",
              "      <td>As others have mentioned, all the women that g...</td>\n",
              "    </tr>\n",
              "  </tbody>\n",
              "</table>\n",
              "</div>\n",
              "    <div class=\"colab-df-buttons\">\n",
              "\n",
              "  <div class=\"colab-df-container\">\n",
              "    <button class=\"colab-df-convert\" onclick=\"convertToInteractive('df-a2173449-ee70-4fce-b823-2d6a4836ce2b')\"\n",
              "            title=\"Convert this dataframe to an interactive table.\"\n",
              "            style=\"display:none;\">\n",
              "\n",
              "  <svg xmlns=\"http://www.w3.org/2000/svg\" height=\"24px\" viewBox=\"0 -960 960 960\">\n",
              "    <path d=\"M120-120v-720h720v720H120Zm60-500h600v-160H180v160Zm220 220h160v-160H400v160Zm0 220h160v-160H400v160ZM180-400h160v-160H180v160Zm440 0h160v-160H620v160ZM180-180h160v-160H180v160Zm440 0h160v-160H620v160Z\"/>\n",
              "  </svg>\n",
              "    </button>\n",
              "\n",
              "  <style>\n",
              "    .colab-df-container {\n",
              "      display:flex;\n",
              "      gap: 12px;\n",
              "    }\n",
              "\n",
              "    .colab-df-convert {\n",
              "      background-color: #E8F0FE;\n",
              "      border: none;\n",
              "      border-radius: 50%;\n",
              "      cursor: pointer;\n",
              "      display: none;\n",
              "      fill: #1967D2;\n",
              "      height: 32px;\n",
              "      padding: 0 0 0 0;\n",
              "      width: 32px;\n",
              "    }\n",
              "\n",
              "    .colab-df-convert:hover {\n",
              "      background-color: #E2EBFA;\n",
              "      box-shadow: 0px 1px 2px rgba(60, 64, 67, 0.3), 0px 1px 3px 1px rgba(60, 64, 67, 0.15);\n",
              "      fill: #174EA6;\n",
              "    }\n",
              "\n",
              "    .colab-df-buttons div {\n",
              "      margin-bottom: 4px;\n",
              "    }\n",
              "\n",
              "    [theme=dark] .colab-df-convert {\n",
              "      background-color: #3B4455;\n",
              "      fill: #D2E3FC;\n",
              "    }\n",
              "\n",
              "    [theme=dark] .colab-df-convert:hover {\n",
              "      background-color: #434B5C;\n",
              "      box-shadow: 0px 1px 3px 1px rgba(0, 0, 0, 0.15);\n",
              "      filter: drop-shadow(0px 1px 2px rgba(0, 0, 0, 0.3));\n",
              "      fill: #FFFFFF;\n",
              "    }\n",
              "  </style>\n",
              "\n",
              "    <script>\n",
              "      const buttonEl =\n",
              "        document.querySelector('#df-a2173449-ee70-4fce-b823-2d6a4836ce2b button.colab-df-convert');\n",
              "      buttonEl.style.display =\n",
              "        google.colab.kernel.accessAllowed ? 'block' : 'none';\n",
              "\n",
              "      async function convertToInteractive(key) {\n",
              "        const element = document.querySelector('#df-a2173449-ee70-4fce-b823-2d6a4836ce2b');\n",
              "        const dataTable =\n",
              "          await google.colab.kernel.invokeFunction('convertToInteractive',\n",
              "                                                    [key], {});\n",
              "        if (!dataTable) return;\n",
              "\n",
              "        const docLinkHtml = 'Like what you see? Visit the ' +\n",
              "          '<a target=\"_blank\" href=https://colab.research.google.com/notebooks/data_table.ipynb>data table notebook</a>'\n",
              "          + ' to learn more about interactive tables.';\n",
              "        element.innerHTML = '';\n",
              "        dataTable['output_type'] = 'display_data';\n",
              "        await google.colab.output.renderOutput(dataTable, element);\n",
              "        const docLink = document.createElement('div');\n",
              "        docLink.innerHTML = docLinkHtml;\n",
              "        element.appendChild(docLink);\n",
              "      }\n",
              "    </script>\n",
              "  </div>\n",
              "\n",
              "\n",
              "<div id=\"df-61840c4c-f13f-46c4-bb6c-d5bcc53618b6\">\n",
              "  <button class=\"colab-df-quickchart\" onclick=\"quickchart('df-61840c4c-f13f-46c4-bb6c-d5bcc53618b6')\"\n",
              "            title=\"Suggest charts\"\n",
              "            style=\"display:none;\">\n",
              "\n",
              "<svg xmlns=\"http://www.w3.org/2000/svg\" height=\"24px\"viewBox=\"0 0 24 24\"\n",
              "     width=\"24px\">\n",
              "    <g>\n",
              "        <path d=\"M19 3H5c-1.1 0-2 .9-2 2v14c0 1.1.9 2 2 2h14c1.1 0 2-.9 2-2V5c0-1.1-.9-2-2-2zM9 17H7v-7h2v7zm4 0h-2V7h2v10zm4 0h-2v-4h2v4z\"/>\n",
              "    </g>\n",
              "</svg>\n",
              "  </button>\n",
              "\n",
              "<style>\n",
              "  .colab-df-quickchart {\n",
              "      --bg-color: #E8F0FE;\n",
              "      --fill-color: #1967D2;\n",
              "      --hover-bg-color: #E2EBFA;\n",
              "      --hover-fill-color: #174EA6;\n",
              "      --disabled-fill-color: #AAA;\n",
              "      --disabled-bg-color: #DDD;\n",
              "  }\n",
              "\n",
              "  [theme=dark] .colab-df-quickchart {\n",
              "      --bg-color: #3B4455;\n",
              "      --fill-color: #D2E3FC;\n",
              "      --hover-bg-color: #434B5C;\n",
              "      --hover-fill-color: #FFFFFF;\n",
              "      --disabled-bg-color: #3B4455;\n",
              "      --disabled-fill-color: #666;\n",
              "  }\n",
              "\n",
              "  .colab-df-quickchart {\n",
              "    background-color: var(--bg-color);\n",
              "    border: none;\n",
              "    border-radius: 50%;\n",
              "    cursor: pointer;\n",
              "    display: none;\n",
              "    fill: var(--fill-color);\n",
              "    height: 32px;\n",
              "    padding: 0;\n",
              "    width: 32px;\n",
              "  }\n",
              "\n",
              "  .colab-df-quickchart:hover {\n",
              "    background-color: var(--hover-bg-color);\n",
              "    box-shadow: 0 1px 2px rgba(60, 64, 67, 0.3), 0 1px 3px 1px rgba(60, 64, 67, 0.15);\n",
              "    fill: var(--button-hover-fill-color);\n",
              "  }\n",
              "\n",
              "  .colab-df-quickchart-complete:disabled,\n",
              "  .colab-df-quickchart-complete:disabled:hover {\n",
              "    background-color: var(--disabled-bg-color);\n",
              "    fill: var(--disabled-fill-color);\n",
              "    box-shadow: none;\n",
              "  }\n",
              "\n",
              "  .colab-df-spinner {\n",
              "    border: 2px solid var(--fill-color);\n",
              "    border-color: transparent;\n",
              "    border-bottom-color: var(--fill-color);\n",
              "    animation:\n",
              "      spin 1s steps(1) infinite;\n",
              "  }\n",
              "\n",
              "  @keyframes spin {\n",
              "    0% {\n",
              "      border-color: transparent;\n",
              "      border-bottom-color: var(--fill-color);\n",
              "      border-left-color: var(--fill-color);\n",
              "    }\n",
              "    20% {\n",
              "      border-color: transparent;\n",
              "      border-left-color: var(--fill-color);\n",
              "      border-top-color: var(--fill-color);\n",
              "    }\n",
              "    30% {\n",
              "      border-color: transparent;\n",
              "      border-left-color: var(--fill-color);\n",
              "      border-top-color: var(--fill-color);\n",
              "      border-right-color: var(--fill-color);\n",
              "    }\n",
              "    40% {\n",
              "      border-color: transparent;\n",
              "      border-right-color: var(--fill-color);\n",
              "      border-top-color: var(--fill-color);\n",
              "    }\n",
              "    60% {\n",
              "      border-color: transparent;\n",
              "      border-right-color: var(--fill-color);\n",
              "    }\n",
              "    80% {\n",
              "      border-color: transparent;\n",
              "      border-right-color: var(--fill-color);\n",
              "      border-bottom-color: var(--fill-color);\n",
              "    }\n",
              "    90% {\n",
              "      border-color: transparent;\n",
              "      border-bottom-color: var(--fill-color);\n",
              "    }\n",
              "  }\n",
              "</style>\n",
              "\n",
              "  <script>\n",
              "    async function quickchart(key) {\n",
              "      const quickchartButtonEl =\n",
              "        document.querySelector('#' + key + ' button');\n",
              "      quickchartButtonEl.disabled = true;  // To prevent multiple clicks.\n",
              "      quickchartButtonEl.classList.add('colab-df-spinner');\n",
              "      try {\n",
              "        const charts = await google.colab.kernel.invokeFunction(\n",
              "            'suggestCharts', [key], {});\n",
              "      } catch (error) {\n",
              "        console.error('Error during call to suggestCharts:', error);\n",
              "      }\n",
              "      quickchartButtonEl.classList.remove('colab-df-spinner');\n",
              "      quickchartButtonEl.classList.add('colab-df-quickchart-complete');\n",
              "    }\n",
              "    (() => {\n",
              "      let quickchartButtonEl =\n",
              "        document.querySelector('#df-61840c4c-f13f-46c4-bb6c-d5bcc53618b6 button');\n",
              "      quickchartButtonEl.style.display =\n",
              "        google.colab.kernel.accessAllowed ? 'block' : 'none';\n",
              "    })();\n",
              "  </script>\n",
              "</div>\n",
              "\n",
              "    </div>\n",
              "  </div>\n"
            ],
            "application/vnd.google.colaboratory.intrinsic+json": {
              "type": "dataframe",
              "variable_name": "imdb_df",
              "summary": "{\n  \"name\": \"imdb_df\",\n  \"rows\": 25000,\n  \"fields\": [\n    {\n      \"column\": \"label\",\n      \"properties\": {\n        \"dtype\": \"number\",\n        \"std\": 0,\n        \"min\": 0,\n        \"max\": 1,\n        \"num_unique_values\": 2,\n        \"samples\": [\n          1,\n          0\n        ],\n        \"semantic_type\": \"\",\n        \"description\": \"\"\n      }\n    },\n    {\n      \"column\": \"text\",\n      \"properties\": {\n        \"dtype\": \"string\",\n        \"num_unique_values\": 24904,\n        \"samples\": [\n          \"\\\"Written on the Wind\\\" is an irresistible, wonderfully kinky film, as only director Sirk could have done it. The movie is submerged in a bucket full of Freudian symbols, weird melodramatics and colorful contrasts. The connection between financial success and moral decay is the film's main theme. Sirk seems to suggest that sexual dysfunction is one of the side effects of capitalism. However, I prefer to see the movie as a prime example of what Sirk could do with kitschy material. The palette of colors is particularly impressive. The acting in the film is great too. Rock Hudson and Lauren Bacall are terribly glamorous and give the film an aura of elegance, but the movie belongs to Robert Stack and Dorothy Malone (she deservedly won the Best Supporting Actress Oscar), who manage to keep the film at a boiling point. Kudos to Frank Skinner's pulsating score, Russell Metty's brilliant camera work (every single shot is a masterpiece in itself), and the production design department. Also, the title tune is a beauty. It's an unforgettable movie.\",\n          \"I happened to catch this movie on cable one afternoon. I have to admit that I've never been a big baseball fan, but I can sometimes get into a good sports-related movie. What I found more interesting was the depiction of the foster family system. As a therapist who has seen both the good and the bad of the community mental health and foster system, I though it was rather refreshing to see a movie that showed both the ups and downs of this system: people jumping from family to family, biological parents not always taking an active involvement, and transitions that can be but heart-wrenching and heart-melting. Joseph Gordon-Levitt and Danny Glover are the anchor of this film, and both bring very believable performances. Maybe it was just my emotional state, but I did find myself shedding a tear at the end of the film.\"\n        ],\n        \"semantic_type\": \"\",\n        \"description\": \"\"\n      }\n    }\n  ]\n}"
            }
          },
          "metadata": {},
          "execution_count": 42
        }
      ]
    },
    {
      "cell_type": "code",
      "source": [
        "imdb_df['label'].value_counts()"
      ],
      "metadata": {
        "colab": {
          "base_uri": "https://localhost:8080/"
        },
        "id": "XoRyQp9nT8lN",
        "outputId": "1359aae4-cb91-41f9-a82f-2617ac720df2"
      },
      "execution_count": null,
      "outputs": [
        {
          "output_type": "execute_result",
          "data": {
            "text/plain": [
              "label\n",
              "0    12500\n",
              "1    12500\n",
              "Name: count, dtype: int64"
            ]
          },
          "metadata": {},
          "execution_count": 43
        }
      ]
    },
    {
      "cell_type": "markdown",
      "source": [
        "To ease this computational burden without losing too much predictive ability, we'll take a subset of the full dataset:"
      ],
      "metadata": {
        "id": "UR2mq6WVUTlD"
      }
    },
    {
      "cell_type": "code",
      "source": [
        "imdb_sample = imdb_df.sample(frac=0.2, random_state=100)"
      ],
      "metadata": {
        "id": "jXBv0YPqUAKV"
      },
      "execution_count": null,
      "outputs": []
    },
    {
      "cell_type": "code",
      "source": [
        "imdb_sample.head()"
      ],
      "metadata": {
        "colab": {
          "base_uri": "https://localhost:8080/",
          "height": 206
        },
        "id": "aisHXNt2UJbZ",
        "outputId": "e40f9a67-1a63-433d-e465-b206792e8b2e"
      },
      "execution_count": null,
      "outputs": [
        {
          "output_type": "execute_result",
          "data": {
            "text/plain": [
              "       label                                               text\n",
              "20094      1  \"The Godfather\" of television, but aside from ...\n",
              "17218      0  Okay, I've watched this movie twice now, I hav...\n",
              "3773       0  Okay, so the previews to this film only tells ...\n",
              "20529      0  Yet ANOTHER movie about a group of less-than-i...\n",
              "18073      1  This unpretentious Horror film is probably des..."
            ],
            "text/html": [
              "\n",
              "  <div id=\"df-5e5a4494-64e3-41f9-b95e-ebed4418e0f5\" class=\"colab-df-container\">\n",
              "    <div>\n",
              "<style scoped>\n",
              "    .dataframe tbody tr th:only-of-type {\n",
              "        vertical-align: middle;\n",
              "    }\n",
              "\n",
              "    .dataframe tbody tr th {\n",
              "        vertical-align: top;\n",
              "    }\n",
              "\n",
              "    .dataframe thead th {\n",
              "        text-align: right;\n",
              "    }\n",
              "</style>\n",
              "<table border=\"1\" class=\"dataframe\">\n",
              "  <thead>\n",
              "    <tr style=\"text-align: right;\">\n",
              "      <th></th>\n",
              "      <th>label</th>\n",
              "      <th>text</th>\n",
              "    </tr>\n",
              "  </thead>\n",
              "  <tbody>\n",
              "    <tr>\n",
              "      <th>20094</th>\n",
              "      <td>1</td>\n",
              "      <td>\"The Godfather\" of television, but aside from ...</td>\n",
              "    </tr>\n",
              "    <tr>\n",
              "      <th>17218</th>\n",
              "      <td>0</td>\n",
              "      <td>Okay, I've watched this movie twice now, I hav...</td>\n",
              "    </tr>\n",
              "    <tr>\n",
              "      <th>3773</th>\n",
              "      <td>0</td>\n",
              "      <td>Okay, so the previews to this film only tells ...</td>\n",
              "    </tr>\n",
              "    <tr>\n",
              "      <th>20529</th>\n",
              "      <td>0</td>\n",
              "      <td>Yet ANOTHER movie about a group of less-than-i...</td>\n",
              "    </tr>\n",
              "    <tr>\n",
              "      <th>18073</th>\n",
              "      <td>1</td>\n",
              "      <td>This unpretentious Horror film is probably des...</td>\n",
              "    </tr>\n",
              "  </tbody>\n",
              "</table>\n",
              "</div>\n",
              "    <div class=\"colab-df-buttons\">\n",
              "\n",
              "  <div class=\"colab-df-container\">\n",
              "    <button class=\"colab-df-convert\" onclick=\"convertToInteractive('df-5e5a4494-64e3-41f9-b95e-ebed4418e0f5')\"\n",
              "            title=\"Convert this dataframe to an interactive table.\"\n",
              "            style=\"display:none;\">\n",
              "\n",
              "  <svg xmlns=\"http://www.w3.org/2000/svg\" height=\"24px\" viewBox=\"0 -960 960 960\">\n",
              "    <path d=\"M120-120v-720h720v720H120Zm60-500h600v-160H180v160Zm220 220h160v-160H400v160Zm0 220h160v-160H400v160ZM180-400h160v-160H180v160Zm440 0h160v-160H620v160ZM180-180h160v-160H180v160Zm440 0h160v-160H620v160Z\"/>\n",
              "  </svg>\n",
              "    </button>\n",
              "\n",
              "  <style>\n",
              "    .colab-df-container {\n",
              "      display:flex;\n",
              "      gap: 12px;\n",
              "    }\n",
              "\n",
              "    .colab-df-convert {\n",
              "      background-color: #E8F0FE;\n",
              "      border: none;\n",
              "      border-radius: 50%;\n",
              "      cursor: pointer;\n",
              "      display: none;\n",
              "      fill: #1967D2;\n",
              "      height: 32px;\n",
              "      padding: 0 0 0 0;\n",
              "      width: 32px;\n",
              "    }\n",
              "\n",
              "    .colab-df-convert:hover {\n",
              "      background-color: #E2EBFA;\n",
              "      box-shadow: 0px 1px 2px rgba(60, 64, 67, 0.3), 0px 1px 3px 1px rgba(60, 64, 67, 0.15);\n",
              "      fill: #174EA6;\n",
              "    }\n",
              "\n",
              "    .colab-df-buttons div {\n",
              "      margin-bottom: 4px;\n",
              "    }\n",
              "\n",
              "    [theme=dark] .colab-df-convert {\n",
              "      background-color: #3B4455;\n",
              "      fill: #D2E3FC;\n",
              "    }\n",
              "\n",
              "    [theme=dark] .colab-df-convert:hover {\n",
              "      background-color: #434B5C;\n",
              "      box-shadow: 0px 1px 3px 1px rgba(0, 0, 0, 0.15);\n",
              "      filter: drop-shadow(0px 1px 2px rgba(0, 0, 0, 0.3));\n",
              "      fill: #FFFFFF;\n",
              "    }\n",
              "  </style>\n",
              "\n",
              "    <script>\n",
              "      const buttonEl =\n",
              "        document.querySelector('#df-5e5a4494-64e3-41f9-b95e-ebed4418e0f5 button.colab-df-convert');\n",
              "      buttonEl.style.display =\n",
              "        google.colab.kernel.accessAllowed ? 'block' : 'none';\n",
              "\n",
              "      async function convertToInteractive(key) {\n",
              "        const element = document.querySelector('#df-5e5a4494-64e3-41f9-b95e-ebed4418e0f5');\n",
              "        const dataTable =\n",
              "          await google.colab.kernel.invokeFunction('convertToInteractive',\n",
              "                                                    [key], {});\n",
              "        if (!dataTable) return;\n",
              "\n",
              "        const docLinkHtml = 'Like what you see? Visit the ' +\n",
              "          '<a target=\"_blank\" href=https://colab.research.google.com/notebooks/data_table.ipynb>data table notebook</a>'\n",
              "          + ' to learn more about interactive tables.';\n",
              "        element.innerHTML = '';\n",
              "        dataTable['output_type'] = 'display_data';\n",
              "        await google.colab.output.renderOutput(dataTable, element);\n",
              "        const docLink = document.createElement('div');\n",
              "        docLink.innerHTML = docLinkHtml;\n",
              "        element.appendChild(docLink);\n",
              "      }\n",
              "    </script>\n",
              "  </div>\n",
              "\n",
              "\n",
              "<div id=\"df-7c84c263-14fc-4ed2-9d75-231980ebab4c\">\n",
              "  <button class=\"colab-df-quickchart\" onclick=\"quickchart('df-7c84c263-14fc-4ed2-9d75-231980ebab4c')\"\n",
              "            title=\"Suggest charts\"\n",
              "            style=\"display:none;\">\n",
              "\n",
              "<svg xmlns=\"http://www.w3.org/2000/svg\" height=\"24px\"viewBox=\"0 0 24 24\"\n",
              "     width=\"24px\">\n",
              "    <g>\n",
              "        <path d=\"M19 3H5c-1.1 0-2 .9-2 2v14c0 1.1.9 2 2 2h14c1.1 0 2-.9 2-2V5c0-1.1-.9-2-2-2zM9 17H7v-7h2v7zm4 0h-2V7h2v10zm4 0h-2v-4h2v4z\"/>\n",
              "    </g>\n",
              "</svg>\n",
              "  </button>\n",
              "\n",
              "<style>\n",
              "  .colab-df-quickchart {\n",
              "      --bg-color: #E8F0FE;\n",
              "      --fill-color: #1967D2;\n",
              "      --hover-bg-color: #E2EBFA;\n",
              "      --hover-fill-color: #174EA6;\n",
              "      --disabled-fill-color: #AAA;\n",
              "      --disabled-bg-color: #DDD;\n",
              "  }\n",
              "\n",
              "  [theme=dark] .colab-df-quickchart {\n",
              "      --bg-color: #3B4455;\n",
              "      --fill-color: #D2E3FC;\n",
              "      --hover-bg-color: #434B5C;\n",
              "      --hover-fill-color: #FFFFFF;\n",
              "      --disabled-bg-color: #3B4455;\n",
              "      --disabled-fill-color: #666;\n",
              "  }\n",
              "\n",
              "  .colab-df-quickchart {\n",
              "    background-color: var(--bg-color);\n",
              "    border: none;\n",
              "    border-radius: 50%;\n",
              "    cursor: pointer;\n",
              "    display: none;\n",
              "    fill: var(--fill-color);\n",
              "    height: 32px;\n",
              "    padding: 0;\n",
              "    width: 32px;\n",
              "  }\n",
              "\n",
              "  .colab-df-quickchart:hover {\n",
              "    background-color: var(--hover-bg-color);\n",
              "    box-shadow: 0 1px 2px rgba(60, 64, 67, 0.3), 0 1px 3px 1px rgba(60, 64, 67, 0.15);\n",
              "    fill: var(--button-hover-fill-color);\n",
              "  }\n",
              "\n",
              "  .colab-df-quickchart-complete:disabled,\n",
              "  .colab-df-quickchart-complete:disabled:hover {\n",
              "    background-color: var(--disabled-bg-color);\n",
              "    fill: var(--disabled-fill-color);\n",
              "    box-shadow: none;\n",
              "  }\n",
              "\n",
              "  .colab-df-spinner {\n",
              "    border: 2px solid var(--fill-color);\n",
              "    border-color: transparent;\n",
              "    border-bottom-color: var(--fill-color);\n",
              "    animation:\n",
              "      spin 1s steps(1) infinite;\n",
              "  }\n",
              "\n",
              "  @keyframes spin {\n",
              "    0% {\n",
              "      border-color: transparent;\n",
              "      border-bottom-color: var(--fill-color);\n",
              "      border-left-color: var(--fill-color);\n",
              "    }\n",
              "    20% {\n",
              "      border-color: transparent;\n",
              "      border-left-color: var(--fill-color);\n",
              "      border-top-color: var(--fill-color);\n",
              "    }\n",
              "    30% {\n",
              "      border-color: transparent;\n",
              "      border-left-color: var(--fill-color);\n",
              "      border-top-color: var(--fill-color);\n",
              "      border-right-color: var(--fill-color);\n",
              "    }\n",
              "    40% {\n",
              "      border-color: transparent;\n",
              "      border-right-color: var(--fill-color);\n",
              "      border-top-color: var(--fill-color);\n",
              "    }\n",
              "    60% {\n",
              "      border-color: transparent;\n",
              "      border-right-color: var(--fill-color);\n",
              "    }\n",
              "    80% {\n",
              "      border-color: transparent;\n",
              "      border-right-color: var(--fill-color);\n",
              "      border-bottom-color: var(--fill-color);\n",
              "    }\n",
              "    90% {\n",
              "      border-color: transparent;\n",
              "      border-bottom-color: var(--fill-color);\n",
              "    }\n",
              "  }\n",
              "</style>\n",
              "\n",
              "  <script>\n",
              "    async function quickchart(key) {\n",
              "      const quickchartButtonEl =\n",
              "        document.querySelector('#' + key + ' button');\n",
              "      quickchartButtonEl.disabled = true;  // To prevent multiple clicks.\n",
              "      quickchartButtonEl.classList.add('colab-df-spinner');\n",
              "      try {\n",
              "        const charts = await google.colab.kernel.invokeFunction(\n",
              "            'suggestCharts', [key], {});\n",
              "      } catch (error) {\n",
              "        console.error('Error during call to suggestCharts:', error);\n",
              "      }\n",
              "      quickchartButtonEl.classList.remove('colab-df-spinner');\n",
              "      quickchartButtonEl.classList.add('colab-df-quickchart-complete');\n",
              "    }\n",
              "    (() => {\n",
              "      let quickchartButtonEl =\n",
              "        document.querySelector('#df-7c84c263-14fc-4ed2-9d75-231980ebab4c button');\n",
              "      quickchartButtonEl.style.display =\n",
              "        google.colab.kernel.accessAllowed ? 'block' : 'none';\n",
              "    })();\n",
              "  </script>\n",
              "</div>\n",
              "\n",
              "    </div>\n",
              "  </div>\n"
            ],
            "application/vnd.google.colaboratory.intrinsic+json": {
              "type": "dataframe",
              "variable_name": "imdb_sample",
              "summary": "{\n  \"name\": \"imdb_sample\",\n  \"rows\": 5000,\n  \"fields\": [\n    {\n      \"column\": \"label\",\n      \"properties\": {\n        \"dtype\": \"number\",\n        \"std\": 0,\n        \"min\": 0,\n        \"max\": 1,\n        \"num_unique_values\": 2,\n        \"samples\": [\n          0,\n          1\n        ],\n        \"semantic_type\": \"\",\n        \"description\": \"\"\n      }\n    },\n    {\n      \"column\": \"text\",\n      \"properties\": {\n        \"dtype\": \"string\",\n        \"num_unique_values\": 4995,\n        \"samples\": [\n          \"This type of plot really does have a lot of potential, but it was butchered here. Honestly, I sensed the cheese element in the beginning, but I thought it would get better after the grotesque birthing. Whoa, I was wrong! So mad scientist makes a monster, wants to brag to his old cronies before he kills them, but of course they escape. After that, it's really bad. I should've counted the times the rubber shark mask peeked out from behind some foliage, but I most likely would have lost count.<br /><br />Pan down to the blood-dripping-from-severed-leg to show us how the shark-man finds the folks. I hate being spoon-fed every aspect of a horror film.<br /><br />Oh, and after being nearly killed by a mutated shark-man and trudging around a jungle-esqe island, there's nothing more cheerful than a middle-aged man reciting Shakespeare...<br /><br />This is one where you'll find yourself rooting for the monster... if you can bear to watch this poor excuse for a flick.\",\n          \"If you know the story of Grey Owl, you'll love the movie! Annie Galipeau is a great actress, and Pierce is better than never in Grey Owl. But in this movie there's no real scene of action. I think this movie should be nominated at the Oscars! Welll go see this movie, it's A CLASSIC!\"\n        ],\n        \"semantic_type\": \"\",\n        \"description\": \"\"\n      }\n    }\n  ]\n}"
            }
          },
          "metadata": {},
          "execution_count": 45
        }
      ]
    },
    {
      "cell_type": "code",
      "source": [
        "imdb_sample['label'].value_counts()"
      ],
      "metadata": {
        "colab": {
          "base_uri": "https://localhost:8080/"
        },
        "id": "uAzVGve0ULG4",
        "outputId": "138346d2-0d5b-494f-c6ff-c300bc10d7c3"
      },
      "execution_count": null,
      "outputs": [
        {
          "output_type": "execute_result",
          "data": {
            "text/plain": [
              "label\n",
              "1    2537\n",
              "0    2463\n",
              "Name: count, dtype: int64"
            ]
          },
          "metadata": {},
          "execution_count": 46
        }
      ]
    },
    {
      "cell_type": "markdown",
      "source": [
        "**Text Length**\n",
        "\n",
        "* Understanding the distribution of text lengths is important for several reasons. First, it can provide insight into a reviewer's messaging strategy. For instance, if most of their reviews are short, it could mean they are aiming for brevity and efficiency. Conversely, if they write longer reviews, it could indicate they are looking to provide detailed information or engage in meaningful dialogue.\n",
        "\n",
        "* Second, there may be a case where the length of the review is indicative of a positive or negative review. Thus, we can test this hypothesis by comparing statistical values related to each group to see if there is a correlation between the length of a review and its label."
      ],
      "metadata": {
        "id": "Zb0TnzXvUwoq"
      }
    },
    {
      "cell_type": "code",
      "source": [
        "imdb_sample['text_length'] = [len(review.split()) for review in imdb_sample['text']]"
      ],
      "metadata": {
        "id": "v_o9X0qTVGaa"
      },
      "execution_count": null,
      "outputs": []
    },
    {
      "cell_type": "code",
      "source": [
        "imdb_sample.head()"
      ],
      "metadata": {
        "colab": {
          "base_uri": "https://localhost:8080/",
          "height": 206
        },
        "id": "_4M-S5kJVWpG",
        "outputId": "a0f44048-8066-48ed-ad22-0e9fe3d7eebd"
      },
      "execution_count": null,
      "outputs": [
        {
          "output_type": "execute_result",
          "data": {
            "text/plain": [
              "       label                                               text  text_length\n",
              "20094      1  \"The Godfather\" of television, but aside from ...          243\n",
              "17218      0  Okay, I've watched this movie twice now, I hav...          639\n",
              "3773       0  Okay, so the previews to this film only tells ...          173\n",
              "20529      0  Yet ANOTHER movie about a group of less-than-i...          384\n",
              "18073      1  This unpretentious Horror film is probably des...           32"
            ],
            "text/html": [
              "\n",
              "  <div id=\"df-2c843bb0-fa78-40cd-8757-d746758b3a1f\" class=\"colab-df-container\">\n",
              "    <div>\n",
              "<style scoped>\n",
              "    .dataframe tbody tr th:only-of-type {\n",
              "        vertical-align: middle;\n",
              "    }\n",
              "\n",
              "    .dataframe tbody tr th {\n",
              "        vertical-align: top;\n",
              "    }\n",
              "\n",
              "    .dataframe thead th {\n",
              "        text-align: right;\n",
              "    }\n",
              "</style>\n",
              "<table border=\"1\" class=\"dataframe\">\n",
              "  <thead>\n",
              "    <tr style=\"text-align: right;\">\n",
              "      <th></th>\n",
              "      <th>label</th>\n",
              "      <th>text</th>\n",
              "      <th>text_length</th>\n",
              "    </tr>\n",
              "  </thead>\n",
              "  <tbody>\n",
              "    <tr>\n",
              "      <th>20094</th>\n",
              "      <td>1</td>\n",
              "      <td>\"The Godfather\" of television, but aside from ...</td>\n",
              "      <td>243</td>\n",
              "    </tr>\n",
              "    <tr>\n",
              "      <th>17218</th>\n",
              "      <td>0</td>\n",
              "      <td>Okay, I've watched this movie twice now, I hav...</td>\n",
              "      <td>639</td>\n",
              "    </tr>\n",
              "    <tr>\n",
              "      <th>3773</th>\n",
              "      <td>0</td>\n",
              "      <td>Okay, so the previews to this film only tells ...</td>\n",
              "      <td>173</td>\n",
              "    </tr>\n",
              "    <tr>\n",
              "      <th>20529</th>\n",
              "      <td>0</td>\n",
              "      <td>Yet ANOTHER movie about a group of less-than-i...</td>\n",
              "      <td>384</td>\n",
              "    </tr>\n",
              "    <tr>\n",
              "      <th>18073</th>\n",
              "      <td>1</td>\n",
              "      <td>This unpretentious Horror film is probably des...</td>\n",
              "      <td>32</td>\n",
              "    </tr>\n",
              "  </tbody>\n",
              "</table>\n",
              "</div>\n",
              "    <div class=\"colab-df-buttons\">\n",
              "\n",
              "  <div class=\"colab-df-container\">\n",
              "    <button class=\"colab-df-convert\" onclick=\"convertToInteractive('df-2c843bb0-fa78-40cd-8757-d746758b3a1f')\"\n",
              "            title=\"Convert this dataframe to an interactive table.\"\n",
              "            style=\"display:none;\">\n",
              "\n",
              "  <svg xmlns=\"http://www.w3.org/2000/svg\" height=\"24px\" viewBox=\"0 -960 960 960\">\n",
              "    <path d=\"M120-120v-720h720v720H120Zm60-500h600v-160H180v160Zm220 220h160v-160H400v160Zm0 220h160v-160H400v160ZM180-400h160v-160H180v160Zm440 0h160v-160H620v160ZM180-180h160v-160H180v160Zm440 0h160v-160H620v160Z\"/>\n",
              "  </svg>\n",
              "    </button>\n",
              "\n",
              "  <style>\n",
              "    .colab-df-container {\n",
              "      display:flex;\n",
              "      gap: 12px;\n",
              "    }\n",
              "\n",
              "    .colab-df-convert {\n",
              "      background-color: #E8F0FE;\n",
              "      border: none;\n",
              "      border-radius: 50%;\n",
              "      cursor: pointer;\n",
              "      display: none;\n",
              "      fill: #1967D2;\n",
              "      height: 32px;\n",
              "      padding: 0 0 0 0;\n",
              "      width: 32px;\n",
              "    }\n",
              "\n",
              "    .colab-df-convert:hover {\n",
              "      background-color: #E2EBFA;\n",
              "      box-shadow: 0px 1px 2px rgba(60, 64, 67, 0.3), 0px 1px 3px 1px rgba(60, 64, 67, 0.15);\n",
              "      fill: #174EA6;\n",
              "    }\n",
              "\n",
              "    .colab-df-buttons div {\n",
              "      margin-bottom: 4px;\n",
              "    }\n",
              "\n",
              "    [theme=dark] .colab-df-convert {\n",
              "      background-color: #3B4455;\n",
              "      fill: #D2E3FC;\n",
              "    }\n",
              "\n",
              "    [theme=dark] .colab-df-convert:hover {\n",
              "      background-color: #434B5C;\n",
              "      box-shadow: 0px 1px 3px 1px rgba(0, 0, 0, 0.15);\n",
              "      filter: drop-shadow(0px 1px 2px rgba(0, 0, 0, 0.3));\n",
              "      fill: #FFFFFF;\n",
              "    }\n",
              "  </style>\n",
              "\n",
              "    <script>\n",
              "      const buttonEl =\n",
              "        document.querySelector('#df-2c843bb0-fa78-40cd-8757-d746758b3a1f button.colab-df-convert');\n",
              "      buttonEl.style.display =\n",
              "        google.colab.kernel.accessAllowed ? 'block' : 'none';\n",
              "\n",
              "      async function convertToInteractive(key) {\n",
              "        const element = document.querySelector('#df-2c843bb0-fa78-40cd-8757-d746758b3a1f');\n",
              "        const dataTable =\n",
              "          await google.colab.kernel.invokeFunction('convertToInteractive',\n",
              "                                                    [key], {});\n",
              "        if (!dataTable) return;\n",
              "\n",
              "        const docLinkHtml = 'Like what you see? Visit the ' +\n",
              "          '<a target=\"_blank\" href=https://colab.research.google.com/notebooks/data_table.ipynb>data table notebook</a>'\n",
              "          + ' to learn more about interactive tables.';\n",
              "        element.innerHTML = '';\n",
              "        dataTable['output_type'] = 'display_data';\n",
              "        await google.colab.output.renderOutput(dataTable, element);\n",
              "        const docLink = document.createElement('div');\n",
              "        docLink.innerHTML = docLinkHtml;\n",
              "        element.appendChild(docLink);\n",
              "      }\n",
              "    </script>\n",
              "  </div>\n",
              "\n",
              "\n",
              "<div id=\"df-0316a9dc-7da4-4600-a25c-58144450be78\">\n",
              "  <button class=\"colab-df-quickchart\" onclick=\"quickchart('df-0316a9dc-7da4-4600-a25c-58144450be78')\"\n",
              "            title=\"Suggest charts\"\n",
              "            style=\"display:none;\">\n",
              "\n",
              "<svg xmlns=\"http://www.w3.org/2000/svg\" height=\"24px\"viewBox=\"0 0 24 24\"\n",
              "     width=\"24px\">\n",
              "    <g>\n",
              "        <path d=\"M19 3H5c-1.1 0-2 .9-2 2v14c0 1.1.9 2 2 2h14c1.1 0 2-.9 2-2V5c0-1.1-.9-2-2-2zM9 17H7v-7h2v7zm4 0h-2V7h2v10zm4 0h-2v-4h2v4z\"/>\n",
              "    </g>\n",
              "</svg>\n",
              "  </button>\n",
              "\n",
              "<style>\n",
              "  .colab-df-quickchart {\n",
              "      --bg-color: #E8F0FE;\n",
              "      --fill-color: #1967D2;\n",
              "      --hover-bg-color: #E2EBFA;\n",
              "      --hover-fill-color: #174EA6;\n",
              "      --disabled-fill-color: #AAA;\n",
              "      --disabled-bg-color: #DDD;\n",
              "  }\n",
              "\n",
              "  [theme=dark] .colab-df-quickchart {\n",
              "      --bg-color: #3B4455;\n",
              "      --fill-color: #D2E3FC;\n",
              "      --hover-bg-color: #434B5C;\n",
              "      --hover-fill-color: #FFFFFF;\n",
              "      --disabled-bg-color: #3B4455;\n",
              "      --disabled-fill-color: #666;\n",
              "  }\n",
              "\n",
              "  .colab-df-quickchart {\n",
              "    background-color: var(--bg-color);\n",
              "    border: none;\n",
              "    border-radius: 50%;\n",
              "    cursor: pointer;\n",
              "    display: none;\n",
              "    fill: var(--fill-color);\n",
              "    height: 32px;\n",
              "    padding: 0;\n",
              "    width: 32px;\n",
              "  }\n",
              "\n",
              "  .colab-df-quickchart:hover {\n",
              "    background-color: var(--hover-bg-color);\n",
              "    box-shadow: 0 1px 2px rgba(60, 64, 67, 0.3), 0 1px 3px 1px rgba(60, 64, 67, 0.15);\n",
              "    fill: var(--button-hover-fill-color);\n",
              "  }\n",
              "\n",
              "  .colab-df-quickchart-complete:disabled,\n",
              "  .colab-df-quickchart-complete:disabled:hover {\n",
              "    background-color: var(--disabled-bg-color);\n",
              "    fill: var(--disabled-fill-color);\n",
              "    box-shadow: none;\n",
              "  }\n",
              "\n",
              "  .colab-df-spinner {\n",
              "    border: 2px solid var(--fill-color);\n",
              "    border-color: transparent;\n",
              "    border-bottom-color: var(--fill-color);\n",
              "    animation:\n",
              "      spin 1s steps(1) infinite;\n",
              "  }\n",
              "\n",
              "  @keyframes spin {\n",
              "    0% {\n",
              "      border-color: transparent;\n",
              "      border-bottom-color: var(--fill-color);\n",
              "      border-left-color: var(--fill-color);\n",
              "    }\n",
              "    20% {\n",
              "      border-color: transparent;\n",
              "      border-left-color: var(--fill-color);\n",
              "      border-top-color: var(--fill-color);\n",
              "    }\n",
              "    30% {\n",
              "      border-color: transparent;\n",
              "      border-left-color: var(--fill-color);\n",
              "      border-top-color: var(--fill-color);\n",
              "      border-right-color: var(--fill-color);\n",
              "    }\n",
              "    40% {\n",
              "      border-color: transparent;\n",
              "      border-right-color: var(--fill-color);\n",
              "      border-top-color: var(--fill-color);\n",
              "    }\n",
              "    60% {\n",
              "      border-color: transparent;\n",
              "      border-right-color: var(--fill-color);\n",
              "    }\n",
              "    80% {\n",
              "      border-color: transparent;\n",
              "      border-right-color: var(--fill-color);\n",
              "      border-bottom-color: var(--fill-color);\n",
              "    }\n",
              "    90% {\n",
              "      border-color: transparent;\n",
              "      border-bottom-color: var(--fill-color);\n",
              "    }\n",
              "  }\n",
              "</style>\n",
              "\n",
              "  <script>\n",
              "    async function quickchart(key) {\n",
              "      const quickchartButtonEl =\n",
              "        document.querySelector('#' + key + ' button');\n",
              "      quickchartButtonEl.disabled = true;  // To prevent multiple clicks.\n",
              "      quickchartButtonEl.classList.add('colab-df-spinner');\n",
              "      try {\n",
              "        const charts = await google.colab.kernel.invokeFunction(\n",
              "            'suggestCharts', [key], {});\n",
              "      } catch (error) {\n",
              "        console.error('Error during call to suggestCharts:', error);\n",
              "      }\n",
              "      quickchartButtonEl.classList.remove('colab-df-spinner');\n",
              "      quickchartButtonEl.classList.add('colab-df-quickchart-complete');\n",
              "    }\n",
              "    (() => {\n",
              "      let quickchartButtonEl =\n",
              "        document.querySelector('#df-0316a9dc-7da4-4600-a25c-58144450be78 button');\n",
              "      quickchartButtonEl.style.display =\n",
              "        google.colab.kernel.accessAllowed ? 'block' : 'none';\n",
              "    })();\n",
              "  </script>\n",
              "</div>\n",
              "\n",
              "    </div>\n",
              "  </div>\n"
            ],
            "application/vnd.google.colaboratory.intrinsic+json": {
              "type": "dataframe",
              "variable_name": "imdb_sample",
              "summary": "{\n  \"name\": \"imdb_sample\",\n  \"rows\": 5000,\n  \"fields\": [\n    {\n      \"column\": \"label\",\n      \"properties\": {\n        \"dtype\": \"number\",\n        \"std\": 0,\n        \"min\": 0,\n        \"max\": 1,\n        \"num_unique_values\": 2,\n        \"samples\": [\n          0,\n          1\n        ],\n        \"semantic_type\": \"\",\n        \"description\": \"\"\n      }\n    },\n    {\n      \"column\": \"text\",\n      \"properties\": {\n        \"dtype\": \"string\",\n        \"num_unique_values\": 4995,\n        \"samples\": [\n          \"This type of plot really does have a lot of potential, but it was butchered here. Honestly, I sensed the cheese element in the beginning, but I thought it would get better after the grotesque birthing. Whoa, I was wrong! So mad scientist makes a monster, wants to brag to his old cronies before he kills them, but of course they escape. After that, it's really bad. I should've counted the times the rubber shark mask peeked out from behind some foliage, but I most likely would have lost count.<br /><br />Pan down to the blood-dripping-from-severed-leg to show us how the shark-man finds the folks. I hate being spoon-fed every aspect of a horror film.<br /><br />Oh, and after being nearly killed by a mutated shark-man and trudging around a jungle-esqe island, there's nothing more cheerful than a middle-aged man reciting Shakespeare...<br /><br />This is one where you'll find yourself rooting for the monster... if you can bear to watch this poor excuse for a flick.\",\n          \"If you know the story of Grey Owl, you'll love the movie! Annie Galipeau is a great actress, and Pierce is better than never in Grey Owl. But in this movie there's no real scene of action. I think this movie should be nominated at the Oscars! Welll go see this movie, it's A CLASSIC!\"\n        ],\n        \"semantic_type\": \"\",\n        \"description\": \"\"\n      }\n    },\n    {\n      \"column\": \"text_length\",\n      \"properties\": {\n        \"dtype\": \"number\",\n        \"std\": 169,\n        \"min\": 11,\n        \"max\": 1522,\n        \"num_unique_values\": 727,\n        \"samples\": [\n          250,\n          651\n        ],\n        \"semantic_type\": \"\",\n        \"description\": \"\"\n      }\n    }\n  ]\n}"
            }
          },
          "metadata": {},
          "execution_count": 48
        }
      ]
    },
    {
      "cell_type": "code",
      "source": [
        "import seaborn as sns\n",
        "import matplotlib.pyplot as plt\n",
        "import pandas as pd"
      ],
      "metadata": {
        "id": "k-a4nCr5VcMs"
      },
      "execution_count": null,
      "outputs": []
    },
    {
      "cell_type": "code",
      "source": [
        "sns.histplot(data=imdb_sample['text_length'], bins=30)\n",
        "plt.xlabel('Text Length')\n",
        "plt.ylabel('Count')\n",
        "plt.show()"
      ],
      "metadata": {
        "colab": {
          "base_uri": "https://localhost:8080/",
          "height": 449
        },
        "id": "cf8Yzd3kVniP",
        "outputId": "87024f79-cbcd-4968-d681-c2e67f3ff1c2"
      },
      "execution_count": null,
      "outputs": [
        {
          "output_type": "display_data",
          "data": {
            "text/plain": [
              "<Figure size 640x480 with 1 Axes>"
            ],
            "image/png": "[encoded data removed]"
          },
          "metadata": {}
        }
      ]
    },
    {
      "cell_type": "code",
      "source": [
        "imdb_sample.groupby('label')['text_length'].median()"
      ],
      "metadata": {
        "colab": {
          "base_uri": "https://localhost:8080/"
        },
        "id": "1oZBcp1NVnmz",
        "outputId": "8c76df8a-4db3-4c82-fc76-f91f312527cd"
      },
      "execution_count": null,
      "outputs": [
        {
          "output_type": "execute_result",
          "data": {
            "text/plain": [
              "label\n",
              "0    170.0\n",
              "1    174.0\n",
              "Name: text_length, dtype: float64"
            ]
          },
          "metadata": {},
          "execution_count": 51
        }
      ]
    },
    {
      "cell_type": "code",
      "source": [
        "imdb_sample.groupby('label')['text_length'].mean()"
      ],
      "metadata": {
        "colab": {
          "base_uri": "https://localhost:8080/"
        },
        "id": "HsGALLx4V_2-",
        "outputId": "b6fe9e99-a1a2-4765-869f-f898ec725658"
      },
      "execution_count": null,
      "outputs": [
        {
          "output_type": "execute_result",
          "data": {
            "text/plain": [
              "label\n",
              "0    229.653268\n",
              "1    232.280252\n",
              "Name: text_length, dtype: float64"
            ]
          },
          "metadata": {},
          "execution_count": 52
        }
      ]
    },
    {
      "cell_type": "code",
      "source": [
        "imdb_sample.groupby('label')['text_length'].std()"
      ],
      "metadata": {
        "colab": {
          "base_uri": "https://localhost:8080/"
        },
        "id": "mAh0H2GcV499",
        "outputId": "96e4dd77-61ad-40dd-ce27-32a9a5858abc"
      },
      "execution_count": null,
      "outputs": [
        {
          "output_type": "execute_result",
          "data": {
            "text/plain": [
              "label\n",
              "0    168.537750\n",
              "1    170.469758\n",
              "Name: text_length, dtype: float64"
            ]
          },
          "metadata": {},
          "execution_count": 53
        }
      ]
    },
    {
      "cell_type": "markdown",
      "source": [
        "From the above code blocks and its results, we can conclude our hypothesis that there is **no correlation** between `text_length` and label (sentiment), since the mean, median and standrad deviation of text length when grouped by labels are similar."
      ],
      "metadata": {
        "id": "lWu0--u0WC2g"
      }
    },
    {
      "cell_type": "markdown",
      "source": [
        "### Visualizing Words\n",
        "\n",
        "* Visualizing the most frequently used words gives us an idea of the general theme or tone of the dataset. This can help us understand its purpose and potential applications.\n",
        "\n",
        "* Visualizing the most frequently used words can help us spot errors in the data. For example, if we see that stopwords are being used a lot in the dataset, it could be a sign that we should eliminate them during text preprocessing. Stopwords are words that are commonly used in a language, but have little semantic meaning. Some examples of stopwords in English include \"a\", \"an\", \"the\", \"of\", \"to\", and \"in\"."
      ],
      "metadata": {
        "id": "kATOuLerh5jC"
      }
    },
    {
      "cell_type": "markdown",
      "source": [
        "**Word Frequency**\n",
        "\n",
        "The first step is to create an object that contains a list of all the words and their associated frequencies. The line of code below creates such an object, `freq_words`:"
      ],
      "metadata": {
        "id": "l38NkB1Ei2kP"
      }
    },
    {
      "cell_type": "code",
      "source": [
        "freq_words = imdb_sample['text'].str.split(expand=True).stack().value_counts()"
      ],
      "metadata": {
        "id": "Fb-XMfyujFJ-"
      },
      "execution_count": null,
      "outputs": []
    },
    {
      "cell_type": "markdown",
      "source": [
        "The code above calculates the frequency of each unique word in the `text` column of a pandas dataframe df. The text is split into separate words, stacked, and the frequency of each word is counted and sorted in descending order.\n",
        "\n",
        "Once the `freq_words` object is created, we can extract the top ten most frequently used words and store them in `freq_words_top10` like so:"
      ],
      "metadata": {
        "id": "zzK5VTICjKm8"
      }
    },
    {
      "cell_type": "code",
      "source": [
        "freq_words_top100 = freq_words[:100]"
      ],
      "metadata": {
        "id": "41hMdaWgjGt9"
      },
      "execution_count": null,
      "outputs": []
    },
    {
      "cell_type": "code",
      "source": [
        "freq_words_top100.index"
      ],
      "metadata": {
        "colab": {
          "base_uri": "https://localhost:8080/"
        },
        "id": "Zm2BOy4wkSeX",
        "outputId": "17acbf21-1386-42ad-8a54-56436d3bb0a1"
      },
      "execution_count": null,
      "outputs": [
        {
          "output_type": "execute_result",
          "data": {
            "text/plain": [
              "Index(['the', 'a', 'and', 'of', 'to', 'is', 'in', 'I', 'that', 'this', 'it',\n",
              "       '/><br', 'was', 'as', 'with', 'for', 'but', 'The', 'on', 'movie', 'are',\n",
              "       'film', 'have', 'his', 'not', 'be', 'you', 'by', 'he', 'an', 'at',\n",
              "       'one', 'from', 'like', 'they', 'who', 'all', 'so', 'has', 'just',\n",
              "       'about', 'or', 'her', 'out', 'some', 'more', 'very', 'This', 'would',\n",
              "       'what', 'good', 'when', 'which', 'only', 'it's', 'It', 'really', 'if',\n",
              "       'their', 'had', 'up', 'my', 'can', 'even', 'were', 'see', 'no', 'than',\n",
              "       'she', '-', 'been', 'into', 'there', 'get', 'story', 'much', 'will',\n",
              "       'because', 'other', 'time', 'also', 'most', 'we', 'me', 'great', 'make',\n",
              "       'its', 'any', 'do', 'first', 'could', 'how', 'people', 'made', '/>The',\n",
              "       'don't', 'bad', 'think', 'being', 'too'],\n",
              "      dtype='object')"
            ]
          },
          "metadata": {},
          "execution_count": 56
        }
      ]
    },
    {
      "cell_type": "code",
      "source": [
        "freq_words_top100.values"
      ],
      "metadata": {
        "colab": {
          "base_uri": "https://localhost:8080/"
        },
        "id": "tak-DmpWkTE7",
        "outputId": "5d475543-bf90-42b6-dd1e-88ec6603f23e"
      },
      "execution_count": null,
      "outputs": [
        {
          "output_type": "execute_result",
          "data": {
            "text/plain": [
              "array([56231, 30581, 29890, 28119, 26094, 20437, 16656, 13264, 12758,\n",
              "       11587, 10912, 10323,  9216,  8476,  8312,  7970,  6694,  6562,\n",
              "        6060,  6003,  5630,  5618,  5430,  5314,  5082,  5074,  5064,\n",
              "        4278,  4174,  4163,  4147,  4064,  3786,  3632,  3609,  3557,\n",
              "        3551,  3302,  3294,  3285,  3271,  3232,  3020,  2900,  2768,\n",
              "        2621,  2532,  2459,  2312,  2300,  2282,  2249,  2210,  2204,\n",
              "        2195,  2180,  2160,  2150,  2126,  2117,  2103,  2093,  2071,\n",
              "        2070,  2010,  2009,  2005,  1991,  1881,  1857,  1819,  1782,\n",
              "        1778,  1726,  1674,  1657,  1653,  1621,  1594,  1583,  1545,\n",
              "        1521,  1512,  1510,  1485,  1468,  1463,  1448,  1443,  1438,\n",
              "        1431,  1412,  1410,  1395,  1385,  1372,  1360,  1345,  1247,\n",
              "        1243])"
            ]
          },
          "metadata": {},
          "execution_count": 57
        }
      ]
    },
    {
      "cell_type": "markdown",
      "source": [
        "**Creating a Treemap**\n",
        "\n",
        "Once we've created the object containing the top 100 most frequently used words, we can use the treemap function from the visualization library plotly.express to generate a treemap."
      ],
      "metadata": {
        "id": "Ul7TWaATjTEb"
      }
    },
    {
      "cell_type": "code",
      "source": [
        "import plotly.express as px\n",
        "\n",
        "fig = px.treemap(freq_words_top100, path=[freq_words_top100.index], values=freq_words_top100.values)\n",
        "fig.update_layout(title_text='Most Frequent 100 Words in the Dataset', title_font=dict(size=20))\n",
        "fig.show()"
      ],
      "metadata": {
        "colab": {
          "base_uri": "https://localhost:8080/",
          "height": 542
        },
        "id": "5QTOEhRSjV7X",
        "outputId": "dc60a5df-14fe-4489-d948-cc2a284a4bfa"
      },
      "execution_count": null,
      "outputs": [
        {
          "output_type": "display_data",
          "data": {
            "text/html": [
              "<html>\n",
              "<head><meta charset=\"utf-8\" /></head>\n",
              "<body>\n",
              "    <div>            <script src=\"https://cdnjs.cloudflare.com/ajax/libs/mathjax/2.7.5/MathJax.js?config=TeX-AMS-MML_SVG\"></script><script type=\"text/javascript\">if (window.MathJax && window.MathJax.Hub && window.MathJax.Hub.Config) {window.MathJax.Hub.Config({SVG: {font: \"STIX-Web\"}});}</script>                <script type=\"text/javascript\">window.PlotlyConfig = {MathJaxConfig: 'local'};</script>\n",
              "        <script charset=\"utf-8\" src=\"https://cdn.plot.ly/plotly-2.24.1.min.js\"></script>                <div id=\"0b242708-07e4-44d8-8d2a-3ced6f9cd963\" class=\"plotly-graph-div\" style=\"height:525px; width:100%;\"></div>            <script type=\"text/javascript\">                                    window.PLOTLYENV=window.PLOTLYENV || {};                                    if (document.getElementById(\"0b242708-07e4-44d8-8d2a-3ced6f9cd963\")) {                    Plotly.newPlot(                        \"0b242708-07e4-44d8-8d2a-3ced6f9cd963\",                        [{\"branchvalues\":\"total\",\"domain\":{\"x\":[0.0,1.0],\"y\":[0.0,1.0]},\"hovertemplate\":\"labels=%{label}\\u003cbr\\u003evalue=%{value}\\u003cbr\\u003eparent=%{parent}\\u003cbr\\u003eid=%{id}\\u003cextra\\u003e\\u003c\\u002fextra\\u003e\",\"ids\":[\"-\",\"\\u002f\\u003e\\u003cbr\",\"\\u002f\\u003eThe\",\"I\",\"It\",\"The\",\"This\",\"a\",\"about\",\"all\",\"also\",\"an\",\"and\",\"any\",\"are\",\"as\",\"at\",\"bad\",\"be\",\"because\",\"been\",\"being\",\"but\",\"by\",\"can\",\"could\",\"do\",\"don't\",\"even\",\"film\",\"first\",\"for\",\"from\",\"get\",\"good\",\"great\",\"had\",\"has\",\"have\",\"he\",\"her\",\"his\",\"how\",\"if\",\"in\",\"into\",\"is\",\"it\",\"it's\",\"its\",\"just\",\"like\",\"made\",\"make\",\"me\",\"more\",\"most\",\"movie\",\"much\",\"my\",\"no\",\"not\",\"of\",\"on\",\"one\",\"only\",\"or\",\"other\",\"out\",\"people\",\"really\",\"see\",\"she\",\"so\",\"some\",\"story\",\"than\",\"that\",\"the\",\"their\",\"there\",\"they\",\"think\",\"this\",\"time\",\"to\",\"too\",\"up\",\"very\",\"was\",\"we\",\"were\",\"what\",\"when\",\"which\",\"who\",\"will\",\"with\",\"would\",\"you\"],\"labels\":[\"-\",\"\\u002f\\u003e\\u003cbr\",\"\\u002f\\u003eThe\",\"I\",\"It\",\"The\",\"This\",\"a\",\"about\",\"all\",\"also\",\"an\",\"and\",\"any\",\"are\",\"as\",\"at\",\"bad\",\"be\",\"because\",\"been\",\"being\",\"but\",\"by\",\"can\",\"could\",\"do\",\"don't\",\"even\",\"film\",\"first\",\"for\",\"from\",\"get\",\"good\",\"great\",\"had\",\"has\",\"have\",\"he\",\"her\",\"his\",\"how\",\"if\",\"in\",\"into\",\"is\",\"it\",\"it's\",\"its\",\"just\",\"like\",\"made\",\"make\",\"me\",\"more\",\"most\",\"movie\",\"much\",\"my\",\"no\",\"not\",\"of\",\"on\",\"one\",\"only\",\"or\",\"other\",\"out\",\"people\",\"really\",\"see\",\"she\",\"so\",\"some\",\"story\",\"than\",\"that\",\"the\",\"their\",\"there\",\"they\",\"think\",\"this\",\"time\",\"to\",\"too\",\"up\",\"very\",\"was\",\"we\",\"were\",\"what\",\"when\",\"which\",\"who\",\"will\",\"with\",\"would\",\"you\"],\"name\":\"\",\"parents\":[\"\",\"\",\"\",\"\",\"\",\"\",\"\",\"\",\"\",\"\",\"\",\"\",\"\",\"\",\"\",\"\",\"\",\"\",\"\",\"\",\"\",\"\",\"\",\"\",\"\",\"\",\"\",\"\",\"\",\"\",\"\",\"\",\"\",\"\",\"\",\"\",\"\",\"\",\"\",\"\",\"\",\"\",\"\",\"\",\"\",\"\",\"\",\"\",\"\",\"\",\"\",\"\",\"\",\"\",\"\",\"\",\"\",\"\",\"\",\"\",\"\",\"\",\"\",\"\",\"\",\"\",\"\",\"\",\"\",\"\",\"\",\"\",\"\",\"\",\"\",\"\",\"\",\"\",\"\",\"\",\"\",\"\",\"\",\"\",\"\",\"\",\"\",\"\",\"\",\"\",\"\",\"\",\"\",\"\",\"\",\"\",\"\",\"\",\"\",\"\"],\"values\":[1857,10323,1385,13264,2180,6562,2459,30581,3271,3551,1545,4163,29890,1448,5630,8476,4147,1360,5074,1621,1819,1247,6694,4278,2071,1431,1443,1372,2070,5618,1438,7970,3786,1726,2282,1485,2117,3294,5430,4174,3020,5314,1412,2150,16656,1782,20437,10912,2195,1463,3285,3632,1395,1468,1510,2621,1521,6003,1657,2093,2005,5082,28119,6060,4064,2204,3232,1594,2900,1410,2160,2009,1881,3302,2768,1674,1991,12758,56231,2126,1778,3609,1345,11587,1583,26094,1243,2103,2532,9216,1512,2010,2300,2249,2210,3557,1653,8312,2312,5064],\"type\":\"treemap\"}],                        {\"template\":{\"data\":{\"histogram2dcontour\":[{\"type\":\"histogram2dcontour\",\"colorbar\":{\"outlinewidth\":0,\"ticks\":\"\"},\"colorscale\":[[0.0,\"#0d0887\"],[0.1111111111111111,\"#46039f\"],[0.2222222222222222,\"#7201a8\"],[0.3333333333333333,\"#9c179e\"],[0.4444444444444444,\"#bd3786\"],[0.5555555555555556,\"#d8576b\"],[0.6666666666666666,\"#ed7953\"],[0.7777777777777778,\"#fb9f3a\"],[0.8888888888888888,\"#fdca26\"],[1.0,\"#f0f921\"]]}],\"choropleth\":[{\"type\":\"choropleth\",\"colorbar\":{\"outlinewidth\":0,\"ticks\":\"\"}}],\"histogram2d\":[{\"type\":\"histogram2d\",\"colorbar\":{\"outlinewidth\":0,\"ticks\":\"\"},\"colorscale\":[[0.0,\"#0d0887\"],[0.1111111111111111,\"#46039f\"],[0.2222222222222222,\"#7201a8\"],[0.3333333333333333,\"#9c179e\"],[0.4444444444444444,\"#bd3786\"],[0.5555555555555556,\"#d8576b\"],[0.6666666666666666,\"#ed7953\"],[0.7777777777777778,\"#fb9f3a\"],[0.8888888888888888,\"#fdca26\"],[1.0,\"#f0f921\"]]}],\"heatmap\":[{\"type\":\"heatmap\",\"colorbar\":{\"outlinewidth\":0,\"ticks\":\"\"},\"colorscale\":[[0.0,\"#0d0887\"],[0.1111111111111111,\"#46039f\"],[0.2222222222222222,\"#7201a8\"],[0.3333333333333333,\"#9c179e\"],[0.4444444444444444,\"#bd3786\"],[0.5555555555555556,\"#d8576b\"],[0.6666666666666666,\"#ed7953\"],[0.7777777777777778,\"#fb9f3a\"],[0.8888888888888888,\"#fdca26\"],[1.0,\"#f0f921\"]]}],\"heatmapgl\":[{\"type\":\"heatmapgl\",\"colorbar\":{\"outlinewidth\":0,\"ticks\":\"\"},\"colorscale\":[[0.0,\"#0d0887\"],[0.1111111111111111,\"#46039f\"],[0.2222222222222222,\"#7201a8\"],[0.3333333333333333,\"#9c179e\"],[0.4444444444444444,\"#bd3786\"],[0.5555555555555556,\"#d8576b\"],[0.6666666666666666,\"#ed7953\"],[0.7777777777777778,\"#fb9f3a\"],[0.8888888888888888,\"#fdca26\"],[1.0,\"#f0f921\"]]}],\"contourcarpet\":[{\"type\":\"contourcarpet\",\"colorbar\":{\"outlinewidth\":0,\"ticks\":\"\"}}],\"contour\":[{\"type\":\"contour\",\"colorbar\":{\"outlinewidth\":0,\"ticks\":\"\"},\"colorscale\":[[0.0,\"#0d0887\"],[0.1111111111111111,\"#46039f\"],[0.2222222222222222,\"#7201a8\"],[0.3333333333333333,\"#9c179e\"],[0.4444444444444444,\"#bd3786\"],[0.5555555555555556,\"#d8576b\"],[0.6666666666666666,\"#ed7953\"],[0.7777777777777778,\"#fb9f3a\"],[0.8888888888888888,\"#fdca26\"],[1.0,\"#f0f921\"]]}],\"surface\":[{\"type\":\"surface\",\"colorbar\":{\"outlinewidth\":0,\"ticks\":\"\"},\"colorscale\":[[0.0,\"#0d0887\"],[0.1111111111111111,\"#46039f\"],[0.2222222222222222,\"#7201a8\"],[0.3333333333333333,\"#9c179e\"],[0.4444444444444444,\"#bd3786\"],[0.5555555555555556,\"#d8576b\"],[0.6666666666666666,\"#ed7953\"],[0.7777777777777778,\"#fb9f3a\"],[0.8888888888888888,\"#fdca26\"],[1.0,\"#f0f921\"]]}],\"mesh3d\":[{\"type\":\"mesh3d\",\"colorbar\":{\"outlinewidth\":0,\"ticks\":\"\"}}],\"scatter\":[{\"fillpattern\":{\"fillmode\":\"overlay\",\"size\":10,\"solidity\":0.2},\"type\":\"scatter\"}],\"parcoords\":[{\"type\":\"parcoords\",\"line\":{\"colorbar\":{\"outlinewidth\":0,\"ticks\":\"\"}}}],\"scatterpolargl\":[{\"type\":\"scatterpolargl\",\"marker\":{\"colorbar\":{\"outlinewidth\":0,\"ticks\":\"\"}}}],\"bar\":[{\"error_x\":{\"color\":\"#2a3f5f\"},\"error_y\":{\"color\":\"#2a3f5f\"},\"marker\":{\"line\":{\"color\":\"#E5ECF6\",\"width\":0.5},\"pattern\":{\"fillmode\":\"overlay\",\"size\":10,\"solidity\":0.2}},\"type\":\"bar\"}],\"scattergeo\":[{\"type\":\"scattergeo\",\"marker\":{\"colorbar\":{\"outlinewidth\":0,\"ticks\":\"\"}}}],\"scatterpolar\":[{\"type\":\"scatterpolar\",\"marker\":{\"colorbar\":{\"outlinewidth\":0,\"ticks\":\"\"}}}],\"histogram\":[{\"marker\":{\"pattern\":{\"fillmode\":\"overlay\",\"size\":10,\"solidity\":0.2}},\"type\":\"histogram\"}],\"scattergl\":[{\"type\":\"scattergl\",\"marker\":{\"colorbar\":{\"outlinewidth\":0,\"ticks\":\"\"}}}],\"scatter3d\":[{\"type\":\"scatter3d\",\"line\":{\"colorbar\":{\"outlinewidth\":0,\"ticks\":\"\"}},\"marker\":{\"colorbar\":{\"outlinewidth\":0,\"ticks\":\"\"}}}],\"scattermapbox\":[{\"type\":\"scattermapbox\",\"marker\":{\"colorbar\":{\"outlinewidth\":0,\"ticks\":\"\"}}}],\"scatterternary\":[{\"type\":\"scatterternary\",\"marker\":{\"colorbar\":{\"outlinewidth\":0,\"ticks\":\"\"}}}],\"scattercarpet\":[{\"type\":\"scattercarpet\",\"marker\":{\"colorbar\":{\"outlinewidth\":0,\"ticks\":\"\"}}}],\"carpet\":[{\"aaxis\":{\"endlinecolor\":\"#2a3f5f\",\"gridcolor\":\"white\",\"linecolor\":\"white\",\"minorgridcolor\":\"white\",\"startlinecolor\":\"#2a3f5f\"},\"baxis\":{\"endlinecolor\":\"#2a3f5f\",\"gridcolor\":\"white\",\"linecolor\":\"white\",\"minorgridcolor\":\"white\",\"startlinecolor\":\"#2a3f5f\"},\"type\":\"carpet\"}],\"table\":[{\"cells\":{\"fill\":{\"color\":\"#EBF0F8\"},\"line\":{\"color\":\"white\"}},\"header\":{\"fill\":{\"color\":\"#C8D4E3\"},\"line\":{\"color\":\"white\"}},\"type\":\"table\"}],\"barpolar\":[{\"marker\":{\"line\":{\"color\":\"#E5ECF6\",\"width\":0.5},\"pattern\":{\"fillmode\":\"overlay\",\"size\":10,\"solidity\":0.2}},\"type\":\"barpolar\"}],\"pie\":[{\"automargin\":true,\"type\":\"pie\"}]},\"layout\":{\"autotypenumbers\":\"strict\",\"colorway\":[\"#636efa\",\"#EF553B\",\"#00cc96\",\"#ab63fa\",\"#FFA15A\",\"#19d3f3\",\"#FF6692\",\"#B6E880\",\"#FF97FF\",\"#FECB52\"],\"font\":{\"color\":\"#2a3f5f\"},\"hovermode\":\"closest\",\"hoverlabel\":{\"align\":\"left\"},\"paper_bgcolor\":\"white\",\"plot_bgcolor\":\"#E5ECF6\",\"polar\":{\"bgcolor\":\"#E5ECF6\",\"angularaxis\":{\"gridcolor\":\"white\",\"linecolor\":\"white\",\"ticks\":\"\"},\"radialaxis\":{\"gridcolor\":\"white\",\"linecolor\":\"white\",\"ticks\":\"\"}},\"ternary\":{\"bgcolor\":\"#E5ECF6\",\"aaxis\":{\"gridcolor\":\"white\",\"linecolor\":\"white\",\"ticks\":\"\"},\"baxis\":{\"gridcolor\":\"white\",\"linecolor\":\"white\",\"ticks\":\"\"},\"caxis\":{\"gridcolor\":\"white\",\"linecolor\":\"white\",\"ticks\":\"\"}},\"coloraxis\":{\"colorbar\":{\"outlinewidth\":0,\"ticks\":\"\"}},\"colorscale\":{\"sequential\":[[0.0,\"#0d0887\"],[0.1111111111111111,\"#46039f\"],[0.2222222222222222,\"#7201a8\"],[0.3333333333333333,\"#9c179e\"],[0.4444444444444444,\"#bd3786\"],[0.5555555555555556,\"#d8576b\"],[0.6666666666666666,\"#ed7953\"],[0.7777777777777778,\"#fb9f3a\"],[0.8888888888888888,\"#fdca26\"],[1.0,\"#f0f921\"]],\"sequentialminus\":[[0.0,\"#0d0887\"],[0.1111111111111111,\"#46039f\"],[0.2222222222222222,\"#7201a8\"],[0.3333333333333333,\"#9c179e\"],[0.4444444444444444,\"#bd3786\"],[0.5555555555555556,\"#d8576b\"],[0.6666666666666666,\"#ed7953\"],[0.7777777777777778,\"#fb9f3a\"],[0.8888888888888888,\"#fdca26\"],[1.0,\"#f0f921\"]],\"diverging\":[[0,\"#8e0152\"],[0.1,\"#c51b7d\"],[0.2,\"#de77ae\"],[0.3,\"#f1b6da\"],[0.4,\"#fde0ef\"],[0.5,\"#f7f7f7\"],[0.6,\"#e6f5d0\"],[0.7,\"#b8e186\"],[0.8,\"#7fbc41\"],[0.9,\"#4d9221\"],[1,\"#276419\"]]},\"xaxis\":{\"gridcolor\":\"white\",\"linecolor\":\"white\",\"ticks\":\"\",\"title\":{\"standoff\":15},\"zerolinecolor\":\"white\",\"automargin\":true,\"zerolinewidth\":2},\"yaxis\":{\"gridcolor\":\"white\",\"linecolor\":\"white\",\"ticks\":\"\",\"title\":{\"standoff\":15},\"zerolinecolor\":\"white\",\"automargin\":true,\"zerolinewidth\":2},\"scene\":{\"xaxis\":{\"backgroundcolor\":\"#E5ECF6\",\"gridcolor\":\"white\",\"linecolor\":\"white\",\"showbackground\":true,\"ticks\":\"\",\"zerolinecolor\":\"white\",\"gridwidth\":2},\"yaxis\":{\"backgroundcolor\":\"#E5ECF6\",\"gridcolor\":\"white\",\"linecolor\":\"white\",\"showbackground\":true,\"ticks\":\"\",\"zerolinecolor\":\"white\",\"gridwidth\":2},\"zaxis\":{\"backgroundcolor\":\"#E5ECF6\",\"gridcolor\":\"white\",\"linecolor\":\"white\",\"showbackground\":true,\"ticks\":\"\",\"zerolinecolor\":\"white\",\"gridwidth\":2}},\"shapedefaults\":{\"line\":{\"color\":\"#2a3f5f\"}},\"annotationdefaults\":{\"arrowcolor\":\"#2a3f5f\",\"arrowhead\":0,\"arrowwidth\":1},\"geo\":{\"bgcolor\":\"white\",\"landcolor\":\"#E5ECF6\",\"subunitcolor\":\"white\",\"showland\":true,\"showlakes\":true,\"lakecolor\":\"white\"},\"title\":{\"x\":0.05},\"mapbox\":{\"style\":\"light\"}}},\"legend\":{\"tracegroupgap\":0},\"margin\":{\"t\":60},\"title\":{\"font\":{\"size\":20},\"text\":\"Most Frequent 100 Words in the Dataset\"}},                        {\"responsive\": true}                    ).then(function(){\n",
              "                            \n",
              "var gd = document.getElementById('0b242708-07e4-44d8-8d2a-3ced6f9cd963');\n",
              "var x = new MutationObserver(function (mutations, observer) {{\n",
              "        var display = window.getComputedStyle(gd).display;\n",
              "        if (!display || display === 'none') {{\n",
              "            console.log([gd, 'removed!']);\n",
              "            Plotly.purge(gd);\n",
              "            observer.disconnect();\n",
              "        }}\n",
              "}});\n",
              "\n",
              "// Listen for the removal of the full notebook cells\n",
              "var notebookContainer = gd.closest('#notebook-container');\n",
              "if (notebookContainer) {{\n",
              "    x.observe(notebookContainer, {childList: true});\n",
              "}}\n",
              "\n",
              "// Listen for the clearing of the current output cell\n",
              "var outputEl = gd.closest('.output');\n",
              "if (outputEl) {{\n",
              "    x.observe(outputEl, {childList: true});\n",
              "}}\n",
              "\n",
              "                        })                };                            </script>        </div>\n",
              "</body>\n",
              "</html>"
            ]
          },
          "metadata": {}
        }
      ]
    },
    {
      "cell_type": "markdown",
      "source": [
        "* The above code produces a treemap that contains the ten most frequently used words in the `text` variable of the df dataframe. The path parameter in the call to the `px.treemap()` function specifies the sequence of indices that define the hierarchy of the treemap. In this case, path is set to `freq_words_top100.index`, which means that the treemap will have a single level and will be based on the index of the `freq_words_top100` Series.\n",
        "\n",
        "* The values parameter specifies the data to use for computing the size of each rectangle in the treemap. In this case, values is set to the values of the `freq_words_top100`, which means that the size of each rectangle will be based on the `freq_words_top100` Series (i.e., the frequency of each word).\n",
        "\n",
        "* A treemap is a great way to visualize frequently used words by arranging them in rectangles of varying size. The size of each rectangle is directly proportional to the frequency of that word in a given text or dataset.\n",
        "\n",
        "* Many stopwords are present in the frequently used words - to be removed during text preprocessing."
      ],
      "metadata": {
        "id": "t31Nu8y2jjrE"
      }
    },
    {
      "cell_type": "markdown",
      "source": [
        "### Text Preprocessing"
      ],
      "metadata": {
        "id": "5SUJ7d6Lk-z8"
      }
    },
    {
      "cell_type": "markdown",
      "source": [
        "* It is a necessary step in any natural language processing (NLP) task, as it helps to clean and standardize the text, making it easier for the NLP algorithm to process. Furthermore, preprocessing can improve the accuracy of our results.\n",
        "\n",
        "* Preprocessing involves several steps that can help improve the overall quality of our text data. These steps include:\n",
        " * Coverting the text to lowercase\n",
        " * Removing punctuation from the text\n",
        " * Tokenizing the text\n",
        " * Removing stopwords from the text\n",
        " * Lemmatization (Stemming) of the text"
      ],
      "metadata": {
        "id": "_S6HO-UUlHf9"
      }
    },
    {
      "cell_type": "markdown",
      "source": [
        "**1. Convert to Lowercase**\n",
        "\n",
        "Conversion to lower case helps to standardize the data and ensures that we aren't working with duplicated words. For example, words like \"Earthquake\" and \"earthquake\" need to be recognized as the same word. Hence, we standardize our data by converting all our text to lowercase."
      ],
      "metadata": {
        "id": "gnlRQH6FlXeA"
      }
    },
    {
      "cell_type": "code",
      "source": [
        "imdb_sample['text'] = imdb_sample['text'].str.lower()"
      ],
      "metadata": {
        "id": "NRA-iKz9kcxL"
      },
      "execution_count": null,
      "outputs": []
    },
    {
      "cell_type": "code",
      "source": [
        "imdb_sample['text'].head()"
      ],
      "metadata": {
        "colab": {
          "base_uri": "https://localhost:8080/"
        },
        "id": "NUTiHs9RlgFH",
        "outputId": "f6277952-7e21-485f-a104-c06945c32c99"
      },
      "execution_count": null,
      "outputs": [
        {
          "output_type": "execute_result",
          "data": {
            "text/plain": [
              "20094    \"the godfather\" of television, but aside from ...\n",
              "17218    okay, i've watched this movie twice now, i hav...\n",
              "3773     okay, so the previews to this film only tells ...\n",
              "20529    yet another movie about a group of less-than-i...\n",
              "18073    this unpretentious horror film is probably des...\n",
              "Name: text, dtype: object"
            ]
          },
          "metadata": {},
          "execution_count": 60
        }
      ]
    },
    {
      "cell_type": "markdown",
      "source": [
        "**2. Removing Punctuation**\n",
        "\n",
        "* In general, removing punctuation is a good preprocessing step for text data. It can improve the accuracy of text processing algorithms and reduce the amount of noise in the data.\n",
        "* This is because punctuation can often be interpreted in different ways, depending on the context. For example, a full stop character (also called a period: .) could be interpreted as the end of a sentence, or it could simply be part of an abbreviation (e.g., Mr.). This can sometimes create ambiguity and potentially make it difficult for a model to process the text accurately.\n",
        "\n",
        "* We'll need the `re` library to complete the punctuation removal task. The Regex (or `re`) is a regular expression library used to match or identify patterns in strings.\n",
        "\n",
        "* We begin by creating a function that uses the `re.sub()` function to remove punctuation from the text input. Then we `apply()` the function on the entire text column, `text`, from the `imdb_sample` dataframe, and assign it back to itself:"
      ],
      "metadata": {
        "id": "iDi6wG9Llqd9"
      }
    },
    {
      "cell_type": "code",
      "source": [
        "import re\n",
        "\n",
        "def punctuation(inputs):\n",
        "    return re.sub(r'[^\\w\\s]', ' ', inputs)\n",
        "\n",
        "imdb_sample['text'] = imdb_sample['text'].apply(punctuation)"
      ],
      "metadata": {
        "id": "Kpj27lXOli3t"
      },
      "execution_count": null,
      "outputs": []
    },
    {
      "cell_type": "markdown",
      "source": [
        "The code above is used to substitute any non-word `(^\\w)` and non-space `(^\\s)` characters with a space `' '` in the `text` column of the dataframe. This effectively removes all punctuation marks from the text."
      ],
      "metadata": {
        "id": "IUNlRvfSmhjC"
      }
    },
    {
      "cell_type": "code",
      "source": [
        "imdb_sample['text'].head()"
      ],
      "metadata": {
        "colab": {
          "base_uri": "https://localhost:8080/"
        },
        "id": "6wFoaxDymtBW",
        "outputId": "0cf35bc3-6e46-429f-d3dd-d6d44e71f36d"
      },
      "execution_count": null,
      "outputs": [
        {
          "output_type": "execute_result",
          "data": {
            "text/plain": [
              "20094     the godfather  of television  but aside from ...\n",
              "17218    okay  i ve watched this movie twice now  i hav...\n",
              "3773     okay  so the previews to this film only tells ...\n",
              "20529    yet another movie about a group of less than i...\n",
              "18073    this unpretentious horror film is probably des...\n",
              "Name: text, dtype: object"
            ]
          },
          "metadata": {},
          "execution_count": 62
        }
      ]
    },
    {
      "cell_type": "markdown",
      "source": [
        "**3. Tokenization**\n",
        "\n",
        "* Tokenization breaks up the text into individual words or phrases called tokens, which can make it easier to work with.\n",
        "* The first library, `nltk`, is the main package which provides access to all other `NLTK` packages. The second library, `punkt`, is used for tokenization — breaking up a sentence into individual words or tokens."
      ],
      "metadata": {
        "id": "PqWqVPZUo1s2"
      }
    },
    {
      "cell_type": "code",
      "source": [
        "import nltk\n",
        "nltk.download('punkt')\n",
        "from nltk.tokenize import word_tokenize\n",
        "\n",
        "def tokenization(inputs):\n",
        "    return word_tokenize(inputs)\n",
        "\n",
        "imdb_sample['text_tokenized'] = imdb_sample['text'].apply(tokenization)"
      ],
      "metadata": {
        "colab": {
          "base_uri": "https://localhost:8080/"
        },
        "id": "NI2WQAJuo5HC",
        "outputId": "129b8901-3772-4a4f-9fe1-34473be00325"
      },
      "execution_count": null,
      "outputs": [
        {
          "output_type": "stream",
          "name": "stderr",
          "text": [
            "[nltk_data] Downloading package punkt to /root/nltk_data...\n",
            "[nltk_data]   Package punkt is already up-to-date!\n"
          ]
        }
      ]
    },
    {
      "cell_type": "code",
      "source": [
        "imdb_sample.head()"
      ],
      "metadata": {
        "colab": {
          "base_uri": "https://localhost:8080/",
          "height": 293
        },
        "id": "H--f2Ee5ylep",
        "outputId": "9522a372-b998-4634-9293-6166429b7be4"
      },
      "execution_count": null,
      "outputs": [
        {
          "output_type": "execute_result",
          "data": {
            "text/plain": [
              "       label                                               text  text_length  \\\n",
              "20094      1   the godfather  of television  but aside from ...          243   \n",
              "17218      0  okay  i ve watched this movie twice now  i hav...          639   \n",
              "3773       0  okay  so the previews to this film only tells ...          173   \n",
              "20529      0  yet another movie about a group of less than i...          384   \n",
              "18073      1  this unpretentious horror film is probably des...           32   \n",
              "\n",
              "                                          text_tokenized  \\\n",
              "20094  [the, godfather, of, television, but, aside, f...   \n",
              "17218  [okay, i, ve, watched, this, movie, twice, now...   \n",
              "3773   [okay, so, the, previews, to, this, film, only...   \n",
              "20529  [yet, another, movie, about, a, group, of, les...   \n",
              "18073  [this, unpretentious, horror, film, is, probab...   \n",
              "\n",
              "                                               text_stop  \\\n",
              "20094  [ , h, e,  , g, f, h, e, r,  ,  , f,  , e, l, ...   \n",
              "17218  [k,  ,  ,  , v, e,  , w, c, h, e,  , h,  , v, ...   \n",
              "3773   [k,  ,  ,  , h, e,  , p, r, e, v, e, w,  ,  , ...   \n",
              "20529  [e,  , n, h, e, r,  , v, e,  , b, u,  ,  , g, ...   \n",
              "18073  [h,  , u, n, p, r, e, e, n, u,  , h, r, r, r, ...   \n",
              "\n",
              "                                         text_lemmatized  \n",
              "20094  [ , t, h, e,  , g, o, d, f, a, t, h, e, r,  , ...  \n",
              "17218  [o, k, a, y,  ,  , i,  , v, e,  , w, a, t, c, ...  \n",
              "3773   [o, k, a, y,  ,  , s, o,  , t, h, e,  , p, r, ...  \n",
              "20529  [y, e, t,  , a, n, o, t, h, e, r,  , m, o, v, ...  \n",
              "18073  [t, h, i, s,  , u, n, p, r, e, t, e, n, t, i, ...  "
            ],
            "text/html": [
              "\n",
              "  <div id=\"df-75c790a5-0aa0-46e6-a9d0-c08d993c1c89\" class=\"colab-df-container\">\n",
              "    <div>\n",
              "<style scoped>\n",
              "    .dataframe tbody tr th:only-of-type {\n",
              "        vertical-align: middle;\n",
              "    }\n",
              "\n",
              "    .dataframe tbody tr th {\n",
              "        vertical-align: top;\n",
              "    }\n",
              "\n",
              "    .dataframe thead th {\n",
              "        text-align: right;\n",
              "    }\n",
              "</style>\n",
              "<table border=\"1\" class=\"dataframe\">\n",
              "  <thead>\n",
              "    <tr style=\"text-align: right;\">\n",
              "      <th></th>\n",
              "      <th>label</th>\n",
              "      <th>text</th>\n",
              "      <th>text_length</th>\n",
              "      <th>text_tokenized</th>\n",
              "      <th>text_stop</th>\n",
              "      <th>text_lemmatized</th>\n",
              "    </tr>\n",
              "  </thead>\n",
              "  <tbody>\n",
              "    <tr>\n",
              "      <th>20094</th>\n",
              "      <td>1</td>\n",
              "      <td>the godfather  of television  but aside from ...</td>\n",
              "      <td>243</td>\n",
              "      <td>[the, godfather, of, television, but, aside, f...</td>\n",
              "      <td>[ , h, e,  , g, f, h, e, r,  ,  , f,  , e, l, ...</td>\n",
              "      <td>[ , t, h, e,  , g, o, d, f, a, t, h, e, r,  , ...</td>\n",
              "    </tr>\n",
              "    <tr>\n",
              "      <th>17218</th>\n",
              "      <td>0</td>\n",
              "      <td>okay  i ve watched this movie twice now  i hav...</td>\n",
              "      <td>639</td>\n",
              "      <td>[okay, i, ve, watched, this, movie, twice, now...</td>\n",
              "      <td>[k,  ,  ,  , v, e,  , w, c, h, e,  , h,  , v, ...</td>\n",
              "      <td>[o, k, a, y,  ,  , i,  , v, e,  , w, a, t, c, ...</td>\n",
              "    </tr>\n",
              "    <tr>\n",
              "      <th>3773</th>\n",
              "      <td>0</td>\n",
              "      <td>okay  so the previews to this film only tells ...</td>\n",
              "      <td>173</td>\n",
              "      <td>[okay, so, the, previews, to, this, film, only...</td>\n",
              "      <td>[k,  ,  ,  , h, e,  , p, r, e, v, e, w,  ,  , ...</td>\n",
              "      <td>[o, k, a, y,  ,  , s, o,  , t, h, e,  , p, r, ...</td>\n",
              "    </tr>\n",
              "    <tr>\n",
              "      <th>20529</th>\n",
              "      <td>0</td>\n",
              "      <td>yet another movie about a group of less than i...</td>\n",
              "      <td>384</td>\n",
              "      <td>[yet, another, movie, about, a, group, of, les...</td>\n",
              "      <td>[e,  , n, h, e, r,  , v, e,  , b, u,  ,  , g, ...</td>\n",
              "      <td>[y, e, t,  , a, n, o, t, h, e, r,  , m, o, v, ...</td>\n",
              "    </tr>\n",
              "    <tr>\n",
              "      <th>18073</th>\n",
              "      <td>1</td>\n",
              "      <td>this unpretentious horror film is probably des...</td>\n",
              "      <td>32</td>\n",
              "      <td>[this, unpretentious, horror, film, is, probab...</td>\n",
              "      <td>[h,  , u, n, p, r, e, e, n, u,  , h, r, r, r, ...</td>\n",
              "      <td>[t, h, i, s,  , u, n, p, r, e, t, e, n, t, i, ...</td>\n",
              "    </tr>\n",
              "  </tbody>\n",
              "</table>\n",
              "</div>\n",
              "    <div class=\"colab-df-buttons\">\n",
              "\n",
              "  <div class=\"colab-df-container\">\n",
              "    <button class=\"colab-df-convert\" onclick=\"convertToInteractive('df-75c790a5-0aa0-46e6-a9d0-c08d993c1c89')\"\n",
              "            title=\"Convert this dataframe to an interactive table.\"\n",
              "            style=\"display:none;\">\n",
              "\n",
              "  <svg xmlns=\"http://www.w3.org/2000/svg\" height=\"24px\" viewBox=\"0 -960 960 960\">\n",
              "    <path d=\"M120-120v-720h720v720H120Zm60-500h600v-160H180v160Zm220 220h160v-160H400v160Zm0 220h160v-160H400v160ZM180-400h160v-160H180v160Zm440 0h160v-160H620v160ZM180-180h160v-160H180v160Zm440 0h160v-160H620v160Z\"/>\n",
              "  </svg>\n",
              "    </button>\n",
              "\n",
              "  <style>\n",
              "    .colab-df-container {\n",
              "      display:flex;\n",
              "      gap: 12px;\n",
              "    }\n",
              "\n",
              "    .colab-df-convert {\n",
              "      background-color: #E8F0FE;\n",
              "      border: none;\n",
              "      border-radius: 50%;\n",
              "      cursor: pointer;\n",
              "      display: none;\n",
              "      fill: #1967D2;\n",
              "      height: 32px;\n",
              "      padding: 0 0 0 0;\n",
              "      width: 32px;\n",
              "    }\n",
              "\n",
              "    .colab-df-convert:hover {\n",
              "      background-color: #E2EBFA;\n",
              "      box-shadow: 0px 1px 2px rgba(60, 64, 67, 0.3), 0px 1px 3px 1px rgba(60, 64, 67, 0.15);\n",
              "      fill: #174EA6;\n",
              "    }\n",
              "\n",
              "    .colab-df-buttons div {\n",
              "      margin-bottom: 4px;\n",
              "    }\n",
              "\n",
              "    [theme=dark] .colab-df-convert {\n",
              "      background-color: #3B4455;\n",
              "      fill: #D2E3FC;\n",
              "    }\n",
              "\n",
              "    [theme=dark] .colab-df-convert:hover {\n",
              "      background-color: #434B5C;\n",
              "      box-shadow: 0px 1px 3px 1px rgba(0, 0, 0, 0.15);\n",
              "      filter: drop-shadow(0px 1px 2px rgba(0, 0, 0, 0.3));\n",
              "      fill: #FFFFFF;\n",
              "    }\n",
              "  </style>\n",
              "\n",
              "    <script>\n",
              "      const buttonEl =\n",
              "        document.querySelector('#df-75c790a5-0aa0-46e6-a9d0-c08d993c1c89 button.colab-df-convert');\n",
              "      buttonEl.style.display =\n",
              "        google.colab.kernel.accessAllowed ? 'block' : 'none';\n",
              "\n",
              "      async function convertToInteractive(key) {\n",
              "        const element = document.querySelector('#df-75c790a5-0aa0-46e6-a9d0-c08d993c1c89');\n",
              "        const dataTable =\n",
              "          await google.colab.kernel.invokeFunction('convertToInteractive',\n",
              "                                                    [key], {});\n",
              "        if (!dataTable) return;\n",
              "\n",
              "        const docLinkHtml = 'Like what you see? Visit the ' +\n",
              "          '<a target=\"_blank\" href=https://colab.research.google.com/notebooks/data_table.ipynb>data table notebook</a>'\n",
              "          + ' to learn more about interactive tables.';\n",
              "        element.innerHTML = '';\n",
              "        dataTable['output_type'] = 'display_data';\n",
              "        await google.colab.output.renderOutput(dataTable, element);\n",
              "        const docLink = document.createElement('div');\n",
              "        docLink.innerHTML = docLinkHtml;\n",
              "        element.appendChild(docLink);\n",
              "      }\n",
              "    </script>\n",
              "  </div>\n",
              "\n",
              "\n",
              "<div id=\"df-941e5128-0d7e-4490-bca2-11006d512a15\">\n",
              "  <button class=\"colab-df-quickchart\" onclick=\"quickchart('df-941e5128-0d7e-4490-bca2-11006d512a15')\"\n",
              "            title=\"Suggest charts\"\n",
              "            style=\"display:none;\">\n",
              "\n",
              "<svg xmlns=\"http://www.w3.org/2000/svg\" height=\"24px\"viewBox=\"0 0 24 24\"\n",
              "     width=\"24px\">\n",
              "    <g>\n",
              "        <path d=\"M19 3H5c-1.1 0-2 .9-2 2v14c0 1.1.9 2 2 2h14c1.1 0 2-.9 2-2V5c0-1.1-.9-2-2-2zM9 17H7v-7h2v7zm4 0h-2V7h2v10zm4 0h-2v-4h2v4z\"/>\n",
              "    </g>\n",
              "</svg>\n",
              "  </button>\n",
              "\n",
              "<style>\n",
              "  .colab-df-quickchart {\n",
              "      --bg-color: #E8F0FE;\n",
              "      --fill-color: #1967D2;\n",
              "      --hover-bg-color: #E2EBFA;\n",
              "      --hover-fill-color: #174EA6;\n",
              "      --disabled-fill-color: #AAA;\n",
              "      --disabled-bg-color: #DDD;\n",
              "  }\n",
              "\n",
              "  [theme=dark] .colab-df-quickchart {\n",
              "      --bg-color: #3B4455;\n",
              "      --fill-color: #D2E3FC;\n",
              "      --hover-bg-color: #434B5C;\n",
              "      --hover-fill-color: #FFFFFF;\n",
              "      --disabled-bg-color: #3B4455;\n",
              "      --disabled-fill-color: #666;\n",
              "  }\n",
              "\n",
              "  .colab-df-quickchart {\n",
              "    background-color: var(--bg-color);\n",
              "    border: none;\n",
              "    border-radius: 50%;\n",
              "    cursor: pointer;\n",
              "    display: none;\n",
              "    fill: var(--fill-color);\n",
              "    height: 32px;\n",
              "    padding: 0;\n",
              "    width: 32px;\n",
              "  }\n",
              "\n",
              "  .colab-df-quickchart:hover {\n",
              "    background-color: var(--hover-bg-color);\n",
              "    box-shadow: 0 1px 2px rgba(60, 64, 67, 0.3), 0 1px 3px 1px rgba(60, 64, 67, 0.15);\n",
              "    fill: var(--button-hover-fill-color);\n",
              "  }\n",
              "\n",
              "  .colab-df-quickchart-complete:disabled,\n",
              "  .colab-df-quickchart-complete:disabled:hover {\n",
              "    background-color: var(--disabled-bg-color);\n",
              "    fill: var(--disabled-fill-color);\n",
              "    box-shadow: none;\n",
              "  }\n",
              "\n",
              "  .colab-df-spinner {\n",
              "    border: 2px solid var(--fill-color);\n",
              "    border-color: transparent;\n",
              "    border-bottom-color: var(--fill-color);\n",
              "    animation:\n",
              "      spin 1s steps(1) infinite;\n",
              "  }\n",
              "\n",
              "  @keyframes spin {\n",
              "    0% {\n",
              "      border-color: transparent;\n",
              "      border-bottom-color: var(--fill-color);\n",
              "      border-left-color: var(--fill-color);\n",
              "    }\n",
              "    20% {\n",
              "      border-color: transparent;\n",
              "      border-left-color: var(--fill-color);\n",
              "      border-top-color: var(--fill-color);\n",
              "    }\n",
              "    30% {\n",
              "      border-color: transparent;\n",
              "      border-left-color: var(--fill-color);\n",
              "      border-top-color: var(--fill-color);\n",
              "      border-right-color: var(--fill-color);\n",
              "    }\n",
              "    40% {\n",
              "      border-color: transparent;\n",
              "      border-right-color: var(--fill-color);\n",
              "      border-top-color: var(--fill-color);\n",
              "    }\n",
              "    60% {\n",
              "      border-color: transparent;\n",
              "      border-right-color: var(--fill-color);\n",
              "    }\n",
              "    80% {\n",
              "      border-color: transparent;\n",
              "      border-right-color: var(--fill-color);\n",
              "      border-bottom-color: var(--fill-color);\n",
              "    }\n",
              "    90% {\n",
              "      border-color: transparent;\n",
              "      border-bottom-color: var(--fill-color);\n",
              "    }\n",
              "  }\n",
              "</style>\n",
              "\n",
              "  <script>\n",
              "    async function quickchart(key) {\n",
              "      const quickchartButtonEl =\n",
              "        document.querySelector('#' + key + ' button');\n",
              "      quickchartButtonEl.disabled = true;  // To prevent multiple clicks.\n",
              "      quickchartButtonEl.classList.add('colab-df-spinner');\n",
              "      try {\n",
              "        const charts = await google.colab.kernel.invokeFunction(\n",
              "            'suggestCharts', [key], {});\n",
              "      } catch (error) {\n",
              "        console.error('Error during call to suggestCharts:', error);\n",
              "      }\n",
              "      quickchartButtonEl.classList.remove('colab-df-spinner');\n",
              "      quickchartButtonEl.classList.add('colab-df-quickchart-complete');\n",
              "    }\n",
              "    (() => {\n",
              "      let quickchartButtonEl =\n",
              "        document.querySelector('#df-941e5128-0d7e-4490-bca2-11006d512a15 button');\n",
              "      quickchartButtonEl.style.display =\n",
              "        google.colab.kernel.accessAllowed ? 'block' : 'none';\n",
              "    })();\n",
              "  </script>\n",
              "</div>\n",
              "\n",
              "    </div>\n",
              "  </div>\n"
            ],
            "application/vnd.google.colaboratory.intrinsic+json": {
              "type": "dataframe",
              "variable_name": "imdb_sample",
              "summary": "{\n  \"name\": \"imdb_sample\",\n  \"rows\": 5000,\n  \"fields\": [\n    {\n      \"column\": \"label\",\n      \"properties\": {\n        \"dtype\": \"number\",\n        \"std\": 0,\n        \"min\": 0,\n        \"max\": 1,\n        \"num_unique_values\": 2,\n        \"samples\": [\n          0,\n          1\n        ],\n        \"semantic_type\": \"\",\n        \"description\": \"\"\n      }\n    },\n    {\n      \"column\": \"text\",\n      \"properties\": {\n        \"dtype\": \"string\",\n        \"num_unique_values\": 4995,\n        \"samples\": [\n          \"this type of plot really does have a lot of potential  but it was butchered here  honestly  i sensed the cheese element in the beginning  but i thought it would get better after the grotesque birthing  whoa  i was wrong  so mad scientist makes a monster  wants to brag to his old cronies before he kills them  but of course they escape  after that  it s really bad  i should ve counted the times the rubber shark mask peeked out from behind some foliage  but i most likely would have lost count  br    br   pan down to the blood dripping from severed leg to show us how the shark man finds the folks  i hate being spoon fed every aspect of a horror film  br    br   oh  and after being nearly killed by a mutated shark man and trudging around a jungle esqe island  there s nothing more cheerful than a middle aged man reciting shakespeare    br    br   this is one where you ll find yourself rooting for the monster    if you can bear to watch this poor excuse for a flick \",\n          \"if you know the story of grey owl  you ll love the movie  annie galipeau is a great actress  and pierce is better than never in grey owl  but in this movie there s no real scene of action  i think this movie should be nominated at the oscars  welll go see this movie  it s a classic \"\n        ],\n        \"semantic_type\": \"\",\n        \"description\": \"\"\n      }\n    },\n    {\n      \"column\": \"text_length\",\n      \"properties\": {\n        \"dtype\": \"number\",\n        \"std\": 169,\n        \"min\": 11,\n        \"max\": 1522,\n        \"num_unique_values\": 727,\n        \"samples\": [\n          250,\n          651\n        ],\n        \"semantic_type\": \"\",\n        \"description\": \"\"\n      }\n    },\n    {\n      \"column\": \"text_tokenized\",\n      \"properties\": {\n        \"dtype\": \"object\",\n        \"semantic_type\": \"\",\n        \"description\": \"\"\n      }\n    },\n    {\n      \"column\": \"text_stop\",\n      \"properties\": {\n        \"dtype\": \"object\",\n        \"semantic_type\": \"\",\n        \"description\": \"\"\n      }\n    },\n    {\n      \"column\": \"text_lemmatized\",\n      \"properties\": {\n        \"dtype\": \"object\",\n        \"semantic_type\": \"\",\n        \"description\": \"\"\n      }\n    }\n  ]\n}"
            }
          },
          "metadata": {},
          "execution_count": 70
        }
      ]
    },
    {
      "cell_type": "markdown",
      "source": [
        "**4. Stop Words**\n",
        "\n",
        "* Stopwords are words which are commonly used in a language, but have little semantic meaning. They are often used to connect other words in a sentence, or as padding to make a sentence sound more natural.\n",
        "\n",
        "* In information retrieval, stopwords are usually removed from text before performing any kind of analysis because they can interfere with the learning process and skew the model's results.\n",
        "\n",
        "* Some examples of stopwords in English include \"a\", \"an\", \"the\", \"of\", \"to\", and \"in\".\n",
        "\n",
        "* The library `stopwords`, is used to filter out commonly-used words from text that do not contain contextual meaning."
      ],
      "metadata": {
        "id": "38ELYuLYo5UU"
      }
    },
    {
      "cell_type": "code",
      "source": [
        "nltk.download('stopwords')\n",
        "from nltk.corpus import stopwords\n",
        "\n",
        "stop_words = set(stopwords.words('english'))\n",
        "stop_words.remove('not')\n",
        "stop_words.add('br')\n",
        "\n",
        "def stopwords_remove(inputs):\n",
        "    return [word for word in inputs if word not in stop_words]\n",
        "\n",
        "imdb_sample['text_stop'] = imdb_sample['text_tokenized'].apply(stopwords_remove)"
      ],
      "metadata": {
        "colab": {
          "base_uri": "https://localhost:8080/"
        },
        "id": "kfsh6O0vmz1q",
        "outputId": "f0eeca58-8b93-4968-c9e3-3d32256cfcf3"
      },
      "execution_count": null,
      "outputs": [
        {
          "output_type": "stream",
          "name": "stderr",
          "text": [
            "[nltk_data] Downloading package stopwords to /root/nltk_data...\n",
            "[nltk_data]   Package stopwords is already up-to-date!\n"
          ]
        }
      ]
    },
    {
      "cell_type": "markdown",
      "source": [
        "* The above code creates a set of English stopwords and removes the word 'not' from it. This is because the dataset is on movie reviews and the word 'not' is important for correctly identifying positive and negative reviews. Therefore 'not' needs to be removed from our set of stopwords in order to be included in our analysis.\n",
        "\n",
        "* We also add the word 'br' to the set of stopwords because it's an HTML tag that is found in many of the reviews and should be ignored during our analysis."
      ],
      "metadata": {
        "id": "EUhNobR0xyQZ"
      }
    },
    {
      "cell_type": "code",
      "source": [
        "imdb_sample.head()"
      ],
      "metadata": {
        "colab": {
          "base_uri": "https://localhost:8080/",
          "height": 293
        },
        "id": "9k92lbxnyoR_",
        "outputId": "3c41d953-77dd-4a8e-dc90-06a3d807414a"
      },
      "execution_count": null,
      "outputs": [
        {
          "output_type": "execute_result",
          "data": {
            "text/plain": [
              "       label                                               text  text_length  \\\n",
              "20094      1   the godfather  of television  but aside from ...          243   \n",
              "17218      0  okay  i ve watched this movie twice now  i hav...          639   \n",
              "3773       0  okay  so the previews to this film only tells ...          173   \n",
              "20529      0  yet another movie about a group of less than i...          384   \n",
              "18073      1  this unpretentious horror film is probably des...           32   \n",
              "\n",
              "                                          text_tokenized  \\\n",
              "20094  [the, godfather, of, television, but, aside, f...   \n",
              "17218  [okay, i, ve, watched, this, movie, twice, now...   \n",
              "3773   [okay, so, the, previews, to, this, film, only...   \n",
              "20529  [yet, another, movie, about, a, group, of, les...   \n",
              "18073  [this, unpretentious, horror, film, is, probab...   \n",
              "\n",
              "                                               text_stop  \\\n",
              "20094  [godfather, television, aside, acclaim, mobste...   \n",
              "17218  [okay, watched, movie, twice, researched, heav...   \n",
              "3773   [okay, previews, film, tells, rebellious, youn...   \n",
              "20529  [yet, another, movie, group, less, intelligent...   \n",
              "18073  [unpretentious, horror, film, probably, destin...   \n",
              "\n",
              "                                         text_lemmatized  \n",
              "20094  [ , t, h, e,  , g, o, d, f, a, t, h, e, r,  , ...  \n",
              "17218  [o, k, a, y,  ,  , i,  , v, e,  , w, a, t, c, ...  \n",
              "3773   [o, k, a, y,  ,  , s, o,  , t, h, e,  , p, r, ...  \n",
              "20529  [y, e, t,  , a, n, o, t, h, e, r,  , m, o, v, ...  \n",
              "18073  [t, h, i, s,  , u, n, p, r, e, t, e, n, t, i, ...  "
            ],
            "text/html": [
              "\n",
              "  <div id=\"df-c08b11db-bd33-4f23-b853-cb959ec47c39\" class=\"colab-df-container\">\n",
              "    <div>\n",
              "<style scoped>\n",
              "    .dataframe tbody tr th:only-of-type {\n",
              "        vertical-align: middle;\n",
              "    }\n",
              "\n",
              "    .dataframe tbody tr th {\n",
              "        vertical-align: top;\n",
              "    }\n",
              "\n",
              "    .dataframe thead th {\n",
              "        text-align: right;\n",
              "    }\n",
              "</style>\n",
              "<table border=\"1\" class=\"dataframe\">\n",
              "  <thead>\n",
              "    <tr style=\"text-align: right;\">\n",
              "      <th></th>\n",
              "      <th>label</th>\n",
              "      <th>text</th>\n",
              "      <th>text_length</th>\n",
              "      <th>text_tokenized</th>\n",
              "      <th>text_stop</th>\n",
              "      <th>text_lemmatized</th>\n",
              "    </tr>\n",
              "  </thead>\n",
              "  <tbody>\n",
              "    <tr>\n",
              "      <th>20094</th>\n",
              "      <td>1</td>\n",
              "      <td>the godfather  of television  but aside from ...</td>\n",
              "      <td>243</td>\n",
              "      <td>[the, godfather, of, television, but, aside, f...</td>\n",
              "      <td>[godfather, television, aside, acclaim, mobste...</td>\n",
              "      <td>[ , t, h, e,  , g, o, d, f, a, t, h, e, r,  , ...</td>\n",
              "    </tr>\n",
              "    <tr>\n",
              "      <th>17218</th>\n",
              "      <td>0</td>\n",
              "      <td>okay  i ve watched this movie twice now  i hav...</td>\n",
              "      <td>639</td>\n",
              "      <td>[okay, i, ve, watched, this, movie, twice, now...</td>\n",
              "      <td>[okay, watched, movie, twice, researched, heav...</td>\n",
              "      <td>[o, k, a, y,  ,  , i,  , v, e,  , w, a, t, c, ...</td>\n",
              "    </tr>\n",
              "    <tr>\n",
              "      <th>3773</th>\n",
              "      <td>0</td>\n",
              "      <td>okay  so the previews to this film only tells ...</td>\n",
              "      <td>173</td>\n",
              "      <td>[okay, so, the, previews, to, this, film, only...</td>\n",
              "      <td>[okay, previews, film, tells, rebellious, youn...</td>\n",
              "      <td>[o, k, a, y,  ,  , s, o,  , t, h, e,  , p, r, ...</td>\n",
              "    </tr>\n",
              "    <tr>\n",
              "      <th>20529</th>\n",
              "      <td>0</td>\n",
              "      <td>yet another movie about a group of less than i...</td>\n",
              "      <td>384</td>\n",
              "      <td>[yet, another, movie, about, a, group, of, les...</td>\n",
              "      <td>[yet, another, movie, group, less, intelligent...</td>\n",
              "      <td>[y, e, t,  , a, n, o, t, h, e, r,  , m, o, v, ...</td>\n",
              "    </tr>\n",
              "    <tr>\n",
              "      <th>18073</th>\n",
              "      <td>1</td>\n",
              "      <td>this unpretentious horror film is probably des...</td>\n",
              "      <td>32</td>\n",
              "      <td>[this, unpretentious, horror, film, is, probab...</td>\n",
              "      <td>[unpretentious, horror, film, probably, destin...</td>\n",
              "      <td>[t, h, i, s,  , u, n, p, r, e, t, e, n, t, i, ...</td>\n",
              "    </tr>\n",
              "  </tbody>\n",
              "</table>\n",
              "</div>\n",
              "    <div class=\"colab-df-buttons\">\n",
              "\n",
              "  <div class=\"colab-df-container\">\n",
              "    <button class=\"colab-df-convert\" onclick=\"convertToInteractive('df-c08b11db-bd33-4f23-b853-cb959ec47c39')\"\n",
              "            title=\"Convert this dataframe to an interactive table.\"\n",
              "            style=\"display:none;\">\n",
              "\n",
              "  <svg xmlns=\"http://www.w3.org/2000/svg\" height=\"24px\" viewBox=\"0 -960 960 960\">\n",
              "    <path d=\"M120-120v-720h720v720H120Zm60-500h600v-160H180v160Zm220 220h160v-160H400v160Zm0 220h160v-160H400v160ZM180-400h160v-160H180v160Zm440 0h160v-160H620v160ZM180-180h160v-160H180v160Zm440 0h160v-160H620v160Z\"/>\n",
              "  </svg>\n",
              "    </button>\n",
              "\n",
              "  <style>\n",
              "    .colab-df-container {\n",
              "      display:flex;\n",
              "      gap: 12px;\n",
              "    }\n",
              "\n",
              "    .colab-df-convert {\n",
              "      background-color: #E8F0FE;\n",
              "      border: none;\n",
              "      border-radius: 50%;\n",
              "      cursor: pointer;\n",
              "      display: none;\n",
              "      fill: #1967D2;\n",
              "      height: 32px;\n",
              "      padding: 0 0 0 0;\n",
              "      width: 32px;\n",
              "    }\n",
              "\n",
              "    .colab-df-convert:hover {\n",
              "      background-color: #E2EBFA;\n",
              "      box-shadow: 0px 1px 2px rgba(60, 64, 67, 0.3), 0px 1px 3px 1px rgba(60, 64, 67, 0.15);\n",
              "      fill: #174EA6;\n",
              "    }\n",
              "\n",
              "    .colab-df-buttons div {\n",
              "      margin-bottom: 4px;\n",
              "    }\n",
              "\n",
              "    [theme=dark] .colab-df-convert {\n",
              "      background-color: #3B4455;\n",
              "      fill: #D2E3FC;\n",
              "    }\n",
              "\n",
              "    [theme=dark] .colab-df-convert:hover {\n",
              "      background-color: #434B5C;\n",
              "      box-shadow: 0px 1px 3px 1px rgba(0, 0, 0, 0.15);\n",
              "      filter: drop-shadow(0px 1px 2px rgba(0, 0, 0, 0.3));\n",
              "      fill: #FFFFFF;\n",
              "    }\n",
              "  </style>\n",
              "\n",
              "    <script>\n",
              "      const buttonEl =\n",
              "        document.querySelector('#df-c08b11db-bd33-4f23-b853-cb959ec47c39 button.colab-df-convert');\n",
              "      buttonEl.style.display =\n",
              "        google.colab.kernel.accessAllowed ? 'block' : 'none';\n",
              "\n",
              "      async function convertToInteractive(key) {\n",
              "        const element = document.querySelector('#df-c08b11db-bd33-4f23-b853-cb959ec47c39');\n",
              "        const dataTable =\n",
              "          await google.colab.kernel.invokeFunction('convertToInteractive',\n",
              "                                                    [key], {});\n",
              "        if (!dataTable) return;\n",
              "\n",
              "        const docLinkHtml = 'Like what you see? Visit the ' +\n",
              "          '<a target=\"_blank\" href=https://colab.research.google.com/notebooks/data_table.ipynb>data table notebook</a>'\n",
              "          + ' to learn more about interactive tables.';\n",
              "        element.innerHTML = '';\n",
              "        dataTable['output_type'] = 'display_data';\n",
              "        await google.colab.output.renderOutput(dataTable, element);\n",
              "        const docLink = document.createElement('div');\n",
              "        docLink.innerHTML = docLinkHtml;\n",
              "        element.appendChild(docLink);\n",
              "      }\n",
              "    </script>\n",
              "  </div>\n",
              "\n",
              "\n",
              "<div id=\"df-519c1497-0dc1-4f17-b463-aecfecd93b2a\">\n",
              "  <button class=\"colab-df-quickchart\" onclick=\"quickchart('df-519c1497-0dc1-4f17-b463-aecfecd93b2a')\"\n",
              "            title=\"Suggest charts\"\n",
              "            style=\"display:none;\">\n",
              "\n",
              "<svg xmlns=\"http://www.w3.org/2000/svg\" height=\"24px\"viewBox=\"0 0 24 24\"\n",
              "     width=\"24px\">\n",
              "    <g>\n",
              "        <path d=\"M19 3H5c-1.1 0-2 .9-2 2v14c0 1.1.9 2 2 2h14c1.1 0 2-.9 2-2V5c0-1.1-.9-2-2-2zM9 17H7v-7h2v7zm4 0h-2V7h2v10zm4 0h-2v-4h2v4z\"/>\n",
              "    </g>\n",
              "</svg>\n",
              "  </button>\n",
              "\n",
              "<style>\n",
              "  .colab-df-quickchart {\n",
              "      --bg-color: #E8F0FE;\n",
              "      --fill-color: #1967D2;\n",
              "      --hover-bg-color: #E2EBFA;\n",
              "      --hover-fill-color: #174EA6;\n",
              "      --disabled-fill-color: #AAA;\n",
              "      --disabled-bg-color: #DDD;\n",
              "  }\n",
              "\n",
              "  [theme=dark] .colab-df-quickchart {\n",
              "      --bg-color: #3B4455;\n",
              "      --fill-color: #D2E3FC;\n",
              "      --hover-bg-color: #434B5C;\n",
              "      --hover-fill-color: #FFFFFF;\n",
              "      --disabled-bg-color: #3B4455;\n",
              "      --disabled-fill-color: #666;\n",
              "  }\n",
              "\n",
              "  .colab-df-quickchart {\n",
              "    background-color: var(--bg-color);\n",
              "    border: none;\n",
              "    border-radius: 50%;\n",
              "    cursor: pointer;\n",
              "    display: none;\n",
              "    fill: var(--fill-color);\n",
              "    height: 32px;\n",
              "    padding: 0;\n",
              "    width: 32px;\n",
              "  }\n",
              "\n",
              "  .colab-df-quickchart:hover {\n",
              "    background-color: var(--hover-bg-color);\n",
              "    box-shadow: 0 1px 2px rgba(60, 64, 67, 0.3), 0 1px 3px 1px rgba(60, 64, 67, 0.15);\n",
              "    fill: var(--button-hover-fill-color);\n",
              "  }\n",
              "\n",
              "  .colab-df-quickchart-complete:disabled,\n",
              "  .colab-df-quickchart-complete:disabled:hover {\n",
              "    background-color: var(--disabled-bg-color);\n",
              "    fill: var(--disabled-fill-color);\n",
              "    box-shadow: none;\n",
              "  }\n",
              "\n",
              "  .colab-df-spinner {\n",
              "    border: 2px solid var(--fill-color);\n",
              "    border-color: transparent;\n",
              "    border-bottom-color: var(--fill-color);\n",
              "    animation:\n",
              "      spin 1s steps(1) infinite;\n",
              "  }\n",
              "\n",
              "  @keyframes spin {\n",
              "    0% {\n",
              "      border-color: transparent;\n",
              "      border-bottom-color: var(--fill-color);\n",
              "      border-left-color: var(--fill-color);\n",
              "    }\n",
              "    20% {\n",
              "      border-color: transparent;\n",
              "      border-left-color: var(--fill-color);\n",
              "      border-top-color: var(--fill-color);\n",
              "    }\n",
              "    30% {\n",
              "      border-color: transparent;\n",
              "      border-left-color: var(--fill-color);\n",
              "      border-top-color: var(--fill-color);\n",
              "      border-right-color: var(--fill-color);\n",
              "    }\n",
              "    40% {\n",
              "      border-color: transparent;\n",
              "      border-right-color: var(--fill-color);\n",
              "      border-top-color: var(--fill-color);\n",
              "    }\n",
              "    60% {\n",
              "      border-color: transparent;\n",
              "      border-right-color: var(--fill-color);\n",
              "    }\n",
              "    80% {\n",
              "      border-color: transparent;\n",
              "      border-right-color: var(--fill-color);\n",
              "      border-bottom-color: var(--fill-color);\n",
              "    }\n",
              "    90% {\n",
              "      border-color: transparent;\n",
              "      border-bottom-color: var(--fill-color);\n",
              "    }\n",
              "  }\n",
              "</style>\n",
              "\n",
              "  <script>\n",
              "    async function quickchart(key) {\n",
              "      const quickchartButtonEl =\n",
              "        document.querySelector('#' + key + ' button');\n",
              "      quickchartButtonEl.disabled = true;  // To prevent multiple clicks.\n",
              "      quickchartButtonEl.classList.add('colab-df-spinner');\n",
              "      try {\n",
              "        const charts = await google.colab.kernel.invokeFunction(\n",
              "            'suggestCharts', [key], {});\n",
              "      } catch (error) {\n",
              "        console.error('Error during call to suggestCharts:', error);\n",
              "      }\n",
              "      quickchartButtonEl.classList.remove('colab-df-spinner');\n",
              "      quickchartButtonEl.classList.add('colab-df-quickchart-complete');\n",
              "    }\n",
              "    (() => {\n",
              "      let quickchartButtonEl =\n",
              "        document.querySelector('#df-519c1497-0dc1-4f17-b463-aecfecd93b2a button');\n",
              "      quickchartButtonEl.style.display =\n",
              "        google.colab.kernel.accessAllowed ? 'block' : 'none';\n",
              "    })();\n",
              "  </script>\n",
              "</div>\n",
              "\n",
              "    </div>\n",
              "  </div>\n"
            ],
            "application/vnd.google.colaboratory.intrinsic+json": {
              "type": "dataframe",
              "variable_name": "imdb_sample",
              "summary": "{\n  \"name\": \"imdb_sample\",\n  \"rows\": 5000,\n  \"fields\": [\n    {\n      \"column\": \"label\",\n      \"properties\": {\n        \"dtype\": \"number\",\n        \"std\": 0,\n        \"min\": 0,\n        \"max\": 1,\n        \"num_unique_values\": 2,\n        \"samples\": [\n          0,\n          1\n        ],\n        \"semantic_type\": \"\",\n        \"description\": \"\"\n      }\n    },\n    {\n      \"column\": \"text\",\n      \"properties\": {\n        \"dtype\": \"string\",\n        \"num_unique_values\": 4995,\n        \"samples\": [\n          \"this type of plot really does have a lot of potential  but it was butchered here  honestly  i sensed the cheese element in the beginning  but i thought it would get better after the grotesque birthing  whoa  i was wrong  so mad scientist makes a monster  wants to brag to his old cronies before he kills them  but of course they escape  after that  it s really bad  i should ve counted the times the rubber shark mask peeked out from behind some foliage  but i most likely would have lost count  br    br   pan down to the blood dripping from severed leg to show us how the shark man finds the folks  i hate being spoon fed every aspect of a horror film  br    br   oh  and after being nearly killed by a mutated shark man and trudging around a jungle esqe island  there s nothing more cheerful than a middle aged man reciting shakespeare    br    br   this is one where you ll find yourself rooting for the monster    if you can bear to watch this poor excuse for a flick \",\n          \"if you know the story of grey owl  you ll love the movie  annie galipeau is a great actress  and pierce is better than never in grey owl  but in this movie there s no real scene of action  i think this movie should be nominated at the oscars  welll go see this movie  it s a classic \"\n        ],\n        \"semantic_type\": \"\",\n        \"description\": \"\"\n      }\n    },\n    {\n      \"column\": \"text_length\",\n      \"properties\": {\n        \"dtype\": \"number\",\n        \"std\": 169,\n        \"min\": 11,\n        \"max\": 1522,\n        \"num_unique_values\": 727,\n        \"samples\": [\n          250,\n          651\n        ],\n        \"semantic_type\": \"\",\n        \"description\": \"\"\n      }\n    },\n    {\n      \"column\": \"text_tokenized\",\n      \"properties\": {\n        \"dtype\": \"object\",\n        \"semantic_type\": \"\",\n        \"description\": \"\"\n      }\n    },\n    {\n      \"column\": \"text_stop\",\n      \"properties\": {\n        \"dtype\": \"object\",\n        \"semantic_type\": \"\",\n        \"description\": \"\"\n      }\n    },\n    {\n      \"column\": \"text_lemmatized\",\n      \"properties\": {\n        \"dtype\": \"object\",\n        \"semantic_type\": \"\",\n        \"description\": \"\"\n      }\n    }\n  ]\n}"
            }
          },
          "metadata": {},
          "execution_count": 72
        }
      ]
    },
    {
      "cell_type": "markdown",
      "source": [
        "**5. Lemmatization**\n",
        "\n",
        "* Stemming or lemmatization can help reduce words to their base form, making it easier to compare them. By finding the lemma (root meaning) of each word, we can group together all the different inflected forms of a particular word.\n",
        "* For instance, if we're looking for all the different forms of the word \"run\", we would only need to consider the lemma \"run\" instead of also dealing with words like \"runs\", \"ran\", and \"running\".\n",
        "* The `WordNetLemmatizer` library is used to lemmatize words — reducing them to their base form.\n",
        "* The `wordnet` library is a lexical database of the English language that is used to perform various natural language processing tasks such as synonym detection, part-of-speech tagging, and word sense disambiguation. * Finally, the `omw-1.4` library is a lexical database of several languages that is based on the English WordNet database. It provides lexical information about words in different languages, including definitions, synonyms, and antonyms."
      ],
      "metadata": {
        "id": "A7PSxuBOo8vr"
      }
    },
    {
      "cell_type": "code",
      "source": [
        "from nltk.stem.wordnet import WordNetLemmatizer\n",
        "nltk.download('wordnet')\n",
        "nltk.download('omw-1.4')\n",
        "\n",
        "lemmatizer = WordNetLemmatizer()\n",
        "\n",
        "def lemmatization(inputs):\n",
        "    return [lemmatizer.lemmatize(word=word, pos='v') for word in inputs]\n",
        "\n",
        "imdb_sample['text_lemmatized'] = imdb_sample['text_stop'].apply(lemmatization)"
      ],
      "metadata": {
        "colab": {
          "base_uri": "https://localhost:8080/"
        },
        "id": "ZGuiO6fGo9jG",
        "outputId": "a31d5273-e649-4c9c-f05f-d4ef16e3b2b3"
      },
      "execution_count": null,
      "outputs": [
        {
          "output_type": "stream",
          "name": "stderr",
          "text": [
            "[nltk_data] Downloading package wordnet to /root/nltk_data...\n",
            "[nltk_data]   Package wordnet is already up-to-date!\n",
            "[nltk_data] Downloading package omw-1.4 to /root/nltk_data...\n",
            "[nltk_data]   Package omw-1.4 is already up-to-date!\n"
          ]
        }
      ]
    },
    {
      "cell_type": "markdown",
      "source": [
        "The parameter `pos` above stands for \"part of speech\" and can take on the values: \"n\" for nouns, \"v\" for verbs, \"a\" for adjectives, \"r\" for adverbs, and \"s\" for satellite adjectives."
      ],
      "metadata": {
        "id": "5eVvqR9ryXUT"
      }
    },
    {
      "cell_type": "code",
      "source": [
        "imdb_sample.head()"
      ],
      "metadata": {
        "colab": {
          "base_uri": "https://localhost:8080/",
          "height": 293
        },
        "id": "fqWbqYbYy1cj",
        "outputId": "953bdbba-9e94-4030-f720-c71ed93ab671"
      },
      "execution_count": null,
      "outputs": [
        {
          "output_type": "execute_result",
          "data": {
            "text/plain": [
              "       label                                               text  text_length  \\\n",
              "20094      1   the godfather  of television  but aside from ...          243   \n",
              "17218      0  okay  i ve watched this movie twice now  i hav...          639   \n",
              "3773       0  okay  so the previews to this film only tells ...          173   \n",
              "20529      0  yet another movie about a group of less than i...          384   \n",
              "18073      1  this unpretentious horror film is probably des...           32   \n",
              "\n",
              "                                          text_tokenized  \\\n",
              "20094  [the, godfather, of, television, but, aside, f...   \n",
              "17218  [okay, i, ve, watched, this, movie, twice, now...   \n",
              "3773   [okay, so, the, previews, to, this, film, only...   \n",
              "20529  [yet, another, movie, about, a, group, of, les...   \n",
              "18073  [this, unpretentious, horror, film, is, probab...   \n",
              "\n",
              "                                               text_stop  \\\n",
              "20094  [godfather, television, aside, acclaim, mobste...   \n",
              "17218  [okay, watched, movie, twice, researched, heav...   \n",
              "3773   [okay, previews, film, tells, rebellious, youn...   \n",
              "20529  [yet, another, movie, group, less, intelligent...   \n",
              "18073  [unpretentious, horror, film, probably, destin...   \n",
              "\n",
              "                                         text_lemmatized  \n",
              "20094  [godfather, television, aside, acclaim, mobste...  \n",
              "17218  [okay, watch, movie, twice, research, heavily,...  \n",
              "3773   [okay, preview, film, tell, rebellious, young,...  \n",
              "20529  [yet, another, movie, group, less, intelligent...  \n",
              "18073  [unpretentious, horror, film, probably, destin...  "
            ],
            "text/html": [
              "\n",
              "  <div id=\"df-e99a6abf-051f-4751-b8e5-42454cb46841\" class=\"colab-df-container\">\n",
              "    <div>\n",
              "<style scoped>\n",
              "    .dataframe tbody tr th:only-of-type {\n",
              "        vertical-align: middle;\n",
              "    }\n",
              "\n",
              "    .dataframe tbody tr th {\n",
              "        vertical-align: top;\n",
              "    }\n",
              "\n",
              "    .dataframe thead th {\n",
              "        text-align: right;\n",
              "    }\n",
              "</style>\n",
              "<table border=\"1\" class=\"dataframe\">\n",
              "  <thead>\n",
              "    <tr style=\"text-align: right;\">\n",
              "      <th></th>\n",
              "      <th>label</th>\n",
              "      <th>text</th>\n",
              "      <th>text_length</th>\n",
              "      <th>text_tokenized</th>\n",
              "      <th>text_stop</th>\n",
              "      <th>text_lemmatized</th>\n",
              "    </tr>\n",
              "  </thead>\n",
              "  <tbody>\n",
              "    <tr>\n",
              "      <th>20094</th>\n",
              "      <td>1</td>\n",
              "      <td>the godfather  of television  but aside from ...</td>\n",
              "      <td>243</td>\n",
              "      <td>[the, godfather, of, television, but, aside, f...</td>\n",
              "      <td>[godfather, television, aside, acclaim, mobste...</td>\n",
              "      <td>[godfather, television, aside, acclaim, mobste...</td>\n",
              "    </tr>\n",
              "    <tr>\n",
              "      <th>17218</th>\n",
              "      <td>0</td>\n",
              "      <td>okay  i ve watched this movie twice now  i hav...</td>\n",
              "      <td>639</td>\n",
              "      <td>[okay, i, ve, watched, this, movie, twice, now...</td>\n",
              "      <td>[okay, watched, movie, twice, researched, heav...</td>\n",
              "      <td>[okay, watch, movie, twice, research, heavily,...</td>\n",
              "    </tr>\n",
              "    <tr>\n",
              "      <th>3773</th>\n",
              "      <td>0</td>\n",
              "      <td>okay  so the previews to this film only tells ...</td>\n",
              "      <td>173</td>\n",
              "      <td>[okay, so, the, previews, to, this, film, only...</td>\n",
              "      <td>[okay, previews, film, tells, rebellious, youn...</td>\n",
              "      <td>[okay, preview, film, tell, rebellious, young,...</td>\n",
              "    </tr>\n",
              "    <tr>\n",
              "      <th>20529</th>\n",
              "      <td>0</td>\n",
              "      <td>yet another movie about a group of less than i...</td>\n",
              "      <td>384</td>\n",
              "      <td>[yet, another, movie, about, a, group, of, les...</td>\n",
              "      <td>[yet, another, movie, group, less, intelligent...</td>\n",
              "      <td>[yet, another, movie, group, less, intelligent...</td>\n",
              "    </tr>\n",
              "    <tr>\n",
              "      <th>18073</th>\n",
              "      <td>1</td>\n",
              "      <td>this unpretentious horror film is probably des...</td>\n",
              "      <td>32</td>\n",
              "      <td>[this, unpretentious, horror, film, is, probab...</td>\n",
              "      <td>[unpretentious, horror, film, probably, destin...</td>\n",
              "      <td>[unpretentious, horror, film, probably, destin...</td>\n",
              "    </tr>\n",
              "  </tbody>\n",
              "</table>\n",
              "</div>\n",
              "    <div class=\"colab-df-buttons\">\n",
              "\n",
              "  <div class=\"colab-df-container\">\n",
              "    <button class=\"colab-df-convert\" onclick=\"convertToInteractive('df-e99a6abf-051f-4751-b8e5-42454cb46841')\"\n",
              "            title=\"Convert this dataframe to an interactive table.\"\n",
              "            style=\"display:none;\">\n",
              "\n",
              "  <svg xmlns=\"http://www.w3.org/2000/svg\" height=\"24px\" viewBox=\"0 -960 960 960\">\n",
              "    <path d=\"M120-120v-720h720v720H120Zm60-500h600v-160H180v160Zm220 220h160v-160H400v160Zm0 220h160v-160H400v160ZM180-400h160v-160H180v160Zm440 0h160v-160H620v160ZM180-180h160v-160H180v160Zm440 0h160v-160H620v160Z\"/>\n",
              "  </svg>\n",
              "    </button>\n",
              "\n",
              "  <style>\n",
              "    .colab-df-container {\n",
              "      display:flex;\n",
              "      gap: 12px;\n",
              "    }\n",
              "\n",
              "    .colab-df-convert {\n",
              "      background-color: #E8F0FE;\n",
              "      border: none;\n",
              "      border-radius: 50%;\n",
              "      cursor: pointer;\n",
              "      display: none;\n",
              "      fill: #1967D2;\n",
              "      height: 32px;\n",
              "      padding: 0 0 0 0;\n",
              "      width: 32px;\n",
              "    }\n",
              "\n",
              "    .colab-df-convert:hover {\n",
              "      background-color: #E2EBFA;\n",
              "      box-shadow: 0px 1px 2px rgba(60, 64, 67, 0.3), 0px 1px 3px 1px rgba(60, 64, 67, 0.15);\n",
              "      fill: #174EA6;\n",
              "    }\n",
              "\n",
              "    .colab-df-buttons div {\n",
              "      margin-bottom: 4px;\n",
              "    }\n",
              "\n",
              "    [theme=dark] .colab-df-convert {\n",
              "      background-color: #3B4455;\n",
              "      fill: #D2E3FC;\n",
              "    }\n",
              "\n",
              "    [theme=dark] .colab-df-convert:hover {\n",
              "      background-color: #434B5C;\n",
              "      box-shadow: 0px 1px 3px 1px rgba(0, 0, 0, 0.15);\n",
              "      filter: drop-shadow(0px 1px 2px rgba(0, 0, 0, 0.3));\n",
              "      fill: #FFFFFF;\n",
              "    }\n",
              "  </style>\n",
              "\n",
              "    <script>\n",
              "      const buttonEl =\n",
              "        document.querySelector('#df-e99a6abf-051f-4751-b8e5-42454cb46841 button.colab-df-convert');\n",
              "      buttonEl.style.display =\n",
              "        google.colab.kernel.accessAllowed ? 'block' : 'none';\n",
              "\n",
              "      async function convertToInteractive(key) {\n",
              "        const element = document.querySelector('#df-e99a6abf-051f-4751-b8e5-42454cb46841');\n",
              "        const dataTable =\n",
              "          await google.colab.kernel.invokeFunction('convertToInteractive',\n",
              "                                                    [key], {});\n",
              "        if (!dataTable) return;\n",
              "\n",
              "        const docLinkHtml = 'Like what you see? Visit the ' +\n",
              "          '<a target=\"_blank\" href=https://colab.research.google.com/notebooks/data_table.ipynb>data table notebook</a>'\n",
              "          + ' to learn more about interactive tables.';\n",
              "        element.innerHTML = '';\n",
              "        dataTable['output_type'] = 'display_data';\n",
              "        await google.colab.output.renderOutput(dataTable, element);\n",
              "        const docLink = document.createElement('div');\n",
              "        docLink.innerHTML = docLinkHtml;\n",
              "        element.appendChild(docLink);\n",
              "      }\n",
              "    </script>\n",
              "  </div>\n",
              "\n",
              "\n",
              "<div id=\"df-18384527-45ae-42a1-98bf-589b51d880dc\">\n",
              "  <button class=\"colab-df-quickchart\" onclick=\"quickchart('df-18384527-45ae-42a1-98bf-589b51d880dc')\"\n",
              "            title=\"Suggest charts\"\n",
              "            style=\"display:none;\">\n",
              "\n",
              "<svg xmlns=\"http://www.w3.org/2000/svg\" height=\"24px\"viewBox=\"0 0 24 24\"\n",
              "     width=\"24px\">\n",
              "    <g>\n",
              "        <path d=\"M19 3H5c-1.1 0-2 .9-2 2v14c0 1.1.9 2 2 2h14c1.1 0 2-.9 2-2V5c0-1.1-.9-2-2-2zM9 17H7v-7h2v7zm4 0h-2V7h2v10zm4 0h-2v-4h2v4z\"/>\n",
              "    </g>\n",
              "</svg>\n",
              "  </button>\n",
              "\n",
              "<style>\n",
              "  .colab-df-quickchart {\n",
              "      --bg-color: #E8F0FE;\n",
              "      --fill-color: #1967D2;\n",
              "      --hover-bg-color: #E2EBFA;\n",
              "      --hover-fill-color: #174EA6;\n",
              "      --disabled-fill-color: #AAA;\n",
              "      --disabled-bg-color: #DDD;\n",
              "  }\n",
              "\n",
              "  [theme=dark] .colab-df-quickchart {\n",
              "      --bg-color: #3B4455;\n",
              "      --fill-color: #D2E3FC;\n",
              "      --hover-bg-color: #434B5C;\n",
              "      --hover-fill-color: #FFFFFF;\n",
              "      --disabled-bg-color: #3B4455;\n",
              "      --disabled-fill-color: #666;\n",
              "  }\n",
              "\n",
              "  .colab-df-quickchart {\n",
              "    background-color: var(--bg-color);\n",
              "    border: none;\n",
              "    border-radius: 50%;\n",
              "    cursor: pointer;\n",
              "    display: none;\n",
              "    fill: var(--fill-color);\n",
              "    height: 32px;\n",
              "    padding: 0;\n",
              "    width: 32px;\n",
              "  }\n",
              "\n",
              "  .colab-df-quickchart:hover {\n",
              "    background-color: var(--hover-bg-color);\n",
              "    box-shadow: 0 1px 2px rgba(60, 64, 67, 0.3), 0 1px 3px 1px rgba(60, 64, 67, 0.15);\n",
              "    fill: var(--button-hover-fill-color);\n",
              "  }\n",
              "\n",
              "  .colab-df-quickchart-complete:disabled,\n",
              "  .colab-df-quickchart-complete:disabled:hover {\n",
              "    background-color: var(--disabled-bg-color);\n",
              "    fill: var(--disabled-fill-color);\n",
              "    box-shadow: none;\n",
              "  }\n",
              "\n",
              "  .colab-df-spinner {\n",
              "    border: 2px solid var(--fill-color);\n",
              "    border-color: transparent;\n",
              "    border-bottom-color: var(--fill-color);\n",
              "    animation:\n",
              "      spin 1s steps(1) infinite;\n",
              "  }\n",
              "\n",
              "  @keyframes spin {\n",
              "    0% {\n",
              "      border-color: transparent;\n",
              "      border-bottom-color: var(--fill-color);\n",
              "      border-left-color: var(--fill-color);\n",
              "    }\n",
              "    20% {\n",
              "      border-color: transparent;\n",
              "      border-left-color: var(--fill-color);\n",
              "      border-top-color: var(--fill-color);\n",
              "    }\n",
              "    30% {\n",
              "      border-color: transparent;\n",
              "      border-left-color: var(--fill-color);\n",
              "      border-top-color: var(--fill-color);\n",
              "      border-right-color: var(--fill-color);\n",
              "    }\n",
              "    40% {\n",
              "      border-color: transparent;\n",
              "      border-right-color: var(--fill-color);\n",
              "      border-top-color: var(--fill-color);\n",
              "    }\n",
              "    60% {\n",
              "      border-color: transparent;\n",
              "      border-right-color: var(--fill-color);\n",
              "    }\n",
              "    80% {\n",
              "      border-color: transparent;\n",
              "      border-right-color: var(--fill-color);\n",
              "      border-bottom-color: var(--fill-color);\n",
              "    }\n",
              "    90% {\n",
              "      border-color: transparent;\n",
              "      border-bottom-color: var(--fill-color);\n",
              "    }\n",
              "  }\n",
              "</style>\n",
              "\n",
              "  <script>\n",
              "    async function quickchart(key) {\n",
              "      const quickchartButtonEl =\n",
              "        document.querySelector('#' + key + ' button');\n",
              "      quickchartButtonEl.disabled = true;  // To prevent multiple clicks.\n",
              "      quickchartButtonEl.classList.add('colab-df-spinner');\n",
              "      try {\n",
              "        const charts = await google.colab.kernel.invokeFunction(\n",
              "            'suggestCharts', [key], {});\n",
              "      } catch (error) {\n",
              "        console.error('Error during call to suggestCharts:', error);\n",
              "      }\n",
              "      quickchartButtonEl.classList.remove('colab-df-spinner');\n",
              "      quickchartButtonEl.classList.add('colab-df-quickchart-complete');\n",
              "    }\n",
              "    (() => {\n",
              "      let quickchartButtonEl =\n",
              "        document.querySelector('#df-18384527-45ae-42a1-98bf-589b51d880dc button');\n",
              "      quickchartButtonEl.style.display =\n",
              "        google.colab.kernel.accessAllowed ? 'block' : 'none';\n",
              "    })();\n",
              "  </script>\n",
              "</div>\n",
              "\n",
              "    </div>\n",
              "  </div>\n"
            ],
            "application/vnd.google.colaboratory.intrinsic+json": {
              "type": "dataframe",
              "variable_name": "imdb_sample",
              "summary": "{\n  \"name\": \"imdb_sample\",\n  \"rows\": 5000,\n  \"fields\": [\n    {\n      \"column\": \"label\",\n      \"properties\": {\n        \"dtype\": \"number\",\n        \"std\": 0,\n        \"min\": 0,\n        \"max\": 1,\n        \"num_unique_values\": 2,\n        \"samples\": [\n          0,\n          1\n        ],\n        \"semantic_type\": \"\",\n        \"description\": \"\"\n      }\n    },\n    {\n      \"column\": \"text\",\n      \"properties\": {\n        \"dtype\": \"string\",\n        \"num_unique_values\": 4995,\n        \"samples\": [\n          \"this type of plot really does have a lot of potential  but it was butchered here  honestly  i sensed the cheese element in the beginning  but i thought it would get better after the grotesque birthing  whoa  i was wrong  so mad scientist makes a monster  wants to brag to his old cronies before he kills them  but of course they escape  after that  it s really bad  i should ve counted the times the rubber shark mask peeked out from behind some foliage  but i most likely would have lost count  br    br   pan down to the blood dripping from severed leg to show us how the shark man finds the folks  i hate being spoon fed every aspect of a horror film  br    br   oh  and after being nearly killed by a mutated shark man and trudging around a jungle esqe island  there s nothing more cheerful than a middle aged man reciting shakespeare    br    br   this is one where you ll find yourself rooting for the monster    if you can bear to watch this poor excuse for a flick \",\n          \"if you know the story of grey owl  you ll love the movie  annie galipeau is a great actress  and pierce is better than never in grey owl  but in this movie there s no real scene of action  i think this movie should be nominated at the oscars  welll go see this movie  it s a classic \"\n        ],\n        \"semantic_type\": \"\",\n        \"description\": \"\"\n      }\n    },\n    {\n      \"column\": \"text_length\",\n      \"properties\": {\n        \"dtype\": \"number\",\n        \"std\": 169,\n        \"min\": 11,\n        \"max\": 1522,\n        \"num_unique_values\": 727,\n        \"samples\": [\n          250,\n          651\n        ],\n        \"semantic_type\": \"\",\n        \"description\": \"\"\n      }\n    },\n    {\n      \"column\": \"text_tokenized\",\n      \"properties\": {\n        \"dtype\": \"object\",\n        \"semantic_type\": \"\",\n        \"description\": \"\"\n      }\n    },\n    {\n      \"column\": \"text_stop\",\n      \"properties\": {\n        \"dtype\": \"object\",\n        \"semantic_type\": \"\",\n        \"description\": \"\"\n      }\n    },\n    {\n      \"column\": \"text_lemmatized\",\n      \"properties\": {\n        \"dtype\": \"object\",\n        \"semantic_type\": \"\",\n        \"description\": \"\"\n      }\n    }\n  ]\n}"
            }
          },
          "metadata": {},
          "execution_count": 74
        }
      ]
    },
    {
      "cell_type": "markdown",
      "source": [
        "The last step in the text preprocessing phase is to **join the tokens** we created on the previous screen. Currently they are just a list of tokens for each review rather than a single block of text. To join the tokens:"
      ],
      "metadata": {
        "id": "mrbXZ49W0D4S"
      }
    },
    {
      "cell_type": "code",
      "source": [
        "imdb_sample['final'] = imdb_sample['text_lemmatized'].str.join(' ')"
      ],
      "metadata": {
        "id": "xXgX0Pv50Jsf"
      },
      "execution_count": null,
      "outputs": []
    },
    {
      "cell_type": "markdown",
      "source": [
        "**Visualizing words after text preprocessing**\n",
        "\n"
      ],
      "metadata": {
        "id": "MAQPxdsjzGjS"
      }
    },
    {
      "cell_type": "markdown",
      "source": [
        "Earlier we visualized the most frequently used 100 words using a treemap. We'll repeat that process again here but this time using the preprocessed text stored in the final variable."
      ],
      "metadata": {
        "id": "WzgmG1WM0cM4"
      }
    },
    {
      "cell_type": "code",
      "source": [
        "freq_words  = imdb_sample['final'].str.split(expand=True).stack().value_counts()"
      ],
      "metadata": {
        "id": "P9Jy7pJq0knr"
      },
      "execution_count": null,
      "outputs": []
    },
    {
      "cell_type": "code",
      "source": [
        "freq_words_top100 = freq_words[:100]"
      ],
      "metadata": {
        "id": "uHnM1MNW0wao"
      },
      "execution_count": null,
      "outputs": []
    },
    {
      "cell_type": "code",
      "source": [
        "import plotly.express as px\n",
        "\n",
        "fig = px.treemap(freq_words_top100, path=[freq_words_top100.index], values=freq_words_top100.values)\n",
        "fig.update_layout(title_text='Most Frequent 100 Words after Text Preprocessing', title_font=dict(size=20))\n",
        "fig.show()"
      ],
      "metadata": {
        "id": "7G0Iqumx0uk9"
      },
      "execution_count": null,
      "outputs": []
    },
    {
      "cell_type": "markdown",
      "source": [
        "**Visualizing using wordcloud**\n",
        "\n",
        "* A WordCloud is a graphical representation of the most common words used in a piece of text.\n",
        "* **The more often a word is used, the larger it appears in the word cloud visualization**.\n",
        "* A WordCloud can be used to quickly and easily identify the most important themes in a text."
      ],
      "metadata": {
        "id": "z7-ILRqs04Et"
      }
    },
    {
      "cell_type": "code",
      "source": [
        "# creating a seperate dataframe containing only the \"positive reviews\"\n",
        "df_1 = imdb_sample[imdb_sample['label'] == 1]\n",
        "\n",
        "from wordcloud import WordCloud\n",
        "\n",
        "all_pos_text = ' '.join(df_1['final'].tolist())\n",
        "word_cloud_1 = WordCloud(max_words=100, stopwords=stop_words, random_state=100).generate(all_pos_text)\n",
        "\n",
        "plt.figure(figsize=(15, 10))\n",
        "plt.imshow(word_cloud_1, interpolation='bilinear')\n",
        "plt.title('WordCloud of Frequently Used Words in Positive Reviews', fontsize=20)\n",
        "plt.axis(\"off\")\n",
        "plt.show()"
      ],
      "metadata": {
        "id": "1Fx_h3A11VwB"
      },
      "execution_count": null,
      "outputs": []
    },
    {
      "cell_type": "code",
      "source": [
        "# creating a seperate dataframe containing only the \"negative reviews\"\n",
        "df_0 = imdb_sample[imdb_sample['label'] == 0]\n",
        "\n",
        "from wordcloud import WordCloud\n",
        "\n",
        "all_pos_text = ' '.join(df_0['final'].tolist())\n",
        "word_cloud_0 = WordCloud(max_words=100, stopwords=stop_words, random_state=100).generate(all_pos_text)\n",
        "\n",
        "plt.figure(figsize=(15, 10))\n",
        "plt.imshow(word_cloud_0, interpolation='bilinear')\n",
        "plt.title('WordCloud of Frequently Used Words in Negative Reviews', fontsize=20)\n",
        "plt.axis(\"off\")\n",
        "plt.show()"
      ],
      "metadata": {
        "id": "KfBGKhSG1L5t"
      },
      "execution_count": null,
      "outputs": []
    },
    {
      "cell_type": "markdown",
      "source": [
        "The parameters used in generating the above ``WordCloud` are defined below:\n",
        "\n",
        "* `max_words`: The maximum number of words to include in the word cloud. We are choosing 100 words in order to compare the results with a treemap that also uses 100 words.\n",
        "\n",
        "* `stopwords`: Allows us to define the stopwords that should not be included in the word cloud. Since we defined our stopwords on an earlier screen, we set this argument to stop_words.\n",
        "\n",
        "* `random_state`: To ensure reproducibility of the generated word cloud."
      ],
      "metadata": {
        "id": "W4l4jCwv16Pf"
      }
    },
    {
      "cell_type": "markdown",
      "source": [
        "It we want to get a list of the words (and their relative frequencies) used to create the word cloud above, we can access the `.words_` attribute of the `WordCloud` object to access a dictionary of values:"
      ],
      "metadata": {
        "id": "RtOUUYRW2FWP"
      }
    },
    {
      "cell_type": "code",
      "source": [
        "word_cloud_1.words_"
      ],
      "metadata": {
        "id": "x7Tr8E142IoG"
      },
      "execution_count": null,
      "outputs": []
    },
    {
      "cell_type": "markdown",
      "source": [
        "## Text Vectorizer and Word Embeddings"
      ],
      "metadata": {
        "id": "ijPpPtKf4SuA"
      }
    },
    {
      "cell_type": "markdown",
      "source": [
        "### Text Vectorizer"
      ],
      "metadata": {
        "id": "vAXo2dQXE0jW"
      }
    },
    {
      "cell_type": "code",
      "source": [
        "import tensorflow as tf\n",
        "import tensorflow_datasets as tfds"
      ],
      "metadata": {
        "id": "Ld9Q-OJv6Ncl"
      },
      "execution_count": null,
      "outputs": []
    },
    {
      "cell_type": "code",
      "source": [
        "imdb_data = tfds.load(name='imdb_reviews', split='train')  # loading training split of imdb dataset\n",
        "imdb_df = tfds.as_dataframe(imdb_data)                     # converting tfds to pandas dataframe\n",
        "imdb_df['text'] = imdb_df['text'].str.decode('utf-8')\n",
        "imdb_sample = imdb_df.sample(frac=0.2, random_state=100)"
      ],
      "metadata": {
        "colab": {
          "base_uri": "https://localhost:8080/",
          "height": 136,
          "referenced_widgets": [
            "1f83e52612dd48549c82130e9ee71ab5",
            "824be654f2ef41dd8d475d2a323851ec",
            "669a41631e33412984ace96a573375bf",
            "76fbc7a638b443a78581794395797fc1",
            "3a9fe268af374a55a2ce976051d1a5df",
            "76028467b1c946bd91432f18b757bd20",
            "4ea3e2bf1800483ea418262ef78ef164",
            "d20bf4c32f8947228a0e45f8febb2087",
            "6a936d89e34c42b7a884470911de5a9d",
            "4b657ead666e426da84983b4c9205e9c",
            "f53d6b2a49a84f8fb237d33e7eb1943d",
            "fa9a3db54690434e85ca975677979172",
            "a82521dbd289452bb81ca09ccca02858",
            "7578656249834fdc83ecec459c3156f6",
            "a2dbe5a6dae548b3acabf0326f0fb0be",
            "ee910dcd82ec43a492de414f89f1a972",
            "258072936a034fcba6a86cd30be2c883",
            "e4dbe1e5f0b34ddb85eb636eeb1086b3",
            "9dd95994758c425e9e3b5875c20a2c6a",
            "f748d3ce28564d82b482bf5d48390e46",
            "5bdc8121fd534eecb15e88849674566f",
            "2e84bd2d69ca4414bd2b9cc54b33b8a9",
            "00b2e46b2b4846a391e774d6d3974deb",
            "6affbcaf504142bcbf694e03799ac331",
            "094bb9393a5b40ef9bf974e846397d91",
            "77c55b7c5160426a8a1921ec5662cc9f",
            "dd576931ca86469d8e298d2f4be3918e",
            "17e7993f6d394669a4217f4122ed2adf",
            "f2b8287ff0c44a399509fae910b4bb49",
            "80aeeffedce34fdfb2ff62b07a176429",
            "9390da927e974b829d7e38c9854069e2",
            "5373704c9b024f33988e4d7ddd571721",
            "40686fd46987454284565d9d309779df",
            "728b0cc7f99b4c1b9feb486d2c60a277",
            "dacc22326c4d491aa130088bbc7aa91f",
            "317fc4615e64406cb50e00fe5e29dc26",
            "ff288246617f444f89e0f04b541b8c9e",
            "b3e7828df948440db6994f3361bc84cc",
            "b071fa0636024ea8b6aa8e44dfef6961",
            "a38a73514bd8465ba4f21196d72bd541",
            "2fa24c98f9d34c68b9e0a8430e11ca33",
            "7640d25af5f349aa941a6f35488e8125",
            "ce8cbf73d0864201bcad3cf3fef3ab6f",
            "ae834f6cf5664931a895968eda6e6fdb",
            "b259b22eba8149928453ae0eed197024",
            "6fca1bab25074d09b6399f42d7ddf4f6",
            "fc67efb5f28e4358a3d20d453c61bc55",
            "8a7fcb725b404a92bda19ddbcd6ed77f",
            "44ec932b8d7d4da2a5d8d1b9adefff96",
            "c2718808f5534a638e75cdc2105a266d",
            "c836e1fe82a3409f9206a383fa491dea",
            "16c973ca0a5b4895a26f1666fd02117c",
            "bb01158db41448a283fffc993cee5f79",
            "c96bac0a44134b60906700c4ddf0cfeb",
            "dd8a8a05ab1a4666be72fd77d9a0df16",
            "3fa1dc7a09d64f88937ea1cf4e224084",
            "134d0d4f899044cd9ade3771fe07c08f",
            "e5bb3ca2587a4a3a9f3e8c753b0f28b0",
            "1f86119352794b478637504d636e53c1",
            "a1a0b96707a2442c86d369bb8e64f256",
            "0acf4d8d3ee4419ebb61b24f04044613",
            "482d3fb5849b451585e26685f511f87e",
            "06292c328e1b4051b6146b418c5c5a39",
            "27f3dc2e89e945f6818fe456ba570d4a",
            "d572ccea5a0546db8c9f8600ddeca6f7",
            "81b5bb08a65f470db0ff6048ee431202",
            "86e434cb77014661b977376e4c3090ab",
            "2f117b093b9d4425b7b204ad0ed57176",
            "aa32a0d9db1b44628a169968a518b183",
            "ad6fedaf3bbf4843b7790649efe4754d",
            "6811893d80e44e9aa1532e317f2146ca",
            "6295d5457734458b9b5e73e3c94d1ca1",
            "4e8c490c14e34f9e9c971721333faeb0",
            "545c0a6c72a84235b378d0236dab0e26",
            "8a6966c38f944338809f676a61743c81",
            "1c26b3fc551b4e0dad130e7a087e08fa",
            "1f9fd5dbb24f451bae4c16a4b5fea234",
            "d1c8d331a6204613b543f4253fab9a95",
            "c4b8dfaedf9549a295ae4dbcdec8f74c",
            "956ffe05b73e4acc822066a5579d3f15",
            "a2a1b9b8a2084ac69b877c7bfdd7ac41",
            "82b8c341b329490dab511c9cbb25195d",
            "c42c677bf4eb4367807793e836db4fb2",
            "37e5aa3631d54bb9b261c663b2b7e570",
            "5e3e842bcf9446b7bbada9ee5ade9e42",
            "b1e537180d92443d8f2d2800932aed9b",
            "9fb8883e3d3d4c0e9e111046bb18d3a8",
            "c573194dcc92400e80a36cffcdb838a0",
            "6cc798fdac184086aaada2d1c046d359",
            "009f85c92c2d4654a06835080e9862b9",
            "e05d5b9565674569818eabf09d641f69",
            "69fa12ba842c40f59844d0bd680f6e69",
            "c8609700635b4fe59826dc19da3b2ba3",
            "f30105406f4a448083e8db1083b6f98a",
            "6b5c7391fa4641eea6cd21927791b2fc",
            "162202c8e6494c86b7d73d3f0b937f3d",
            "b38b26f70ca9475fbc5e107d3fa1d81c",
            "574c5c0ec8f14253994815d4527ac4bc",
            "da0b0dded81146aca396e89471168284"
          ]
        },
        "id": "K4G_28C06Ncm",
        "outputId": "50c47d3b-f640-4983-b252-4004c3ee82b1"
      },
      "execution_count": null,
      "outputs": [
        {
          "output_type": "stream",
          "name": "stdout",
          "text": [
            "Downloading and preparing dataset 80.23 MiB (download: 80.23 MiB, generated: Unknown size, total: 80.23 MiB) to /root/tensorflow_datasets/imdb_reviews/plain_text/1.0.0...\n"
          ]
        },
        {
          "output_type": "display_data",
          "data": {
            "text/plain": [
              "Dl Completed...: 0 url [00:00, ? url/s]"
            ],
            "application/vnd.jupyter.widget-view+json": {
              "version_major": 2,
              "version_minor": 0,
              "model_id": "1f83e52612dd48549c82130e9ee71ab5"
            }
          },
          "metadata": {}
        },
        {
          "output_type": "display_data",
          "data": {
            "text/plain": [
              "Dl Size...: 0 MiB [00:00, ? MiB/s]"
            ],
            "application/vnd.jupyter.widget-view+json": {
              "version_major": 2,
              "version_minor": 0,
              "model_id": "fa9a3db54690434e85ca975677979172"
            }
          },
          "metadata": {}
        },
        {
          "output_type": "display_data",
          "data": {
            "text/plain": [
              "Generating splits...:   0%|          | 0/3 [00:00<?, ? splits/s]"
            ],
            "application/vnd.jupyter.widget-view+json": {
              "version_major": 2,
              "version_minor": 0,
              "model_id": "00b2e46b2b4846a391e774d6d3974deb"
            }
          },
          "metadata": {}
        },
        {
          "output_type": "display_data",
          "data": {
            "text/plain": [
              "Generating train examples...:   0%|          | 0/25000 [00:00<?, ? examples/s]"
            ],
            "application/vnd.jupyter.widget-view+json": {
              "version_major": 2,
              "version_minor": 0,
              "model_id": "728b0cc7f99b4c1b9feb486d2c60a277"
            }
          },
          "metadata": {}
        },
        {
          "output_type": "display_data",
          "data": {
            "text/plain": [
              "Shuffling /root/tensorflow_datasets/imdb_reviews/plain_text/incomplete.LIPO6F_1.0.0/imdb_reviews-train.tfrecor…"
            ],
            "application/vnd.jupyter.widget-view+json": {
              "version_major": 2,
              "version_minor": 0,
              "model_id": "b259b22eba8149928453ae0eed197024"
            }
          },
          "metadata": {}
        },
        {
          "output_type": "display_data",
          "data": {
            "text/plain": [
              "Generating test examples...:   0%|          | 0/25000 [00:00<?, ? examples/s]"
            ],
            "application/vnd.jupyter.widget-view+json": {
              "version_major": 2,
              "version_minor": 0,
              "model_id": "3fa1dc7a09d64f88937ea1cf4e224084"
            }
          },
          "metadata": {}
        },
        {
          "output_type": "display_data",
          "data": {
            "text/plain": [
              "Shuffling /root/tensorflow_datasets/imdb_reviews/plain_text/incomplete.LIPO6F_1.0.0/imdb_reviews-test.tfrecord…"
            ],
            "application/vnd.jupyter.widget-view+json": {
              "version_major": 2,
              "version_minor": 0,
              "model_id": "86e434cb77014661b977376e4c3090ab"
            }
          },
          "metadata": {}
        },
        {
          "output_type": "display_data",
          "data": {
            "text/plain": [
              "Generating unsupervised examples...:   0%|          | 0/50000 [00:00<?, ? examples/s]"
            ],
            "application/vnd.jupyter.widget-view+json": {
              "version_major": 2,
              "version_minor": 0,
              "model_id": "d1c8d331a6204613b543f4253fab9a95"
            }
          },
          "metadata": {}
        },
        {
          "output_type": "display_data",
          "data": {
            "text/plain": [
              "Shuffling /root/tensorflow_datasets/imdb_reviews/plain_text/incomplete.LIPO6F_1.0.0/imdb_reviews-unsupervised.…"
            ],
            "application/vnd.jupyter.widget-view+json": {
              "version_major": 2,
              "version_minor": 0,
              "model_id": "6cc798fdac184086aaada2d1c046d359"
            }
          },
          "metadata": {}
        },
        {
          "output_type": "stream",
          "name": "stdout",
          "text": [
            "Dataset imdb_reviews downloaded and prepared to /root/tensorflow_datasets/imdb_reviews/plain_text/1.0.0. Subsequent calls will reuse this data.\n"
          ]
        }
      ]
    },
    {
      "cell_type": "code",
      "source": [
        "imdb_sample.head()"
      ],
      "metadata": {
        "colab": {
          "base_uri": "https://localhost:8080/",
          "height": 206
        },
        "id": "MqF88T8Y6RW-",
        "outputId": "f0ebde99-f156-4ba4-fe3c-7a7ec5456208"
      },
      "execution_count": null,
      "outputs": [
        {
          "output_type": "execute_result",
          "data": {
            "text/plain": [
              "       label                                               text\n",
              "20094      1  \"The Godfather\" of television, but aside from ...\n",
              "17218      0  Okay, I've watched this movie twice now, I hav...\n",
              "3773       0  Okay, so the previews to this film only tells ...\n",
              "20529      0  Yet ANOTHER movie about a group of less-than-i...\n",
              "18073      1  This unpretentious Horror film is probably des..."
            ],
            "text/html": [
              "\n",
              "  <div id=\"df-5ba769b3-488e-4192-a3d0-5c608288b850\" class=\"colab-df-container\">\n",
              "    <div>\n",
              "<style scoped>\n",
              "    .dataframe tbody tr th:only-of-type {\n",
              "        vertical-align: middle;\n",
              "    }\n",
              "\n",
              "    .dataframe tbody tr th {\n",
              "        vertical-align: top;\n",
              "    }\n",
              "\n",
              "    .dataframe thead th {\n",
              "        text-align: right;\n",
              "    }\n",
              "</style>\n",
              "<table border=\"1\" class=\"dataframe\">\n",
              "  <thead>\n",
              "    <tr style=\"text-align: right;\">\n",
              "      <th></th>\n",
              "      <th>label</th>\n",
              "      <th>text</th>\n",
              "    </tr>\n",
              "  </thead>\n",
              "  <tbody>\n",
              "    <tr>\n",
              "      <th>20094</th>\n",
              "      <td>1</td>\n",
              "      <td>\"The Godfather\" of television, but aside from ...</td>\n",
              "    </tr>\n",
              "    <tr>\n",
              "      <th>17218</th>\n",
              "      <td>0</td>\n",
              "      <td>Okay, I've watched this movie twice now, I hav...</td>\n",
              "    </tr>\n",
              "    <tr>\n",
              "      <th>3773</th>\n",
              "      <td>0</td>\n",
              "      <td>Okay, so the previews to this film only tells ...</td>\n",
              "    </tr>\n",
              "    <tr>\n",
              "      <th>20529</th>\n",
              "      <td>0</td>\n",
              "      <td>Yet ANOTHER movie about a group of less-than-i...</td>\n",
              "    </tr>\n",
              "    <tr>\n",
              "      <th>18073</th>\n",
              "      <td>1</td>\n",
              "      <td>This unpretentious Horror film is probably des...</td>\n",
              "    </tr>\n",
              "  </tbody>\n",
              "</table>\n",
              "</div>\n",
              "    <div class=\"colab-df-buttons\">\n",
              "\n",
              "  <div class=\"colab-df-container\">\n",
              "    <button class=\"colab-df-convert\" onclick=\"convertToInteractive('df-5ba769b3-488e-4192-a3d0-5c608288b850')\"\n",
              "            title=\"Convert this dataframe to an interactive table.\"\n",
              "            style=\"display:none;\">\n",
              "\n",
              "  <svg xmlns=\"http://www.w3.org/2000/svg\" height=\"24px\" viewBox=\"0 -960 960 960\">\n",
              "    <path d=\"M120-120v-720h720v720H120Zm60-500h600v-160H180v160Zm220 220h160v-160H400v160Zm0 220h160v-160H400v160ZM180-400h160v-160H180v160Zm440 0h160v-160H620v160ZM180-180h160v-160H180v160Zm440 0h160v-160H620v160Z\"/>\n",
              "  </svg>\n",
              "    </button>\n",
              "\n",
              "  <style>\n",
              "    .colab-df-container {\n",
              "      display:flex;\n",
              "      gap: 12px;\n",
              "    }\n",
              "\n",
              "    .colab-df-convert {\n",
              "      background-color: #E8F0FE;\n",
              "      border: none;\n",
              "      border-radius: 50%;\n",
              "      cursor: pointer;\n",
              "      display: none;\n",
              "      fill: #1967D2;\n",
              "      height: 32px;\n",
              "      padding: 0 0 0 0;\n",
              "      width: 32px;\n",
              "    }\n",
              "\n",
              "    .colab-df-convert:hover {\n",
              "      background-color: #E2EBFA;\n",
              "      box-shadow: 0px 1px 2px rgba(60, 64, 67, 0.3), 0px 1px 3px 1px rgba(60, 64, 67, 0.15);\n",
              "      fill: #174EA6;\n",
              "    }\n",
              "\n",
              "    .colab-df-buttons div {\n",
              "      margin-bottom: 4px;\n",
              "    }\n",
              "\n",
              "    [theme=dark] .colab-df-convert {\n",
              "      background-color: #3B4455;\n",
              "      fill: #D2E3FC;\n",
              "    }\n",
              "\n",
              "    [theme=dark] .colab-df-convert:hover {\n",
              "      background-color: #434B5C;\n",
              "      box-shadow: 0px 1px 3px 1px rgba(0, 0, 0, 0.15);\n",
              "      filter: drop-shadow(0px 1px 2px rgba(0, 0, 0, 0.3));\n",
              "      fill: #FFFFFF;\n",
              "    }\n",
              "  </style>\n",
              "\n",
              "    <script>\n",
              "      const buttonEl =\n",
              "        document.querySelector('#df-5ba769b3-488e-4192-a3d0-5c608288b850 button.colab-df-convert');\n",
              "      buttonEl.style.display =\n",
              "        google.colab.kernel.accessAllowed ? 'block' : 'none';\n",
              "\n",
              "      async function convertToInteractive(key) {\n",
              "        const element = document.querySelector('#df-5ba769b3-488e-4192-a3d0-5c608288b850');\n",
              "        const dataTable =\n",
              "          await google.colab.kernel.invokeFunction('convertToInteractive',\n",
              "                                                    [key], {});\n",
              "        if (!dataTable) return;\n",
              "\n",
              "        const docLinkHtml = 'Like what you see? Visit the ' +\n",
              "          '<a target=\"_blank\" href=https://colab.research.google.com/notebooks/data_table.ipynb>data table notebook</a>'\n",
              "          + ' to learn more about interactive tables.';\n",
              "        element.innerHTML = '';\n",
              "        dataTable['output_type'] = 'display_data';\n",
              "        await google.colab.output.renderOutput(dataTable, element);\n",
              "        const docLink = document.createElement('div');\n",
              "        docLink.innerHTML = docLinkHtml;\n",
              "        element.appendChild(docLink);\n",
              "      }\n",
              "    </script>\n",
              "  </div>\n",
              "\n",
              "\n",
              "<div id=\"df-de3849eb-3fec-4479-913f-40f96a6188d8\">\n",
              "  <button class=\"colab-df-quickchart\" onclick=\"quickchart('df-de3849eb-3fec-4479-913f-40f96a6188d8')\"\n",
              "            title=\"Suggest charts\"\n",
              "            style=\"display:none;\">\n",
              "\n",
              "<svg xmlns=\"http://www.w3.org/2000/svg\" height=\"24px\"viewBox=\"0 0 24 24\"\n",
              "     width=\"24px\">\n",
              "    <g>\n",
              "        <path d=\"M19 3H5c-1.1 0-2 .9-2 2v14c0 1.1.9 2 2 2h14c1.1 0 2-.9 2-2V5c0-1.1-.9-2-2-2zM9 17H7v-7h2v7zm4 0h-2V7h2v10zm4 0h-2v-4h2v4z\"/>\n",
              "    </g>\n",
              "</svg>\n",
              "  </button>\n",
              "\n",
              "<style>\n",
              "  .colab-df-quickchart {\n",
              "      --bg-color: #E8F0FE;\n",
              "      --fill-color: #1967D2;\n",
              "      --hover-bg-color: #E2EBFA;\n",
              "      --hover-fill-color: #174EA6;\n",
              "      --disabled-fill-color: #AAA;\n",
              "      --disabled-bg-color: #DDD;\n",
              "  }\n",
              "\n",
              "  [theme=dark] .colab-df-quickchart {\n",
              "      --bg-color: #3B4455;\n",
              "      --fill-color: #D2E3FC;\n",
              "      --hover-bg-color: #434B5C;\n",
              "      --hover-fill-color: #FFFFFF;\n",
              "      --disabled-bg-color: #3B4455;\n",
              "      --disabled-fill-color: #666;\n",
              "  }\n",
              "\n",
              "  .colab-df-quickchart {\n",
              "    background-color: var(--bg-color);\n",
              "    border: none;\n",
              "    border-radius: 50%;\n",
              "    cursor: pointer;\n",
              "    display: none;\n",
              "    fill: var(--fill-color);\n",
              "    height: 32px;\n",
              "    padding: 0;\n",
              "    width: 32px;\n",
              "  }\n",
              "\n",
              "  .colab-df-quickchart:hover {\n",
              "    background-color: var(--hover-bg-color);\n",
              "    box-shadow: 0 1px 2px rgba(60, 64, 67, 0.3), 0 1px 3px 1px rgba(60, 64, 67, 0.15);\n",
              "    fill: var(--button-hover-fill-color);\n",
              "  }\n",
              "\n",
              "  .colab-df-quickchart-complete:disabled,\n",
              "  .colab-df-quickchart-complete:disabled:hover {\n",
              "    background-color: var(--disabled-bg-color);\n",
              "    fill: var(--disabled-fill-color);\n",
              "    box-shadow: none;\n",
              "  }\n",
              "\n",
              "  .colab-df-spinner {\n",
              "    border: 2px solid var(--fill-color);\n",
              "    border-color: transparent;\n",
              "    border-bottom-color: var(--fill-color);\n",
              "    animation:\n",
              "      spin 1s steps(1) infinite;\n",
              "  }\n",
              "\n",
              "  @keyframes spin {\n",
              "    0% {\n",
              "      border-color: transparent;\n",
              "      border-bottom-color: var(--fill-color);\n",
              "      border-left-color: var(--fill-color);\n",
              "    }\n",
              "    20% {\n",
              "      border-color: transparent;\n",
              "      border-left-color: var(--fill-color);\n",
              "      border-top-color: var(--fill-color);\n",
              "    }\n",
              "    30% {\n",
              "      border-color: transparent;\n",
              "      border-left-color: var(--fill-color);\n",
              "      border-top-color: var(--fill-color);\n",
              "      border-right-color: var(--fill-color);\n",
              "    }\n",
              "    40% {\n",
              "      border-color: transparent;\n",
              "      border-right-color: var(--fill-color);\n",
              "      border-top-color: var(--fill-color);\n",
              "    }\n",
              "    60% {\n",
              "      border-color: transparent;\n",
              "      border-right-color: var(--fill-color);\n",
              "    }\n",
              "    80% {\n",
              "      border-color: transparent;\n",
              "      border-right-color: var(--fill-color);\n",
              "      border-bottom-color: var(--fill-color);\n",
              "    }\n",
              "    90% {\n",
              "      border-color: transparent;\n",
              "      border-bottom-color: var(--fill-color);\n",
              "    }\n",
              "  }\n",
              "</style>\n",
              "\n",
              "  <script>\n",
              "    async function quickchart(key) {\n",
              "      const quickchartButtonEl =\n",
              "        document.querySelector('#' + key + ' button');\n",
              "      quickchartButtonEl.disabled = true;  // To prevent multiple clicks.\n",
              "      quickchartButtonEl.classList.add('colab-df-spinner');\n",
              "      try {\n",
              "        const charts = await google.colab.kernel.invokeFunction(\n",
              "            'suggestCharts', [key], {});\n",
              "      } catch (error) {\n",
              "        console.error('Error during call to suggestCharts:', error);\n",
              "      }\n",
              "      quickchartButtonEl.classList.remove('colab-df-spinner');\n",
              "      quickchartButtonEl.classList.add('colab-df-quickchart-complete');\n",
              "    }\n",
              "    (() => {\n",
              "      let quickchartButtonEl =\n",
              "        document.querySelector('#df-de3849eb-3fec-4479-913f-40f96a6188d8 button');\n",
              "      quickchartButtonEl.style.display =\n",
              "        google.colab.kernel.accessAllowed ? 'block' : 'none';\n",
              "    })();\n",
              "  </script>\n",
              "</div>\n",
              "\n",
              "    </div>\n",
              "  </div>\n"
            ],
            "application/vnd.google.colaboratory.intrinsic+json": {
              "type": "dataframe",
              "variable_name": "imdb_sample",
              "summary": "{\n  \"name\": \"imdb_sample\",\n  \"rows\": 5000,\n  \"fields\": [\n    {\n      \"column\": \"label\",\n      \"properties\": {\n        \"dtype\": \"number\",\n        \"std\": 0,\n        \"min\": 0,\n        \"max\": 1,\n        \"num_unique_values\": 2,\n        \"samples\": [\n          0,\n          1\n        ],\n        \"semantic_type\": \"\",\n        \"description\": \"\"\n      }\n    },\n    {\n      \"column\": \"text\",\n      \"properties\": {\n        \"dtype\": \"string\",\n        \"num_unique_values\": 4995,\n        \"samples\": [\n          \"This type of plot really does have a lot of potential, but it was butchered here. Honestly, I sensed the cheese element in the beginning, but I thought it would get better after the grotesque birthing. Whoa, I was wrong! So mad scientist makes a monster, wants to brag to his old cronies before he kills them, but of course they escape. After that, it's really bad. I should've counted the times the rubber shark mask peeked out from behind some foliage, but I most likely would have lost count.<br /><br />Pan down to the blood-dripping-from-severed-leg to show us how the shark-man finds the folks. I hate being spoon-fed every aspect of a horror film.<br /><br />Oh, and after being nearly killed by a mutated shark-man and trudging around a jungle-esqe island, there's nothing more cheerful than a middle-aged man reciting Shakespeare...<br /><br />This is one where you'll find yourself rooting for the monster... if you can bear to watch this poor excuse for a flick.\",\n          \"If you know the story of Grey Owl, you'll love the movie! Annie Galipeau is a great actress, and Pierce is better than never in Grey Owl. But in this movie there's no real scene of action. I think this movie should be nominated at the Oscars! Welll go see this movie, it's A CLASSIC!\"\n        ],\n        \"semantic_type\": \"\",\n        \"description\": \"\"\n      }\n    }\n  ]\n}"
            }
          },
          "metadata": {},
          "execution_count": 3
        }
      ]
    },
    {
      "cell_type": "code",
      "source": [
        "X_train = imdb_sample['text']\n",
        "y_train = imdb_sample['label']"
      ],
      "metadata": {
        "id": "zgMqJmqj6ejv"
      },
      "execution_count": null,
      "outputs": []
    },
    {
      "cell_type": "code",
      "source": [
        "imdb_test = tfds.load(name='imdb_reviews', split='test')  # loading test split of imdb dataset\n",
        "imdb_test_df = tfds.as_dataframe(imdb_test)                     # converting tfds to pandas dataframe\n",
        "imdb_test_df['text'] = imdb_test_df['text'].str.decode('utf-8')\n",
        "imdb_test_sample = imdb_test_df.sample(frac=0.2, random_state=100)"
      ],
      "metadata": {
        "id": "xTAIb8vJ6h7H"
      },
      "execution_count": null,
      "outputs": []
    },
    {
      "cell_type": "code",
      "source": [
        "imdb_test_sample['label'].value_counts()"
      ],
      "metadata": {
        "colab": {
          "base_uri": "https://localhost:8080/"
        },
        "id": "P-ib16JG6x7W",
        "outputId": "7ff7066e-bed8-4e1b-e9ec-62aef437854b"
      },
      "execution_count": null,
      "outputs": [
        {
          "output_type": "execute_result",
          "data": {
            "text/plain": [
              "label\n",
              "1    2506\n",
              "0    2494\n",
              "Name: count, dtype: int64"
            ]
          },
          "metadata": {},
          "execution_count": 6
        }
      ]
    },
    {
      "cell_type": "code",
      "source": [
        "imdb_test_sample.isnull().sum()\n",
        "# no missing data"
      ],
      "metadata": {
        "colab": {
          "base_uri": "https://localhost:8080/"
        },
        "id": "p2gGmXTO61xL",
        "outputId": "c00bfc52-e5e4-4ca7-f5b2-9af5108a8ceb"
      },
      "execution_count": null,
      "outputs": [
        {
          "output_type": "execute_result",
          "data": {
            "text/plain": [
              "label    0\n",
              "text     0\n",
              "dtype: int64"
            ]
          },
          "metadata": {},
          "execution_count": 7
        }
      ]
    },
    {
      "cell_type": "code",
      "source": [
        "X_test = imdb_test_sample['text']\n",
        "y_test = imdb_test_sample['label']"
      ],
      "metadata": {
        "id": "MF991BQ4ELHn"
      },
      "execution_count": null,
      "outputs": []
    },
    {
      "cell_type": "markdown",
      "source": [
        "* Text vectorization plays a crucial role in NLP, as it allows our model to process, analyze, and interpret unstructured text data. This process involves converting text into numerical vectors, which can then serve as input for deep learning algorithms.\n",
        "\n",
        "* TensorFlow offers a powerful text vectorization layer, `tf.keras.layers.TextVectorization`, enabling the transformation of raw text into integer values.\n",
        "\n",
        "* The `TextVectorization` layer accepts raw text as input and converts it into a numerical representation suitable for deep learning models. This process is accomplished by tokenizing the input text, meaning it's broken down into individual words or phrases. These smaller units, or tokens, are then assigned integer values for further processing.\n",
        "\n",
        "* A simple workflow is illustrated below where a sample text, \"TensorFlow is great for NLP\" is processed in the TextVectorization layer, and the resulting output is an integer representation of those words.\n",
        "\n",
        "![image.png](data:image/png;base64,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)\n"
      ],
      "metadata": {
        "id": "52uYDpFB9z8v"
      }
    },
    {
      "cell_type": "markdown",
      "source": [
        "The `TextVectorization` layer also provides options for customizing the preprocessing step before vectorizing the text. These options include removing punctuation, converting all letters to lowercase, filtering out stopwords, and more.\n",
        "\n",
        "Some of the parameters for the `TextVectorization` layer include:\n",
        "\n",
        "* `max_tokens`: The maximum number of tokens to generate when tokenizing text. This represents the maximum size of the vocabulary.\n",
        "* `output_mode`: How the output should be returned.\n",
        "* `standardize`: Whether to apply standardization techniques (such as converting to lowercase) to the input data.\n",
        "* `output_sequence_length`: The desired length of each sequence after tokenizing and preprocessing is completed."
      ],
      "metadata": {
        "id": "jjLjHNPi-Bbe"
      }
    },
    {
      "cell_type": "markdown",
      "source": [
        "* The `TextVectorization` layer tokenizes the text data, standardizes it (e.g., lowercasing and removing punctuation), and then builds a vocabulary by selecting the most frequent words up to the specified `max_tokens` parameter.\n",
        "* This vocabulary is used to map each unique token (word, subword, or character) to a corresponding integer ID. This mapping allows the `TextVectorization` layer to convert input text into integer-encoded sequences when it processes new data."
      ],
      "metadata": {
        "id": "G92ju-WS-2pr"
      }
    },
    {
      "cell_type": "code",
      "source": [
        "max_tokens = 20000\n",
        "output_sequence_length = 256\n",
        "\n",
        "vectorizer_layer = tf.keras.layers.TextVectorization(max_tokens=max_tokens, output_sequence_length=output_sequence_length,\n",
        "                                                     output_mode='int', standardize='lower')\n",
        "\n",
        "# output_mode='int': output_mode set to output integer indices\n",
        "# standardize='lower': to convert all text to lowercase"
      ],
      "metadata": {
        "id": "t2-3aRsO66Da"
      },
      "execution_count": null,
      "outputs": []
    },
    {
      "cell_type": "markdown",
      "source": [
        "* After creating the layer, we call the `adapt()` method on the `TextVectorization` object and pass it our training text corpus. When we do this, the layer analyzes the provided text data and builds an internal vocabulary based on the text.\n",
        "* The `adapt()` method essentially \"fits\" the TextVectorization layer to the given data. This allows it to learn the statistical properties of the text corpus, such as word frequencies and the overall distribution of words."
      ],
      "metadata": {
        "id": "2YPi4-8b_jjZ"
      }
    },
    {
      "cell_type": "code",
      "source": [
        "vectorizer_layer.adapt(X_train)"
      ],
      "metadata": {
        "id": "D6RwWSqe_eaQ"
      },
      "execution_count": null,
      "outputs": []
    },
    {
      "cell_type": "markdown",
      "source": [
        "* The `output_sequence_length` parameter of the `TextVectorization` layer plays an important role in the text preprocessing pipeline. After the layer tokenizes and integer-encodes the input text based on the vocabulary built during the call to the `adapt()` method, it ensures that the output sequences have a consistent length by using the output_sequence_length parameter.\n",
        "\n",
        "* Here's how it works:\n",
        "\n",
        " * If a tokenized input sequence has fewer tokens than the specified `output_sequence_length`, the layer pads the sequence with zeros at the end until it reaches the desired length. This is called **zero-padding** and ensures that shorter sequences match the expected input size for the neural network.\n",
        "\n",
        " * If a tokenized input sequence has more tokens than the specified `output_sequence_length`, the layer truncates the sequence, removing tokens from the end until it reaches the desired length. This is called **truncation** and ensures that longer sequences do not exceed the expected input size for the neural network.\n",
        "\n",
        "* By setting the `output_sequence_length` parameter, we standardize the size of the input data fed into the neural network. This consistency is essential for training deep learning models because it ensures that the input tensors have uniform shapes across all samples, allowing for efficient batch processing during training and inference."
      ],
      "metadata": {
        "id": "gyXxry8sAHJj"
      }
    },
    {
      "cell_type": "markdown",
      "source": [
        "* The code below creates an Input layer with a shape of (1,) and the data type set to `tf.string`. This shape is used to indicate that each instance in the training data contains a single string input.\n",
        "\n",
        "* The data type `tf.string` ensures that the input layer is designed to accept text data represented as strings. This allows the model to process the raw text data correctly and pass it to the subsequent layers."
      ],
      "metadata": {
        "id": "WqvU0Q_wCcsb"
      }
    },
    {
      "cell_type": "code",
      "source": [
        "from tensorflow.keras.models import Sequential\n",
        "from tensorflow.keras import Input, layers\n",
        "\n",
        "model = Sequential()\n",
        "model.add(Input(shape=(1,), dtype=tf.string))"
      ],
      "metadata": {
        "id": "5xjF4ao8AUZi"
      },
      "execution_count": null,
      "outputs": []
    },
    {
      "cell_type": "markdown",
      "source": [
        "After adding the input layer, we'll incorporate the `vectorizer_layer`. Next, we'll add a fully connected hidden layer. Finally, we'll append a dense layer with one output neuron and a `sigmoid` activation function. This will provide an output between 0 or 1 based on the prediction."
      ],
      "metadata": {
        "id": "ItHygLIeCmLf"
      }
    },
    {
      "cell_type": "code",
      "source": [
        "model.add(vectorizer_layer)   # the inputs now are just tokens (and not embeddings i.e, 768-dim tensor)\n",
        "model.add(layers.Dense(16))\n",
        "model.add(layers.Dense(1, activation='sigmoid'))"
      ],
      "metadata": {
        "id": "xLKyEI4wC4ry"
      },
      "execution_count": null,
      "outputs": []
    },
    {
      "cell_type": "code",
      "source": [
        "# Once the model is assembled, we compile it by specifying a loss function and an optimizer for training\n",
        "opt = tf.optimizers.Adam(learning_rate=0.01)\n",
        "model.compile(optimizer=opt, loss='binary_crossentropy', metrics=['accuracy'])"
      ],
      "metadata": {
        "id": "6rSgOGRTCt_C"
      },
      "execution_count": null,
      "outputs": []
    },
    {
      "cell_type": "code",
      "source": [
        "model.fit(X_train, y_train, epochs=10)"
      ],
      "metadata": {
        "colab": {
          "base_uri": "https://localhost:8080/"
        },
        "id": "uQHr5mnmDROl",
        "outputId": "8467f0fd-fca2-42a3-e863-4811ed169d75"
      },
      "execution_count": null,
      "outputs": [
        {
          "output_type": "stream",
          "name": "stdout",
          "text": [
            "Epoch 1/10\n",
            "157/157 [==============================] - 2s 4ms/step - loss: 1509.9407 - accuracy: 0.4902\n",
            "Epoch 2/10\n",
            "157/157 [==============================] - 1s 4ms/step - loss: 1503.0110 - accuracy: 0.5068\n",
            "Epoch 3/10\n",
            "157/157 [==============================] - 1s 4ms/step - loss: 3799.6001 - accuracy: 0.4946\n",
            "Epoch 4/10\n",
            "157/157 [==============================] - 1s 3ms/step - loss: 5634.8687 - accuracy: 0.5004\n",
            "Epoch 5/10\n",
            "157/157 [==============================] - 1s 4ms/step - loss: 6146.0562 - accuracy: 0.5120\n",
            "Epoch 6/10\n",
            "157/157 [==============================] - 1s 4ms/step - loss: 3854.5789 - accuracy: 0.5058\n",
            "Epoch 7/10\n",
            "157/157 [==============================] - 1s 4ms/step - loss: 3592.1035 - accuracy: 0.5148\n",
            "Epoch 8/10\n",
            "157/157 [==============================] - 1s 4ms/step - loss: 2785.9460 - accuracy: 0.5070\n",
            "Epoch 9/10\n",
            "157/157 [==============================] - 1s 4ms/step - loss: 2996.8069 - accuracy: 0.5042\n",
            "Epoch 10/10\n",
            "157/157 [==============================] - 1s 4ms/step - loss: 3453.1465 - accuracy: 0.5076\n"
          ]
        },
        {
          "output_type": "execute_result",
          "data": {
            "text/plain": [
              "<keras.src.callbacks.History at 0x7de6074df220>"
            ]
          },
          "metadata": {},
          "execution_count": 20
        }
      ]
    },
    {
      "cell_type": "code",
      "source": [
        "test_loss, test_acc = model.evaluate(X_test, y_test)\n",
        "print(test_acc)"
      ],
      "metadata": {
        "colab": {
          "base_uri": "https://localhost:8080/"
        },
        "id": "O35u6Mh3DUE7",
        "outputId": "fc8ecf71-40a4-4196-8854-f6ded092dea8"
      },
      "execution_count": null,
      "outputs": [
        {
          "output_type": "stream",
          "name": "stdout",
          "text": [
            "157/157 [==============================] - 1s 3ms/step - loss: 1884.6234 - accuracy: 0.4950\n",
            "0.4950000047683716\n"
          ]
        }
      ]
    },
    {
      "cell_type": "markdown",
      "source": [
        "* We get a test accuracy of 50%. To improve our model's predictive power beyond a random guess, we'll explore creating an embedding layer in TensorFlow.\n",
        "\n",
        "* Using an embedding layer can enhance a model's ability to recognize patterns in large amounts of unlabeled data by learning the relationships and meanings of different words."
      ],
      "metadata": {
        "id": "Ab3sWTc4EsvO"
      }
    },
    {
      "cell_type": "markdown",
      "source": [
        "### Word Embeddings"
      ],
      "metadata": {
        "id": "NynFgukXE5Z0"
      }
    },
    {
      "cell_type": "markdown",
      "source": [
        "* Word embeddings are vector representations of words used in NLP. Each word is **represented by a fixed-length vector of numbers**, with the values capturing meaningful relationships between words.\n",
        "\n",
        "* Word embeddings help identify semantic relationships and concepts among words, which can be utilized for downstream tasks such as text classification, sentiment analysis, and machine translation.\n",
        "\n"
      ],
      "metadata": {
        "id": "AuwEv_MCFDw3"
      }
    },
    {
      "cell_type": "markdown",
      "source": [
        "**TensorFlow's Embedding Layer**\n",
        "\n",
        "* The Embedding layer in TensorFlow maps words to a vector of numbers. It takes a sequence of integer-encoded words as input and returns a matrix where each row contains the numerical representation (embedding) of the corresponding word.\n",
        "\n",
        "* In the figure below, each token (word) is represented using a 4-dimensional tensor.\n",
        "\n",
        "![image.png](data:image/png;base64,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)\n"
      ],
      "metadata": {
        "id": "QZZfrBSLHBDa"
      }
    },
    {
      "cell_type": "markdown",
      "source": [
        "* This numerical representation can be used in downstream models, such as neural networks, to better capture semantic relationships between words.\n",
        "\n",
        "* To instantiate an embedding layer in TensorFlow, we use the `tf.keras.layers.Embedding` class. The three main parameters for an embedding layer are:\n",
        "\n",
        " * `input_dim`: size of our vocabulary\n",
        " * `output_dim`: dimension of the dense embedding\n",
        " * `input_length`: length of input sequences the layer receives\n",
        "\n",
        "* To ensure that the Embedding layer works correctly with the output of the `TextVectorization` layer we created previously, we should set the **`input_dim` equal to the `max_tokens`** value used for the `TextVectorization` layer. This way, the Embedding layer will be able to handle the integer indices generated by the `TextVectorization` layer for all tokens in the vocabulary.\n",
        "\n",
        "* The `output_dim` parameter specifies the number of dimensions in the output embedding vectors, which represent the words in the input text. These vectors are dense representations of the words, and the `output_dim` determines the size of this dense representation. We can **choose the value of `output_dim` based on the complexity of our problem and the size of our dataset**. A larger value may capture more detailed semantic information about the words, but it can also increase the number of model parameters and the computational requirements for training the model. In the example image above, this value was set to 4.\n",
        "\n",
        "* The `input_length` parameter in the Embedding layer specifies the expected length of the input sequences that the layer will receive. This parameter **should match the `output_sequence_length` of the `TextVectorization` layer to ensure that the data being fed into the embedding layer has the appropriate shape**. If there is a mismatch between these two lengths, it can lead to errors or incorrect behavior during model training."
      ],
      "metadata": {
        "id": "ANj5zcPdIQy4"
      }
    },
    {
      "cell_type": "markdown",
      "source": [
        "* In addition to integrating the embedding layer into our model, we're also going to modify some arguments and add one new argument when instantiating our `TextVectorization` layer. The new argument we'll add to our `TextVectorization` layer is **ngram**\n",
        "\n",
        "* n n-gram is a contiguous sequence of n words or tokens from a given text or document. N-grams are used in NLP and text analysis to model and capture the context and relationships between words in a text. They help in identifying patterns and predicting the next word or sequence of words, which is particularly useful for applications such as language modeling, text classification, and information retrieval.\n",
        "\n",
        "* For example, consider the sentence: \"I love natural language processing.\"\n",
        "\n",
        " * When ngrams=1 (unigram), the n-grams are individual words:\n",
        "`[\"i\", \"love\", \"natural\", \"language\", \"processing\"]`\n",
        " * When ngrams=2 (bigram), the n-grams are pairs of consecutive words:\n",
        "`[\"i love\", \"love natural\", \"natural language\", \"language processing\"]`\n",
        " * When ngrams=3 (trigram), the n-grams are sequences of three consecutive words:\n",
        "`[\"i love natural\", \"love natural language\", \"natural language processing\"]`\n",
        "\n",
        "* As the value of n increases, n-grams capture more context and the relationships between words, but the number of unique n-grams also increases, which can lead to a larger and more complex feature space. We can also **use a tuple to set the value for ngrams to set a range of n-grams we would like to generate**.\n",
        "\n",
        "* For example, when ngrams=(1, 3), the TextVectorization layer will generate the following tokenized text (assuming punctuation has been removed and made lowercase):\n",
        "\n",
        " * Unigrams: `['i', 'love', 'natural', 'language', 'processing']`\n",
        " * Bigrams: `['i love', 'love natural', 'natural language', 'language processing']`\n",
        " * Trigrams: `['i love natural', 'love natural language', 'natural language processing']`\n",
        "\n",
        " * The combined output will include all unigrams, bigrams, and trigrams:\n",
        "\n",
        "`['i', 'love', 'natural', 'language', 'processing', 'i love', 'love natural', 'natural language', 'language processing', 'i love natural', 'love natural language', 'natural language processing']`"
      ],
      "metadata": {
        "id": "p4j_xej1Jo-J"
      }
    },
    {
      "cell_type": "code",
      "source": [
        "max_tokens = 20000\n",
        "output_sequence_length = 256\n",
        "\n",
        "vectorizer_layer = tf.keras.layers.TextVectorization(max_tokens=max_tokens, output_sequence_length=output_sequence_length,\n",
        "                                                     output_mode='int', standardize='lower', ngrams=(1,2))\n",
        "\n",
        "vectorizer_layer.adapt(X_train)"
      ],
      "metadata": {
        "id": "P1phAIw_JpPW"
      },
      "execution_count": null,
      "outputs": []
    },
    {
      "cell_type": "code",
      "source": [
        "## from the TextVectorizer used previously\n",
        "# max_tokens = 20000\n",
        "# output_sequence_length = 256\n",
        "\n",
        "embedding_layer = tf.keras.layers.Embedding(input_dim=20000, output_dim=128, input_length=256)"
      ],
      "metadata": {
        "id": "wSboTEp9Dq9Q"
      },
      "execution_count": null,
      "outputs": []
    },
    {
      "cell_type": "code",
      "source": [
        "from tensorflow.keras.models import Sequential\n",
        "from tensorflow.keras import Input, layers\n",
        "\n",
        "model = Sequential()\n",
        "model.add(Input(shape=(1,), dtype=tf.string))\n",
        "model.add(vectorizer_layer)                       # the vectorizer layer converts the text data into word encodings ('int' type)\n",
        "model.add(embedding_layer)                        # the embedding layer converts the encoded words into multi-dimensional tensor embeddings\n",
        "model.add(layers.Dense(16, activation='relu'))\n",
        "model.add(layers.Dense(1, activation='sigmoid'))"
      ],
      "metadata": {
        "id": "96JnRZbjGtYB"
      },
      "execution_count": null,
      "outputs": []
    },
    {
      "cell_type": "code",
      "source": [
        "opt = tf.optimizers.Adam(learning_rate=0.01)\n",
        "model.compile(optimizer=opt, loss='binary_crossentropy', metrics=['accuracy'])\n",
        "\n",
        "model.fit(X_train, y_train, epochs=10)\n",
        "\n",
        "test_loss, test_acc = model.evaluate(X_test, y_test)\n",
        "print(test_acc)"
      ],
      "metadata": {
        "colab": {
          "base_uri": "https://localhost:8080/"
        },
        "id": "XU9XZHeSGygb",
        "outputId": "08fdfefb-4e5b-4cee-acac-9787ed0ba3fa"
      },
      "execution_count": null,
      "outputs": [
        {
          "output_type": "stream",
          "name": "stdout",
          "text": [
            "Epoch 1/10\n",
            "157/157 [==============================] - 9s 49ms/step - loss: 0.6891 - accuracy: 0.5279\n",
            "Epoch 2/10\n",
            "157/157 [==============================] - 7s 46ms/step - loss: 0.6816 - accuracy: 0.5420\n",
            "Epoch 3/10\n",
            "157/157 [==============================] - 10s 67ms/step - loss: 0.6791 - accuracy: 0.5415\n",
            "Epoch 4/10\n",
            "157/157 [==============================] - 10s 66ms/step - loss: 0.6770 - accuracy: 0.5498\n",
            "Epoch 5/10\n",
            "157/157 [==============================] - 9s 58ms/step - loss: 0.6760 - accuracy: 0.5515\n",
            "Epoch 6/10\n",
            "157/157 [==============================] - 12s 78ms/step - loss: 0.6757 - accuracy: 0.5518\n",
            "Epoch 7/10\n",
            "157/157 [==============================] - 8s 50ms/step - loss: 0.6759 - accuracy: 0.5508\n",
            "Epoch 8/10\n",
            "157/157 [==============================] - 7s 47ms/step - loss: 0.6748 - accuracy: 0.5521\n",
            "Epoch 9/10\n",
            "157/157 [==============================] - 8s 51ms/step - loss: 0.6750 - accuracy: 0.5526\n",
            "Epoch 10/10\n",
            "157/157 [==============================] - 7s 44ms/step - loss: 0.6748 - accuracy: 0.5542\n",
            "157/157 [==============================] - 1s 8ms/step - loss: 0.6919 - accuracy: 0.5340\n",
            "0.5339671969413757\n"
          ]
        }
      ]
    },
    {
      "cell_type": "markdown",
      "source": [
        "We achieved an accuracy of:\n",
        "\n",
        "* 51% on train data and 50% on test data for the model with just a text vectorization layer.\n",
        "\n",
        "* 55% on train data and 53% on test data for the model with text vectorization and embedding layers.\n",
        "\n",
        "This suggests that the embedding layer contributes positively to the model's performance."
      ],
      "metadata": {
        "id": "1tNcp1tHPMSQ"
      }
    },
    {
      "cell_type": "markdown",
      "source": [
        "## Multi-Layer Dense Models"
      ],
      "metadata": {
        "id": "hfhyEiOwPn3G"
      }
    },
    {
      "cell_type": "markdown",
      "source": [
        "* Building multilayer deep neural networks capable of producing reliable predictions requires a lot of experimentation.\n",
        "\n",
        "* As we'll see, not all of our experiments will produce a positive result. This is a humbling reminder that building these models is an iterative process and **experimentation is highly encouraged**.\n",
        "\n",
        "* **Building deep neural networks is more of an art than it is a science.**"
      ],
      "metadata": {
        "id": "xMXRSXtOQJvJ"
      }
    },
    {
      "cell_type": "markdown",
      "source": [
        "**Shallow Network**"
      ],
      "metadata": {
        "id": "dBmV55RKswoe"
      }
    },
    {
      "cell_type": "code",
      "source": [
        "import pandas as pd\n",
        "import numpy as np\n",
        "import tensorflow as tf\n",
        "import tensorflow_datasets as tfds\n",
        "from tensorflow.keras import Input, layers\n",
        "from tensorflow.keras.models import Sequential\n",
        "from tensorflow.keras.layers import TextVectorization, Embedding\n",
        "\n",
        "\n",
        "imdb_data = tfds.load(name=\"imdb_reviews\", split=\"train\")\n",
        "imdb_df = tfds.as_dataframe(imdb_data)\n",
        "imdb_df['text'] = imdb_df['text'].str.decode('utf-8')\n",
        "imdb_sample = imdb_df.sample(frac=0.2, random_state=100)\n",
        "\n",
        "imdb_test = tfds.load(name=\"imdb_reviews\", split=\"test\")\n",
        "imdb_test_df = tfds.as_dataframe(imdb_test)\n",
        "imdb_test_df['text'] = imdb_test_df['text'].str.decode('utf-8')\n",
        "imdb_test_sample = imdb_test_df.sample(frac=0.2, random_state=100)\n",
        "\n",
        "X_train = imdb_sample['text']\n",
        "y_train = imdb_sample['label']\n",
        "X_test = imdb_test_sample['text']\n",
        "y_test = imdb_test_sample['label']\n",
        "\n",
        "max_tokens = 7500\n",
        "output_sequence_length = 128\n",
        "output_dim = 128\n",
        "\n",
        "vectorizer_layer = TextVectorization(max_tokens=max_tokens,\n",
        "                                     output_mode='int',\n",
        "                                     standardize='lower_and_strip_punctuation',\n",
        "                                     ngrams=(1, 2),\n",
        "                                     output_sequence_length=output_sequence_length)\n",
        "\n",
        "vectorizer_layer.adapt(X_train)\n",
        "\n",
        "embedding_layer = Embedding(input_dim=max_tokens,\n",
        "                            output_dim=output_dim,\n",
        "                            input_length=output_sequence_length)"
      ],
      "metadata": {
        "colab": {
          "base_uri": "https://localhost:8080/",
          "height": 136,
          "referenced_widgets": [
            "0d868a348ce845ac8e8802bf0b21912d",
            "1954ec2881844a18a205fb33fdd8a861",
            "3a61b86bf699487aa6cb8870fa01833e",
            "eec086da7d244efab85bbcec8272c600",
            "b872a62273c543949d6a67f015817952",
            "9713c5c4503b4faa964e682c66a23b59",
            "c3fe273eb8214f4a80e2d67e4c838a06",
            "20327be4ae8d4e1c8fa9ca04be0d495f",
            "0d0bf8dcda42443087a366f7df6f66e0",
            "f41aa6fd557c4f2dae0a397bcb39ca21",
            "0325d3063b0442a7ac951d8e2d0750b3",
            "bef7572c7aa84c55b96143720d267b2f",
            "b60ea33b25c84075b21d0295d6bbd90d",
            "8b789b5031a34224b64318eb7637e253",
            "2f88aed4c1034cb1b12c4099a341511c",
            "b5bfa0359b5048ab8877490baa1cf191",
            "37d3046c20ba4e53b080076a98b92deb",
            "83c0ae8a18f74b5090dec88bf8baa7b3",
            "afe12c74bca14d94af96d92e04829e61",
            "3dbb6b1532c54cfc98b41c103dcd0b4d",
            "1bc43f3cf1ab422aacfb7800c8b55f99",
            "984ce351d0de4a70bd63a1eed1db8c7d",
            "d394c459722b4de9894373ee2eec7808",
            "eb49a0b385f749fdbf62fca1e6e00a6b",
            "bfd51f13dcc24b449c21ea96b3a5b420",
            "ce69e564f5b54b67ac456e4f32c62a1e",
            "5bf0e85ce6e84b158718b25d8b1addcf",
            "bc12e213c3634a11bd722cb753ff7f68",
            "099dcb09ea6e4b929d0d159b1c9a7870",
            "582cc14b7488441588774cb967719279",
            "ce7c44b8eba94edf828c545a2ef9c23d",
            "0d75435b9fef4dce952482721cdde146",
            "a0396010a5ed4696b2adc510be41643f",
            "a19451e439ee4703812947071e6d4d23",
            "7ea71ccf850e48f98ae0c6958c7258ee",
            "3356578df2244efe801dc3869154bd12",
            "9ca3e88bd1954eed94f07065c5178bf4",
            "943b16d7b3f248b89429d3a3a157bac2",
            "f775c0efc22b4037a26a43e98dfcbb0e",
            "7fb461a60751499bb60a045ac98ec6da",
            "25e45b13d266453b9c62563a52cfad76",
            "85dda9285d17455881f48ac1296ec6f5",
            "2019622048b046bca01f25ff53950157",
            "3b3a0643c57c4840b98ce0ae62b82df0",
            "a1407314d5df4fa6b7c07eee24f3bbef",
            "e954b3f992824a00ab2073c7906410f8",
            "7f778c9a49b5466a80a969bef897fa6b",
            "5d1e9a320dc3491b97a3ee68d41f30db",
            "caf235f2458149888ed5b961666c030e",
            "8bf9a006a23d4b7ab2b3b134a3b47e24",
            "6f07d1d8528044f3915a4646de96b130",
            "71a1da2e84b74a198c891e645d6339ee",
            "d16af7e9c3ff48a5bd40c5aba9bc0b04",
            "0606cf7c2e504fa1ad9e00a83995ec82",
            "73c93e7f859843cd98e4d418364d8531",
            "8ba87625967c46d4ad7c92651d4b5b92",
            "bb477d29f5a148ecbf4378be94c6f34f",
            "5eb5d772805f465c9fde6b4dfa9b33ba",
            "0426ac1dbd65459f8e1664f01c14e5dd",
            "cf69c578fd8744cb8e4ae0d5014fee1a",
            "218ad891b4dc4a239b4e5e2211862ec9",
            "a0145dc9920041ea8419894f57eda6a1",
            "daafe3a27a5449d895ff69af35d74364",
            "21be69371fa84508b0758bb07200a64a",
            "e1f6f06f22db4b568571657ec7ee0c4a",
            "3d9673ebbc524bc0bc941ce51d23167a",
            "40baec99369141d381f49eb35a8b073d",
            "abe109da01c24258b4e1d281a0cc43c7",
            "277ca549f4ff48428a230e090dccb013",
            "5b47ea884a1c4610bd066e3689c03ae8",
            "ef05310314434347a4d76c48c9627343",
            "d69b17b60bf64689802338045ae8cf34",
            "f54cb79ef7f14362af013983bb7720da",
            "0934ddd5f5f9415f90b99f203b4d8543",
            "a12b7eb8cc574641a0461c00b0e83a23",
            "75abc16085f641beac59de8906ce2603",
            "74d26990a0264bee982d7ba69657c3fd",
            "9ce86b44f910477096d9ef7eb9d3de1d",
            "709a1578328a4e88a76a6d8d7bd1548c",
            "3a5073867640413fac667bd9779c0bda",
            "b7c3f9cc7c0c43f0a9c0e57905b85dcd",
            "1f8475c6c0a84deb8ed50478840a9c5a",
            "70854f52a3c14cba8706da177477d698",
            "91820210f60c4a289bb2858c11672395",
            "df502b30bb5a4e9cb49140cbd9397d2d",
            "6a9a3d0ea1f248f198ace282a15fee14",
            "84d6ca5a4d22404da1b9c16ca043ffb3",
            "afeb5d7155eb41deadcd713cfa4017a5",
            "44e77691e88f45989ed1b9195ce21c4c",
            "cbd23d24daac4732954586fc0121aa65",
            "87382336928d49b5a3ffe3e1ae8ab1db",
            "07f0583e7e024604b930d6fca4573dfc",
            "fc5923f7bf694fd4b5e9794af9a2bce1",
            "0ec5ce20c2184b4eb30d6a5c9dac72b5",
            "dd19215bd2fe42bf9dc5771c239da0c8",
            "13e710af8cf84feb9ad5cd63eb651ce9",
            "49146558bcff4c76b8bbca553f3f4aed",
            "d595a239231a4845843b238c95acf213",
            "c8e0282f4c7e4475836c2f0f332501e5"
          ]
        },
        "id": "06xjOI77KJxp",
        "outputId": "e8a9a01c-134d-4d72-e6cb-894bde52f4f4"
      },
      "execution_count": null,
      "outputs": [
        {
          "output_type": "stream",
          "name": "stdout",
          "text": [
            "Downloading and preparing dataset 80.23 MiB (download: 80.23 MiB, generated: Unknown size, total: 80.23 MiB) to /root/tensorflow_datasets/imdb_reviews/plain_text/1.0.0...\n"
          ]
        },
        {
          "output_type": "display_data",
          "data": {
            "text/plain": [
              "Dl Completed...: 0 url [00:00, ? url/s]"
            ],
            "application/vnd.jupyter.widget-view+json": {
              "version_major": 2,
              "version_minor": 0,
              "model_id": "0d868a348ce845ac8e8802bf0b21912d"
            }
          },
          "metadata": {}
        },
        {
          "output_type": "display_data",
          "data": {
            "text/plain": [
              "Dl Size...: 0 MiB [00:00, ? MiB/s]"
            ],
            "application/vnd.jupyter.widget-view+json": {
              "version_major": 2,
              "version_minor": 0,
              "model_id": "bef7572c7aa84c55b96143720d267b2f"
            }
          },
          "metadata": {}
        },
        {
          "output_type": "display_data",
          "data": {
            "text/plain": [
              "Generating splits...:   0%|          | 0/3 [00:00<?, ? splits/s]"
            ],
            "application/vnd.jupyter.widget-view+json": {
              "version_major": 2,
              "version_minor": 0,
              "model_id": "d394c459722b4de9894373ee2eec7808"
            }
          },
          "metadata": {}
        },
        {
          "output_type": "display_data",
          "data": {
            "text/plain": [
              "Generating train examples...:   0%|          | 0/25000 [00:00<?, ? examples/s]"
            ],
            "application/vnd.jupyter.widget-view+json": {
              "version_major": 2,
              "version_minor": 0,
              "model_id": "a19451e439ee4703812947071e6d4d23"
            }
          },
          "metadata": {}
        },
        {
          "output_type": "display_data",
          "data": {
            "text/plain": [
              "Shuffling /root/tensorflow_datasets/imdb_reviews/plain_text/incomplete.CBOXNP_1.0.0/imdb_reviews-train.tfrecor…"
            ],
            "application/vnd.jupyter.widget-view+json": {
              "version_major": 2,
              "version_minor": 0,
              "model_id": "a1407314d5df4fa6b7c07eee24f3bbef"
            }
          },
          "metadata": {}
        },
        {
          "output_type": "display_data",
          "data": {
            "text/plain": [
              "Generating test examples...:   0%|          | 0/25000 [00:00<?, ? examples/s]"
            ],
            "application/vnd.jupyter.widget-view+json": {
              "version_major": 2,
              "version_minor": 0,
              "model_id": "8ba87625967c46d4ad7c92651d4b5b92"
            }
          },
          "metadata": {}
        },
        {
          "output_type": "display_data",
          "data": {
            "text/plain": [
              "Shuffling /root/tensorflow_datasets/imdb_reviews/plain_text/incomplete.CBOXNP_1.0.0/imdb_reviews-test.tfrecord…"
            ],
            "application/vnd.jupyter.widget-view+json": {
              "version_major": 2,
              "version_minor": 0,
              "model_id": "40baec99369141d381f49eb35a8b073d"
            }
          },
          "metadata": {}
        },
        {
          "output_type": "display_data",
          "data": {
            "text/plain": [
              "Generating unsupervised examples...:   0%|          | 0/50000 [00:00<?, ? examples/s]"
            ],
            "application/vnd.jupyter.widget-view+json": {
              "version_major": 2,
              "version_minor": 0,
              "model_id": "9ce86b44f910477096d9ef7eb9d3de1d"
            }
          },
          "metadata": {}
        },
        {
          "output_type": "display_data",
          "data": {
            "text/plain": [
              "Shuffling /root/tensorflow_datasets/imdb_reviews/plain_text/incomplete.CBOXNP_1.0.0/imdb_reviews-unsupervised.…"
            ],
            "application/vnd.jupyter.widget-view+json": {
              "version_major": 2,
              "version_minor": 0,
              "model_id": "44e77691e88f45989ed1b9195ce21c4c"
            }
          },
          "metadata": {}
        },
        {
          "output_type": "stream",
          "name": "stdout",
          "text": [
            "Dataset imdb_reviews downloaded and prepared to /root/tensorflow_datasets/imdb_reviews/plain_text/1.0.0. Subsequent calls will reuse this data.\n"
          ]
        }
      ]
    },
    {
      "cell_type": "code",
      "source": [
        "model = Sequential()\n",
        "model.add(Input(shape=(1,), dtype=tf.string))\n",
        "model.add(vectorizer_layer)\n",
        "model.add(embedding_layer)\n",
        "model.add(layers.Dense(16, activation='relu'))\n",
        "model.add(layers.Dense(1, activation='sigmoid'))"
      ],
      "metadata": {
        "id": "4xhbiHwns3V2"
      },
      "execution_count": null,
      "outputs": []
    },
    {
      "cell_type": "code",
      "source": [
        "model.compile(optimizer=tf.optimizers.Adam(learning_rate=0.01), loss='binary_crossentropy', metrics=['accuracy'])\n",
        "model.fit(X_train, y_train, epochs=10)\n",
        "test_loss, test_acc = model.evaluate(X_test, y_test)\n",
        "print(test_acc)"
      ],
      "metadata": {
        "colab": {
          "base_uri": "https://localhost:8080/"
        },
        "id": "-EL2dER9s5oE",
        "outputId": "f839a132-39da-4ccb-bb2b-791409f8bb9e"
      },
      "execution_count": null,
      "outputs": [
        {
          "output_type": "stream",
          "name": "stdout",
          "text": [
            "Epoch 1/10\n",
            "157/157 [==============================] - 6s 29ms/step - loss: 0.6878 - accuracy: 0.5318\n",
            "Epoch 2/10\n",
            "157/157 [==============================] - 4s 28ms/step - loss: 0.6815 - accuracy: 0.5484\n",
            "Epoch 3/10\n",
            "157/157 [==============================] - 4s 24ms/step - loss: 0.6803 - accuracy: 0.5508\n",
            "Epoch 4/10\n",
            "157/157 [==============================] - 4s 24ms/step - loss: 0.6798 - accuracy: 0.5504\n",
            "Epoch 5/10\n",
            "157/157 [==============================] - 5s 33ms/step - loss: 0.6786 - accuracy: 0.5535\n",
            "Epoch 6/10\n",
            "157/157 [==============================] - 3s 20ms/step - loss: 0.6783 - accuracy: 0.5540\n",
            "Epoch 7/10\n",
            "157/157 [==============================] - 3s 19ms/step - loss: 0.6774 - accuracy: 0.5550\n",
            "Epoch 8/10\n",
            "157/157 [==============================] - 4s 27ms/step - loss: 0.6775 - accuracy: 0.5558\n",
            "Epoch 9/10\n",
            "157/157 [==============================] - 3s 20ms/step - loss: 0.6770 - accuracy: 0.5555\n",
            "Epoch 10/10\n",
            "157/157 [==============================] - 3s 19ms/step - loss: 0.6770 - accuracy: 0.5552\n",
            "157/157 [==============================] - 1s 7ms/step - loss: 0.6885 - accuracy: 0.5396\n",
            "0.5395687222480774\n"
          ]
        }
      ]
    },
    {
      "cell_type": "markdown",
      "source": [
        "**Deep Network with 5 Dense Layers**"
      ],
      "metadata": {
        "id": "GEcIkGZBtOxX"
      }
    },
    {
      "cell_type": "code",
      "source": [
        "model = Sequential()\n",
        "model.add(Input(shape=(1,), dtype=tf.string))\n",
        "model.add(vectorizer_layer)\n",
        "model.add(embedding_layer)\n",
        "model.add(layers.Dense(128, activation='relu'))\n",
        "model.add(layers.Dense(64, activation='relu'))\n",
        "model.add(layers.Dense(32, activation='relu'))\n",
        "model.add(layers.Dense(16, activation='relu'))\n",
        "model.add(layers.Dense(8, activation='relu'))\n",
        "model.add(layers.Dense(1, activation='sigmoid'))\n",
        "\n",
        "model.compile(optimizer=tf.optimizers.Adam(learning_rate=0.01), loss='binary_crossentropy', metrics=['accuracy'])\n",
        "\n",
        "model.fit(X_train, y_train, epochs=10)\n",
        "\n",
        "test_loss, test_acc = model.evaluate(X_test, y_test)\n",
        "print(test_acc)"
      ],
      "metadata": {
        "colab": {
          "base_uri": "https://localhost:8080/"
        },
        "id": "y01G5y97tNKS",
        "outputId": "2ec7e992-b25c-465a-cdf6-51fd3ac5bef7"
      },
      "execution_count": null,
      "outputs": [
        {
          "output_type": "stream",
          "name": "stdout",
          "text": [
            "Epoch 1/10\n",
            "157/157 [==============================] - 9s 46ms/step - loss: 0.6844 - accuracy: 0.5340\n",
            "Epoch 2/10\n",
            "157/157 [==============================] - 6s 35ms/step - loss: 0.6790 - accuracy: 0.5496\n",
            "Epoch 3/10\n",
            "157/157 [==============================] - 7s 45ms/step - loss: 0.6775 - accuracy: 0.5542\n",
            "Epoch 4/10\n",
            "157/157 [==============================] - 6s 36ms/step - loss: 0.6775 - accuracy: 0.5556\n",
            "Epoch 5/10\n",
            "157/157 [==============================] - 7s 45ms/step - loss: 0.6768 - accuracy: 0.5567\n",
            "Epoch 6/10\n",
            "157/157 [==============================] - 6s 36ms/step - loss: 0.6768 - accuracy: 0.5579\n",
            "Epoch 7/10\n",
            "157/157 [==============================] - 6s 41ms/step - loss: 0.6778 - accuracy: 0.5562\n",
            "Epoch 8/10\n",
            "157/157 [==============================] - 6s 41ms/step - loss: 0.6760 - accuracy: 0.5580\n",
            "Epoch 9/10\n",
            "157/157 [==============================] - 9s 54ms/step - loss: 0.6774 - accuracy: 0.5577\n",
            "Epoch 10/10\n",
            "157/157 [==============================] - 9s 57ms/step - loss: 0.6755 - accuracy: 0.5559\n",
            "157/157 [==============================] - 3s 14ms/step - loss: 0.6905 - accuracy: 0.5399\n",
            "0.5398921966552734\n"
          ]
        }
      ]
    },
    {
      "cell_type": "code",
      "source": [
        "model.summary()"
      ],
      "metadata": {
        "colab": {
          "base_uri": "https://localhost:8080/"
        },
        "id": "l3q9WWrPvJdD",
        "outputId": "3d537731-b66c-419d-b733-cdd01bcdb711"
      },
      "execution_count": null,
      "outputs": [
        {
          "output_type": "stream",
          "name": "stdout",
          "text": [
            "Model: \"sequential_5\"\n",
            "_________________________________________________________________\n",
            " Layer (type)                Output Shape              Param #   \n",
            "=================================================================\n",
            " text_vectorization (TextVe  (None, 128)               0         \n",
            " ctorization)                                                    \n",
            "                                                                 \n",
            " embedding (Embedding)       (None, 128, 128)          960000    \n",
            "                                                                 \n",
            " dense_26 (Dense)            (None, 128, 128)          16512     \n",
            "                                                                 \n",
            " dense_27 (Dense)            (None, 128, 64)           8256      \n",
            "                                                                 \n",
            " dense_28 (Dense)            (None, 128, 32)           2080      \n",
            "                                                                 \n",
            " dense_29 (Dense)            (None, 128, 16)           528       \n",
            "                                                                 \n",
            " dense_30 (Dense)            (None, 128, 8)            136       \n",
            "                                                                 \n",
            " dense_31 (Dense)            (None, 128, 1)            9         \n",
            "                                                                 \n",
            "=================================================================\n",
            "Total params: 987521 (3.77 MB)\n",
            "Trainable params: 987521 (3.77 MB)\n",
            "Non-trainable params: 0 (0.00 Byte)\n",
            "_________________________________________________________________\n"
          ]
        }
      ]
    },
    {
      "cell_type": "markdown",
      "source": [
        "Note it is the last dimension that decreases... it is the embeddings that change and not the words?"
      ],
      "metadata": {
        "id": "9vaFwCFZwKMW"
      }
    },
    {
      "cell_type": "markdown",
      "source": [
        "The results haven't changed much (probably due to low data size hence lot of parameters; overfitting). We'll be adding `GlobalAveragePooling1D` following the embedding layer now..."
      ],
      "metadata": {
        "id": "UOS1RDgruFfm"
      }
    },
    {
      "cell_type": "markdown",
      "source": [
        "### GlobalAveragePooling1D\n",
        "\n",
        "* The `GlobalAveragePooling1D` layer performs a pooling operation, computing the average of all input values across each spatial dimension.\n",
        "* This amazing layer helps standardize our data by smoothing out any noise or sneaky outliers hiding in our dataset.\n",
        "* The outcome? Our model gives us a more reliable and meaningful snapshot of our data while reducing its complexity. This makes our model learn faster and better."
      ],
      "metadata": {
        "id": "UayK8rnxtsjV"
      }
    },
    {
      "cell_type": "code",
      "source": [
        "model = Sequential()\n",
        "model.add(Input(shape=(1,), dtype=tf.string))\n",
        "model.add(vectorizer_layer)\n",
        "model.add(embedding_layer)\n",
        "model.add(layers.GlobalAveragePooling1D())\n",
        "model.add(layers.Dense(128, activation='relu'))\n",
        "model.add(layers.Dense(64, activation='relu'))\n",
        "model.add(layers.Dense(32, activation='relu'))\n",
        "model.add(layers.Dense(16, activation='relu'))\n",
        "model.add(layers.Dense(8, activation='relu'))\n",
        "model.add(layers.Dense(1, activation='sigmoid'))\n",
        "\n",
        "model.compile(optimizer=tf.optimizers.Adam(learning_rate=0.01), loss='binary_crossentropy', metrics=['accuracy'])\n",
        "\n",
        "model.fit(X_train, y_train, epochs=10)\n",
        "\n",
        "test_loss, test_acc = model.evaluate(X_test, y_test)\n",
        "print(test_acc)"
      ],
      "metadata": {
        "colab": {
          "base_uri": "https://localhost:8080/"
        },
        "id": "0Zq3xiavti1T",
        "outputId": "7305ba51-e67c-49c1-d4ed-aafb6fea362d"
      },
      "execution_count": null,
      "outputs": [
        {
          "output_type": "stream",
          "name": "stdout",
          "text": [
            "Epoch 1/10\n",
            "157/157 [==============================] - 5s 23ms/step - loss: 0.4214 - accuracy: 0.8502\n",
            "Epoch 2/10\n",
            "157/157 [==============================] - 5s 30ms/step - loss: 0.2799 - accuracy: 0.9028\n",
            "Epoch 3/10\n",
            "157/157 [==============================] - 5s 29ms/step - loss: 0.2008 - accuracy: 0.9332\n",
            "Epoch 4/10\n",
            "157/157 [==============================] - 3s 19ms/step - loss: 0.1848 - accuracy: 0.9374\n",
            "Epoch 5/10\n",
            "157/157 [==============================] - 3s 19ms/step - loss: 0.1261 - accuracy: 0.9636\n",
            "Epoch 6/10\n",
            "157/157 [==============================] - 4s 27ms/step - loss: 0.1135 - accuracy: 0.9658\n",
            "Epoch 7/10\n",
            "157/157 [==============================] - 3s 20ms/step - loss: 0.1072 - accuracy: 0.9710\n",
            "Epoch 8/10\n",
            "157/157 [==============================] - 3s 19ms/step - loss: 0.1006 - accuracy: 0.9720\n",
            "Epoch 9/10\n",
            "157/157 [==============================] - 3s 19ms/step - loss: 0.1000 - accuracy: 0.9734\n",
            "Epoch 10/10\n",
            "157/157 [==============================] - 4s 26ms/step - loss: 0.0899 - accuracy: 0.9762\n",
            "157/157 [==============================] - 1s 7ms/step - loss: 1.8305 - accuracy: 0.7624\n",
            "0.7623999714851379\n"
          ]
        }
      ]
    },
    {
      "cell_type": "code",
      "source": [
        "model.summary()"
      ],
      "metadata": {
        "colab": {
          "base_uri": "https://localhost:8080/"
        },
        "id": "L8_7rpKPvC3O",
        "outputId": "ffd442cf-bdb8-4f51-a886-4dd02682ad36"
      },
      "execution_count": null,
      "outputs": [
        {
          "output_type": "stream",
          "name": "stdout",
          "text": [
            "Model: \"sequential_3\"\n",
            "_________________________________________________________________\n",
            " Layer (type)                Output Shape              Param #   \n",
            "=================================================================\n",
            " text_vectorization (TextVe  (None, 128)               0         \n",
            " ctorization)                                                    \n",
            "                                                                 \n",
            " embedding (Embedding)       (None, 128, 128)          960000    \n",
            "                                                                 \n",
            " global_average_pooling1d (  (None, 128)               0         \n",
            " GlobalAveragePooling1D)                                         \n",
            "                                                                 \n",
            " dense_14 (Dense)            (None, 128)               16512     \n",
            "                                                                 \n",
            " dense_15 (Dense)            (None, 64)                8256      \n",
            "                                                                 \n",
            " dense_16 (Dense)            (None, 32)                2080      \n",
            "                                                                 \n",
            " dense_17 (Dense)            (None, 16)                528       \n",
            "                                                                 \n",
            " dense_18 (Dense)            (None, 8)                 136       \n",
            "                                                                 \n",
            " dense_19 (Dense)            (None, 1)                 9         \n",
            "                                                                 \n",
            "=================================================================\n",
            "Total params: 987521 (3.77 MB)\n",
            "Trainable params: 987521 (3.77 MB)\n",
            "Non-trainable params: 0 (0.00 Byte)\n",
            "_________________________________________________________________\n"
          ]
        }
      ]
    },
    {
      "cell_type": "markdown",
      "source": [
        "The embedding along each dimension for every word is averaged and pooled as infered from the the model summary??"
      ],
      "metadata": {
        "id": "XPz9IxpdwTPD"
      }
    },
    {
      "cell_type": "markdown",
      "source": [
        "The performance of the model increased from 55% to 76% on the test dataset just with the addition of `GlobalAveragePooling1D` layer. We'll try improving on it further with Hyper Parameter Tuning."
      ],
      "metadata": {
        "id": "PBarRByXutdA"
      }
    },
    {
      "cell_type": "markdown",
      "source": [
        "### HPT: The Fine Art of Optimization"
      ],
      "metadata": {
        "id": "qtKztl0tu76y"
      }
    },
    {
      "cell_type": "markdown",
      "source": [
        "* Hyperparameter tuning is like a treasure hunt, where we search for the perfect combination of model parameters to maximize its performance. By adjusting these parameters, we can influence how an algorithm learns and performs, unlocking its full potential. Hyperparameter tuning is the key that helps us unlock the full power of our model, ensuring we make the most out of every parameter.\n",
        "\n",
        "* Below are some common hyperparameters in a deep neural network for text classification:\n",
        "\n",
        "![image.png](data:image/png;base64,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)\n"
      ],
      "metadata": {
        "id": "5HAZo2Hpvefs"
      }
    },
    {
      "cell_type": "markdown",
      "source": [
        "#### The Learning Rate Balancing Act\n",
        "\n",
        "* The learning rate for the optimizer is a key player in deep neural network performance. It dictates the speed of training and convergence.\n",
        "\n",
        "* A **high learning rate** can **cause the model to converge too quickly to a suboptimal solutio**n, skipping over better or more nuanced solutions. This is known as underfitting. The model doesn't learn enough from the data, and thus it doesn't perform well.\n",
        "\n",
        "* On the other hand, a **low learning rate** causes the model to learn slowly, taking a small step in each iteration of the training process. While this can help the model to find a good solution without skipping over it, it can also **cause the model to get stuck in local minima and overfit to the training data**. This is because a low learning rate might allow the model to tweak and adapt its parameters to the training data so closely that it performs poorly on unseen data. Overfitting is a situation where the model performs well on the training data but poorly on the validation/test data.\n",
        "\n",
        "* While the learning rate can influence the model's tendency to overfit or underfit the data, other factors, such as model architecture, regularization techniques, and the amount of training data, also play a significant role in determining the model's performance and its ability to generalize."
      ],
      "metadata": {
        "id": "dzQOQX5qw5px"
      }
    },
    {
      "cell_type": "code",
      "source": [
        "# model with an higher accuracy rate of 0.1\n",
        "\n",
        "model_inc_learning_rate = Sequential()\n",
        "model_inc_learning_rate.add(Input(shape=(1,), dtype=tf.string))\n",
        "model_inc_learning_rate.add(vectorizer_layer)\n",
        "model_inc_learning_rate.add(embedding_layer)\n",
        "model_inc_learning_rate.add(layers.GlobalAveragePooling1D())\n",
        "model_inc_learning_rate.add(layers.Dense(128, activation='relu'))\n",
        "model_inc_learning_rate.add(layers.Dense(64, activation='relu'))\n",
        "model_inc_learning_rate.add(layers.Dense(32, activation='relu'))\n",
        "model_inc_learning_rate.add(layers.Dense(16, activation='relu'))\n",
        "model_inc_learning_rate.add(layers.Dense(8, activation='relu'))\n",
        "model_inc_learning_rate.add(layers.Dense(1, activation='sigmoid'))\n",
        "\n",
        "model_inc_learning_rate.compile(optimizer=tf.optimizers.Adam(learning_rate=0.1), loss='binary_crossentropy', metrics=['accuracy'])\n",
        "\n",
        "model_inc_learning_rate.fit(X_train, y_train, epochs=10)\n",
        "\n",
        "test_loss, test_acc = model_inc_learning_rate.evaluate(X_test, y_test)\n",
        "print(test_acc)"
      ],
      "metadata": {
        "colab": {
          "base_uri": "https://localhost:8080/"
        },
        "id": "DZwD3zLMxNbd",
        "outputId": "1ac04c6b-af82-4e10-93b1-c1b6b2f17c29"
      },
      "execution_count": null,
      "outputs": [
        {
          "output_type": "stream",
          "name": "stdout",
          "text": [
            "Epoch 1/10\n",
            "157/157 [==============================] - 8s 35ms/step - loss: 0.7215 - accuracy: 0.4920\n",
            "Epoch 2/10\n",
            "157/157 [==============================] - 5s 30ms/step - loss: 0.6950 - accuracy: 0.5050\n",
            "Epoch 3/10\n",
            "157/157 [==============================] - 6s 38ms/step - loss: 0.6938 - accuracy: 0.5174\n",
            "Epoch 4/10\n",
            "157/157 [==============================] - 3s 21ms/step - loss: 0.6959 - accuracy: 0.4942\n",
            "Epoch 5/10\n",
            "157/157 [==============================] - 3s 19ms/step - loss: 0.6958 - accuracy: 0.5014\n",
            "Epoch 6/10\n",
            "157/157 [==============================] - 3s 19ms/step - loss: 0.6945 - accuracy: 0.4978\n",
            "Epoch 7/10\n",
            "157/157 [==============================] - 4s 25ms/step - loss: 0.6950 - accuracy: 0.5122\n",
            "Epoch 8/10\n",
            "157/157 [==============================] - 4s 23ms/step - loss: 0.6955 - accuracy: 0.4922\n",
            "Epoch 9/10\n",
            "157/157 [==============================] - 3s 19ms/step - loss: 0.6938 - accuracy: 0.5074\n",
            "Epoch 10/10\n",
            "157/157 [==============================] - 4s 27ms/step - loss: 0.6949 - accuracy: 0.5090\n",
            "157/157 [==============================] - 5s 17ms/step - loss: 0.6933 - accuracy: 0.4988\n",
            "0.49880000948905945\n"
          ]
        }
      ]
    },
    {
      "cell_type": "code",
      "source": [
        "# model with an lower accuracy rate of 0.001\n",
        "\n",
        "model_dec_learning_rate = Sequential()\n",
        "model_dec_learning_rate.add(Input(shape=(1,), dtype=tf.string))\n",
        "model_dec_learning_rate.add(vectorizer_layer)\n",
        "model_dec_learning_rate.add(embedding_layer)\n",
        "model_dec_learning_rate.add(layers.GlobalAveragePooling1D())\n",
        "model_dec_learning_rate.add(layers.Dense(128, activation='relu'))\n",
        "model_dec_learning_rate.add(layers.Dense(64, activation='relu'))\n",
        "model_dec_learning_rate.add(layers.Dense(32, activation='relu'))\n",
        "model_dec_learning_rate.add(layers.Dense(16, activation='relu'))\n",
        "model_dec_learning_rate.add(layers.Dense(8, activation='relu'))\n",
        "model_dec_learning_rate.add(layers.Dense(1, activation='sigmoid'))\n",
        "\n",
        "model_dec_learning_rate.compile(optimizer=tf.optimizers.Adam(learning_rate=0.001), loss='binary_crossentropy', metrics=['accuracy'])\n",
        "\n",
        "model_dec_learning_rate.fit(X_train, y_train, epochs=10)\n",
        "\n",
        "test_loss, test_acc = model_dec_learning_rate.evaluate(X_test, y_test)\n",
        "print(test_acc)"
      ],
      "metadata": {
        "colab": {
          "base_uri": "https://localhost:8080/"
        },
        "id": "UQM9SNyeu66f",
        "outputId": "0eb6339c-7fdb-4c10-b360-bccdae180ef8"
      },
      "execution_count": null,
      "outputs": [
        {
          "output_type": "stream",
          "name": "stdout",
          "text": [
            "Epoch 1/10\n",
            "157/157 [==============================] - 9s 35ms/step - loss: 0.4377 - accuracy: 0.8186\n",
            "Epoch 2/10\n",
            "157/157 [==============================] - 6s 38ms/step - loss: 0.1674 - accuracy: 0.9436\n",
            "Epoch 3/10\n",
            "157/157 [==============================] - 5s 34ms/step - loss: 0.1241 - accuracy: 0.9606\n",
            "Epoch 4/10\n",
            "157/157 [==============================] - 6s 39ms/step - loss: 0.1252 - accuracy: 0.9616\n",
            "Epoch 5/10\n",
            "157/157 [==============================] - 5s 31ms/step - loss: 0.0887 - accuracy: 0.9752\n",
            "Epoch 6/10\n",
            "157/157 [==============================] - 5s 34ms/step - loss: 0.0723 - accuracy: 0.9820\n",
            "Epoch 7/10\n",
            "157/157 [==============================] - 6s 37ms/step - loss: 0.0659 - accuracy: 0.9852\n",
            "Epoch 8/10\n",
            "157/157 [==============================] - 4s 25ms/step - loss: 0.0798 - accuracy: 0.9770\n",
            "Epoch 9/10\n",
            "157/157 [==============================] - 3s 19ms/step - loss: 0.0564 - accuracy: 0.9860\n",
            "Epoch 10/10\n",
            "157/157 [==============================] - 5s 30ms/step - loss: 0.0493 - accuracy: 0.9888\n",
            "157/157 [==============================] - 1s 7ms/step - loss: 0.8941 - accuracy: 0.7672\n",
            "0.7671999931335449\n"
          ]
        }
      ]
    },
    {
      "cell_type": "markdown",
      "source": [
        "Of the 3 learning rates experimented with on the model with `GlobalAveragePolling1D`, the accuracies are:\n",
        "* lr=0.1   -> 49.8%\n",
        "* lr=0.01  -> 76.2%\n",
        "* lr=0.001 -> 76.7%\n",
        "\n",
        "**Hence going with `learning_rate=0.001` moving forward...**"
      ],
      "metadata": {
        "id": "YHXx8UcFyT9D"
      }
    },
    {
      "cell_type": "markdown",
      "source": [
        "#### Choice of Activation Function\n",
        "\n",
        "* Activation functions breathe life into our network by incorporating non-linear transformations, enabling it to grasp complex relationships.\n",
        "\n",
        "* We've been using the `relu()` activation function, but there are alternative options worth considering, such as the `elu()` function.\n",
        "\n",
        "* The Exponential Linear Unit (ELU) imparts non-linearity by applying an exponential function to negative inputs while keeping positive inputs unchanged, thereby enhancing the model's capacity to learn the nuanced relationship between input and output."
      ],
      "metadata": {
        "id": "ld1EkX2QxOFS"
      }
    },
    {
      "cell_type": "code",
      "source": [
        "# model with 'elu' activation instead of 'relu' activation in the dense layers\n",
        "\n",
        "model_activation_function = Sequential()\n",
        "model_activation_function.add(Input(shape=(1,), dtype=tf.string))\n",
        "model_activation_function.add(vectorizer_layer)\n",
        "model_activation_function.add(embedding_layer)\n",
        "model_activation_function.add(layers.GlobalAveragePooling1D())\n",
        "model_activation_function.add(layers.Dense(128, activation='elu'))\n",
        "model_activation_function.add(layers.Dense(64, activation='elu'))\n",
        "model_activation_function.add(layers.Dense(32, activation='elu'))\n",
        "model_activation_function.add(layers.Dense(16, activation='elu'))\n",
        "model_activation_function.add(layers.Dense(8, activation='elu'))\n",
        "model_activation_function.add(layers.Dense(1, activation='sigmoid'))\n",
        "\n",
        "model_activation_function.compile(optimizer=tf.optimizers.Adam(learning_rate=0.001), loss='binary_crossentropy', metrics=['accuracy'])\n",
        "\n",
        "model_activation_function.fit(X_train, y_train, epochs=10)\n",
        "\n",
        "test_loss, test_acc = model_activation_function.evaluate(X_test, y_test)\n",
        "print(test_acc)"
      ],
      "metadata": {
        "colab": {
          "base_uri": "https://localhost:8080/"
        },
        "id": "H9aqrzbgxVN2",
        "outputId": "af1aa6d8-ee30-4fd9-97b3-e2008ac3b506"
      },
      "execution_count": null,
      "outputs": [
        {
          "output_type": "stream",
          "name": "stdout",
          "text": [
            "Epoch 1/10\n",
            "157/157 [==============================] - 6s 20ms/step - loss: 0.2610 - accuracy: 0.8912\n",
            "Epoch 2/10\n",
            "157/157 [==============================] - 3s 20ms/step - loss: 0.0877 - accuracy: 0.9730\n",
            "Epoch 3/10\n",
            "157/157 [==============================] - 4s 24ms/step - loss: 0.0495 - accuracy: 0.9890\n",
            "Epoch 4/10\n",
            "157/157 [==============================] - 4s 24ms/step - loss: 0.0475 - accuracy: 0.9892\n",
            "Epoch 5/10\n",
            "157/157 [==============================] - 3s 19ms/step - loss: 0.0472 - accuracy: 0.9884\n",
            "Epoch 6/10\n",
            "157/157 [==============================] - 3s 20ms/step - loss: 0.0448 - accuracy: 0.9878\n",
            "Epoch 7/10\n",
            "157/157 [==============================] - 4s 22ms/step - loss: 0.0537 - accuracy: 0.9828\n",
            "Epoch 8/10\n",
            "157/157 [==============================] - 4s 25ms/step - loss: 0.0365 - accuracy: 0.9920\n",
            "Epoch 9/10\n",
            "157/157 [==============================] - 3s 20ms/step - loss: 0.0309 - accuracy: 0.9934\n",
            "Epoch 10/10\n",
            "157/157 [==============================] - 3s 20ms/step - loss: 0.0364 - accuracy: 0.9912\n",
            "157/157 [==============================] - 1s 7ms/step - loss: 1.2526 - accuracy: 0.7694\n",
            "0.7694000005722046\n"
          ]
        }
      ]
    },
    {
      "cell_type": "markdown",
      "source": [
        "**We got a marginally better performace of 76.9% using `elu` activation function; using this moving forward...**"
      ],
      "metadata": {
        "id": "yy4vSpwVzJPj"
      }
    },
    {
      "cell_type": "markdown",
      "source": [
        "#### Adding Dropout Layers"
      ],
      "metadata": {
        "id": "iocfhMpOzfmz"
      }
    },
    {
      "cell_type": "markdown",
      "source": [
        "* Since our models are showing clear signs of overfitting, we should seriously consider implementing some regularization to address it.\n",
        "\n",
        "* A Dropout layer is a smart regularization technique for neural networks that **helps to prevent overfitting**. It works by **randomly turning off (i.e., setting their weights to zero) random neurons during each training iteration**. This ingenious trick prevents the nodes from relying too heavily on any particular input feature and helps the model generalize better to unseen data points.\n",
        "\n",
        "* Where rate is the percentage of random nodes to drop during each training iteration. It's not necessary to use the same rate for all the dropout layers in our model. In some cases, using different dropout rates for different layers can lead to better performance. For instance, we might want to use a higher dropout rate in the earlier layers of our model and a lower dropout rate in the later layers.\n",
        "\n",
        "* Ultimately, the choice of dropout rate(s) depends on the specific problem and model architecture. It's often a good idea to experiment with different dropout rates and monitor the model's performance on both the training and test sets to find the best setting for each use case.\n",
        "\n",
        "* Dropout is only applied during training, so it won't affect the model's performance during inference."
      ],
      "metadata": {
        "id": "e8f70m2TzkUS"
      }
    },
    {
      "cell_type": "code",
      "source": [
        "model_optimizer_dropout = Sequential()\n",
        "model_optimizer_dropout.add(Input(shape=(1,), dtype=tf.string))\n",
        "model_optimizer_dropout.add(vectorizer_layer)\n",
        "model_optimizer_dropout.add(embedding_layer)\n",
        "model_optimizer_dropout.add(layers.GlobalAveragePooling1D())\n",
        "model_optimizer_dropout.add(layers.Dense(128, activation='elu'))\n",
        "model_optimizer_dropout.add(layers.Dropout(rate=0.6))                   # dropout layer with rate=0.6\n",
        "model_optimizer_dropout.add(layers.Dense(64, activation='elu'))\n",
        "model_optimizer_dropout.add(layers.Dropout(rate=0.5))                   # dropout layer with rate=0.5\n",
        "model_optimizer_dropout.add(layers.Dense(32, activation='elu'))\n",
        "model_optimizer_dropout.add(layers.Dense(16, activation='elu'))\n",
        "model_optimizer_dropout.add(layers.Dense(8, activation='elu'))\n",
        "model_optimizer_dropout.add(layers.Dense(1, activation='sigmoid'))\n",
        "\n",
        "opt = tf.optimizers.RMSprop(learning_rate=0.001, rho=0.8, momentum=0.9) # using RMSProp optimizer instead of Adam here\n",
        "model_optimizer_dropout.compile(optimizer=opt, loss='binary_crossentropy', metrics=['accuracy'])\n",
        "\n",
        "model_optimizer_dropout.fit(X_train, y_train, epochs=10)\n",
        "\n",
        "test_loss, test_acc = model_optimizer_dropout.evaluate(X_test, y_test)\n",
        "print(test_acc)"
      ],
      "metadata": {
        "colab": {
          "base_uri": "https://localhost:8080/"
        },
        "id": "gmrP1Gwzy5_x",
        "outputId": "289e340e-e9cb-4e66-98f6-6a863970845f"
      },
      "execution_count": null,
      "outputs": [
        {
          "output_type": "stream",
          "name": "stdout",
          "text": [
            "Epoch 1/10\n",
            "157/157 [==============================] - 6s 20ms/step - loss: 0.5023 - accuracy: 0.7248\n",
            "Epoch 2/10\n",
            "157/157 [==============================] - 3s 19ms/step - loss: 0.1608 - accuracy: 0.9500\n",
            "Epoch 3/10\n",
            "157/157 [==============================] - 4s 23ms/step - loss: 0.1401 - accuracy: 0.9570\n",
            "Epoch 4/10\n",
            "157/157 [==============================] - 3s 17ms/step - loss: 0.1130 - accuracy: 0.9698\n",
            "Epoch 5/10\n",
            "157/157 [==============================] - 3s 21ms/step - loss: 0.0924 - accuracy: 0.9762\n",
            "Epoch 6/10\n",
            "157/157 [==============================] - 3s 17ms/step - loss: 0.0778 - accuracy: 0.9802\n",
            "Epoch 7/10\n",
            "157/157 [==============================] - 4s 25ms/step - loss: 0.0845 - accuracy: 0.9760\n",
            "Epoch 8/10\n",
            "157/157 [==============================] - 3s 22ms/step - loss: 0.0666 - accuracy: 0.9860\n",
            "Epoch 9/10\n",
            "157/157 [==============================] - 3s 17ms/step - loss: 0.0583 - accuracy: 0.9854\n",
            "Epoch 10/10\n",
            "157/157 [==============================] - 3s 17ms/step - loss: 0.0552 - accuracy: 0.9816\n",
            "157/157 [==============================] - 2s 11ms/step - loss: 2.7847 - accuracy: 0.7650\n",
            "0.7649999856948853\n"
          ]
        }
      ]
    },
    {
      "cell_type": "markdown",
      "source": [
        "The changes do not appear to have improved things compared to previous models, and sometimes, that's just how things go with experiments! However, one thing is clear: our models continue to overfit the data (this can be corrected using the rest of the 80% data ofcourse). Hence, trying **regularization** next..."
      ],
      "metadata": {
        "id": "hydg0Ve10pDS"
      }
    },
    {
      "cell_type": "markdown",
      "source": [
        "#### Regularization"
      ],
      "metadata": {
        "id": "vo3fof1e07jO"
      }
    },
    {
      "cell_type": "markdown",
      "source": [
        "* Regularizers empower us to **add penalties to layer parameters during model optimization**. These penalties **join forces with the network's loss function, which is then optimized**.\n",
        "\n",
        "* This penalty **discourages the model from assigning overly large weights to any particular feature**, helping it generalize better to new unseen data.\n",
        "\n",
        "* TensorFlow provides a `Regularizer` class to implement regularization via the `kernel_regularizer` parameter that can be added to layers in model."
      ],
      "metadata": {
        "id": "ZjAt48N71GxK"
      }
    },
    {
      "cell_type": "markdown",
      "source": [
        "**L1 and L2 Regularization**\n",
        "\n",
        "* The L1 (Lasso) and L2 (Ridge) are regularization techniques in the `tf.keras.regularizers` module that are used for **weight decay**. This involves **adding a penalty term to the loss function during the training process**. The penalty term is based on the magnitude of the model's weights, **encouraging the learning algorithm to find a solution with smaller weights**.\n",
        "\n",
        "* L1 regularization **adds the sum** (`tf.reduce_sum()`) **of the absolute values of weights** (`abs(x)`) multiplied by the l1 regularization factor (sometimes called lambda or alpha) to the loss function during optimization.\n",
        "* Here's how the L1 regularization penalty is calculated: `l1_loss = tf.reduce_sum(abs(x)) * l1`\n",
        "\n",
        "* L2 regularization **adds the sum of the squares of weights** (x) multiplied by the l2 regularization factor to the loss function. These regularization techniques encourage the model to learn simpler and more general patterns in the data, helping to prevent overfitting.\n",
        "* And the L2 regularization penalty uses this equation: `l2_loss = tf.reduce_sum(square(x)) * l2`\n",
        "\n",
        "* The regularization term is typically a fraction of the weight's magnitude, ensuring that **larger weights are penalized more than smaller ones**. This helps prevent large weights from stealing the spotlight during the optimization process.\n",
        "\n",
        "* The values for the parameters of the `kernel_regularizer` can be instances of L1 or L2 regularizers. We can also apply both penalties at the same time using L1L2. To apply L1, L2, or L1L2 regularizers to dense layers, use the example code below:"
      ],
      "metadata": {
        "id": "0qYRp6Vv133p"
      }
    },
    {
      "cell_type": "code",
      "source": [
        "from tensorflow.keras.regularizers import L1, L2, L1L2\n",
        "\n",
        "tf.keras.layers.Dense(arg_1, arg_2,..., kernel_regularizer=L1(l1=l1))\n",
        "tf.keras.layers.Dense(arg_1, arg_2,..., kernel_regularizer=L2(l2=l2))\n",
        "tf.keras.layers.Dense(arg_1, arg_2,..., kernel_regularizer=L1L2(l1=l1, l2=l2))"
      ],
      "metadata": {
        "id": "kVbnS7ZC0gig"
      },
      "execution_count": null,
      "outputs": []
    },
    {
      "cell_type": "code",
      "source": [
        "from tensorflow.keras.regularizers import L1, L2, L1L2\n",
        "\n",
        "model_regularized = Sequential()\n",
        "model_regularized.add(Input(shape=(1,), dtype=tf.string))\n",
        "model_regularized.add(vectorizer_layer)\n",
        "model_regularized.add(embedding_layer)\n",
        "model_regularized.add(layers.GlobalAveragePooling1D())\n",
        "model_regularized.add(layers.Dense(128, activation='elu',\n",
        "                                   kernel_regularizer=L1(l1=0.00001)))                # L1 with reg_factor=0.00001\n",
        "model_regularized.add(layers.Dropout(rate=0.6))                                       # dropout layer with rate=0.6\n",
        "model_regularized.add(layers.Dense(64, activation='elu',\n",
        "                                   kernel_regularizer=L1L2(l1=0.00001, l2=0.00001)))                # L1L2 with reg_factor=0.00001 for both\n",
        "model_regularized.add(layers.Dropout(rate=0.5))                                       # dropout layer with rate=0.5\n",
        "model_regularized.add(layers.Dense(32, activation='elu',\n",
        "                                   kernel_regularizer=L2(l2=0.0005)))                               # L2 with reg_factor=0.0005\n",
        "model_regularized.add(layers.Dense(16, activation='elu',\n",
        "                                   kernel_regularizer=L2(l2=0.0005)))                               # L2 with reg_factor=0.0005\n",
        "model_regularized.add(layers.Dense(8, activation='elu',\n",
        "                                   kernel_regularizer=L2(l2=0.0005)))                               # L2 with reg_factor=0.0005                              # L2 with reg_factor=0.0005\n",
        "model_regularized.add(layers.Dense(1, activation='sigmoid'))\n",
        "\n",
        "opt = tf.optimizers.RMSprop(learning_rate=0.001, rho=0.8, momentum=0.9)               # using RMSProp optimizer instead of Adam here\n",
        "model_regularized.compile(optimizer=opt, loss='binary_crossentropy', metrics=['accuracy'])\n",
        "\n",
        "model_regularized.fit(X_train, y_train, epochs=10)\n",
        "\n",
        "test_loss, test_acc = model_regularized.evaluate(X_test, y_test)\n",
        "print(test_acc)"
      ],
      "metadata": {
        "colab": {
          "base_uri": "https://localhost:8080/"
        },
        "id": "DZk86oE82thG",
        "outputId": "93d45134-b4a7-406f-c382-282c1c3937b7"
      },
      "execution_count": null,
      "outputs": [
        {
          "output_type": "stream",
          "name": "stdout",
          "text": [
            "Epoch 1/10\n",
            "157/157 [==============================] - 4s 18ms/step - loss: 0.2234 - accuracy: 0.9278\n",
            "Epoch 2/10\n",
            "157/157 [==============================] - 3s 18ms/step - loss: 0.0937 - accuracy: 0.9832\n",
            "Epoch 3/10\n",
            "157/157 [==============================] - 3s 19ms/step - loss: 0.0856 - accuracy: 0.9856\n",
            "Epoch 4/10\n",
            "157/157 [==============================] - 4s 28ms/step - loss: 0.0762 - accuracy: 0.9896\n",
            "Epoch 5/10\n",
            "157/157 [==============================] - 3s 17ms/step - loss: 0.0705 - accuracy: 0.9906\n",
            "Epoch 6/10\n",
            "157/157 [==============================] - 4s 28ms/step - loss: 0.0603 - accuracy: 0.9920\n",
            "Epoch 7/10\n",
            "157/157 [==============================] - 7s 42ms/step - loss: 0.0621 - accuracy: 0.9902\n",
            "Epoch 8/10\n",
            "157/157 [==============================] - 5s 33ms/step - loss: 0.0471 - accuracy: 0.9942\n",
            "Epoch 9/10\n",
            "157/157 [==============================] - 5s 31ms/step - loss: 0.0526 - accuracy: 0.9936\n",
            "Epoch 10/10\n",
            "157/157 [==============================] - 6s 38ms/step - loss: 0.0459 - accuracy: 0.9944\n",
            "157/157 [==============================] - 1s 7ms/step - loss: 2.4083 - accuracy: 0.7596\n",
            "0.7595999836921692\n"
          ]
        }
      ]
    },
    {
      "cell_type": "markdown",
      "source": [
        "**Using the complete dataset:**"
      ],
      "metadata": {
        "id": "xB6lh5XPKx9o"
      }
    },
    {
      "cell_type": "code",
      "source": [
        "import pandas as pd\n",
        "import numpy as np\n",
        "import tensorflow as tf\n",
        "import tensorflow_datasets as tfds\n",
        "from tensorflow.keras import Input, layers\n",
        "from tensorflow.keras.models import Sequential\n",
        "from tensorflow.keras.layers import TextVectorization, Embedding\n",
        "from tensorflow.keras.regularizers import L1, L2, L1L2\n",
        "\n",
        "imdb_data = tfds.load(name=\"imdb_reviews\", split=\"train\")\n",
        "imdb_df = tfds.as_dataframe(imdb_data)\n",
        "imdb_df['text'] = imdb_df['text'].str.decode('utf-8')\n",
        "\n",
        "imdb_test = tfds.load(name=\"imdb_reviews\", split=\"test\")\n",
        "imdb_test_df = tfds.as_dataframe(imdb_test)\n",
        "imdb_test_df['text'] = imdb_test_df['text'].str.decode('utf-8')\n",
        "\n",
        "X_train = imdb_df['text']\n",
        "y_train = imdb_df['label']\n",
        "X_test = imdb_test_df['text']\n",
        "y_test = imdb_test_df['label']"
      ],
      "metadata": {
        "colab": {
          "base_uri": "https://localhost:8080/",
          "height": 136,
          "referenced_widgets": [
            "6914c9afa8e6428a98850d33d2710a61",
            "80a7d4f3055642bf96ab4a70ff5a25fa",
            "f3184d07251846e0b70deb1da9a94739",
            "feae35541b7440ce8b7757a7485e9fda",
            "b2cee628f70d4bc68b76ed91d34638ed",
            "5edde4cbb7ca458c8d7dcd822f644651",
            "0d986782083a49f39a3037cd1b053a41",
            "27f41ff3811f4a8788a3810820dffc90",
            "0cdf3e1be9034210996969c59de56fff",
            "b67b0c8bdd764fa7a86359a038ce5d27",
            "fb97d967df6246a79d6adef929bb5f5e",
            "b3eeebd6612e47c3960bd08b7051a0d2",
            "6dace31873014ee58f63961026436154",
            "5ddbde43545f46ddac53aa2a749a1e89",
            "c11bc7aa013f4f358c5c055479514ed7",
            "827aa479e562457aa6b5cf51ddce8cf1",
            "e4047f31cbf446a49e9372def470555f",
            "faa7abe4ccec4d338a32fd6159de1e10",
            "a7da682481b44578bb54754fecc6301a",
            "7fbe010771974eff8386296bae54fe29",
            "03dd5d7430254492934c00e0edb833ba",
            "e942f53f9c44407f80fb7fdfe5859871",
            "d8807d1491dc49fdbeec542385dd78a3",
            "a527b7eb19d34d84b496bfeee39e8835",
            "4e66169c28f64060b439c168ccfece24",
            "4a016480a1a14f9bb06640d1ed259bb3",
            "c5bbae4bc60e4eb186749b49a2746cab",
            "cec32c1d534f4d11ab88a339aa3b285e",
            "f007d657bf9e4d2a883cc84978eacb65",
            "52d028aae14c41de810a6e744a35d214",
            "7f808975f3924b6fa38a76421c79fc77",
            "37fc4e79b5b94848a7ec15cd772f68fc",
            "ab72f8d5833e436c8c72f006d66e5e35",
            "0896a76d7c1e41b1aac0d98441327953",
            "4d8e7b18af8946bebdadf00b945abcdd",
            "eeefe70ee1bb4513b3f3ee98e979a465",
            "a8b0d9ec171543679e1c6c0d400d6be5",
            "04c89503f37e47fab1db85c16b24992c",
            "cf89bc49850a4df3aae4f8417cba27f4",
            "1693160ecfb54c55bd26161377947147",
            "71350d8af5774123bf6752558b632845",
            "1ed34bb63fb6468f9bb4a641db6d1208",
            "6b1e70b8b502417e9716c211f156bb57",
            "ecfeb66432854dd5b7218f6e5dcdad12",
            "9641d18f6a5843e0b74551d52fb7ef29",
            "13a2218b990c4edd9da1d253fc809ff3",
            "aa3ca2545b0645cfa724bc31e6f37939",
            "ca2c1ecbaa744e86b1d3c3d3a175f883",
            "27acf06481184550a5be88e2ffc68710",
            "c2369029a3b648d18dd82562177f5ed3",
            "3c359b8558fd40ef95cd99552981dc70",
            "4de98ec4cec24af79918a235e9ea579b",
            "f291f44893794e9693bf11460c9fd187",
            "4b320ec9701e4e1f8e503ed84dbc76fa",
            "08aa7656ddc7428aa3492d10698c0612",
            "ce441b3b14714549bc6d755daab333c9",
            "d42b635b68404d0d82a7dc7f4f056618",
            "2c55d672cc914cc4bac174514187ebd0",
            "24c93f954c9a471f80c70dc671c78c6d",
            "cc44a2638aca43839a7fe59b2fb1c876",
            "a5c4ff70e50c404386301ff7e36a6ae2",
            "18f2de19aee54a53bc7b9d496a464659",
            "d2a62252aced4f6f887b6ceb7c271b29",
            "cf4414385b3e4e0e873a61501829590b",
            "2458ee934e5b401281226cd5670d45a5",
            "da4cd16d970c4d9498707afcc24f9ea4",
            "33ddcfae7304460ba4c4135f50811371",
            "eaa662b57615431aa5130ff762915390",
            "01b38f3fd6964efd8e947a4ee04b27aa",
            "ae96350d07bc49f093e52c1c28368701",
            "a1db62f3c90c42ae9a3c7453a9961d47",
            "564ae6760be7428385bef09333ae2e7a",
            "c435ee0444af4fad91721290fbe6ac16",
            "ceae24bbe81c4ba0b6f2bbb5cf6d0597",
            "f904727ef46c45a8821c75ee662cd50e",
            "7c1a3a738d77491ab1a009bdf0d01d1a",
            "5ff5770ebf044118bcbe07ca515dfeb2",
            "8c436dec3ec64b21a6367d3a825469ab",
            "1b929303eb494c8495faf5197427f84f",
            "31d993cf17584353ac976093bd95c5c6",
            "d5aab107ea6f41aa96fe9a6669e313fe",
            "1049aa39af7e4e4ba3fbbd595ba34e72",
            "71ca267db45340dfb5338d9f86b54b36",
            "41d77923f03c44d4a5cad2591f4026ee",
            "54820939c07648ffa82a5d34e4cc6b45",
            "1ebbb2e5b52a4d53a3ce899409998915",
            "d7b0ac083fbc4e4d84849cb87143b509",
            "22291ec5f4934be595bbf1d91ac0d024",
            "b130741429184aacabfdba624d539483",
            "a04249ea29684e76b99626fc39c3267c",
            "eee1751a42d742fab1c57a2dd03671ff",
            "806b8fb2d5214e10b2d9234168425bfa",
            "87d40008943141e3a4e0cf9e8817396f",
            "96fd5b2eb6294075a11152bb739b96e0",
            "7dcfcc69300a4ce6a32f7c49563cb8dc",
            "306fb5764bf64002a6c4b4d6aed25b8e",
            "a9cd50003a3a4b348f668f88e984a2ea",
            "fa5cfcb885734e81b9b6968d0d7f5d81",
            "843db9c4bdae48b48bc2ffbded109d01"
          ]
        },
        "id": "mSNCutLu32B3",
        "outputId": "de2b33ca-ff77-4aa2-de0d-6dac79013345"
      },
      "execution_count": null,
      "outputs": [
        {
          "output_type": "stream",
          "name": "stdout",
          "text": [
            "Downloading and preparing dataset 80.23 MiB (download: 80.23 MiB, generated: Unknown size, total: 80.23 MiB) to /root/tensorflow_datasets/imdb_reviews/plain_text/1.0.0...\n"
          ]
        },
        {
          "output_type": "display_data",
          "data": {
            "text/plain": [
              "Dl Completed...: 0 url [00:00, ? url/s]"
            ],
            "application/vnd.jupyter.widget-view+json": {
              "version_major": 2,
              "version_minor": 0,
              "model_id": "6914c9afa8e6428a98850d33d2710a61"
            }
          },
          "metadata": {}
        },
        {
          "output_type": "display_data",
          "data": {
            "text/plain": [
              "Dl Size...: 0 MiB [00:00, ? MiB/s]"
            ],
            "application/vnd.jupyter.widget-view+json": {
              "version_major": 2,
              "version_minor": 0,
              "model_id": "b3eeebd6612e47c3960bd08b7051a0d2"
            }
          },
          "metadata": {}
        },
        {
          "output_type": "display_data",
          "data": {
            "text/plain": [
              "Generating splits...:   0%|          | 0/3 [00:00<?, ? splits/s]"
            ],
            "application/vnd.jupyter.widget-view+json": {
              "version_major": 2,
              "version_minor": 0,
              "model_id": "d8807d1491dc49fdbeec542385dd78a3"
            }
          },
          "metadata": {}
        },
        {
          "output_type": "display_data",
          "data": {
            "text/plain": [
              "Generating train examples...:   0%|          | 0/25000 [00:00<?, ? examples/s]"
            ],
            "application/vnd.jupyter.widget-view+json": {
              "version_major": 2,
              "version_minor": 0,
              "model_id": "0896a76d7c1e41b1aac0d98441327953"
            }
          },
          "metadata": {}
        },
        {
          "output_type": "display_data",
          "data": {
            "text/plain": [
              "Shuffling /root/tensorflow_datasets/imdb_reviews/plain_text/incomplete.SYWC44_1.0.0/imdb_reviews-train.tfrecor…"
            ],
            "application/vnd.jupyter.widget-view+json": {
              "version_major": 2,
              "version_minor": 0,
              "model_id": "9641d18f6a5843e0b74551d52fb7ef29"
            }
          },
          "metadata": {}
        },
        {
          "output_type": "display_data",
          "data": {
            "text/plain": [
              "Generating test examples...:   0%|          | 0/25000 [00:00<?, ? examples/s]"
            ],
            "application/vnd.jupyter.widget-view+json": {
              "version_major": 2,
              "version_minor": 0,
              "model_id": "ce441b3b14714549bc6d755daab333c9"
            }
          },
          "metadata": {}
        },
        {
          "output_type": "display_data",
          "data": {
            "text/plain": [
              "Shuffling /root/tensorflow_datasets/imdb_reviews/plain_text/incomplete.SYWC44_1.0.0/imdb_reviews-test.tfrecord…"
            ],
            "application/vnd.jupyter.widget-view+json": {
              "version_major": 2,
              "version_minor": 0,
              "model_id": "33ddcfae7304460ba4c4135f50811371"
            }
          },
          "metadata": {}
        },
        {
          "output_type": "display_data",
          "data": {
            "text/plain": [
              "Generating unsupervised examples...:   0%|          | 0/50000 [00:00<?, ? examples/s]"
            ],
            "application/vnd.jupyter.widget-view+json": {
              "version_major": 2,
              "version_minor": 0,
              "model_id": "8c436dec3ec64b21a6367d3a825469ab"
            }
          },
          "metadata": {}
        },
        {
          "output_type": "display_data",
          "data": {
            "text/plain": [
              "Shuffling /root/tensorflow_datasets/imdb_reviews/plain_text/incomplete.SYWC44_1.0.0/imdb_reviews-unsupervised.…"
            ],
            "application/vnd.jupyter.widget-view+json": {
              "version_major": 2,
              "version_minor": 0,
              "model_id": "b130741429184aacabfdba624d539483"
            }
          },
          "metadata": {}
        },
        {
          "output_type": "stream",
          "name": "stdout",
          "text": [
            "Dataset imdb_reviews downloaded and prepared to /root/tensorflow_datasets/imdb_reviews/plain_text/1.0.0. Subsequent calls will reuse this data.\n"
          ]
        }
      ]
    },
    {
      "cell_type": "code",
      "source": [
        "max_tokens = 7500\n",
        "output_sequence_length = 128\n",
        "output_dim = 128\n",
        "\n",
        "vectorizer_layer = TextVectorization(max_tokens=max_tokens,\n",
        "                                     output_mode='int',\n",
        "                                     standardize='lower_and_strip_punctuation',\n",
        "                                     ngrams=(1, 2),\n",
        "                                     output_sequence_length=output_sequence_length)\n",
        "\n",
        "vectorizer_layer.adapt(X_train)\n",
        "\n",
        "embedding_layer = Embedding(input_dim=max_tokens,\n",
        "                            output_dim=output_dim,\n",
        "                            input_length=output_sequence_length)"
      ],
      "metadata": {
        "id": "f9bqR_B5GfxT"
      },
      "execution_count": null,
      "outputs": []
    },
    {
      "cell_type": "code",
      "source": [
        "model_regularized = Sequential()\n",
        "model_regularized.add(Input(shape=(1,), dtype=tf.string))\n",
        "model_regularized.add(vectorizer_layer)\n",
        "model_regularized.add(embedding_layer)\n",
        "model_regularized.add(layers.GlobalAveragePooling1D())\n",
        "model_regularized.add(layers.Dense(128, activation='elu',\n",
        "                                   kernel_regularizer=L1(l1=0.00001)))                # L1 with reg_factor=0.00001\n",
        "model_regularized.add(layers.Dropout(rate=0.6))                                       # dropout layer with rate=0.6\n",
        "model_regularized.add(layers.Dense(64, activation='elu',\n",
        "                                   kernel_regularizer=L1L2(l1=0.00001, l2=0.00001)))                # L1L2 with reg_factor=0.00001 for both\n",
        "model_regularized.add(layers.Dropout(rate=0.5))                                       # dropout layer with rate=0.5\n",
        "model_regularized.add(layers.Dense(32, activation='elu',\n",
        "                                   kernel_regularizer=L2(l2=0.0005)))                               # L2 with reg_factor=0.0005\n",
        "model_regularized.add(layers.Dense(16, activation='elu',\n",
        "                                   kernel_regularizer=L2(l2=0.0005)))                               # L2 with reg_factor=0.0005\n",
        "model_regularized.add(layers.Dense(8, activation='elu',\n",
        "                                   kernel_regularizer=L2(l2=0.0005)))                               # L2 with reg_factor=0.0005                              # L2 with reg_factor=0.0005\n",
        "model_regularized.add(layers.Dense(1, activation='sigmoid'))\n",
        "\n",
        "opt = tf.optimizers.RMSprop(learning_rate=0.001, rho=0.8, momentum=0.9)               # using RMSProp optimizer instead of Adam here\n",
        "model_regularized.compile(optimizer=opt, loss='binary_crossentropy', metrics=['accuracy'])\n",
        "\n",
        "model_regularized.fit(X_train, y_train, epochs=10)\n",
        "\n",
        "test_loss, test_acc = model_regularized.evaluate(X_test, y_test)\n",
        "print(test_acc)"
      ],
      "metadata": {
        "colab": {
          "base_uri": "https://localhost:8080/"
        },
        "id": "NqZ7i_XYI-ZY",
        "outputId": "093e7538-c897-432c-8a8c-0f1dcfba22f2"
      },
      "execution_count": null,
      "outputs": [
        {
          "output_type": "stream",
          "name": "stdout",
          "text": [
            "Epoch 1/10\n",
            "782/782 [==============================] - 24s 22ms/step - loss: 0.4937 - accuracy: 0.7813\n",
            "Epoch 2/10\n",
            "782/782 [==============================] - 9s 12ms/step - loss: 0.3962 - accuracy: 0.8474\n",
            "Epoch 3/10\n",
            "782/782 [==============================] - 8s 11ms/step - loss: 0.3700 - accuracy: 0.8598\n",
            "Epoch 4/10\n",
            "782/782 [==============================] - 7s 9ms/step - loss: 0.3514 - accuracy: 0.8671\n",
            "Epoch 5/10\n",
            "782/782 [==============================] - 8s 10ms/step - loss: 0.3455 - accuracy: 0.8719\n",
            "Epoch 6/10\n",
            "782/782 [==============================] - 7s 9ms/step - loss: 0.3405 - accuracy: 0.8726\n",
            "Epoch 7/10\n",
            "782/782 [==============================] - 8s 10ms/step - loss: 0.3366 - accuracy: 0.8760\n",
            "Epoch 8/10\n",
            "782/782 [==============================] - 8s 10ms/step - loss: 0.3280 - accuracy: 0.8778\n",
            "Epoch 9/10\n",
            "782/782 [==============================] - 7s 9ms/step - loss: 0.3263 - accuracy: 0.8819\n",
            "Epoch 10/10\n",
            "782/782 [==============================] - 8s 10ms/step - loss: 0.3228 - accuracy: 0.8806\n",
            "782/782 [==============================] - 5s 7ms/step - loss: 0.4214 - accuracy: 0.8295\n",
            "0.8295199871063232\n"
          ]
        }
      ]
    },
    {
      "cell_type": "markdown",
      "source": [
        "Using the complete dataset instead of 20% improved the accuracy from 76% to 83% !!\n",
        "\n",
        "Comparison of the accuracies of different models on train & test dataset:\n",
        "\n",
        "![image.png](data:image/png;base64,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)"
      ],
      "metadata": {
        "id": "mjgn3vW-K1L1"
      }
    },
    {
      "cell_type": "markdown",
      "source": [
        "## Sequence modeling in NLP"
      ],
      "metadata": {
        "id": "L8miTO4uLihG"
      }
    },
    {
      "cell_type": "markdown",
      "source": [
        "### Simple LSTM"
      ],
      "metadata": {
        "id": "Uha7yifFJRCR"
      }
    },
    {
      "cell_type": "markdown",
      "source": [
        "Sequence models use algorithms that consider the order of input data points. In other words, they take into account the sequence of words when predicting the output text. This makes sequence modeling ideal for tasks like speech recognition and machine translation, which require an understanding of longer sequences of data.\n",
        "\n",
        "**The Anatomy of an LSTM Model**\n",
        "\n",
        "* Like most neural networks, LSTM models consist of interconnected layers of neurons, referred to as cells. Each cell incorporates an input gate, an output gate, and a forget gate.\n",
        "\n",
        "* The input gate determines which information to update, the forget gate decides which information to discard, and the output gate identifies which information to output. Here is a depiction of this concept:\n",
        "\n",
        "![image.png](data:image/png;base64,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)\n",
        "\n",
        "* In addition to an input gate, an output gate, and a forget gate, the LSTM architecture also contains a cell state and a hidden state. The **cell state serves as the memory of the cell**, while the **hidden state functions as the output of the cell**.\n",
        "\n",
        "* LSTM has the parameter `units`- a positive integer that **represents the dimensionality of the output space**. In simpler terms, it sets the number of hidden units or \"neurons\" in the LSTM layer.\n",
        "\n",
        "* **Each unit or neuron in an LSTM layer represents a memory cell that is capable of remembering a value over an arbitrary length of time**. This memory capability is what makes LSTM models particularly useful for sequence prediction problems, as they can \"remember\" important information from earlier in the sequence and use it to inform predictions later in the sequence."
      ],
      "metadata": {
        "id": "Kc2tvl1ZLlWR"
      }
    },
    {
      "cell_type": "code",
      "source": [
        "import pandas as pd\n",
        "import numpy as np\n",
        "import tensorflow as tf\n",
        "import tensorflow_datasets as tfds\n",
        "from tensorflow.keras import Input, layers\n",
        "from tensorflow.keras.models import Sequential\n",
        "from tensorflow.keras.layers import TextVectorization, Embedding\n",
        "from tensorflow.keras.regularizers import L1, L2, L1L2\n",
        "\n",
        "imdb_data = tfds.load(name=\"imdb_reviews\", split=\"train\")\n",
        "imdb_df = tfds.as_dataframe(imdb_data)\n",
        "imdb_df['text'] = imdb_df['text'].str.decode('utf-8')\n",
        "\n",
        "imdb_test = tfds.load(name=\"imdb_reviews\", split=\"test\")\n",
        "imdb_test_df = tfds.as_dataframe(imdb_test)\n",
        "imdb_test_df['text'] = imdb_test_df['text'].str.decode('utf-8')\n",
        "\n",
        "X_train = imdb_df['text']\n",
        "y_train = imdb_df['label']\n",
        "X_test = imdb_test_df['text']\n",
        "y_test = imdb_test_df['label']"
      ],
      "metadata": {
        "colab": {
          "base_uri": "https://localhost:8080/",
          "height": 136,
          "referenced_widgets": [
            "f2c302a5cd7a43e39c962fac52771386",
            "4c16f8503584440ba761b95e7c0dc9ae",
            "fdf2a58f81e84b90805ade7d7fe14438",
            "9c8679a1bb504bea8180c07492d83750",
            "2b628823bcce49659e52708b77f99954",
            "1887086d52fa40d1ae4093951f9ddfcf",
            "a8e5609bec44477c88180051f0b71957",
            "340c052472204b3f8cf13d2c8c774184",
            "1da62e226efd4cd6a2831689fe730c5c",
            "cf8e870c81574bacaa4df8f60a2a5c4c",
            "ddec00ed15ab42b1839573dfe4d17834",
            "e123ac66b07241f59130de75555a40dc",
            "19bea36646c6477f939a485bdfb3c0aa",
            "4f576387d8c24c6682840d3ddb613808",
            "9fc9e4358315478a9c01e63cb25edb87",
            "2b61b7be4952401a8abee1e549326ec6",
            "e8f18a5310e2411e8706700be64317de",
            "34d3f10e3b3b4329bf9f267080cd0a4d",
            "5e8d8570eb9945c5a0ecce72ec6da8ea",
            "a19d64a27f294cfdaa4bd50cc68eb576",
            "bb29a525c757445eb6fdfbc3019b6f2f",
            "3e1f1dccc01c477f8a6beaebb247578b",
            "177aaa669d4e4d0997d2303f4f998dfc",
            "e0587bc481db4ffda53897ad4a43f8e8",
            "ca98038b19a94b56b2b79ee7f46f48b5",
            "4a2cf0501acd47e6809a4ddeeeeaa7d5",
            "4f8e5d225e0e42bfbf8ccc5f015fdf4e",
            "85c88147212040888455dcde540f887b",
            "ba4708bd8d6a46e595d713252366ff2e",
            "2ac097e69a3a4e4fb17ecd7a137e2a07",
            "cf58d8788fc2478bbdcc4673b281ffb0",
            "3aa7c4c5ae0349548abc8015354e748d",
            "9aa8993385f444eb893c955c688af2bb",
            "b5a3fedc95b3401fb68b8f1c3b11e628",
            "1193f2bd44fa43d39cf9b108ed814ff4",
            "f777155fc9094824a40b12adf5884983",
            "dd91b7a613ea449ebfdf009eddfaff40",
            "65b4f268bdd54b86852b114a05885fc4",
            "9cb8761d62aa4401a64465179f418820",
            "f844e42910324b08bf9dbc43f1dc8c2f",
            "f534d3c0ce424047882f2185007e2884",
            "3336dc5b3a3e46d689a1a43ace33b9db",
            "aa78aaa58db646acaabc9df2d6f3f539",
            "236eab3bdab4423483a1095997b352de",
            "f59745012b1e42d991929da1588758d2",
            "cfc8140731c84befbd2f594636c589f6",
            "d668dae6249940d49587938dadf25331",
            "2dccae834a1e408d8ea5aeb68cc40d94",
            "beb63d25f47448889aa46406884cbf9b",
            "806f8408749346e8b8eceb2f35837bb9",
            "572dd2bb4ce04b07a78788dbeed42a67",
            "b509ed6e76954775b2a19b774b4c8589",
            "2f7cafea4b3041658df6f40e81dacf2d",
            "aae5c2c121914b4688ab5715fc84eabc",
            "0ee4df0c0dba4366a9e8e572af1d338c",
            "853c4e001319449381a6e94426852f55",
            "aea3e584683945a0b89916ef0ca83398",
            "1d00cae70a03474eae1f6216a2465560",
            "1f272785acf6457f8f7aeeeadbc54029",
            "f28b6c053e024b7381be184d001b55ff",
            "ada98597031444dd93744bf70a6a3cc7",
            "173e8bdfff3647d9bfa88551f34d1799",
            "ab2c3dbd00c643ec9f7587c3a4c52c12",
            "d79b290d8683418cb11ac241f5710f14",
            "52bb6976ecc1409ba7f3b5da4051c8e9",
            "da2a759e6c40415681749e91dc82c1b2",
            "d3ad6391f047427e89b02a8a64c0c1ae",
            "30aad0ea51784e0891d17fa9832ebdd4",
            "9b3de26322074c61aa51b7d49ce247bb",
            "2e2f47180f6c4a288d0cbbfceb41b96b",
            "de78f00ec9284d129fb995fb0f9ebab5",
            "000bcf067a8a405eb39d44d1dd0381b4",
            "ce18a5a072e84500b03335cacdb1eb79",
            "5feccd8e3577408090ca0e5e4ac6a856",
            "abf22943645648e6a5936624e4b0afc1",
            "63638cc38bd448f3ae712155e58e8a08",
            "c36e9d866b4940cab424a86f5bc693fe",
            "1a80b5613d754719a20db5a6174343b8",
            "d3516d65ebb94d38bbab03bc879af074",
            "9d23d41d4c4149538f02f0dd926878ef",
            "3baa64bf040e4e4d8c3f7f11f3d91852",
            "8c81e7a0275f4b3d81c90e921a35dcb0",
            "feecd4da6d6946d4bf7e537b9e899a63",
            "4f64db59d1544f58a2924dd538e69274",
            "00a2e1a5ae5b462ba9803bb32bee0d58",
            "f60bfa4623c44af88ef7e2924e98c113",
            "fc6149ca0a4f4b9d8d449947c27205a8",
            "c9e1e85142ab4f34aafd5340be722151",
            "11219bfe3a9b4dfd9d04f47936883e5d",
            "42a216bdcc4549ba826c0e0a444ec0b4",
            "9f440af74bbf4791acc2242fb30a7f20",
            "afded43227ff4b958acc027b1ad76595",
            "96e3c81c2ca84a33bfe055e32619d363",
            "99ff403397c94897ab3bf167e9eacbbf",
            "87b54c82c25b45b595e91f62b7448b53",
            "bf35126b138f427ba147c2bbc5658c6b",
            "50b2e23d2ae1414ea0b666ab7db4841f",
            "329569a436e94beb9c57a1d2eec94f94",
            "6abd29c3154c48f69d5cdaf1494c7c44"
          ]
        },
        "id": "7qt5HTp9I-xG",
        "outputId": "462573c4-7e6b-432a-87ea-e5e0aaa72713"
      },
      "execution_count": null,
      "outputs": [
        {
          "output_type": "stream",
          "name": "stdout",
          "text": [
            "Downloading and preparing dataset 80.23 MiB (download: 80.23 MiB, generated: Unknown size, total: 80.23 MiB) to /root/tensorflow_datasets/imdb_reviews/plain_text/1.0.0...\n"
          ]
        },
        {
          "output_type": "display_data",
          "data": {
            "text/plain": [
              "Dl Completed...: 0 url [00:00, ? url/s]"
            ],
            "application/vnd.jupyter.widget-view+json": {
              "version_major": 2,
              "version_minor": 0,
              "model_id": "f2c302a5cd7a43e39c962fac52771386"
            }
          },
          "metadata": {}
        },
        {
          "output_type": "display_data",
          "data": {
            "text/plain": [
              "Dl Size...: 0 MiB [00:00, ? MiB/s]"
            ],
            "application/vnd.jupyter.widget-view+json": {
              "version_major": 2,
              "version_minor": 0,
              "model_id": "e123ac66b07241f59130de75555a40dc"
            }
          },
          "metadata": {}
        },
        {
          "output_type": "display_data",
          "data": {
            "text/plain": [
              "Generating splits...:   0%|          | 0/3 [00:00<?, ? splits/s]"
            ],
            "application/vnd.jupyter.widget-view+json": {
              "version_major": 2,
              "version_minor": 0,
              "model_id": "177aaa669d4e4d0997d2303f4f998dfc"
            }
          },
          "metadata": {}
        },
        {
          "output_type": "display_data",
          "data": {
            "text/plain": [
              "Generating train examples...:   0%|          | 0/25000 [00:00<?, ? examples/s]"
            ],
            "application/vnd.jupyter.widget-view+json": {
              "version_major": 2,
              "version_minor": 0,
              "model_id": "b5a3fedc95b3401fb68b8f1c3b11e628"
            }
          },
          "metadata": {}
        },
        {
          "output_type": "display_data",
          "data": {
            "text/plain": [
              "Shuffling /root/tensorflow_datasets/imdb_reviews/plain_text/incomplete.X10ZUT_1.0.0/imdb_reviews-train.tfrecor…"
            ],
            "application/vnd.jupyter.widget-view+json": {
              "version_major": 2,
              "version_minor": 0,
              "model_id": "f59745012b1e42d991929da1588758d2"
            }
          },
          "metadata": {}
        },
        {
          "output_type": "display_data",
          "data": {
            "text/plain": [
              "Generating test examples...:   0%|          | 0/25000 [00:00<?, ? examples/s]"
            ],
            "application/vnd.jupyter.widget-view+json": {
              "version_major": 2,
              "version_minor": 0,
              "model_id": "853c4e001319449381a6e94426852f55"
            }
          },
          "metadata": {}
        },
        {
          "output_type": "display_data",
          "data": {
            "text/plain": [
              "Shuffling /root/tensorflow_datasets/imdb_reviews/plain_text/incomplete.X10ZUT_1.0.0/imdb_reviews-test.tfrecord…"
            ],
            "application/vnd.jupyter.widget-view+json": {
              "version_major": 2,
              "version_minor": 0,
              "model_id": "d3ad6391f047427e89b02a8a64c0c1ae"
            }
          },
          "metadata": {}
        },
        {
          "output_type": "display_data",
          "data": {
            "text/plain": [
              "Generating unsupervised examples...:   0%|          | 0/50000 [00:00<?, ? examples/s]"
            ],
            "application/vnd.jupyter.widget-view+json": {
              "version_major": 2,
              "version_minor": 0,
              "model_id": "1a80b5613d754719a20db5a6174343b8"
            }
          },
          "metadata": {}
        },
        {
          "output_type": "display_data",
          "data": {
            "text/plain": [
              "Shuffling /root/tensorflow_datasets/imdb_reviews/plain_text/incomplete.X10ZUT_1.0.0/imdb_reviews-unsupervised.…"
            ],
            "application/vnd.jupyter.widget-view+json": {
              "version_major": 2,
              "version_minor": 0,
              "model_id": "11219bfe3a9b4dfd9d04f47936883e5d"
            }
          },
          "metadata": {}
        },
        {
          "output_type": "stream",
          "name": "stdout",
          "text": [
            "Dataset imdb_reviews downloaded and prepared to /root/tensorflow_datasets/imdb_reviews/plain_text/1.0.0. Subsequent calls will reuse this data.\n"
          ]
        }
      ]
    },
    {
      "cell_type": "code",
      "source": [
        "max_tokens = 20000\n",
        "output_sequence_length = 256\n",
        "output_dim = 128\n",
        "\n",
        "vectorizer_layer = TextVectorization(max_tokens=max_tokens,\n",
        "                                     output_mode='int',\n",
        "                                     standardize='lower_and_strip_punctuation',\n",
        "                                     ngrams=1,\n",
        "                                     output_sequence_length=output_sequence_length)\n",
        "\n",
        "vectorizer_layer.adapt(X_train)\n",
        "\n",
        "embedding_layer = Embedding(input_dim=max_tokens,\n",
        "                            output_dim=output_dim,\n",
        "                            input_length=output_sequence_length)"
      ],
      "metadata": {
        "id": "eaBrjyc88jIT"
      },
      "execution_count": null,
      "outputs": []
    },
    {
      "cell_type": "code",
      "source": [
        "simple_lstm = Sequential()\n",
        "simple_lstm.add(Input(shape=(1,), dtype=tf.string))\n",
        "simple_lstm.add(vectorizer_layer)\n",
        "simple_lstm.add(embedding_layer)\n",
        "simple_lstm.add(layers.LSTM(128))\n",
        "simple_lstm.add(layers.Dense(64, activation='relu'))\n",
        "simple_lstm.add(layers.Dense(1, activation='sigmoid'))\n",
        "simple_lstm.summary()"
      ],
      "metadata": {
        "colab": {
          "base_uri": "https://localhost:8080/"
        },
        "id": "Xfy3rqqj9KFY",
        "outputId": "f80414e7-ed23-4ee9-95cc-09f2739adc2f"
      },
      "execution_count": null,
      "outputs": [
        {
          "output_type": "stream",
          "name": "stdout",
          "text": [
            "Model: \"sequential\"\n",
            "_________________________________________________________________\n",
            " Layer (type)                Output Shape              Param #   \n",
            "=================================================================\n",
            " text_vectorization (TextVe  (None, 256)               0         \n",
            " ctorization)                                                    \n",
            "                                                                 \n",
            " embedding (Embedding)       (None, 256, 128)          2560000   \n",
            "                                                                 \n",
            " lstm (LSTM)                 (None, 128)               131584    \n",
            "                                                                 \n",
            " dense (Dense)               (None, 64)                8256      \n",
            "                                                                 \n",
            " dense_1 (Dense)             (None, 1)                 65        \n",
            "                                                                 \n",
            "=================================================================\n",
            "Total params: 2699905 (10.30 MB)\n",
            "Trainable params: 2699905 (10.30 MB)\n",
            "Non-trainable params: 0 (0.00 Byte)\n",
            "_________________________________________________________________\n"
          ]
        }
      ]
    },
    {
      "cell_type": "code",
      "source": [
        "simple_lstm.compile(optimizer=tf.optimizers.Adam(learning_rate=0.001), loss='binary_crossentropy', metrics=['accuracy'])\n",
        "simple_lstm.fit(X_train, y_train, epochs=5)\n",
        "test_loss, test_acc = simple_lstm.evaluate(X_test, y_test)\n",
        "print(test_acc)"
      ],
      "metadata": {
        "colab": {
          "base_uri": "https://localhost:8080/"
        },
        "id": "81MRph_39qEz",
        "outputId": "18a1b688-f74d-4de9-cd4e-3cbbb7b530c3"
      },
      "execution_count": null,
      "outputs": [
        {
          "output_type": "stream",
          "name": "stdout",
          "text": [
            "Epoch 1/5\n",
            "782/782 [==============================] - 54s 59ms/step - loss: 0.6842 - accuracy: 0.5396\n",
            "Epoch 2/5\n",
            "782/782 [==============================] - 20s 26ms/step - loss: 0.6291 - accuracy: 0.6105\n",
            "Epoch 3/5\n",
            "782/782 [==============================] - 16s 21ms/step - loss: 0.5650 - accuracy: 0.6882\n",
            "Epoch 4/5\n",
            "782/782 [==============================] - 15s 19ms/step - loss: 0.2936 - accuracy: 0.8852\n",
            "Epoch 5/5\n",
            "782/782 [==============================] - 15s 19ms/step - loss: 0.1606 - accuracy: 0.9438\n",
            "782/782 [==============================] - 8s 10ms/step - loss: 0.3663 - accuracy: 0.8584\n",
            "0.8583599925041199\n"
          ]
        }
      ]
    },
    {
      "cell_type": "markdown",
      "source": [
        "Using a simple sequential model gets a performance of 85.8% without any HPT !!"
      ],
      "metadata": {
        "id": "zjAOsMv3BfIw"
      }
    },
    {
      "cell_type": "markdown",
      "source": [
        "### Bi-LSTM\n",
        "\n",
        "* A Bidirectional LSTM extends the functionality of a simple LSTM by processing input sequences in both forward and backward directions. This architecture allows the network to capture not just the context leading up to a word, but also the context following it.\n",
        "\n",
        "* Bidirectional LSTMs retain a memory of both future and past context while processing each token in a sequence, enabling them to make more accurate predictions for text classification tasks."
      ],
      "metadata": {
        "id": "HhiXM2IwJT7w"
      }
    },
    {
      "cell_type": "code",
      "source": [
        "sl_bi_lstm = Sequential()\n",
        "sl_bi_lstm.add(Input(shape=(1,), dtype=tf.string))\n",
        "sl_bi_lstm.add(vectorizer_layer)\n",
        "sl_bi_lstm.add(embedding_layer)\n",
        "sl_bi_lstm.add(layers.Bidirectional(layers.LSTM(128)))\n",
        "sl_bi_lstm.add(layers.Dense(64, activation='relu', kernel_regularizer=L1L2(l1=0.005, l2=0.005)))\n",
        "sl_bi_lstm.add(layers.Dense(32, activation='relu', kernel_regularizer=L2(l2=0.005)))\n",
        "sl_bi_lstm.add(layers.Dense(16, activation='relu', kernel_regularizer=L2(l2=0.01)))\n",
        "sl_bi_lstm.add(layers.Dense(1, activation='sigmoid'))\n",
        "sl_bi_lstm.summary()\n",
        "\n",
        "sl_bi_lstm.compile(optimizer=tf.optimizers.Adam(learning_rate=0.001), loss='binary_crossentropy', metrics=['accuracy'])\n",
        "sl_bi_lstm.fit(X_train, y_train, epochs=3)\n",
        "\n",
        "test_loss, test_acc = sl_bi_lstm.evaluate(X_test, y_test)\n",
        "print(test_acc)"
      ],
      "metadata": {
        "id": "BMKY0XCR_Aml"
      },
      "execution_count": null,
      "outputs": []
    },
    {
      "cell_type": "markdown",
      "source": [],
      "metadata": {
        "id": "iyGYH9uoh7f4"
      }
    },
    {
      "cell_type": "markdown",
      "source": [
        "### Multilayer BiLSTM\n",
        "\n",
        "* Multilayer Bidirectional LSTMs are an extension of single-layer Bidirectional LSTMs. The key difference lies in the presence of multiple LSTM layers, enabling the model to gather more context for pattern recognition and prediction making.\n",
        "\n",
        "* With multiple LSTM layers, each layer can focus on different aspects of the data and pass on relevant information to the next layer.\n",
        "\n",
        "* We can stack as many LSTM layers as we want in our Sequential model. We just need to ensure that the **`return_sequences` flag is set to `True` inside each LSTM layer, except for our last LSTM layer**.\n",
        "\n"
      ],
      "metadata": {
        "id": "CxNyvshah7w5"
      }
    },
    {
      "cell_type": "markdown",
      "source": [
        "**`return_sequences` Argument**\n",
        "\n",
        "Imagine LSTM layers are like a bunch of time-traveling detectives, each looking at a piece of evidence (i.e., data points in a sequence). Now, these detectives can share their findings in two ways, and this is where `return_sequences` comes into play:\n",
        "\n",
        "* `return_sequences`=`False` (default setting): This is like each detective **passing only their LAST piece** of evidence to their boss. So, if our detective LSTM layer was investigating a sequence of 10 data points, it would only report back on the 10th one. The boss (next layer) then only gets a snapshot of the final moment. This works perfectly if the boss is a Dense layer, as they love these kinds of brief reports!\n",
        "\n",
        "* `return_sequences`=`True`: Here's where things get exciting! This is like every detective **reporting EVERY piece** of evidence they find, one by one. So, if our detective LSTM layer was investigating the same sequence of 10 data points, it would report back on all 10. The boss now gets a thrilling play-by-play of the investigation. This is perfect if the boss is another LSTM layer, as they love a good story!"
      ],
      "metadata": {
        "id": "mjw9HjqtiP2_"
      }
    },
    {
      "cell_type": "markdown",
      "source": [
        "Since our models are showing clear signs of overfitting, we'll try reducing the model complexity while increasing the penalty imposed by the kernel regularizer to see if that helps the model to generalize."
      ],
      "metadata": {
        "id": "xU0yxlg9i2tJ"
      }
    },
    {
      "cell_type": "code",
      "source": [
        "ml_bi_lstm = Sequential()\n",
        "ml_bi_lstm.add(Input(shape=(1,), dtype=tf.string))\n",
        "ml_bi_lstm.add(vectorizer_layer)\n",
        "ml_bi_lstm.add(embedding_layer)\n",
        "ml_bi_lstm.add(layers.Bidirectional(layers.LSTM(4, return_sequences=True)))\n",
        "ml_bi_lstm.add(layers.Bidirectional(layers.LSTM(4, return_sequences=True)))\n",
        "ml_bi_lstm.add(layers.Bidirectional(layers.LSTM(4)))\n",
        "ml_bi_lstm.add(layers.Dense(8, activation='elu', kernel_regularizer=L1L2(l1=0.1, l2=0.1)))\n",
        "ml_bi_lstm.add(layers.Dense(8, activation='elu', kernel_regularizer=L2(l2=0.1)))\n",
        "ml_bi_lstm.add(layers.Dense(8, activation='elu', kernel_regularizer=L2(l2=0.05)))\n",
        "ml_bi_lstm.add(layers.Dense(1, activation='sigmoid'))\n",
        "ml_bi_lstm.summary()\n",
        "\n",
        "opt = tf.optimizers.RMSprop(learning_rate=0.0001, rho=0.8, momentum=0.9)\n",
        "ml_bi_lstm.compile(optimizer=opt, loss='binary_crossentropy', metrics=['accuracy'])\n",
        "ml_bi_lstm.fit(X_train, y_train, epochs=3)\n",
        "\n",
        "test_loss, test_acc = ml_bi_lstm.evaluate(X_test, y_test)\n",
        "print(test_acc)"
      ],
      "metadata": {
        "id": "ASzsoy7sidQb"
      },
      "execution_count": null,
      "outputs": []
    },
    {
      "cell_type": "markdown",
      "source": [],
      "metadata": {
        "id": "bRDFixWIkpFw"
      }
    },
    {
      "cell_type": "markdown",
      "source": [
        "### HPT - Merge Mode\n",
        "\n",
        "* The `merge_mode` argument of the `tf.keras.layers.Bidirectional` layer is like a master chef, deciding how best to blend the ingredients into a final culinary masterpiece. It controls how the outputs of our Bidirectional LSTM — coming from both forward and backward directions — join forces. This argument determines the type of fusion that occurs between these two sequences.\n",
        "\n",
        "* The `merge_mode` argument can take one of four values, each leading to a different merge operation:\n",
        "\n",
        " * `sum`: The output from each direction is added together\n",
        "\n",
        " * `mul`: The output from each direction is multiplied together, taking teamwork to a whole new level.\n",
        "\n",
        " * `concat`: The output from each direction is concatenated, forming a sort of super sequence.\n",
        "\n",
        " * `ave`: The output from each direction is averaged together, because why play favorites?"
      ],
      "metadata": {
        "id": "n4AwlmjukpbN"
      }
    },
    {
      "cell_type": "markdown",
      "source": [
        "Experimenting with 3 models with `merge_mode`=`sum`, `ave` and `mul`..."
      ],
      "metadata": {
        "id": "LrrYYIaUlGHY"
      }
    },
    {
      "cell_type": "code",
      "source": [
        "# merge_mode = sum\n",
        "\n",
        "ml_bi_lstm_sum = Sequential()\n",
        "ml_bi_lstm_sum.add(Input(shape=(1,), dtype=tf.string))\n",
        "ml_bi_lstm_sum.add(vectorizer_layer)\n",
        "ml_bi_lstm_sum.add(embedding_layer)\n",
        "ml_bi_lstm_sum.add(layers.Bidirectional(layers.LSTM(8, merge_mode='sum', return_sequences=True)))\n",
        "ml_bi_lstm_sum.add(layers.Bidirectional(layers.LSTM(4, merge_mode='sum')))\n",
        "ml_bi_lstm_sum.add(layers.Dense(16, activation='relu'))\n",
        "ml_bi_lstm_sum.add(layers.Dropout(rate=0.5))\n",
        "ml_bi_lstm_sum.add(layers.Dense(1, activation='sigmoid'))\n",
        "ml_bi_lstm_sum.summary()\n",
        "\n",
        "ml_bi_lstm_sum.compile(optimizer=tf.optimizers.Adam(learning_rate=0.001), loss='binary_crossentropy', metrics=['accuracy'])\n",
        "ml_bi_lstm_sum.fit(X_train, y_train, epochs=3)\n",
        "\n",
        "test_loss, test_acc = ml_bi_lstm_sum.evaluate(X_test, y_test)\n",
        "print(test_acc)"
      ],
      "metadata": {
        "id": "fn9EepYTk_Cb"
      },
      "execution_count": null,
      "outputs": []
    },
    {
      "cell_type": "code",
      "source": [
        "# merge_mode = ave\n",
        "\n",
        "ml_bi_lstm_ave = Sequential()\n",
        "ml_bi_lstm_ave.add(Input(shape=(1,), dtype=tf.string))\n",
        "ml_bi_lstm_ave.add(vectorizer_layer)\n",
        "ml_bi_lstm_ave.add(embedding_layer)\n",
        "ml_bi_lstm_ave.add(layers.Bidirectional(layers.LSTM(8, merge_mode='ave', return_sequences=True)))\n",
        "ml_bi_lstm_ave.add(layers.Bidirectional(layers.LSTM(4, merge_mode='ave')))\n",
        "ml_bi_lstm_ave.add(layers.Dense(16, activation='relu'))\n",
        "ml_bi_lstm_ave.add(layers.Dropout(rate=0.5))\n",
        "ml_bi_lstm_ave.add(layers.Dense(1, activation='sigmoid'))\n",
        "ml_bi_lstm_ave.summary()\n",
        "\n",
        "ml_bi_lstm_ave.compile(optimizer=tf.optimizers.Adam(learning_rate=0.001), loss='binary_crossentropy', metrics=['accuracy'])\n",
        "ml_bi_lstm_ave.fit(X_train, y_train, epochs=3)\n",
        "\n",
        "test_loss, test_acc = ml_bi_lstm_ave.evaluate(X_test, y_test)\n",
        "print(test_acc)"
      ],
      "metadata": {
        "id": "Fu7hJhdil7eL"
      },
      "execution_count": null,
      "outputs": []
    },
    {
      "cell_type": "code",
      "source": [
        "# merge_mode = mul\n",
        "\n",
        "ml_bi_lstm_mul = Sequential()\n",
        "ml_bi_lstm_mul.add(Input(shape=(1,), dtype=tf.string))\n",
        "ml_bi_lstm_mul.add(vectorizer_layer)\n",
        "ml_bi_lstm_mul.add(embedding_layer)\n",
        "ml_bi_lstm_mul.add(layers.Bidirectional(layers.LSTM(8, merge_mode='mul', return_sequences=True)))\n",
        "ml_bi_lstm_mul.add(layers.Bidirectional(layers.LSTM(4, merge_mode='mul')))\n",
        "ml_bi_lstm_mul.add(layers.Dense(16, activation='relu'))\n",
        "ml_bi_lstm_mul.add(layers.Dropout(rate=0.5))\n",
        "ml_bi_lstm_mul.add(layers.Dense(1, activation='sigmoid'))\n",
        "ml_bi_lstm_mul.summary()\n",
        "\n",
        "ml_bi_lstm_mul.compile(optimizer=tf.optimizers.Adam(learning_rate=0.001), loss='binary_crossentropy', metrics=['accuracy'])\n",
        "ml_bi_lstm_mul.fit(X_train, y_train, epochs=3)\n",
        "\n",
        "test_loss, test_acc = ml_bi_lstm_mul.evaluate(X_test, y_test)\n",
        "print(test_acc)"
      ],
      "metadata": {
        "id": "KSnhCYeKl77V"
      },
      "execution_count": null,
      "outputs": []
    },
    {
      "cell_type": "markdown",
      "source": [
        "The results of the different sequence models are as expected:\n",
        "\n",
        "![image.png](data:image/png;base64,iVBORw0KGgoAAAANSUhEUgAAAm0AAAGoCAYAAAAUxtIkAAAAAXNSR0IArs4c6QAAAARnQU1BAACxjwv8YQUAAAAJcEhZcwAADsMAAA7DAcdvqGQAAHuLSURBVHhe7d0HfBvl/T/wj23Jsi3vGTt24uxBEifEJEDYDRTKKLNA2TQttFBGywzlD6TMsvcsLT8oo7S0IZSEJLSMhJkQMglZzvTeQ5ItWf7f99GdfVbkxPGIdeHzfr308ul0Pt167vnesxTRpgERERERhbVI/S8RERERhTEGbUREREQWwKCNiIiIyAIYtBERERFZAIM2IiIiIgtg0EZERERkAQzaiIiIiCyAQRsRERGRBTBoIyIiIrIABm1EREREFsCgjYiIiMgCGLQRERERWQCDNiIiIiILiGjT6NPdsqGoWJ8iIiIioj0ZPSxHn+q9HgVtfbkBROGC1zZRzzDtEIXW12mD1aNEREREFsCgjYiIiMgCGLQRERERWQCDNiIiIiILYNBGREREZAEM2oiIiIgsgEEbERERkQUwaCMiIiKyAAZtRERERBbAoI2IiIjIAhi0EREREVkAgzYiIiIiC2DQRkRERGQBDNqIiIiILIBBGxEREZEFMGgjIiIisgAGbUREREQWwKCNiIiIyAIYtBERERFZQL8EbQ8++gxSs8eq15dff6PP7fD2O/PUZ0fNPB2bNhfpcw9sxj4br9/ddAc8Ho/+6e6qa2rxf3/7u/4Oaln5n+7874GmN9eLLC//J/8v6+lL5nMiL7nuyfok3Un662vGffHs82f1y/r7w/sLPuyXe7TkC0a6+SHlAwey4Dyrv/VXOu0uuWYlfexv/V7S9tbbc39QAUYocnKffObP+ruA7OwsxMTE6O86kxvayPGHoqy8Up9D4WjnrhIs+2al/k47b199Y5nMmHYn504CqnffW6jP+eEyHkjuf+hJfU7f+mTJF/oUsGbteqxYuUZ/R1a0P/OscEinUgAw7YiT0ORy6XP2n34P2v766luY9/4i/d0PU1V1jboxifnvvo7qkvW48frfqPfB5IJ88BGW2FiBZDTGeRX//WgJPvzfp/o7spo///V1dQ77i6R5Sfv/eOMlpKYk63PDk9yz5d7dH+QeJw84ZvJwzwcea9rfeVZ/p9O9CVUIsz/tlzZt3U2QsoxE0Eaxeaiic5k2V3eZqx3Ny5qraLuqTgz+vn0tpg+uHpNXcBWZvD/ptJ/r76CmZblQ1cby3aefc2n7BXnfn54IuU4RvO2hlhHm47On5czM65blzVUZ8jK23bxuWb6rcxy8DXtaNvi75H+7Eur4hzqu/UG++/MvlqnpM08/Wb2EzAt1rRnkeJq3t6tr03ydGy/zvpn3PXgdxvE2X8/m4ypF+sb5NS8TfJ7k1dX1sqftM38WfP72tN2hmJc3XqG2yTiusl/FJaWd/mdP15swvkPSm5D0J6UG8n8lpWWdtveV1/7evl5jO0Jto7yCr0XzNhrbYz4vMh18DoLX0ZVQ5y742BvM3ykv2XbzeZDtvOKqG9W0PJRIiYL5OumtjZu2tN/jbr3pGvVX3sv8rpjvScarq/0LPhbB57+r69N8Ho1jEjwv1PkPtW17Ol7GdWC8zMc/1DViCL5W9ib4PIfapuD9k7Rj3hfztoUi69tbnhV8fLo6NubzYrzM329sa6h0GnyszPa2XrO9bascU0kPxsO6pBNZrqtrsT/sl6BNDq5Ex3sSfPINxk0j1EUqB8y4uQhZ9vIrrsdZ5/2i/cQKeWKc/f/u63SSZH1yws3fZ3xXd06AbO8Jp5y329OofO/eLqLeku+ccPAxnbZdvtecUIwL3Hx8xL5unyxvDjrFjbfOUcfYvG7Zll/95oZO6+1qG2RZOfbB51TeB39X8Dk2dHX85f/Nx6G/mKtGf3n5Bfjx8ceoaZknnwUzbgbm61LI9l942dWdjptcf+Ybg0H2rS9uDhdedlX7tVN4cAFyB2erYxbqOMv2Bt/g9rZ9sj5ZrwgOYs3H7bBDC7tsIiB6ksZkvyRtmP9H5t1936OdtqMnZJ3X3/j/9HfAUUccqrZBzl/wNop9PV+yfPA5kLRmzjRC6ercybzgtCDv5XvMZNvlOO/te/qKUTV66UXn4oLzzsRxxxyh3purTM1C3atF8P7t6X4jeUtv9y/U+Zd1djff6s49QNYpZH3BQaxxfOR4jRo5XE13JdR53lv+JtsRnK/IvCeffVl/t++6m8/KcqHuKeZj0xP7st7ubutA69egTRLlb3/zCzU97z8L95hojKomuSA3rftCVSN8tWQ+Jhw0Vn2+fccu9ddMPpNlZNnnn35QzZN1VFRWtc83nuTMmamcKKM4Vz6X5czr2FvJoNwcnnn+r+q7zNtgbK+cdCNIlSoRqRI1GNWj0w85WJ/TYeSIYfj3239tv4kZ2xaqKtX4rLjoW3WchblNlVG9Yd4+Oa6ybtm+fanGM7bZ2A/Z7/99vLR9vnHcZL3mG425ikWWCd5eOQfG9prPifkaMB87g/n4y7pkneZl93at9YV/vTu//XqVG+iUggnqWMu8UO1zjCL9UNes+XzIdhtF78Y5Ns6b6ItqJPPxfeRPd8Hl9rRXVxnnSV5G2pG0J8uI7myfLCsBmQgOYo10LsdBjllX9iWNBTOuCfO11lUwLSRwlONg7K9xfKQaMyU5Sc0zmI+PpGGj1Mi8jebjsXXbDvW3O0JdG11dTwY5H3K9C/O2Gf9vTguSKRkBg5F2jWMk3yPXtJD7jfH/xjZ9svjf6v7UW+btlWskJ3sQpk8L3AtDtQk13xdCnVfz/pnvN8b+GfcE8/71RvD535d8qzv3ALmXGNeOOYiV42CkUTlee6peN59nI43Ky7i+Jf0axyxYqDQd6rwY9pRnmc+deTuMfTbuZZLWZVoY51iWM46jcWz2lE5DHY/urld0d1vlnJvPr3E9nHPmqer9/tDvJW1nn3mK2kG5sOUmLAcyFNlp2XnjBEhka46QQ938Tj35hPYbyZC8weqvMM83nlxkPdK2TJhvtGecdpKaJ3507JHqQpDP9lRUby4tkKDU+C75290gtTdkG39xaeApSi5kI4Msr6hEtbaPcoyNqjvzsZDjeu45P1XTe6vGM8jFXjBxvJpOS01pv1jN842ARRg3KfM2yLKn/uR4NS3b+5srLlXLmxONcU7Ejb/7TXsilERiJFKD+fjL/hilNbI98l1yrveU0fWWJN7gG6i5dMlI4Abz8ubzYVxvkrEYid4c1BjXpnHeZN9e+8tT7cemp4Jv+jIt6c64+cj2mksEjOtKdHf7jH0LPhdGOjZK+LrS0zQm2yXXl1wT8jKud3P67ylZd3CgKdenHDcjqAl+Wi8pKetWOhPm/TSOn+hu4GdO08b91BxsmUu4jLRrPkZ7ypz7ivn6MY6luXTJuB8YzPcFI60b2yzHRwIG2b/g+42xf8Y9QTLXUA+/+yLU+e9uvtXde4CRloT5fEj6k3QojOPVFXOJnJFPCJk20mSoANa8vHk7zOl/X/QknzU/XMkxkuvXuC/1xt7W25NtHSj9HrSN0g6QcZOVp6CVq9ep6VDkgjfqkkMV9wfLH5qnT3UOKMzzQzECC7l4JYEZ32m+2YYq2TOEuvEYjOBRPu9tJtEV+Y642K6rlaSkw9h+yXiN/TMfV/ncKD3ZE3Mv11TtGGdmpKvpPfV+FeZMN7gazLwe46ZmbK8cUzmXZsHn09yxQ6oAjH3LGTa5/Um7uxldT5gzEuMGamQkIjiBm2+45n2RG6Pc7CXjNxjbLcdHjpNBbi7ylLmnY95dodKHEajJcQxVFWXo7vbJvhklKEYwYc649lY12tM0FrxdfamrdUugZlyDwVVS+8L84Nld5rQk176kAdmO4LY4cvwlgBTm5czb3NPMubvMgZU5aDcCK2EOPEVX9wVJM+YSFvM9z3xvkr9yXfY20xddnf/u5Fv7cg+Q613213wfMdKDBBB7qho1p7HghzPJM4xrLNTDxN7ylX1lnA/Z7j3ls3KO5JyJ4GV7Uy25L+vt7raGg/3Sps381ChFkJWVVWraTA6i+YKXJyNzEe2+6MnNL1hPM31z8BguJzmU3t6g9xYY78nebh59ob/WK8zVFuag0Zxhm5cJN8HpQ2700h7RuDlJmpO0Z1QN9JQR0BpPuean2eBAbF8MVBoLlalJwGY+71IqbK6+62+SKd9/923tx8NgZD5dtf0LRf6nvx40hflBzhw4mh+2zCUi4SbU+e/LfMtgLrWX+4g52N1b1eiemIMYSTfdeWjvb0Y++9tfXx4yzcixlWtE0llP9OV6+7MgYF/sl6BNLjKp8hJy077tjvvVtEFuKsF1z33xZLQ3cqMz2hYEv3palG4uBeqL4LG3zPXz5ldftVHpia6einvCaLsS/OqrUqlg5ifZPenP6vG92debi1RJGQGbHE9zCUZvGO1zJD1ISYERyO6tanRvwiWNSWZq3LeMQLe3VXA9YVT3hAoW5bwGVzka99hQ6cZc4tPXjNKiPZHP+6LtWU+Y70vd0V/5lty3jCYvcq+R2ikj2N1b1eieyPVqlLaGCkD7S3fyWdlnuWfLvFAPi3Kce/IQvq/r7Y+YoK/tl6BNmIvA98SciZuLlPuScaOXG0RPniyN4msjMzIzEr18HlzNt7/sj5KsvTE/LQZXeYSqKtjTOQkOQgayNNNcNbon5mvDXIVl3hc5JtLbzdwDzjgewSWh8kTYVVf5vhJ8zYYK/vZl+yTwM6pI3/z7vzs1QN9bQB3uaSyYORPc18y/r5gzKHNpj5xH+WwgS1nkWjdKi/bG3Jarq/uCXGdyvRklJXu650n6Cu4B3df2lm/tyz1AmKtIX/jza2r/5XzurdeoOc2Zj6Poy4fl7tjTPX1PJPA1AiWjPXNfXLN7Wm9Pt3Ug7LegTS4QowH6nhgXmlzMRu+xvmbuoSPVtcaFbW6bsKdiU3NAYu6JI3+NnnXmxqb7oi8CLjnWxpOaVDsYgxvLfhrtlvr7JtbVNpjPq5wDqToXXZ0TOQ/BXeS7Ov6yrHH+etMWoiuy7cElK8ZNwHiZM0sjWDXfSGVfjGtLnqDl2Mg846ZtDlaMjjvG98o8GdJG9leOr5EJm6uUQh2v7pL1GwFSV+vp7vYZjJIB6W0sn5vP+Z70ZxrrSlcBaXeYz4HRS3B/6OqaD/VgZJwL2Taj562cO7kXyP+bq1L7OhMzrnUhJR7B6UZeRkmIbJ/Rlqur+4LRe1uqpuUYdHW/ketFHhZknjHskzmAMj9Q9ua87S3f2pd7gDBf//+a+776K21mu1MCHuo8C3PvVXNj+97qKs/qbj4r80PlS/I3VMlgd9Ppvqx3X2KCrgLw/WW/BW1CbrByow0mF6K5Ebc0/jO3c+hr8n3m6lr5PjkpRtsEicL3VE1gDkAlcRoNF+WvkTGZe+3sC3NmLPsvxyH4Kaw7pLemUbJp1N8bjSplu40edv0p1DaYz6u5l2hX58TcXsjQ1fE3lpXvNHqr9iVzm5yu2pbIPOPmLPtpdLwxem4J2U7z9ppvopJGzB135HiZj5k5UDFuzqGOwb4wtzk1zlNX69mX7RPmm6Ho6rgF68801hVzoCLfIzf8mto6NS8U2UbjvmXexp4GzT0h9ymj1MA4d8HHyQiSzcvKNspyXaVHc2m2XAu9LeU1qsZlnRL4h2I8EAij2qqr+4JxjCWtGz1FQ91vjOMg5FzJOQtOo3IMzOvsLlnPvuRb3b0HCNlOIwgVezpuwUKdZ/P+mXsp9wXZ1lB5VlfnTs6NMPJZ83Lm82E+lsa5E6HSqRFkme3Leru7rcIcpBrHtz8KCbqyX4M2Yb5wzaTo0rjQhFykUrdsPH0FF/X2lpwA83grBvm+7tRdy0Uv7UjM2yzkfW/bBAUfo56UuMmFKFUlwdsn6zW6yfc3YxuMsZIMsg1SImUkAoO8D15WzodxDZjJ9pvHBzLI/sp3Ggm8L5nb5OypbYn5MyOzkutBrovunA9JC925NuV4BR+bro7Xnsi2BTdml+00Sg1ln81VlN3dPiHrNjJIsafjFqw/01gocjzN39WdErdQ50CuYeM63h8N6+WYhzrnoY5TqGWNe605PcqxN4JzIddAT0vc5L4t928hpUdSihSKuXTJfNxku8wl2AbZP3NaN+433dm/4AbqsszHi//VaV537Eu+tS/3AGEOYvd03EKR8xycRo1tk23ua13lWXLMg7dDyPEJvpeFWk7WGZxXyHR30+m+rrc72yrXWXCt4f4scYto0+jT3bKhqBijh+Xo74gOHLy2+4c8dcsTqdwoX3jmoT4PtmjgMe30PSnZlOYGEjBL4NAfwRb1v75OG/u9pI2IfjiMNkWiu1WjRNTRbk9KdLpbNUoHPgZtRNTnjAbyRpsiyXj6svEz0YFIqhSNjiFGG7S+7nBD1sagjYj6nLkhu3jwvv/HjIdoL6S9lNGoX0gbO2l/R2RgmzYiHa9top5h2iEKjW3aiIiIiH6AGLQRERERWQCDNiIiIiILYNBGREREZAEM2oiIiIgsgEEbERERkQUwaCMiIiKyAAZtRERERBbAoI2IiIjIAhi0EREREVkAgzYiIiIiC2DQRkRERGQBDNqIiIiILIBBGxEREZEFMGgjIiIisgAGbUREREQWwKCNiIiIyAIi2jT6dLdsKCrWp4iIiIhoT0YPy9Gneq9HQVtfbgBRuOC1TdQzTDtEofV12mD1KBEREZEFMGgjIiIisgAGbUREREQWwKCNiIiIyAIYtBERERFZAIM2IiIiIgtg0EZERERkAQzaiIiIiCyAQRsRERGRBTBoIyIiIrIABm1EREREFsCgjYiIiMgCGLQRERERWQCDNiIiIiILYNBGREREZAERbRp9uls2FBVj9LAc/d3uWuob9SkiIDoxXp8Kf3u7tmnf3YdCfSq83Ipl+hT1Baad3mNaOTD1ddpgSRsRERGRBTBoIyIiIrIABm1E1O98rgisfyUJ80/PxdzjhmDxRTnY9r4Tfl+EvkQHV7ENX9+ZgXkn5KnX57dkoHGnTf80QBp1lC+LwcLzc/DuzCFqGXd5lP5phy3vJGDJ9VnwNvBWR9bgb4nAln/H44NzBqu0In+//78ktDbvnlYkXX33UjLeP7UjXZV8Gqelj45lmVYOLDw7RNSvJGNZdk86NryahIxCD6bNqUDOkW6sfjIVa59P7hS4uSui8JUWsFWvicbEq2sw6doauEptWKplJnUbo/WlgCYtiFv5aBpGnNmAma8VI1LLg1Y+mgqfp2Ndnkobdi5yYtS59bAn+PW5ROGrrRVY9+dkrHkqFWkFzTjkjkoMOtyNDa8lYsWfUlVAZ/BUReGzmzJRNDce+ac1qmVj0lvx9V3p2PpuR1tippUDi/WCNu2xofiZt7Hy2F+h4Zv1+sz+4fc0Y9O1D2L51J+3v+o/X6l/2r+23/typ+8tf3OB/gmRtez6KA7lX8Zi4lU1mHpbJbKPcGP8r7TpP1Ri23vxKP0iVi0nJQLytO/RArdD76tQGdHQkxtx+J/KEZ3ox8Y3E9ozrcoVMYi0+5E7swlxg3wYcW4DGorsKsATsq7tHzgRndyKtMkeNY8o3NVvjcbOhU7kn9qAg2+pQs7RLky6rhpjLqlHydI4VK93qOXU9b0gHvWbo3Hw7CqM/2WtWna69kCUOrFZlWK31AZK05hWDiyWLGlr87ei1eVGa32TPqd/RDqikf/HX6Ng4bMY//c/wZGXpX/S/wZfe7763onvPYGEaRP0ub3nq23Alpseh6dolz6HqP9IlY5kNvF5XmRrmUpEx8M90ic3I2VMM0qXxKoShuaaKJRpAVzmdDcSh7foSwGxma0YfGwTqtfGwF0eyGikdM6Z7UNUrJbjaOxOv5pnZFTuMht2/TcOo86rhy0msAxRuGuujkJzXSSypnsQaQtct5Jmsqa71HVcv8mu5vkaI1W6yf2RC1nT3GqekFKynCNdquTMXRnI3plWDizWC9q0K3jwb85FwUcvIfmYqfrMfqJ9ly0xHra0JNiTExARFbjI94coZ6z6XltKAiKjAwm1L7T5WtFSVqklWp8+h6j/yFM8/FBP+La4ztUuEVFtKiNp3GaHzxWpZVjaSwvckke3aJ/pC+mSRnpVO5ymkkDQJhmaTLe6A1GgtylSzZPSAvlOKcFLyG9ByriO4I8o3EU62rT7vXZtF3duw9lcbYNXC9RsWsAlXGWBtJB5iHu3tDL8zAac+M+dKs0IppUDS1gEbRJIeLaVoO6Tb+DZWgx/S+Bia+dvUyVEvqq6wKumXlVdyv+ZyXtffaP627RmM5p3lqtcw1tejYYV69X/GFqb3IH38nlZFeq/WIWWkkr1Xb0h3+3auA31S79V6w3kWv1P9rtx+Tr1kmO12/dq72UZOb6+uka01jW1H0+vdjyNY2kcF5lvHDP5rHHVxvbjSdRdqmRNu8vIU32b11TMpmlrjVAZiVd7+bVniOYaG1rqI+HM2f2BwsiYXCWBifQpHvi9kdi52KmqeTa/lYCkUV4VHDbtsKN4SSxGnNWoMkAiq0ge3YysQzzY+EYiKr+NUbfbBu2hRtp+Jo5oQWZhoPpS0oq0SZOSNakKlQ4I0hFBOhsEd/BhWjmwDPjguhLgbL7uYbT5/dpTt0ML2Hzwa4FD9i/PQOZ5J2o3/AgVQHz/qz+qgMNgS07AqOdmI27UUH1OYF3b7ngejsGZaFj5Pdrczdp6zkTFv/+nraMWCYXjMeyeqxEZ41BtxrzVtdp0DOq/Wq2+u6W0CslHTcXQO69QJV1mxjbk3XAREg8r0Od21vDVGmy5/RlEREaq9Xm170ycNjHk+rpLgqYtNz+hfefEwPEIIgHVziffRNU/F8OWmQpJqvK9clyG3nklHLmZajlpE7fjwf9T08HMx1KOiwR3rg3b2o+ZPTUJNR8vV8dz+APXIvHw0PsfCgfX/WGTAUMlA5Keo4W3VyJ7RkdVTsnSWCz7Y7rKPI54tAx1mxz4/OYMHPZAhSpBMKvbHI3Pb8jE6IvqVEmCqPgmBiseTIWnwoaMQjem3FgNR3IrVj+TAp87EpN/V91exRSMA4b2Laad3jMG15WSsG8fSkXxx3HqvUgZ34xDbq9CbFbggUY6Gqx9IQXxuV54KqMw8mcNcKS2okibX7POgVE/r8fYy2rbmyMwrQycA2pw3bbWVpS/Nh/xk8dg4rzHcdA7D2Pie49j3Bv3IvnYQ1TAJqSa8KB/PoSpy19Xr3Fv3gdbUuhgoKWsCvEHj8Wk959C8nHTUD3/M4zRApIRD/8eTeuK4NlRqi+pBVlfr0XSEQUoWPAMJsx9DGNevhONqzeiZtGX+hLd5/p+K7bd/RLyrvs5Jv3nSbUvE957UnvC8aL0L3P7rYTKtX4raj74DCOfuhUTtO+U7y348AXk3ngx7BnJ+lJQAZ9x7GKGZqu/xvEs+PD5TsGvtHcb8+xsjHp6NhqXf4fYEXmY+O5jSJg+EbUfLdeXIuqevBOakDDUi2V3pateayXak/26F5Ox7vkU1dampzIO9uCEN4px2uLtOOz+CsSktarAr+xLKTkIBHZFcxPUMCPvnZSHlY+kqp6sROFKeoR+fWc6KpbFYLh2DUtP69FaANa0046vtPQjvauFlKTJtez3RuCoZ0ox4mf1qqPBjEfKVSeGon/Ho25DoNOCYFo5cAx49WiELVKVDHkra/Q5QPSgdERnp+vv9o0Ec/GF47T1RqmOBM6JI2HPTENUklOVfpnFTx6L5GO0pxs9OHSOH47kI6aoHqK7VdHuiRaQVf3rf4gdPVQFiu3BZkIcMs4+Hg1frYWvoZ86TWjfJaWUzVowalRxyr7HjclX+98T8QVjYM9KQ4TDBltqEpxTx6rSSSlxI9pXkkFI6Vn+KU3YsdCJZXPSUbfZjun3liN9UkeThT0xGmh3VRogJCPbMjceWdKRIb9FZXzfvZyESddX46hnS1Gz3oGNryexhp/CklyXRf9KQPUah+oRKr2tpaf1uFm1OPzBctWret0LySpQkzQlpIOOdNQxSPrIOdaN1pYI1H7fdVtophXrGtCgTRr2D77qPNjTU7DmtOuw+tRrsf2+l1W7LCMA2a8itMQwMhd+T4t2VXd/rBp/cwuaSyrR8PUafHf+rVh75u/bX9vv/wta3R7A2z/74xw3DENnz8LOp97Et0fPwoYr7kb524tUOz6icCFVMROvqcYp83fg1IU71NN+bEYrXJVR7T3bHCk+NbRH447OjbCF9C4Vcdldp6OatdHay4HhpzeoNnBlX8cg82APsg+XjMmLISc2ovTzWHjrglpuE4UB6WktDzNpE5uRMbnzw0ziyBZkHepG7cZoeBsDbdkitNzbFrd7VCW9Q+1aejK3awvGtGJdA17SZktNxLC7f4OC/72I/Nt/iQhHNDbf+Bg2/vYB+Pp5SI9QpCF+TyVOn4Tc6y7o9Bpy0yUYcuMliIzvWZu2vdICTelFWzD/aYx/4z6k/uRI1CxYirVn3YCahZ/rCxENHCk9+PDiHDW0gJm8r9sQjcThXjXUgCPVrwVurajV5hlBmqFuk12VKHRVnSrjt0l7HhnuwJnrUxmgNLqWIDDSHsjY4vN88Gvr3cdmvET7lb8bZQZxWlqQgXTlASf4cm6uikJLQ2R7aVwwphVrG/CgzSAN9WU8srzfXYjRL9yuepO61xfpn+4fErA1fL0Ojuz0fapalKrD2BG58NXWwzl5DJKOOrjTS/arp1WV3RYZAceQQUj/6dEY8+IdSDvjOFTNXxroIRtEJUMmRtpPnIN9WqYQhcoVHc0TpBSgaF68yjByjgo8KEnAJqUJFctjUL+lI73IUB+7/udE6kEeLXALHbRJQ2v5n6GnNKrG11GONtXBQXqjSnWSaNhmU6PBRxits4nCiFyzCfle1HzvQNWqzk156jdFqzEMpW2o3ald29le1ZO0ZEmc+swgAdnO/8YhNqsVSSNDD+HBtGJtAxq0ecursOWWJ9CwzFQdqgUTgfZZPkTGd/Se6Q9Nazahbsm36rulirPi7UUqWEw/a6YqwTKLdMbAkZulGuLLsvI/0svSkPbTY1QVafFTb3WUEPrb0Ljie7g37gi87wEJ9iSIrPv0W/gaXGqdMkSHoh0rqQrd9cQbHfM0Pi349GzeCXtqIiLsnUs3orPSYNOOa+Xcj9V+CGm/t09t+Ij2QeokjxosdPXTKaoDgvSKWyY/tTM3HuMuq0PS6MCDhSS5/JObEBXdhi9uzcDmvydi23/i1U/1SIYy6ryGkMMSyNAH8lM+0uFBMh+DDJ1QrmVQJZ/Fqp/A2j4/HoMOc8OeFLoEgmggyfUvPaOllEvafa7SO+1Iz2tJD2LMhfUqDUiV5ohz6lX1qJFWZEiPpTdkqr8jz65HXIihc5hWrG9AgzZ7eipST5yBHQ+9gm+mX4RVJ12Nb4+ZhW33/0W105L2Wv0p4eBxWtC2AisOv0R7XYqyNxZg2F1XInZUnr5EBylNy7rgJNR8tEwtK9u76/HX0eYNXPjSI3P0s7ep3qmrZl4R+PmpQy7Q9u3/VAlcj2kpOf3smfBW1WCldmxknUW3PhkI4LTPUo4pRKunGWtOuRYrZlyG1Sdfg1XHXwlbSqJqLxg8ILAMFjz46nNRs/hLtR+ynd8eebkaI4+oP0jV55Sbq1Q7GfmZKhnmw1UehcI7KpF/euBp3+DM9apG16kTWrDupSSsejwFsenSkaEcSaNClxxIDzhPlQ15x2tpwiRTCxQPuqJGZX6fXpOlxquSIUPM30cUTqSd54yHyzDs9AYUfxqLr/5fBrb8IwGZWlB15JNlndKAlLrNeKQMWYd68P2rifjm/jRVcn3IXRW7pSsD04r1Dfg4bQapxvM3ebRILgq2BGfgsaMfyXhkLRXVGH7fb9V76XwgAY3R87MrqoStoUl72rF3OfaasS8RMdE9Hp9tNzLAsBxbbftCHh/j81Y/IhPi1PbtibEfQtYnPU77A8dp+2Ezxp4KNxx7qm8x7fQe08qB6YAap81MSrLUzzZJJr+/wnv91w/Udycn7DVgExLc2FMS9xiMGfsSvIz8UsHGq+7v1LvU/JLP1K8ZhCLBmraNXR4f43Pte7vzs1fGfsirvwI2IiIi6jthE7T9EETGOjDoklN262FqvOQzWYaIiIgo2A82aEs/81gMuvz03Rrq9yfpVCA9SYN7lxqv/dLLlIiIiCwpbNq00YGJbdqIDnxMO0Sh9XXa6POgjciqeG0T9QzTDlFofZ022KaNiIiIyAIYtBERERFZAIM2IiIiIgtg0EZERERkAQzaiIiIiCyAQRsRERGRBTBoIyIiIrIABm1EREREFsCgjYiIiMgCGLQRERERWQCDNiIiIiILYNBGREREZAEM2oiIiIgsgEEbERERkQUwaCMiIiKyAAZtRERERBYQ0abRp7tlQ1GxPkVEREREezJ6WI4+1Xs9Ctr6cgOIwgWvbaKeYdohCq2v0warR4mIiIgsgEEbERERkQUwaCMiIiKyAAZtRERERBbAoI2IiIjIAhi0EREREVkAgzYiIiIiC2DQRkRERGQBDNqIiIiILIBBGxEREZEFMGgjIiIisgAGbUREREQWwKCNiIiIyAIYtBERERFZAIM2IiIiIguIaNPo092yoagYo4fl6O9211LfqE/RgSw6MV6fOnDs7dqmfXcfCvWp8HIrlulT1BeYdnqPaeXA1NdpgyVtRERERBbAoI2IiIjIAhi0EVG/87kisP6VJMw/PRdzjxuCxRflYNv7Tvh9EfoSAT5PBL64NUMtE/z68NJsNNcEblnSqKN8WQwWnp+Dd2cOwee3ZMBdHqU+M9vyTgKWXJ8FbwNvdWQN/pYIbPl3PD44Z7C67uXv9/+XhNbmzmlFSLr67qVkvH9qR7oq+TROSx8dyzKtHFh4doioX0nGsuyedGx4NQkZhR5Mm1OBnCPdWP1kKtY+n9wpcPM1RaJplx1pE5sx/KyGTq/c41yIcgSa4DbttGHlo2kYcWYDZr5WjEgtD1r5aKoK+gyeSht2LnJi1Ln1sCf49blE4autFVj352SseSoVaQXNOOSOSgw63I0NryVixZ9SVUBn8FRF4bObMlE0Nx75pzWqZWPSW/H1XenY+m5Hm2OmlQOLJYI218ZtWPmjK7B86s/Va+1ZN8BXVad/2jPb730Zm659EH5Psz5n7xq+WY+Vx/4Kxc+8HXh86QH5XmM/5FX+5gL9E6ID066P4lD+ZSwmXlWDqbdVIvsIN8b/Spv+QyW2vReP0i9i9SWhStJa6iMx5CeNannza8zFdbDFBdJd5YoYRNr9yJ3ZhLhBPow4twENRXa4Sm3qc0me2z9wIjq5FWmTPWoeUbir3xqNnQudyD+1AQffUoWco12YdF01xlxSj5Klcahe71DLqet7QTzqN0fj4NlVGP/LWrXsdO2BKFV74JFS7JbaQGka08qBxRJBW+ywXIz/x4MoWPgsht/3W33uANCubn+LF76aerT5e/Y0Mvja89V+THzvCSRMm6DP7T0JKLfNeX6fglCi/iZVOpLZxOd5ka1lKhEdD/dIn9yMlDHNKF0Sq0oYhDzxSwlAXLY+owtSOufM9iEqNhDE2Z1+Nc/IqNxlNuz6bxxGnVcPW0xgGaJw11wdhea6SGRN9yDSFrhuJc1kTXep67h+k13N8zVGqnST+yMXsqa51TwhpWQ5R7pUOnJXBrJ3ppUDiyWCtghbFOwpibClJSEqIU6fu/8lTB2HSYufw5BbL0dEVOCC31dRzli1H7aUBERGBxJgX/C7PPBW1evviMKDKpDWnm/kCd8W1/lBJyKqTWUkjdvs8LkCt6LGnTY4kv2ITd1z0CYZWlOJDa3uQBTobYpU86S0QL5TSvAS8luQMq5FfU5kBZGONi1f0K7t4kApmKG52gavFqjZtIBLuMqi1PWfeYhbS0dqVrvhZzbgxH/uRNJIr3rPtHJgCYugrc3XCs+2EtR98g08W4tVadb+0uZvg7esCvVfrFJ/A7lMh9Ymt6qKNV5tWnDkb9l/F7evvhGNy9epl6+2Ybftk2PnramHe8M2vRSwoWN7Zcw8fXnZDymFk/kNK9arafnfxlUb0byzfLf1EvUFVbKm3WXkqb7Naypm07S1RqiMxKu9/L7AJdigBXDRSa2oWOFQjaqNxtXBnRbSp2jp0BuJnYudqppn81sJSBrlVcFh0w47ipfEYsRZjSoDJLKK5NHNyDrEg41vJKLy25j2NCFtPxNHtCCzMFB92VwTKJGWkjVJG0Zakc4GTCsHtgEfXFfaq22+7mFV3RgV69ACDx/8WoCR/cszkHneidoNv/ONvv7zldjx0KsY88LtqsSqp6RtmVRzRjpjUPfZSvXdLaVVSD1pBvJuvESViBnLVfxzsZo25N14cWDbekGCpi03P4HEwyaGXJcEVDuffBNV2nfbMlMhR8FbVYu4UUMx9M4r4cjNbF9H3ZIVgX8KknTEFAx/4BpExjgC+6udG5cW3Pm09SQUjoc9NQk1Hy9Hm7tZW+5aJB5eoP/n3nFwXeoOGTBUMiDpOVp4eyWyZ3RU5ZQsjcWyP6arzOOIR8tgiwG+uiNd9XSLH+LFyHMaVMeDonfjUb3GoTojHHRFbXu1UcU3MVjxYCo8FTZkFLox5cZqOJJbsfqZFPjckZj8u+r2ZYNxwNC+xbTTe8bgulIS9u1DqSj+uKNWKWV8Mw65vQqxWdrTjUY6Gqx9IQXxuV54KqMw8mcNcKS2qrRSs86BUT+vx9jLatubIzCtDJy+ThsDGrS1tbZi25wXVYCSf9eVqhpUtJRWah9qgUF2unpv1pdBW/UHS1VVZ+oJh6vgsGntZmz+/SPIufIcpJ9+jL5kh70FWvtib+tqWqNtyw2PYPj91yJ+8mg1T46Te/MOxOTnINIRreYZpEND/eer24O0YLK/jSu/x6gnbkJLRS02XX2f2s80bT+L/vCMCuCGzL5cX3rvGLRRd0hGJL3cvpidoRo/DzmpSVXp1HznUEMTSBWp3IEkaJMSua9uz1ClB4W3VbZ3OpBSgzVPJ2Pb/Hgcdn8F0vfQWLr2ewe+/mMapt1ViYShXmz7TzzW/yUwXELe8U046MoatV5mRH2Laaf3jLTyzf1pqF0fjbwTm5Be4NGmHdj6XjzicnzadV2B2IxWNTzH6qdSkDjMi0PvK0dsZqA5gZFWdn7oxOEPViB5TNdtnJlW9o++ThsDXj0aYYtUJUjeyhp9jhYQDEoPGbD1tfjJY5F8jPZ0o5fmOccPR/IRU1RguD+raEPStklKH5t3lKpgTUhQGzcmf7eArbviC8bAnpWGCIcNNi1Ic04dqwI8CdiI+ktMWisOe6AC+ac0YcdCJ5bNSUfdZjum31uO9EkdmYojyY8jnyjDofdUtAdsQkoA8k5o0v5qDydfx+hzdycZ1pa58cia7kZifgsqlsXgu5eTMOn6ahz1bClqtMxv4+tJbAlAYUmuy6J/JahSZekRKj2mpaf1uFm1WgBWDk9FFNa9kAy/N0KlKTH42Kb2gE1IWsk51o3WlggtKOu6zTTTinUNaNAmjfkHX3Ue7OkpWHPadVh96rXYft/Lqv2WEajsVxFaYhiZC7+nRbuqB3asGue4YRg6exZ2PvUmvj16FjZccTfK314Eb3m1vgSRdUhVzMRrqnHK/B04deEOVWImJQauyqhOPdskQ5JXsEjtOSXK3qZ6zXWlZm209nJg+OkNqnF2mRbgZR7sQfbhkjF5MeTERpR+HgtvXc86ERH1JynhkocZGaMwY3LnErLEkS3IOtSN2o3R8DYG2rJFaEnB/HBjkN6hdi09mdu1BWNasa4BL2mzpSZi2N2/QcH/XkT+7b9EhCMam298DBt/+wB89U36UvuPNNgPC1oAmXzMVBTMfxrj37gPqT85EjULlqox6moWfq4vRBT+pPTgw4tz1NACZvK+bkM0Eod71VAD0u7mvZPy1GChwWSUdumwED80dAm4DDoq7XlkuANnrk9lgNLoOjrRj0gt2BPxeT74tWfBfWwRQrRf+btRZhCX2aoG0m3cYdutNKy5KgotWnoxSuOCMa1Y24AHbQZp+C/jluX97kKMfuF21ZvUvb5I/3T/kICt4et1cGSn97gKss9FRsAxZBDSf3o0xrx4B9LOOA5V85eqNnHBpHSSaYzCjXOwT8sUolC5oqOtpZQCFM2LVxlGzlGBByXJQJw5PuxYGA93RccTvvyiwqa3ExCd4G/vPRdMAr76LdEYekqjanwtHRikg4MM1GuU3DVss6nR4COM1tlEYUSu2YR8L2q+d6BqVed2yfWbolH2hZZHag8tdqd2bWd7VVooWRKnPjNIQLbzv3GIzWpF0sjQoxwwrVjbgAZt3vIqbLnlCTQsM1WHalFHoB2XD5Hxu4/JZktPRqvLg8ZVG9SyMh0qgOmOpjWbULfkW/Xd/uYWVLy9SAWLaWccq0q6+pMEhRIc1n36LXwNLi21tamhOxRtv6QqdNcTb3TM0/i0oNKzeSfsqYmIsHcutYgdnQ/Xui1o+HKN+n/R6taOi7ZeooGUOsmjBgtd/XQK1r2YrHrFLZOf2pkbj3GX1SFpdCD9xmX6MFZ7L6UHn92YqRpGb5/vxNIbslDxdQxGX1gPZ97uJW0y9IGUzkm7N8l8DDJ0QrmWQZV8Fou6jdHauuIx6DA37EkD0PSCaC8ky5Ex1qSUS9p9rno0VQvKYlXPa/k9XjFGSwMyNIdUaY44p15Vj8pnm/+eqIb0WHpDpvo78ux61XEhGNOK9Q3skB9aQFH7yTcofu7vcG/cAXtmKvwuNyJiHBh66y+QfPTBuwVPEmCVvvxvlPz532paGucPu+dqpMycri/RPdKbMiLahtZGF6rfX4K2Vr8KCIf/8Tdd/lJBX/YeFe5NO1D0h6fUvouEQw7C8Aevhy0hDt6KGpT8ZS6q5n6sPrMlJ6gOGykzD1WlkVKtbBZ8XIRjaDZGP32r6tQh+yukh6gMs1Kk7cewB65RQ4iYP+su9h6l7mgfxqAxEt+/koit7yWop3kZc0p+lmrQ4R4tiXfcguRuJA2xJbiTHnQieWyL+pme1AnNIZ+ldmlB4Ma/JeHQeysQk96REcmPZm+fH4d1L6SoEr2hJzeq9UjJAnvE9S2mnd5rTysNkdjweiJ2fOBEc22UaqMmHRLGXFLXKdAS0tt0/V/kQShWDd3RVboyMK3sf32dNgZ8nDaDBET+Jg9gj9KCFudeS7qM5SO1AKe3vyyg1uVpgU0CkaBx4fqdFriqQXC17w2538bnWlDZnX3d1+PYUwzaqDuMjCjcMCPqW0w7vce0cmA6YIO2vuAp2oWtdz6HVqluDEHGO8u76dKQ45j1hvxSQdFtT6OlpEKf01l0dgaG3XOVKi07UDBoo+5gRvTDwLTTe0wrByYGbXsgbcNcqze2Vw8Gi0pKgHPCcDXUSF+S9nBNKzeo0rpQImOi4SwYHT6dG/oAgzbqDmZEPwxMO73HtHJgYtBGYYFBG3UHM6IfBqad3mNaOTAxaKOwwKCNiAxMO0ShhX3QRmRVvLaJeoZphyi0vk4bYTO4LhERERF1jUEbERERkQUwaCMiIiKyAAZtRERERBbAoI2IiIjIAhi0EREREVkAgzYiIiIiC2DQRkRERGQBDNqIiIiILIBBGxEREZEFMGgjIiIisgAGbUREREQWwKCNiIiIyAIYtBERERFZAIM2IiIiIgtg0EZERERkARFtGn26WzYUFetTRERERLQno4fl6FO916OgrS83gChc8Nom6hmmHaLQ+jptsHqUiIiIyAIYtBERERFZAIM2IiIiIgtg0EZERERkAQzaiIiIiCyAQRsRERGRBTBoIyIiIrIABm1EREREFsCgjYiIiMgCGLQRERERWQCDNiIiIiILYNBGREREZAEM2oiIiIgsgEEbERERkQUwaCMiIiKyAAZtRERERBYQ0abRp7tlQ1ExRg/L0d/trqW+UZ+iA1l0Yrw+deDY27VN++4+FOpT4eVWLNOnqC8w7fRefflEfSq8JGau1qeoJ/o6bbCkjYiIiMgCGLQRERERWQCDNiLqdz5XBNa/koT5p+di7nFDsPiiHGx73wm/L0JfokPt+mgsuT4L784cgvdOysOyu9LhKrbpnwZIo47yZTFYeH6OWu7zWzLgLo/SP+2w5Z0EtS5vA291ZA0t3kjM/SAJ5/96GE44b5T6+9o/U9HcsntaKSmzY86j2fjJhSPVa/b9OdhZYtc/DZC0snxVHC68Oh8n/nyUWqaiqnN6Ev+en4wb5uSisZFpJZzx7BBRv5KAbdk96djwahIyCj2YNqcCOUe6sfrJVKx9PrlT4Fb+VWx7kDXlpipMvLoGtRui8em1Wajf0pEZNe20YeWjaRhxZgNmvlaMSC1eW/loKnyejnV5Km3YuciJUefWw57g1+cSha/WVuAvb6bh2VcyMXGcG7dfV4pDpzbh9X+l4qFns1RAZ6jUAi8J2NZ9H4PfXFKB315egbIKO27UAq/NRTH6UlBB3OMvZeGMk2rxyuNFsGmrePylTHiaO9JKZbUNH36agHNOqUF8PNNKOLNE0ObauA0rf3QFlk/9uXqtPesG+Krq9E97Zvu9L2PTtQ/C72nW5+xdwzfrsfLYX6H4mbcDjy89IN9r7Ie8yt9coH9CdGDa9VEcyr+MxcSrajD1tkpkH+HG+F9p03+oxLb34lH6RaxaToK7TW8lwJnjw6H3liPvhCYMPbkRh8ypRJsW2G2dF9+e7CpXxCDS7kfuzCbEDfJhxLkNaCiyw1UaKEGQ5bZ/4ER0civSJnvUPKJwt22nA4s/ScDJM2tx02/KcOShDbjmF+W46OxqfL7MifWbHGo5ub7/vSBZBW5331yMU46vw0nH1eH+2buQqAVdb76b3B7grVwbB7uWVo47ogFZGT6cfWoNtm6PRmlFtPpc1rXok0QkJbWi4CCXmkfhyxJBW+ywXIz/x4MoWPgsht/3W33uANCubn+LF76aerT5e/Y0Mvja89V+THzvCSRMm6DP7T0JKLfNeX6fglCi/taqPc2XLI1DfJ4X2Ue7EGGq4Umf3IyUMc0oXRKLtlbAUx2FlsZIDD7OhdhMbYbOOdiL5LHNKiCT9QkpnXNm+xAVG4ji7E6/mtdSG6gidZfZsOu/cRh1Xj1sMXqkRxTmqmttqGuIwrTJLthsgetW0sy0yU2IcbRhy9ZA0FZTZ8OX3zgxbUoThg3puOdnpPlw9OENWLchFhWVgQcYn5YusjO9iI0J5FnxcX74WiNQVx9IK+Xach8tTcDPtGBOvoPCmyWCtghbFOwpibClJSEqIU6fu/8lTB2HSYufw5BbL0dE1O7tZ7ojyhmr9sOWkoDI6M5tD3rD7/LAW1WvvyMKD6pkTMsrpDTMpmUWZhFRbSroatxmh88VifhcH455vhSjL+hcii6fScAmwZdUg4pILUNrKtGCOHcgiPM2Rap5UrIm3ykleAn5LUgZ16I+J7KC6Gg/ou1+1VbNrEYL5hpdUYjT01CN9nBSUxeFUcOaEZwVjRjarNqslZQH1iHBn0y7PYHsvlFLTzYt7SUlBtLKfz5MxpDcZowdxQd+KxjQoE1KhVqb3GjVAo6GZevgq2/SZrap6lB5yXR/a9O+w1tWhfovVqm/gVymg2yfVMUarzZtW/0t+y8j8NU3onH5OvXy1Tbstn1tvlZ4a+rh3rBNLwVs6NheGTNPX172Q463zG9YsV5Ny/82rtqI5p3lu62XqC+okjXtLiMlYG1eUzGbpk172pegy6u9/D59polckhKsrXkmRf0dclITIu2B6zR9ipYOvZHYudipPtv8VgKSRnlVcNi0w47iJbEYcVaj9mDE65qsY/RwDwoL3Hjr3RSsXBen0sC2XdF48W/pGK4FY1MnBaovpaStvjEK2Vle9d7MCOJKywMlbVLl6dXSyn+XJKCswoZ/zEvByGEtGJTRgp3F0Vj6tRNn/qRWBYsU/gZ0cF1pz1X70XK0aQGEZ3spHLlZSJg+AVXzPkGrFsANvv4CZJ5zvL50QP3nK7HjoVcx5oXbVYlVT0nbMqnmjHTGoO6zldoTvwMtpVVIPWkG8m68RJWIGctV/HOxmjbk3XgxMs87UX/XMxI0bbn5CSQeNjHkuiSg2vnkm6jSvtuWmQrJ7rxVtYgbNRRD77xSO1aZ7euoW7Ii8E9Bko6YguEPXIPIGEdgf7Vz49KCO5+2noTC8bCnJqHmY+34u5u15a5F4uEF+n/uHQfXpe6QwXU3vpGoeo4W3l6J7Blu/ROgZGkslv0xXQVaRzxaBkdKR6YhQd7S32eivsiuStCkQ8LQU5u0ILDjdlXxTQxWPJgKj5YRZRS6MeXGajiSW7FaC/J87khM/l21+t9QOLhu32La6T1jcN0mVyQeeSETn36RoN6LcaM8uO3aUmSmB4K0ZSudmH1fDu69tVgL8prUPMOWbQ7cfPdgXHBmNU4/qVbNW7EmFg8/l4XKajsOntSE319RjuREH557NQNuTxSum1XWXh0bjIPr9s4BN7iue+N25N1yGcb97R5VkuTXAoiJ8x5HxrknoH7Jtyow6S/1X61G4qETUbDgGUyY+xjGvHwn6r9YjZpFX+pLAENmX46py19XrylL/6ICof3BtX4raj74DCOfuhUT3nkYB2mvgg9fQK4WMNozktUyEoyNfPxGtW0SSMq2yTYa2yufyTIGT9EujHl2NkY9PRuNy79D7Ig8THz3MS1QnqiCZ6L+IB0KEoZ61dAd0sOzZEks1r2YjHXPp6h2aaFERvsx5rI6TJ1dpXqcrn4qBWuf69zTNONgD054oxinLd6Ow+6vQExaK+o2OVD2pZSyNahliuYmqGFGZOiQlY+kqs4OROGqqibQI/SbVU7V2/OO3xfjvNNrsKvEjj8+Okh1POiJKRPceO2prVjw+kbce0sx0lJ82Lw1Bl+tcOLMk2rUMvMWJuPsWcNx6sUj8diLWXBpDz4Ufgb8rDgnjERMfo52k45GhN2GpBkF6m90Vqq+RP+JnzwWyccUakchcCN3jh+OZC3wkdI8qWocUNo2SWeH5h2lqtRNSNu+uDH5iHQEev3sq/iCMbBnpSHCYYMtNQnOqWNVUCclbkT9RYKpwx6oQP4pTdix0Illc9JRt9mO6feWI31S6IcyW1wbco5wqd6h0+ZUql6kRXPjUb2m4yEkmAR0W7Rlsqa7kZjfgoplMfju5SRMur4aRz1bipr1Dmx8PYktASgsyXU59wPtYeb7WNx8dSl+fUkFZhzShMvPq8QDtxWrYTleej0dXtODSyhGZ4auSs6EdE54d1Gy6sgwNLdZjeP217dScc2scjx57w58v9mBN+emMq2EIYbSZhERiBmZC7+nRcsBBrZ+3zluGIbOnoWdT72Jb4+ehQ1X3I3ytxfBW16tL0FkHVJtOfGaapwyfwdOXbhDlYzFZrTCVRnVqRdoKFLFmXNsoFrVPFZbsJq10drLgeGnNyAiCij7OgaZB3uQfbgEcV4MObERpZ/HwlvXs05ERP1JBs/dsi0aE8a6MXl8RzMCMTzfowKsjVsdaGyKREqSD4nxrdhZvHt6kLHexKDM0KXYYt0G7YFGe512Qq1qA7dMC9qmTHTjsMIm5GtB3I+PrseXy52o14I/Ci8M2oJIg/2woAWQycdMRcH8pzH+jfuQ+pMjUbNgqRqjrmbh5/pCROGv6F8J+PDiHDUMh5m8r9sQjcThXtUztHJVDBacOViNrxasTct/ZKy2rtqo+bUMr+jdeOQc6YIz16eGBpEOCtGJ/vbOC/F5Pvi1DG0fm/ES7VdebwRa91JmkKI9BKUktWJjkaM9SDNs3uZQQ3/IMB+hyPht8xYlYca0RuRme1WwWFZuV0GgXU9fuTle+LRt2A99AWkfMWgzkYCt4et1cGSn97gKss9FRsAxZBDSf3o0xrx4B9LOOA5V85eGbOsn1ajMjyjcOAf7tAAqCpUrOqo2pSqzaF68Cq5yjgo8KEmHBHt8G3b9L65T2zOZ3vzPBDVkSPKY0BmRdEqo3xKNoac0qh6rUY42tb6W+kj49V6rDdtsasiQCNWllSi8OKLbkJ/bgu83x2D1+kBHOMMWvf3ZkMEtcMa1qZK26Qc34ZvVcdi6vePXD2Soj48/S8D40W5kpIcuaVuxOlb7HwdO/lGtSivyvVlagCe9UY2qV+mxKr+coLccojBiuaDNlp6shghpXLVBNQKQ6Z52Vmhaswl1S75VwY6/uQUVby+CZ1uJFhgdq0q6+pMEhRIc1n36LXwNLvVII0N3KNp+SVXorife6Jin8WlBpWfzTthTE1W7P7PY0flwrduChi/XqP8XrW7tuPBRiQZY6iQPsqZ7sPrpFNUBofjjONUpYevceIy7rA5JowPpNy7ThxHn1KNSC8CW3pClhvPYPt+ppuUXFczLmslPV0l7N+nwIIGaIesQD8q1dZV8Fou6jdHauuIx6DA37ElBRRNEYUCynNNPrEVuTgvueSwbT7yUqYbjePUfqbjtgWy1zIVn1KihOWTZk46r16bb1Gf/eC8F8/+bhFvuHawFX5E477TQQ3jIT1dJKdvxR9WrX0cwFE5yqWBOfnVhU5EDC/+XiOlTm5CYwLQSbiwXtMmvI2RoQdWWW57A8sILsPLYX6rAqydkeA8ZLmPF4Zdor0tR9sYCDLvrStXYv99pqS797JnwVtVg5TGzsPyQC1B065OBAE77LOWYQrRqweiaU67FihmXYfXJ12DV8VfClpKIwVedt9vgvvGTRiHz/B9jy82PqeMiP5H13QWz0SJjzxENIKn6nHJzlWpTJj/gLsN8uMqjUHhHJfJPD5SMGaSk7PCHy9X0N/enqd6mUiU649EybdmGTssapLeop8qGvOM7/wRPphYoHnRFDVZp6/j0miw1ttvoi+pCroMoHKSn+fCn23fhpz+uxZKv4nHXwzl45/0UFBa48NicHRgxrOMn2QZnt+D+23Zh/BgPXn4zDU++nIH0lFbce+uuTsuZSWmd9FA97shA72rDIVNcmHVhpQoUr78jDwUTXLjgzCqmlTA0oOO09YaUrvmbPIhMiOv1LwuodXlaYJOxx/Z3ebC/LTAIrva9tgTn7iV8xuet/m7tq3FcYI8Kvb4+wnHaqDtknLZwxHHa+hbTTu8Z47SFG47T1jt9nTYsG7SFIuOQbb3zObRKaVUI8ZNHI++mSzuNXdYXZHy5otueRktJhT6ns+jsDAy75yrYkjsGS7Q6Bm3UHQzafhiYdnqPQduBiUHbHkjVomv1xvZxzYJFJSXAOWF4j383tCvSHq5p5QZVWhdKZEw0nAWjw6dzQx9g0EbdwaDth4Fpp/cYtB2YGLRRWGDQRt3BoO2HgWmn9xi0HZgYtFFYYNBGRAamHaLQwj5oI7IqXttEPcO0QxRaX6cNDq5LREREZAEM2oiIiIgsgEEbERERkQUwaCMiIiKyAAZtRERERBbAoI2IiIjIAhi0EREREVkAgzYiIiIiC2DQRkRERGQBDNqIiIiILIBBGxEREZEFMGgjIiIisgAGbUREREQWwKCNiIiIyAIYtBERERFZAIM2IiIiIguIaNPo092yoahYnyIiIiKiPRk9LEef6r0eBW19uQFE4YLXNlHPMO0QhdbXaYPVo0REREQWwKCNiIiIyAIYtBERERFZAIM2IiIiIgtg0EZERERkAQzaiIiIiCyAQRsRERGRBTBoIyIiIrIABm1EREREFsCgjYiIiMgCGLQRERERWQCDNiIiIiILYNBGREREZAEM2oiIiIgsgEEbERERkQVEtGn06W7ZUFSM0cNy9He7a6lv1KeIBk50Yrw+1X17u7Zp392HQn0qvNyKZfoU9QWmnd6rL5+oT4WXxMzV+hT1RF+nDZa0EREREVkAgzYiIiIiC2DQRkT9zueKwPpXkjD/9FzMPW4IFl+Ug23vO+H3RehLBPg8Efji1gy1TPDrw0uz0VwTuGVJo47yZTFYeH4O3p05BJ/fkgF3eZT6zGzLOwlYcn0WvA281ZE1tHgjMfeDJJz/62E44bxR6u9r/0xFc0vntGIm6WHugmTc/qcceJo7LyefLV8VhwuvzseJPx+F2ffnoKLKpn/a4d/zk3HDnFw0NjKthDOeHSLqVxKwLbsnHRteTUJGoQfT5lQg50g3Vj+ZirXPJ3cK3HxNkWjaZUfaxGYMP6uh0yv3OBeiHIEmuE07bVj5aBpGnNmAma8VI1KL11Y+mqqCPoOn0oadi5wYdW497Al+fS5R+GptBf7yZhqefSUTE8e5cft1pTh0ahNe/1cqHno2SwV0wXxa+vnnf1Lw/GvpKkALtrPEjsdfysIZJ9XilceLYNNW8fhLmZ2Cu8pqGz78NAHnnFKD+HimlXBmiaDNtXEbVv7oCiyf+nP1WnvWDfBV1emf9sz2e1/GpmsfhN/TrM/Zu4Zv1mPlsb9C8TNvBx5fekC+19gPeZW/uUD/hOjAtOujOJR/GYuJV9Vg6m2VyD7CjfG/0qb/UIlt78Wj9ItYfUmokrSW+kgM+UmjWt78GnNxHWxxgXRXuSIGkXY/cmc2IW6QDyPObUBDkR2u0kAJgiTP7R84EZ3cirTJHjWPKNxt2+nA4k8ScPLMWtz0mzIceWgDrvlFOS46uxqfL3Ni/SaHvmTgGt9U5MAt9w7GC1rAJsFbKCvXxsGupZXjjmhAVoYPZ59ag63bo1FaEa0+l/Us+iQRSUmtKDjIpeZR+LJE0BY7LBfj//EgChY+i+H3/VafOwC0q9vf4oWvph5t/p49jQy+9ny1HxPfewIJ0yboc3tPAsptc57fpyCUqL+1ak/zJUvjEJ/nRfbRLkSY8pX0yc1IGdOM0iWxaGsNzJPSMSkti8vWZ3RBSuec2T5ExQaCOLvTr+a11AaqSN1lNuz6bxxGnVcPW0xgGaJwV11rQ11DFKZNdsFmC1y3kmamTW5CjKMNW7Z2BG1F2x24VQvY1qyPxXEzGnDQGLf+SWcSzGVnehEbE8iz4uP88LVGoK4+kFbKtTT30dIE/EwL5uQ7KLxZImiLsEXBnpIIW1oSohLi9Ln7X8LUcZi0+DkMufVyRETt3n6mO6KcsWo/bCkJiIy263N7z+/ywFtVr78jCg+qQFrLK6Q0zKZlFmYRUW0q6GrcZofPFbgVNe60wZHsR2zqnoO2SC1DayqxodUdiAK9TZFqnpSsyXdKCV5CfgtSxrWoz4msIDraj2i7HyVlnfOGGi2Ya3RFIc6UhiIi2jDpIBeeumc7rp1VDmdQ+jJI8FdSbofbo6cxLa3ZtLSXlBhIK//5MBlDcpsxdhQf+K1gQIM2KRVqbXKjVQs4Gpatg6++SZvZpqpD5SXT/a1N+w5vWRXqv1il/gZymQ6yfVIVa7zatG31t+y/jMBX34jG5evUy1fbsNv2tfla4a2ph3vDNr0UsKFje2XMPH152Q853jK/YcV6NS3/27hqI5p3lu+23u6S73R9vxX1S79FS3GFWqeZvJftDp6vtlX2Rz/H4XAtUN9TJWvaXUZKwNq8natv2rSnfQm6vNrL7wtcgg1aABed1IqKFQ7VWUE6IITqtJA+RUuH3kjsXOxUVaKb30pA0iivCg6bdthRvCQWI85q1B6MeN2QdYwe7kFhgRtvvZuCleviVJrYtisaL/4tHcOHNmPqpI7qy2FDWlSbt5HDmhER2fV1LlWeXi2t/HdJAsoqbPjHvBTtf1owKKMFO4ujsfRrJ878Sa0KFin8DejgutKeq/aj5WjTMmzP9lI4crOQMH0CquZ9glYt0x58/QXIPOd4femA+s9XYsdDr2LMC7erEquekrZlUs0Z6YxB3WcrtSd+B1pKq5B60gzk3XiJKhEzlqv452I1bci78WJknnei/q5nJEjZcvMTSDxsYsh1SZCz88k3UaV9ty0zFZJdeatqETdqKIbeeaV2rDLb11G3ZEXgn4IkHTEFwx+4BpExjsD+aufGpQV3Pm09CYXjYU9NQs3H2vF3N2vLXYvEwwv0/+yeuiXfYuvtz2jHMFbLHKXUQwsE/X4MuflSpBw3TS0jAVeRto3DtO2QbTcEn8eeXAt7wsF1w4MMrrvxjUTVc7Tw9kpkz+iowilZGotlf0xXgdYRj5bBFgN8dUe66hUaP8SLkec0qI4HRe/Go3qNQ3VGOOiKWlWiJiq+icGKB1Ph0TKijEI3ptxYDUdyK1Y/kwKfOxKTf1fdvmwwDq7bt5h2es8YXLfJFYlHXsjEp18kqPdi3CgPbru2FJnpXn1OZ9Kp4O7HstX0H64r2a2ac8WaWDz8XBYqq+04eFITfn9FOZITfXju1Qy4PVG4bpaW/rpIKxxct3cOuMF13Ru3I++WyzDub/eokhe/lvFPnPc4Ms49AfVaUCCBSX+p/2o1Eg+diIIFz2DC3Mcw5uU7Uf/FatQs+lJfAhgy+3JMXf66ek1Z+hcVCO0PrvVbUfPBZxj51K2Y8M7DOEh7FXz4AnK1gNGekayWkWBs5OM3qm2TQFK2TbbR2F75TJYxeIp2YcyzszHq6dloXP4dYkfkYeK7j2nB0UQVMO2L1kY3yl55F5nn/1g7X4+p7Zv0/pMY++c7ET9ptL7UvhnIa4H6T94JTUgY6sWyu9JVD8+SJbFY92Iy1j2fotqlGXwt2ssTgazD3Dj6mVIMPblRdTSY8Ug5hv20AVvnBYI3Q8bBHpzwRjFOW7wdh91fgZi0VtRtcqDsSylla1DLFM1NUMOMvHdSHlY+kqp6shKFq6oaG+Y8mo1vVjlVb887fl+M806vwa4SO/746CBUhhiqozumTHDjtae2YsHrG3HvLcVIS/Fh89YYfLXCiTNPqlHLzFuYjLNnDcepF4/EYy9mwaU9+FD4GfCz4pwwEjH5OYiMjkaE3YakGQXqb3RWqr5E/4mfPBbJxxRqRyFwI3eOH45kLfCRUiCpvhtQ2jZJqVXzjtL2qkVp2xc3Jh+RjkCvn30VXzAG9qw0RDhssKUmwTl1rArqpMRtn8khi4pCc3EFfA16kX1EhCoBtKcHgsp9NZDXAvUfCaYOe6AC+ac0YcdCJ5bNSUfdZjum31uO9EkdgbgjyY8jnyjDofdUtPcSFVJaJoFfpJZflX8do8/dnVSfbpkbj6zpbiTmt6BiWQy+ezkJk66vxlHPlqJmvQMbX0/qaUsAon4l1+XcD7SHme9jcfPVpfj1JRWYcUgTLj+vEg/cVqyG5Xjp9XR4Tc0Eeko6J7y7KBnTpjRhaG6zGsftr2+l4ppZ5Xjy3h34frMDb85NZVoJQwylzbSgI2ZkLvwe7ZG/h71D+4pz3DAMnT0LO596E98ePQsbrrgb5W8vgre8Wl9iYEn18dA//FK1Y1s18wqsPedG7HryTbjWF7H9Ge1Gqi0nXlONU+bvwKkLd6iSsdiMVrgqozr1AvV7I9QrWKT2nBJlb4NvDwN/1qyN1l4ODD+9ARFRQJkW4GUe7EH24RLEeTHkxEaUfh4Lb13POhER9ScZPHfLtmhMGOvG5PGde4IOz/eoAGvjVgcam3qfba/boD3QaK/TTqiVZ28s04K2KRPdOKywCflaEPfjo+vx5XIn6huYVsINg7Yg0hg+LGgBZPIxU1Ew/2mMf+M+pP7kSNQsWKrGqKtZ+Lm+0MCSUrXRL9yOiR88g9yrz4evug7f/2IOtt/3MvzN7LVHAUX/SsCHF+eoYTjM5H3dhmgkDveqYTmkjZpUYxbN3b09ovyigXRYiB8augTcr2V40vYt50gXnLk+NdSIdFCITvQjUgv2RHyeD/5WKdHgQwWFL6/20NLaj2UGMkDvvEVJmDGtEbnZXhUslpXbkRjfCrveri03xwuftg18/g4/DNpMJGBr+HodHNnpPa6C7HOREXAMGYT0nx6NMS/egbQzjkPV/KUI1b5LqlEHIj+S4ViSjj4YQ++4AiMevl517FA9UnV+rw9tzR1tl2QjVc9R+kFwDvZpAVQUKld0tEeTqsyiefEquMo5KvCgJMGWM8eHHQvj4a7oeMKXdmib3k5AdIIfmYWhB8qVgK9+SzSGntKoeqxKBwbp4CAD9Roldw3bbOqXEyJUl1ai8OKIbkN+bgu+3xyD1es7BpwWW/T2Z0MGt8BpajrQEytWx2LrdgdO/lGtSivyvVmZXtQ3RrVXvUqPVfnlBL3lEIURywVttvRkNSxE46oNKvOX6Z42UG9as0n1gJRgR0qGKt5eBM+2Ei0wOlaVdPUnCQolOKz79NtAmzDtkUaG7lC0/ZKq0F1PvNExT+PTgkrP5p2wpyaqtl5msaPz4Vq3BQ1frlH/L6Q3Z389KskwH1tuehzuTTs6vkP76964AxEOO6KcgbZH9vQU2BLjUfX+p+o8ybGueOdDlLw8l3eEH4jUSR5kTfdg9dMpqgNC8cdxqlPC1rnxGHdZHZJGB9JvXKYPY7X3jTts+OzGTGz7Tzy2z3di6Q1ZqPg6BqMvrIczb/eSNum8IKVz0u5NAjVD1iEelGvBXMlnsajbGK2tKx6DDnPDnrTnMeCIBoJkOaefWIvcnBbc81g2nngpUw3H8eo/UnHbA4GeoReeUdOroTmkl6mUsh1/VL36dQRD4SSXCubkVxfkVxYW/i8R06c2ITGBaSXcWC5ok19HyNCCqi23PIHlhRdg5bG/VIFXT8jwHjJcxorDL9Fel6LsjQUYdteVqrF/v9NSaPrZM+GtqsHKY2Zh+SEXoOjWJwMBnPZZyjGFaNWCnDWnXIsVMy7D6pOvwarjr4QtJRGDrzpvt8F94yeNUj05t9z8mDou8hNZ310wGy0y9lw/kA4DiYdNwqbrHsI3h16ktm/FkZej6j+fIP+OKxE9KF0tJ6VwOb8+B9X/+VTtx4oZl6JlVwWG/uFXsA3gQMm0/0jV55Sbq1SbMvkBdxnmw1UehcI7KpF/eqBkzJBzTBMO+1O5qtZc9XiK6m0qHREOf7gc+ac1hHyWkt6iniob8o7v/BM8mVqgeNAVNVilrePTa7LU2G6jL6oLuQ6icJCe5sOfbt+Fn/64Fku+isddD+fgnfdTUFjgwmNzdmDEsN79JJuU1kkP1eOO7FzTccgUF2ZdWKkCxevvyEPBBBcuOLOKaSUMDeg4bb0hpTb+Jg8itYy/t78soNblaVElQvu99MffFhgEV/teW4Jz9xI+4/NWf7f21TgusEeFXl8/kGrlNu34RcREt49vF0x64/q1gFTGxTMPQ9JfOE5beJBx2sIRx2nrW0w7vWeM0xZuOE5b7/R12rBs0BaKjEO29c7n0GoMQREkfvJo5N10aZ8HDdI+q+i2p9FSUqHP6Sw6OwPD7rkKtuSOwRLD1a5n/o7axR3j1AUb8odfIuHgsfq78MWgLTwwaPthYNrpPQZtByYGbXsgVYuu1RvbxzULFpWUAOeE4T3+3dCuSHu4ppUbVGldKJEx0XAWjA6fzg17IEN2eMsDgy2GImPZSbvCcMegLTwwaPthYNrpPQZtByYGbUTdwKAtPDBo+2Fg2uk9Bm0HJgZtRN3AoI1o/2HaIQot7IM2IqvitU3UM0w7RKH1ddrg4LpEREREFsCgjYiIiMgCGLQRERERWQCDNiIiIiILYNBGREREZAEM2oiIiIgsgEEbERERkQUwaCMiIiKyAAZtRERERBbAoI2IiIjIAhi0EREREVkAgzYiIiIiC2DQRkRERGQBDNqIiIiILIBBGxEREZEFMGgjIiIisoCINo0+3S0bior1KSIiIiLak9HDcvSp3utR0NaXG0AULnhtE/UM0w5RaH2dNlg9SkRERGQBDNqIiIiILIBBGxEREZEFMGgjIiIisgAGbUREREQWwKCNiIiIyAIYtBERERFZAIM2IiIiIgtg0EZERERkAQzaiIiIiCyAQRsRERGRBTBoIyIiIrIABm1EREREFsCgjYiIiMgCGLQRERERWUBEm0af7pYNRcUYPSxHf7e7lvpGfYpo4EQnxutT3be3a5v23X0o1KfCy61Ypk9RX2Da6b368on6VHhJzFytT1FP9HXaYEkbERERkQUwaCMiIiKyAAZtRNTvfK4IrH8lCfNPz8Xc44Zg8UU52Pa+E35fhL5Eh9r10VhyfRbenTkE752Uh2V3pcNVbNM/DZBGHeXLYrDw/By13Oe3ZMBdHqV/2mHLOwlqXd4G3urIGlq8kZj7QRLO//UwnHDeKPX3tX+morll97RikPQwd0Eybv9TDjzNnZeTz5avisOFV+fjxJ+Pwuz7c1BR1Tk9iX/PT8YNc3LR2Mi0Es54doioX0nAtuyedGx4NQkZhR5Mm1OBnCPdWP1kKtY+n9wpcCv/KrY9yJpyUxUmXl2D2g3R+PTaLNRvsetLAU07bVj5aBpGnNmAma8VI1KL11Y+mgqfp2Ndnkobdi5yYtS59bAn+PW5ROGrtRX4y5tpePaVTEwc58bt15Xi0KlNeP1fqXjo2SwV0AXzaennn/9JwfOvpasALdjOEjsefykLZ5xUi1ceL4JNW8XjL2V2Cu4qq2348NMEnHNKDeLjmVbCmSWCNtfGbVj5oyuwfOrP1WvtWTfAV1Wnf9oz2+99GZuufRB+T7M+Z+8avlmPlcf+CsXPvB14fOkB+V5jP+RV/uYC/ROiA9Ouj+JQ/mUsJl5Vg6m3VSL7CDfG/0qb/kMltr0Xj9IvYtVyEtxteisBzhwfDr23HHknNGHoyY04ZE4l2rSMaeu8+PZkV7kiBpF2P3JnNiFukA8jzm1AQ5EdrtJACYIst/0DJ6KTW5E22aPmEYW7bTsdWPxJAk6eWYubflOGIw9twDW/KMdFZ1fj82VOrN/k0JcMXOObihy45d7BeEEL2CR4C2Xl2jjYtbRy3BENyMrw4exTa7B1ezRKK6LV57KeRZ8kIimpFQUHudQ8Cl+WCNpih+Vi/D8eRMHCZzH8vt/qcweAdnX7W7zw1dSjzd+zp5HB156v9mPie08gYdoEfW7vSUC5bc7z+xSEEvW3Vu1pvmRpHOLzvMg+2oUIU76SPrkZKWOaUbokFm2tgKc6Ci2NkRh8nAuxmdoMnXOwF8ljm1VAJusTUjrnzPYhKjYQxdmdfjWvpTZQReous2HXf+Mw6rx62GL0SI8ozFXX2lDXEIVpk12w2QLXraSZaZObEONow5atHUFb0XYHbtUCtjXrY3HcjAYcNMatf9KZBHPZmV7ExgTyrPg4P3ytEairD6SV8kobPlqagJ9pwZx8B4U3SwRtEbYo2FMSYUtLQlRCnD53/0uYOg6TFj+HIbdejoio3dvPdEeUM1bthy0lAZHRHdU9veV3eeCtqtffEYUHVTKm5RVSGmbTMguziKg2FXQ1brPD54pEfK4PxzxfitEXdC5Fl88kYJPgS6pBRaSWoTWVaEGcOxDEeZsi1TwpWZPvlBK8hPwWpIxrUZ8TWUF0tB/Rdj9KyjrnDTVaMNfoikKcKQ1FRLRh0kEuPHXPdlw7qxzOoPRlkOCvpNwOtyeQ3Tdq6cmmpb2kxEBa+c+HyRiS24yxo/jAbwUDGrRJqVBrkxutWsDRsGwdfPVN2sw2VR0qL5nub23ad3jLqlD/xSr1N5DLdJDtk6pY49Wmbau/Zf9lBL76RjQuX6devtqG3bavzdcKb0093Bu26aWADR3bK2Pm6cvLfsjxlvkNK9arafnfxlUb0byzfLf1dpt2/FpKKlG/9Ft1zmSdZur4mbbDTJ177RVM9qf+85VoXLlR7RNZlypZ0+4yUgLW5jUVs2natKd9Cbq82svv02eayCUjwdqaZ1LU3yEnNSHSHriO0qdo6dAbiZ2LneqzzW8lIGmUVwWHTTvsKF4SixFnNWoPRj28rokGwOjhHhQWuPHWuylYuS5OpYFtu6Lx4t/SMXxoM6ZO6qi+HDakRbV5GzmsGRGRXV/nUuXp1dLKf5ckoKzChn/MS9H+pwWDMlqwszgaS7924syf1KpgkcLfgA6uK+25aj9ajjYtgPBsL4UjNwsJ0yegat4naNUCuMHXX4DMc47Xlw6QzHzHQ69izAu3qxKrnpK2ZVLNGemMQd1nK7UnfgdaSquQetIM5N14iSoRM5ar+OdiNW3Iu/FiZJ53ov6uZyRo2nLzE0g8bGLIdUnws/PJN1GlfbctMxWS3XmrahE3aiiG3nmldqwy29dRt2RF4J+CJB0xBcMfuAaRMY7A/mrnxqUFdz5tPQmF42FPTULNx9rxdzdry12LxMML9P/cO9m+qvc+xa5n/67tjB+2BKfaPntaMob/6TrEjsxTy9X+92vseupNjHrmVkQPSlfzhARrm3//CFJPnIH0049pn7fz4f9DzcIv1D63tfjg1+bl//E32r5MVst0FwfXDQ8yuO7GNxJVz9HC2yuRPaMjSC9ZGotlf0xXgdYRj5bBkdKRaUiQt/T3magvsqsSNOmQMPTUJlW6YKj4JgYrHkyFR8uIMgrdmHJjNRzJrVitBXk+dyQm/65a/W8oHFy3bzHt9J4xuG6TKxKPvJCJT79IUO/FuFEe3HZtKTLTQz/ESqeCux/LVtN/uK5kt2rOFWti8fBzWaistuPgSU34/RXlSE704blXM+D2ROG6WWXt1bHBOLhu7xxwg+u6N25H3i2XYdzf7lElSX4tgJg473FknHsC6pd8qwKT/lL/1WokHjoRBQuewYS5j2HMy3ei/ovVqFn0pb4EMGT25Zi6/HX1mrL0LyoQ2h9c67ei5oPPMPKpWzHhnYdxkPYq+PAF5GoBoz0jWS0jwdjIx29U2yaBpGybbKOxvfKZLGPwFO3CmGdnY9TTs9G4/DvEjsjDxHcf0wLliSp43hcRUZFaYBujre821UZPtm/i+08henAmyt+YjzbpBqVxThmDyNgY7biuUe8Nru+KVNCceGigXZ8EgcXPvo2Wiloc9K9H1D5PnPcYht5xBXY+8io820rUcmQ90qEgYahXDd0hPTxLlsRi3YvJWPd8imqXFkpktB9jLqvD1NlVqsfp6qdSsPa5zj1NMw724IQ3inHa4u047P4KxKS1om6TA2VfSilbg1qmaG6CGmZEhg5Z+Uiq6uxAFK6qamyY82g2vlnlVL097/h9Mc47vQa7Suz446ODUBliqI7umDLBjdee2ooFr2/EvbcUIy3Fh81bY/DVCifOPKlGLTNvYTLOnjUcp148Eo+9mAWX9uBD4WfAz4pzwkjE5OdoN+loRNhtSJpRoP5GZ6XqS/Sf+MljkXxMoXYUAjdy5/jhSNYCHynNG/BqOW2bpLND847S9ipHadsXNyYfkY5Ar599FV8wBvasNEQ4bLClJsE5dawK6qTEbZ9FRCDl+EMRM3ywXgembbK2XUmHF6BpzeZAVbdG2iKmnHCoKg30NweqlSWgq56/RJXsRWvbI9xFO1Hz4VcYdMmpWlCaoubJeqXkNTo7A02rNgbmkeVIMHXYAxXIP6UJOxY6sWxOOuo22zH93nKkTwr9UGaLa0POES7VO3TanErVi7Robjyq13Q8hASTgG6LtkzWdDcS81tQsSwG372chEnXV+OoZ0tRs96Bja8n9bglAFF/kuty7gfaw8z3sbj56lL8+pIKzDikCZefV4kHbitWw3K89Ho6vKYHl56SzgnvLkrGtClNGJrbrMZx++tbqbhmVjmevHcHvt/swJtzU5lWwhBDaTMtSIgZmQu/Rwsuetg7tK84xw3D0NmzsPOpN/Ht0bOw4Yq7Uf72InjLq/UlBp4EYTX//Qqbrn8IK4+ZhTWn/w6l//eeCjIjTO0Rk4+eqkr53Jt3qvfNO8rQ+O0GFfQZAZ+vslZV226983msPfP37a/1F8zWgsCNaG1iV3Qrk2rLiddU45T5O3Dqwh2qZCw2oxWuyqhOvUBDkSrOnGMD1armsdqC1ayN1l4ODD+9ARFRQNnXMcg82IPswyWI82LIiY0o/TwW3rqedSIi6k8yeO6WbdGYMNaNyeM7t/Udnu9RAdbGrQ40NvU+2163QXug0V6nnVAL6VO3TAvapkx047DCJuRrQdyPj67Hl8udqG9gWgk3DNqChGoYPyC0YCb5mKkomP80xr9xH1J/ciRqFixVY9TVLPxcX2jgyHHacssTqHjzAwz+zc8wafHzmPje48j/f7/Ul+jgyMtC/OTRqFn0hXqclIAtZthgxI7I1ZcIiIqPw6DLf4rc6y7o9Br2x6uQdPi+tWmj8FH0rwR8eHGOGobDTN7XbYhG4nCv6hlauSoGC84crMZXC9bmk1dEl23U/FqGV/RuPHKOdMGZ61NDg0gHhehEf3vnhfg8H/ytcgmy+IDCl9cbgdZ+LDOQAXrnLUrCjGmNyM32qmCxrNyOxPhW2PX0lZvjhU/bhv3QF5D2EYM2EwlEGr5eB0d2eo+rIPtcZAQcQwYh/adHY8yLdyDtjONQNX9pyLZ+UsK1v/Ij1/fb0Ly9FPl3XYnYUUNU1W1XZHiU1JOOQP1nK1VpW/UHnyHtJ0d0OsaOwVmq7Zst0Ymkow7e7SXHgKzJOdinBVBRqFzRUbUpVZlF8+JVcJVzVOBBSTok2OPbsOt/cZ3ansn05n8mqCFDkseEbrYgnRLqt0Rj6CmNqvA2ytGm1tdSHwm/3mu1YZtNDRkSoZfuEoUTR3Qb8nNb8P3mGKxeH+gIZ9iitz8bMrgFzrje3eRXrI7F1u0OnPyjWpVW5HuzMr2ob4xqr3qVHqvyywl6yyEKI5YL2mzpyWqIkMZVG1SpjUz3tLNC05pNqFvyrQp2pKqv4u1FqsF72hnHtlfb9RcJWCQ4rPv0W/gaXOqRRoa6ULT9kqrQXU+80TFP49OCSo8W9NhTE1W7P7PY0flwrduChi/XqP8XrW7tuPTTo1JkTLQKcl3fb1ffJ8ew5sMvUXTn8/oSncWNGwZbSiIq3vpAe5T0qQ4KZlIal3rS4dj56N+0wHlt+3ZL2zipgjXaw5H1pE7yIGu6B6ufTlEdEIo/jlOdErbOjce4y+qQNDqQfuMyfRhxTj0qtQBs6Q1ZajiP7fOdalp+UcG8rJn8dJW0d5MODxKoGbIO8aBcW1fJZ7Go2xitrSsegw5zw57UeVgaonAgWc7pJ9YiN6cF9zyWjSdeylTDcbz6j1Tc9kCgZ+iFZ9T0amgO6WUqpWzHH1Wvfh3BUDjJpYI5+dUF+ZWFhf9LxPSpTUhMYFoJN5YL2uTXETK0oEqq5pYXXoCVx/5SBV49IcN7SAP5FYdfor0uRdkbCzDsritVY/9+p6XQ9LNnwltVo9qDLT/kAhTd+mQggNM+SzmmEK1aMLrmlGuxYsZlWH3yNVh1/JUq8Bl81Xm7De4bP2kUMs//Mbbc/Jg6LvITWd9dMBstMvZcP4gbPRQZZx7X/n0rZlyKxq/XqeNnS9q9ekuGUMn82QmonPsREo+cojoodKLtc86V5yDr0lO1dT6ujofsw+qTrkbT6k3wt4TuZUjhT6o+p9xcpdqUyQ+4yzAfrvIoFN5RifzTAyVjBikpO/zhcjX9zf1pqrepVInOeLRMW7ah07IG6S3qqbIh7/jO7R4ztUDxoCtqsEpbx6fXZKmx3UZfVBdyHUThID3Nhz/dvgs//XEtlnwVj7sezsE776egsMCFx+bswIhhvftJNimtkx6qxx0Z6F1tOGSKC7MurFSB4vV35KFgggsXnFnFtBKGBnSctt6Q0jV/kweRCXG9/mUBtS5PC2wyttf+Lg/2twUGn9W+V8Y62y2VGJ+3+ru1r8ZxgT0q9Pr6mPSy9WuBZl+ch3b6PsulKfuwp6rXrnCctvAg47SFI47T1reYdnrPGKct3HCctt7p67Rh2aAtFOmhuPXO59AqpVUhSGP4vJsu7TR2WV+Q8eWKbnsaLSUV+pzOZMiKYfdcBVtyx2CJ4WrXM39H7eKOceqCDfnDL5Fw8Fj9Xfhi0BYeGLT9MDDt9B6DtgMTg7Y9kKpF1+qNqn1VKFFJCXBOGL5b1WJvSXurppUbVGldKNL+y1kwOnw6N+yBa30RvOWBwRZDkbHspF1huGPQFh4YtP0wMO30HoO2AxODNqJuYNAWHhi0/TAw7fQeg7YDE4M2om5g0Ea0/zDtEIUW9kEbkVXx2ibqGaYdotD6Om1wcF0iIiIiC2DQRkRERGQBDNqIiIiILIBBGxEREZEFMGgjIiIisgAGbUREREQWwKCNiIiIyAIYtBERERFZAIM2IiIiIgtg0EZERERkAQzaiIiIiCyAQRsRERGRBTBoIyIiIrIABm1EREREFsCgjYiIiMgCGLQRERERWUBEm0af7pYNRcX6FBERERHtyehhOfpU7/UoaOvLDSAKF7y2iXqGaYcotL5OG6weJSIiIrIABm1EREREFsCgjYiIiMgCGLQRERERWQCDNiIiIiILYNBGREREZAEM2oiIiIgsgEEbERERkQUwaCMiIiKyAAZtRERERBbAoI2IiIjIAhi0EREREVkAgzYiIiIiC2DQRkRERGQBDNqIiIiILIBBGxEREZEFRLRp9Olu2VBUjNHDcvR3u2upb9SniAZOdGK8PtV9e7u2ad/dh0J9KrzcimX6FPUFpp3eqy+fqE+Fl8TM1foU9URfpw2WtBERERFZAIM2IiIiIgtg0EZE/c7nisD6V5Iw//RczD1uCBZflINt7zvh90XoS4TmKrVh0YU5WPVoqj4nQBp1lC+LwcLzc/DuzCH4/JYMuMuj9E87bHknAUuuz4K3gbc6soYWbyTmfpCE8389DCecN0r9fe2fqWhu2T2tfL85BjfMycWJPx+FUy8eibsfy0ZJmV3/NEDSyvJVcbjw6ny13Oz7c1BRZdM/7fDv+clqXY2NTCvhjGeHiPqVBGzL7knHhleTkFHowbQ5Fcg50o3VT6Zi7fPJXQZufi2TWvdiElzFu2cwTTttWPloGkac2YCZrxUjUovXVmqBnc/TsS5PpQ07Fzkx6tx62BP8+lyi8NXaCvzlzTQ8+0omJo5z4/brSnHo1Ca8/q9UPPRslgroDMu+deKGu3LR0BiF319Zht9cWoGNWxz43Z25KNoerS8F7Cyx4/GXsnDGSbV45fEi2LRVPP5SJjzNHWmlstqGDz9NwDmn1CA+nmklnFkiaHNt3IaVP7oCy6f+XL3WnnUDfFV1+qc9s/3el7Hp2gfh9zTrc/au4Zv1WHnsr1D8zNuBx5cekO819kNe5W8u0D/5YeuPc0zhYddHcSj/MhYTr6rB1NsqkX2EG+N/pU3/oRLb3otH6Rex+pKd7fpvHEqWxiEixF2qckUMIu1+5M5sQtwgH0ac24CGIrsqmROSPLd/4ER0civSJnvUPKJwt22nA4s/ScDJM2tx02/KcOShDbjmF+W46OxqfL7MifWbHGo5lzsSf5+XjJwsL+6+eReOP6oeJx1Xhzt+XwKf9hD03uKk9ixq5do42LW0ctwRDcjK8OHsU2uwVQvqSisCgZ0st+iTRCQltaLgIJeaR+HLEkFb7LBcjP/HgyhY+CyG3/dbfe4A0K5uf4sXvpp6tPl79jQy+Nrz1X5MfO8JJEyboM/tPQkot815fp+C0HASNueY+lSr9jQvgVd8nhfZR7sQYSpUS5/cjJQxzShdEou2Vn2mrn6LHeteTsLIsxvgzPXqcztI6Zwz24eo2EDOZHf61byW2kAVqbvMpoK+UefVwxbTswcsov2tutaGuoYoTJvsgs0WuG4lzUyb3IQYRxu2bA0EbdXadd7oisIxMxqQkeZT80TOoBaMGelBWYW9vTpVgrjsTC9iYwJ5VnycH77WCNTVB9JKeaUNHy1NwM+0YE6+g8KbJYK2CFsU7CmJsKUlISohTp+7/yVMHYdJi5/DkFsvR0TU7u1nuiPKGav2w5aSgMjozm0PesPv8sBbVa+/s55wOcfUt9TTvpZXSGmYTcsszCKi2lTQ1bjNDp+r41Yk1anr/pyMtInNGHpK6CGEIrUMranEhlZ3IGPyNkWqeVKyJt8pJXgJ+S1IGdeiPieyguhoP6Lt/t3apdVowZwEaXF6GsrN9uKZ+7bj/NOr1XuDyx2FsnK7Cr6MLEqCvxJtntsTSGONWlqzaWkvKTGQVv7zYTKG5DZj7ChrPvD/0Axo0CalQq1NbrRqAUfDsnXw1TdpM9tUVZm8ZLq/tWnf4S2rQv0Xq9TfQC7TQbZPqumMV5u2rf6W/ZcR+Oob0bh8nXr5aht22742Xyu8NfVwb9imlwI2dGyvjJmnLy/7Icdb5jesWK+m5X8bV21E887y3da7N91dn8yT7Za/ZmpbZX/2wzmmgaNK1rS7jJSAtXlNxWyaNu1pX4Iur/by64UFctns+CAeDVujMfbSOkQ5Qpdop0/R0qE3EjsXO1WV6Oa3EpA0yquCw6YddhQvicWIsxq1ByNeX2Qdo4d7UFjgxlvvpmDlujiVHrbtisaLf0vH8KHNmDopdPWlLFdWYcNz/5eO0go7TjymHna9pE6qPL1aWvnvkgS1zD/mpWDksBYMymjBzuJoLP3aiTN/UquCRQp/Azq4rrTnqv1oOdq0DN+zvRSO3CwkTJ+AqnmfoFUL4AZffwEyzzleXzqg/vOV2PHQqxjzwu2qVKanpG2ZVHNGOmNQ99lK7YnfgZbSKqSeNAN5N16iSsSM5Sr+uVhNG/JuvBiZ552ov+sZCXK23PwEEg+bGHJdEuTsfPJNVGnfbctMhWR33qpaxI0aiqF3Xqkdq8z2ddQtWRH4pyBJR0zB8AeuQWSMI7C/2rlxacGdT1tPQuF42FOTUPOxdvzdzdpy1yLx8AL9P/euu+uT4LtI28Zh2nbIthv2dB774hxzcN3wIIPrbnwjUfUcLby9Etkz3PonQMnSWCz7Y7oKtI54tAyOFD/qNkbj81sycdAva5B3YhOaayJV78+MgmZMur5zqULFNzFY8WAqPFpGlFHoxpQbq+FIbsXqZ1Lgc0di8u+qVelbKBxct28x7fSeMbhukysSj7yQiU+/SFDvxbhRHtx2bSky03dvKiDVnDf9MRdFO6Jhj2rDry+twE9manlbRMe1v2JNLB5+LguV1XYcPKkJv7+iHMmJPjz3agbcnihcN6usvTo2GAfX7Z0DbnBd98btyLvlMoz72z2q5MWvZfgT5z2OjHNPQP2Sb1Vg0l/qv1qNxEMnomDBM5gw9zGMeflO1H+xGjWLvtSXAIbMvhxTl7+uXlOW/kUFQvuDa/1W1HzwGUY+dSsmvPMwDtJeBR++gFwtYLRnJKtlJBgb+fiNatskkJRtk200tlc+k2UMnqJdGPPsbIx6ejYal3+H2BF5mPjuY1qgPFEFz/uqr9dHB6a8E5qQMNSLZXelqx6eJUtise7FZKx7PkW1SzPIsBwScGVOd2PwzL03iM442IMT3ijGaYu347D7KxCT1oq6TQ6UfSmlbA1qmaK5CWqYkfdOysPKR1JV1StRuKqqsWHOo9n4ZpVT9fa84/fFOO/0GuwqseOPjw5CZYihOuz2Nlz0syrccnUpDi5w4dm/ZuDF19JVWzbDlAluvPbUVix4fSPuvaUYaSk+bN4ag69WOHHmSTVqmXkLk3H2rOFq6JDHXsxSnR0o/Az4WXFOGImY/BxERkcjwm5D0owC9Tc6q/O4TP0hfvJYJB9TqB2FwMXtHD8cyVrgIyU9Un03oLRtks4OzTtK26sWpd1X3Jh8RDo6unPvi/iCMbBnpSHCYYMtNQnOqWNVUCclZD3R1+ujA5MEU4c9UIH8U5qwY6ETy+ako26zHdPvLUf6JP2hTHvI3/RWItwVURh7cV2XJWR7Ih0RtsyNR5YW9CXmt6BiWQy+ezlJldAd9WwpatY7sPH1jl51ROFErsu5H2gPM9/H4mYtAPv1JRWYcUgTLj+vEg/cVqyG5Xjp9XR4TcGYiIv144hDGlXv0Dt+V4ITf1SnBWCJWLshdK9sIQHdu4uSMW1KE4bmNqtx3P76ViqumVWOJ+/dge83O/Dm3FSmlTDEUNosIgIxI3Ph97RoOcDA1u87xw3D0NmzsPOpN/Ht0bOw4Yq7Uf72InjLO1cREVmBVFtOvKYap8zfgVMX7lAlY7EZrXBVRqnSNl9LhGqHJmOyLfp5jhqAV14LzspF43Y7iubFq/cyWG5XatZGay8Hhp/egIgooOzrGGQe7EH24RLEeTHkxEaUfh4Lb13POhER9Sfp7bllWzQmjHVj8viOZgRieL5HBVgbtzrQ2NR1ti1VnEcfFmiiVKStqyvrNmgPNNrrtBNqVYeFZVrQNmWiG4cVNiFfC+J+fHQ9vlzuRH0D00q4YdAWRBrYhwUtgEw+ZioK5j+N8W/ch9SfHImaBUvV+GU1Cz/XFyIKf0X/SsCHF+eoYTjM5H3dhmgkDvciNtWPSdfU4NB7Kjq9Dr61SpXUZU5zq/dZ00KPuSYD8Ra9G4+cI11w5vrUUCPSQSE60Y9Ie6C4ID7PB3+rlGiw+IDCl9cbgda9lBms+i4WP/vVcCz8OFGf00EG6PW1RnbZRk0G6J23KAkzpjWqXqgSLEqP08T41vbOC7k5Xvi0bWA/sfDDoM1EAraGr9fBkZ3e4yrIPhcZAceQQUj/6dEY8+IdSDvjOFTNXxqyrZ9Uo4ZjfuT3+tDW3NF2STZS9RylHwTnYJ8WQEWhckVH+0qpypTSMwmuco5yq16e0kYt6zB3p1dmoRs2px/OrFb1PtSYbUI6JdRviVZDhEiP1ShHm+rg0FIfqV1/geqkhm029csJEapLK1F4cWhpID+3Rf001er1nas2t+jtz4YMboEzrg2DMn2I19LFR5/Hd2p7JtP/ej9FVZmOHh66PfiK1bHYut2Bk39Uq9KKfG9Wphf1jVHtVa/SY1V+OUFvOURhxHJBmy09WQ0R0rhqg8r8ZbqnnRWa1mxC3ZJvVbDjb25BxduL4NlWogVGx6qSrv4kQaEEh3Wffgtfg0s90sjQHYq2X1IVuuuJNzrmaXxaUOnZvBP21ETV7s8sdnQ+XOu2oOHLNer/RatbOy4D/KhkT0+BLTEeVe9/qs6THOuKdz5Eyctzu7wj9OU5poGXOkkLxqZ7sPrpFNUBofjjONUpYevceIy7rA5Jo3t3buWnq4q0dUmHBwnUDFmHeFCuBXMln8WqXqnb58djkBb42ZOCRvIlCgOS5Zx+Yi1yc1pwz2PZeOKlTDUcx6v/SMVtD2SrZS48o0YNzZGZ5sVZJ9fg2zVxuPnuwWo4jwX/S1TTX33rxCXnVGHU8N1LpeWnq6SUTX5BQX4dwVA4yaWCOfnVhU1FDizU1jV9ahMSE5hWwo3lgjYZOT9DC6q23PIElhdegJXH/lIFXj0hw3vIcBkrDr9Ee12KsjcWYNhdV6rG/v1OS6HpZ8+Et6oGK4+ZheWHXICiW58MBHDaZynHFKJVC1TWnHItVsy4DKtPvgarjr8StpREDL7qvN0G942fNAqZ5/8YW25+TB0X+Smo7y6YjRYZe24AyYC5Ob8+B9X/+VTtx4oZl6JlVwWG/uFXsHUxiG5fnmMaePKLBFNurlJtyqRNmgzz4SqPQuEdlcg/PVAy1hvSW9RTZUPe8Z17nGZqgeJBV9SoH5v/9JosNbbb6Ivq+vt5jKjH0tN8+NPtu/DTH9diyVfxuOvhHLzzfgoKC1x4bM4OjBjWEYj95Ed1+NMfdqnpPz0zCE/8OVNViT70/3biNO3/Q13nUlonPVSPO7JzTcchU1yYdWGlChSvvyMPBRNcuODMKqaVMDSg47T1hpS8+Js8iNQy/t7+soBal6dFlQjt9/Jgf1tgEFzte20Jzt1L+IzPW/3d2lfjuMAeFXp9A0R64/q1gFTGxTMPQ7InvTnHHKctPMg4beGI47T1Laad3jPGaQs3HKetd/o6bVg2aAtFxg3beudzaJXSqhDiJ49G3k2Xdjto6C5pn1V029NoKanQ53QWnZ2BYfdcBVty1z3fwsWuZ/6O2sUd49QFG/KHXyLh4LH6u/DFoC08MGj7YWDa6T0GbQcmBm17IFWLrtUb28c1CxaVlADnhOE9/t3Qrkh7uKaVG1RpXSiRMdFwFowOn84Ne+BaXwRveWCwxVBkLDtpcxbuGLSFBwZtPwxMO73HoO3AxKCNqBsYtIUHBm0/DEw7vceg7cDEoI2oGxi0Ee0/TDtEoYV90EZkVby2iXqGaYcotL5OGxxcl4iIiMgCGLQRERERWQCDNiIiIiILYNBGREREZAEM2oiIiIgsgEEbERERkQUwaCMiIiKyAAZtRERERBbAoI2IiIjIAhi0EREREVkAgzYiIiIiC2DQRkRERGQBDNqIiIiILIBBGxEREZEFMGgjIiIisgAGbUREREQWENGm0ae7ZUNRsT5FRERERHsyeliOPtV7+xy0EREREdH+x+pRIiIiIgtg0EZERERkAQzaiIiIiCyAQRsRERGRBTBoIyIiIrIABm1EREREFsCgjYiIiMgCGLQRERERWQCDNiIiIiILYNBGREREZAEM2oiIiIgsgEEbERERkQUwaCMiIiIKe8D/B8JN2x/Qw/geAAAAAElFTkSuQmCC)"
      ],
      "metadata": {
        "id": "fNAa-1eqmbx7"
      }
    },
    {
      "cell_type": "markdown",
      "source": [
        "## Transformers"
      ],
      "metadata": {
        "id": "9KfBJYKwrEez"
      }
    },
    {
      "cell_type": "markdown",
      "source": [
        "### Architecture for classification"
      ],
      "metadata": {
        "id": "l_gYZ4ylvJNW"
      }
    },
    {
      "cell_type": "markdown",
      "source": [
        "Transformers are a type of artificial neural network that have gained significant attention in the field of NLP. They were first introduced by Google researchers in 2017, and have quickly become a popular choice for a variety of NLP tasks, including text classification, language translation, and text generation.\n",
        "\n",
        "**Architecture of Transformers in Text Classification**\n",
        "\n",
        "* `Text`: This is the raw input data that we aim to classify into predetermined categories or labels.\n",
        "\n",
        "* `Tokenizer`: It transforms the input text into a sequence of tokens, breaking it down into individual words or subwords.\n",
        "\n",
        "* `Input IDs`: The tokens are then converted into their numerical representations, or input_ids, derived from a pre-established vocabulary. Each token is associated with a specific Input ID.\n",
        "\n",
        "* `Attention Mask`: This is a binary mask specifying which tokens should be focused on and which should be disregarded. This enables the model to concentrate on the relevant sections of the input text.\n",
        "\n",
        "* `Encoder`: This is the heart of the transformer architecture, comprising multiple layers with self-attention mechanisms and feed-forward neural networks. The encoder processes the input IDs and attention mask, capturing the contextual dependencies to generate contextualized representations for each token.\n",
        "\n",
        "* `Classification`: The encoder's output is used for classification, where the model learns to associate the contextualized representations to predefined labels or categories.\n",
        "\n",
        "* `Output`: This is the final output of the text classification model, representing the predicted label or category for the input text.\n",
        "\n",
        "![image.png](data:image/png;base64,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)"
      ],
      "metadata": {
        "id": "9jhU1OWft5kk"
      }
    },
    {
      "cell_type": "markdown",
      "source": [
        "### Hugging Face"
      ],
      "metadata": {
        "id": "h8096YPBvOL9"
      }
    },
    {
      "cell_type": "markdown",
      "source": [
        "* Hugging Face is an AI community and company that has created a powerful and flexible platform for natural language processing. They are best known for their open-source library transformers, which provides thousands of pre-trained models to perform tasks on texts.\n",
        "\n",
        "* Transformer architectures are integral to the Hugging Face library, enabling the development of advanced models for Natural Language Understanding (NLU) tasks such as Question Answering, Text Classification, Text Generation, Named Entity Recognition (NER), Semantic Role Labeling (SRL), Machine Translation, Dialogue Systems, and more."
      ],
      "metadata": {
        "id": "xCXgn1jCvZVB"
      }
    },
    {
      "cell_type": "markdown",
      "source": [
        "#### Loading the dataset"
      ],
      "metadata": {
        "id": "qR8fVAh_vPkK"
      }
    },
    {
      "cell_type": "markdown",
      "source": [
        "To load the `datasets` in google colab:"
      ],
      "metadata": {
        "id": "XsykNY2Zvirx"
      }
    },
    {
      "cell_type": "code",
      "source": [
        "!pip install datasets"
      ],
      "metadata": {
        "colab": {
          "base_uri": "https://localhost:8080/"
        },
        "id": "wUXJmRXZmgtH",
        "outputId": "7db0923f-463c-4187-cfdb-868ce350cfd9"
      },
      "execution_count": null,
      "outputs": [
        {
          "output_type": "stream",
          "name": "stdout",
          "text": [
            "Requirement already satisfied: datasets in /usr/local/lib/python3.10/dist-packages (2.20.0)\n",
            "Requirement already satisfied: filelock in /usr/local/lib/python3.10/dist-packages (from datasets) (3.15.4)\n",
            "Requirement already satisfied: numpy>=1.17 in /usr/local/lib/python3.10/dist-packages (from datasets) (1.26.4)\n",
            "Requirement already satisfied: pyarrow>=15.0.0 in /usr/local/lib/python3.10/dist-packages (from datasets) (17.0.0)\n",
            "Requirement already satisfied: pyarrow-hotfix in /usr/local/lib/python3.10/dist-packages (from datasets) (0.6)\n",
            "Requirement already satisfied: dill<0.3.9,>=0.3.0 in /usr/local/lib/python3.10/dist-packages (from datasets) (0.3.8)\n",
            "Requirement already satisfied: pandas in /usr/local/lib/python3.10/dist-packages (from datasets) (2.1.4)\n",
            "Requirement already satisfied: requests>=2.32.2 in /usr/local/lib/python3.10/dist-packages (from datasets) (2.32.3)\n",
            "Requirement already satisfied: tqdm>=4.66.3 in /usr/local/lib/python3.10/dist-packages (from datasets) (4.66.4)\n",
            "Requirement already satisfied: xxhash in /usr/local/lib/python3.10/dist-packages (from datasets) (3.4.1)\n",
            "Requirement already satisfied: multiprocess in /usr/local/lib/python3.10/dist-packages (from datasets) (0.70.16)\n",
            "Requirement already satisfied: fsspec<=2024.5.0,>=2023.1.0 in /usr/local/lib/python3.10/dist-packages (from fsspec[http]<=2024.5.0,>=2023.1.0->datasets) (2024.5.0)\n",
            "Requirement already satisfied: aiohttp in /usr/local/lib/python3.10/dist-packages (from datasets) (3.9.5)\n",
            "Requirement already satisfied: huggingface-hub>=0.21.2 in /usr/local/lib/python3.10/dist-packages (from datasets) (0.23.5)\n",
            "Requirement already satisfied: packaging in /usr/local/lib/python3.10/dist-packages (from datasets) (24.1)\n",
            "Requirement already satisfied: pyyaml>=5.1 in /usr/local/lib/python3.10/dist-packages (from datasets) (6.0.1)\n",
            "Requirement already satisfied: aiosignal>=1.1.2 in /usr/local/lib/python3.10/dist-packages (from aiohttp->datasets) (1.3.1)\n",
            "Requirement already satisfied: attrs>=17.3.0 in /usr/local/lib/python3.10/dist-packages (from aiohttp->datasets) (23.2.0)\n",
            "Requirement already satisfied: frozenlist>=1.1.1 in /usr/local/lib/python3.10/dist-packages (from aiohttp->datasets) (1.4.1)\n",
            "Requirement already satisfied: multidict<7.0,>=4.5 in /usr/local/lib/python3.10/dist-packages (from aiohttp->datasets) (6.0.5)\n",
            "Requirement already satisfied: yarl<2.0,>=1.0 in /usr/local/lib/python3.10/dist-packages (from aiohttp->datasets) (1.9.4)\n",
            "Requirement already satisfied: async-timeout<5.0,>=4.0 in /usr/local/lib/python3.10/dist-packages (from aiohttp->datasets) (4.0.3)\n",
            "Requirement already satisfied: typing-extensions>=3.7.4.3 in /usr/local/lib/python3.10/dist-packages (from huggingface-hub>=0.21.2->datasets) (4.12.2)\n",
            "Requirement already satisfied: charset-normalizer<4,>=2 in /usr/local/lib/python3.10/dist-packages (from requests>=2.32.2->datasets) (3.3.2)\n",
            "Requirement already satisfied: idna<4,>=2.5 in /usr/local/lib/python3.10/dist-packages (from requests>=2.32.2->datasets) (3.7)\n",
            "Requirement already satisfied: urllib3<3,>=1.21.1 in /usr/local/lib/python3.10/dist-packages (from requests>=2.32.2->datasets) (2.0.7)\n",
            "Requirement already satisfied: certifi>=2017.4.17 in /usr/local/lib/python3.10/dist-packages (from requests>=2.32.2->datasets) (2024.7.4)\n",
            "Requirement already satisfied: python-dateutil>=2.8.2 in /usr/local/lib/python3.10/dist-packages (from pandas->datasets) (2.8.2)\n",
            "Requirement already satisfied: pytz>=2020.1 in /usr/local/lib/python3.10/dist-packages (from pandas->datasets) (2024.1)\n",
            "Requirement already satisfied: tzdata>=2022.1 in /usr/local/lib/python3.10/dist-packages (from pandas->datasets) (2024.1)\n",
            "Requirement already satisfied: six>=1.5 in /usr/local/lib/python3.10/dist-packages (from python-dateutil>=2.8.2->pandas->datasets) (1.16.0)\n"
          ]
        }
      ]
    },
    {
      "cell_type": "markdown",
      "source": [
        "* Hugging Face provides a wide range of datasets via their datasets library, assisting organizations and developers in building NLP models.\n",
        "\n",
        "* To load one of these datasets, including our IMDB dataset, we can use the `load_dataset()` function from the datasets library, and pass the name of the dataset as a string. The object returned by the `load_dataset() `function is a **DatasetDict** object. This is a dictionary-like object that contains Dataset objects for each split of the dataset (such as 'train', 'test', or 'unsupervised').\n",
        "\n",
        "* Each Dataset object represents a dataset split and can be treated similarly to a Pandas DataFrame. It allows for lazy loading of data, which means the **data is only loaded when needed**. This is beneficial for large datasets as it means they don't need to be loaded into memory all at once."
      ],
      "metadata": {
        "id": "HhtKbN-_voyn"
      }
    },
    {
      "cell_type": "code",
      "source": [
        "from datasets import load_dataset\n",
        "\n",
        "imdb = load_dataset(\"imdb\")"
      ],
      "metadata": {
        "colab": {
          "base_uri": "https://localhost:8080/"
        },
        "id": "xt-VIwN0v5w5",
        "outputId": "bd198b68-c6d0-4782-ea6c-1098f6b714d6"
      },
      "execution_count": null,
      "outputs": [
        {
          "output_type": "stream",
          "name": "stderr",
          "text": [
            "/usr/local/lib/python3.10/dist-packages/huggingface_hub/utils/_token.py:89: UserWarning: \n",
            "The secret `HF_TOKEN` does not exist in your Colab secrets.\n",
            "To authenticate with the Hugging Face Hub, create a token in your settings tab (https://huggingface.co/settings/tokens), set it as secret in your Google Colab and restart your session.\n",
            "You will be able to reuse this secret in all of your notebooks.\n",
            "Please note that authentication is recommended but still optional to access public models or datasets.\n",
            "  warnings.warn(\n"
          ]
        }
      ]
    },
    {
      "cell_type": "code",
      "source": [
        "imdb"
      ],
      "metadata": {
        "id": "3OOKaT0GwUvQ"
      },
      "execution_count": null,
      "outputs": []
    },
    {
      "cell_type": "code",
      "source": [
        "imdb['train'].column_names"
      ],
      "metadata": {
        "id": "25Xo7Cz1wSFB"
      },
      "execution_count": null,
      "outputs": []
    },
    {
      "cell_type": "code",
      "source": [
        "type(imdb), type(imdb['train']), type(imdb['train']['text'])"
      ],
      "metadata": {
        "id": "AgImS8lqwjpz"
      },
      "execution_count": null,
      "outputs": []
    },
    {
      "cell_type": "code",
      "source": [
        "len(imdb['train']['text'])"
      ],
      "metadata": {
        "id": "craJWmoawjzW"
      },
      "execution_count": null,
      "outputs": []
    },
    {
      "cell_type": "code",
      "source": [
        "imdb['train']['text'][0]"
      ],
      "metadata": {
        "id": "t122z2k5wXPO"
      },
      "execution_count": null,
      "outputs": []
    },
    {
      "cell_type": "code",
      "source": [
        "imdb['train']['label'][0]"
      ],
      "metadata": {
        "id": "lN8CtWwYwg4s"
      },
      "execution_count": null,
      "outputs": []
    },
    {
      "cell_type": "markdown",
      "source": [
        "#### Tokenization with AutoTokenizer"
      ],
      "metadata": {
        "id": "nu-mp2daeduI"
      }
    },
    {
      "cell_type": "markdown",
      "source": [
        "* The AutoTokenizer class from the transformers library is a robust tool designed for preparing natural language processing data for use.\n",
        "\n",
        "* It tokenizes raw text and returns tokens in a format that can be fed directly into a deep learning model. To start using the AutoTokenizer, we first need to import it from the transformers library.\n",
        "\n",
        "* Then we can instantiate a tokenizer object by passing the name of a pre-trained model (as a string) to the `from_pretrained()` method, and assign the result to a variable."
      ],
      "metadata": {
        "id": "P7cB54GQee1T"
      }
    },
    {
      "cell_type": "code",
      "source": [
        "!pip install transformers"
      ],
      "metadata": {
        "collapsed": true,
        "id": "3zUXrGnqfMYD"
      },
      "execution_count": null,
      "outputs": []
    },
    {
      "cell_type": "markdown",
      "source": [
        "**DistilBERT Model**\n",
        "\n",
        "* The DistilBERT model is a leaner version of the well-known BERT (Bidirectional Encoder Representations from Transformers) language model. DistilBERT retains most of the capabilities as BERT, but delivers them in a more efficient, condensed package.\n",
        "\n",
        "* The two main types of DistilBERT base models are `distilbert-base-cased`and `distilbert-base-uncased`. The major distinction between them lies in how they handle case (uppercase vs lowercase letters) in the input text. The cased version of DistilBERT treats words in different cases as different tokens. For example, words like \"ChatGPT\" and \"chatgpt\" are treated as distinct entities. Conversely, the uncased version of DistilBERT treats all words as lowercase."
      ],
      "metadata": {
        "id": "PHB6QxaygLM6"
      }
    },
    {
      "cell_type": "code",
      "source": [
        "from transformers import AutoTokenizer\n",
        "\n",
        "tokenizer = AutoTokenizer.from_pretrained('distilbert-base-uncased', use_fast=True)"
      ],
      "metadata": {
        "id": "51EN_JohfNnl"
      },
      "execution_count": null,
      "outputs": []
    },
    {
      "cell_type": "code",
      "source": [
        "tokenizer"
      ],
      "metadata": {
        "id": "zUAdy9rngFZA"
      },
      "execution_count": null,
      "outputs": []
    },
    {
      "cell_type": "markdown",
      "source": [
        "* It can be seen that the AutoTokenizer, when fed the `distilbert-base-uncased pre-trained model`, spawns a `DistilBertTokenizerFast` tokenizer.\n",
        "\n",
        "* This tokenizer comes with a vocabulary size of just over 30,000 words. To add some perspective, a native English speaker typically possesses an active vocabulary (words they use) of approximately 20,000 words and a passive vocabulary (words they understand but don't use) of about 40,000 words."
      ],
      "metadata": {
        "id": "S1s6Zdj4ge4d"
      }
    },
    {
      "cell_type": "markdown",
      "source": [
        "The default `use_fast=True` argument for the `from_pretrained()` method means the AutoTokenizer will use a faster Rust-based tokenizer if it's available for the model, otherwise a standard Python-based tokenizer is used."
      ],
      "metadata": {
        "id": "u1nEnAzZf_3Z"
      }
    },
    {
      "cell_type": "code",
      "source": [
        "tokenizer.is_fast"
      ],
      "metadata": {
        "id": "92E6SL9lfdq_"
      },
      "execution_count": null,
      "outputs": []
    },
    {
      "cell_type": "code",
      "source": [
        "X_train = imdb['train']['text']\n",
        "y_train = imdb['train']['label']\n",
        "\n",
        "X_test = imdb['test']['text']\n",
        "y_test = imdb['test']['label']"
      ],
      "metadata": {
        "id": "L7GcP01-fgUR"
      },
      "execution_count": null,
      "outputs": []
    },
    {
      "cell_type": "code",
      "source": [
        "len(X_train), type(X_train)"
      ],
      "metadata": {
        "id": "iC6TsSh4hHEB"
      },
      "execution_count": null,
      "outputs": []
    },
    {
      "cell_type": "code",
      "source": [
        "len(y_train), type(y_train)"
      ],
      "metadata": {
        "id": "IreceaBKheL1"
      },
      "execution_count": null,
      "outputs": []
    },
    {
      "cell_type": "code",
      "source": [
        "len(X_test), type(X_test)"
      ],
      "metadata": {
        "id": "D6r0VwC6hhfR"
      },
      "execution_count": null,
      "outputs": []
    },
    {
      "cell_type": "code",
      "source": [
        "len(y_test), type(y_test)"
      ],
      "metadata": {
        "id": "s8QHQ08-hats"
      },
      "execution_count": null,
      "outputs": []
    },
    {
      "cell_type": "code",
      "source": [
        "train_encoding = tokenizer(X_train, max_length=128, truncation=True, padding=True)\n",
        "test_encoding = tokenizer(X_test, max_length=128, truncation=True, padding=True)"
      ],
      "metadata": {
        "id": "gUJ9uYtDh7Qd"
      },
      "execution_count": null,
      "outputs": []
    },
    {
      "cell_type": "markdown",
      "source": [
        "In the code above:\n",
        "\n",
        "* `max_length=128` sets the maximum input length of the sequences that the model can handle. This means that any input sequences longer than this value will be truncated to this length.\n",
        "\n",
        "* `truncation=True` ensures that the text is pruned to a maximum length if it surpasses the model's maximum input length. Earlier, we saw this length was set to 512 but the above argument will change this to 128.\n",
        "\n",
        "* `padding=True` when the sequence is less than 128 tokens, this argument fills in padding tokens to make all sequences the same length."
      ],
      "metadata": {
        "id": "cyHNlzvrhQSJ"
      }
    },
    {
      "cell_type": "code",
      "source": [
        "train_encoding[0]"
      ],
      "metadata": {
        "id": "hYaJzGsaigJ-"
      },
      "execution_count": null,
      "outputs": []
    },
    {
      "cell_type": "markdown",
      "source": [
        "#### Preparing the dataset"
      ],
      "metadata": {
        "id": "Voqwco9RjYLa"
      }
    },
    {
      "cell_type": "markdown",
      "source": [
        "**Transforming to TensorFlow Datasets**"
      ],
      "metadata": {
        "id": "m3gO488wkNwl"
      }
    },
    {
      "cell_type": "code",
      "source": [
        "import tensorflow as tf\n",
        "\n",
        "train_dataset = tf.data.Dataset.from_tensor_slices((\n",
        "    dict(train_encoding),\n",
        "    tf.constant(y_train, dtype=tf.int32)\n",
        "))\n",
        "\n",
        "test_dataset = tf.data.Dataset.from_tensor_slices((\n",
        "    dict(test_encoding),\n",
        "    tf.constant(y_test, dtype=tf.int32)\n",
        "))"
      ],
      "metadata": {
        "id": "bRF1UnFKi9wV"
      },
      "execution_count": null,
      "outputs": []
    },
    {
      "cell_type": "markdown",
      "source": [
        "* The reason the encoded data (train_encoding & test_encoding) is being converted to a dictionary is to provide a mapping between the features (input data) and their corresponding values. By passing a dictionary to `from_tensor_slices()`, **each key-value pair in the dictionary represents a specific feature and its associated values**.\n",
        "\n",
        "* The `from_tensor_slices()` function **expects a tuple as input**, where the first element is the features (input data) and the second element is the target variable. In this case, the features are represented by the dictionary encoding_data, and the target variable is represented by the target_array (i.e., y_train and y_test).\n",
        "\n",
        "* The use of `tf.constant()` ensures that the target variable (target_array) is treated as a constant tensor, which means it will not be modified during training or evaluation.\n",
        "\n",
        "* Regarding the data type for the target variable, if the target_array only consists of 1s and 0s, it is possible to use a different data type, such as `tf.bool`, however, the use of `tf.int32` is also a valid choice."
      ],
      "metadata": {
        "id": "xu46HsqVkbuU"
      }
    },
    {
      "cell_type": "markdown",
      "source": [
        "**Configuring the dataset**"
      ],
      "metadata": {
        "id": "372WpBTWk-Fn"
      }
    },
    {
      "cell_type": "markdown",
      "source": [
        "* Firstly, we shuffle the training dataset using the `shuffle()` function. This mixes up the order of the examples randomly. We do this to make sure that the model doesn't get influenced by the original order of the data. We want it to learn general patterns in the data without picking up on any patterns that might be present in the original order of the data.\n",
        "\n",
        "* It's common practice to shuffle only the training dataset and keep the test dataset in its original order. This ensures that the model is tested on data that represents real-world conditions and provides a reliable evaluation of its performance.\n",
        "\n",
        "* The `len(X_train)` parameter in the above code just tells us the number of elements in the training set, ensuring that all examples are considered during shuffling.\n",
        "\n",
        "* Next, both the training and test datasets are batched using the `batch()` function. Batching involves grouping a number of examples together, which improves training efficiency by processing multiple examples simultaneously. Here, a batch size of 16 is chosen, which means that the model will process 16 examples at a time during training and evaluation."
      ],
      "metadata": {
        "id": "0b6wNKpzlKdD"
      }
    },
    {
      "cell_type": "code",
      "source": [
        "train_dataset = train_dataset.shuffle(len(train_dataset)).batch(16)\n",
        "test_dataset = test_dataset.shuffle(len(test_dataset)).batch(16)"
      ],
      "metadata": {
        "id": "2pQP7S4kka4q"
      },
      "execution_count": null,
      "outputs": []
    },
    {
      "cell_type": "code",
      "source": [
        "train_dataset"
      ],
      "metadata": {
        "id": "bIx9Iy2blJl8"
      },
      "execution_count": null,
      "outputs": []
    },
    {
      "cell_type": "markdown",
      "source": [
        "#### Modeling for classification"
      ],
      "metadata": {
        "id": "1AAAdZTUlmEv"
      }
    },
    {
      "cell_type": "markdown",
      "source": [
        "* `TFAutoModelForSequenceClassification` is an auto class from the tranformers library that automatically selects a model for sequence classification to work with the basemodel we pass to the ``from_pretrained()` method call.\n",
        "\n",
        "* It is designed to allow users to quickly create deep learning models without having to manually design the model architecture and layers. The class provides pre-trained models for text, audio, and image data as well as tools for fine-tuning the model on custom datasets."
      ],
      "metadata": {
        "id": "VsLNBZbRpSpv"
      }
    },
    {
      "cell_type": "code",
      "source": [
        "from transformers import TFAutoModelForSequenceClassification\n",
        "\n",
        "model = TFAutoModelForSequenceClassification.from_pretrained('distilbert-base-uncased', num_labels=2)"
      ],
      "metadata": {
        "id": "sIb1ZQPylYdO"
      },
      "execution_count": null,
      "outputs": []
    },
    {
      "cell_type": "markdown",
      "source": [
        "* In the above code, the `num_labels` argument specifies the number of labels in the target variable.\n",
        "\n",
        "* When you instantiate the model, you may get a message that seems like an error; it's not an error. It's an informational message indicating that some layers of the model checkpoint at `distilbert-base-uncased` were not used when initializing `TFDistilBertForSequenceClassification`.\n",
        "\n",
        "* This message is expected when you initialize a model from a checkpoint that was trained on a different task or has a different architecture. However, the model also mentions that some layers like 'classifier', 'pre_classifier', and 'dropout_19' were newly initialized.\n",
        "\n",
        "* At the end of the message, you will see something like this: **\"You should probably TRAIN this model on a down-stream task to be able to use it for predictions and inference.\"**\n",
        "\n",
        "* The above message suggests that if you want to use this model for predictions and inference, you should **train it on a downstream task specific to your use case**."
      ],
      "metadata": {
        "id": "CiDslkHNpaDD"
      }
    },
    {
      "cell_type": "code",
      "source": [
        "!pip install --upgrade transformers\n",
        "import transformers\n",
        "print(transformers.__version__)"
      ],
      "metadata": {
        "id": "u_xC3ieXr2Dh"
      },
      "execution_count": null,
      "outputs": []
    },
    {
      "cell_type": "code",
      "source": [
        "opt = tf.keras.optimizers.Adam(learning_rate=3e-5)\n",
        "loss=tf.losses.SparseCategoricalCrossentropy(from_logits=True)\n",
        "metrics=[tf.metrics.SparseCategoricalAccuracy('accuracy')]"
      ],
      "metadata": {
        "id": "xc3jLPEMn7_R"
      },
      "execution_count": null,
      "outputs": []
    },
    {
      "cell_type": "code",
      "source": [
        "model.compile(optimizer=opt, loss=loss, metrics=metrics)\n",
        "\n",
        "# refer this link for optimizer not recognized error: https://discuss.huggingface.co/t/pretrain-model-not-accepting-optimizer/76209/12"
      ],
      "metadata": {
        "id": "af6Xk6RkoU5V"
      },
      "execution_count": null,
      "outputs": []
    },
    {
      "cell_type": "code",
      "source": [
        "model.fit(train_dataset, epochs=3)"
      ],
      "metadata": {
        "id": "G_XyGwwsoonB"
      },
      "execution_count": null,
      "outputs": []
    },
    {
      "cell_type": "code",
      "source": [
        "test_loss, test_acc = model.evaluate(test_dataset)\n",
        "print(f\"Test set accuracy: {test_acc}\")"
      ],
      "metadata": {
        "id": "84PAKZIGo9RV"
      },
      "execution_count": null,
      "outputs": []
    },
    {
      "cell_type": "markdown",
      "source": [
        "After training the model, we achieved an astounding accuracy of 96% on the training set and an impressive 87% on the test set."
      ],
      "metadata": {
        "id": "mhag4SZJp2NP"
      }
    }
  ]
}